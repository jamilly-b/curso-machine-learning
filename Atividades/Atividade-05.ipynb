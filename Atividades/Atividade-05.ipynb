{
  "nbformat": 4,
  "nbformat_minor": 0,
  "metadata": {
    "colab": {
      "provenance": [],
      "authorship_tag": "ABX9TyPPIhjOjBBokire1fNx9MQC",
      "include_colab_link": true
    },
    "kernelspec": {
      "name": "python3",
      "display_name": "Python 3"
    },
    "language_info": {
      "name": "python"
    }
  },
  "cells": [
    {
      "cell_type": "markdown",
      "metadata": {
        "id": "view-in-github",
        "colab_type": "text"
      },
      "source": [
        "<a href=\"https://colab.research.google.com/github/jmlly/curso-machine-learning/blob/main/Atividades/Atividade-05.ipynb\" target=\"_parent\"><img src=\"https://colab.research.google.com/assets/colab-badge.svg\" alt=\"Open In Colab\"/></a>"
      ]
    },
    {
      "cell_type": "code",
      "execution_count": null,
      "metadata": {
        "id": "wawk7tgi8YDu"
      },
      "outputs": [],
      "source": [
        "class Pessoa():\n",
        "  def __init__(self, name, age): #variáveis da função\n",
        "    self.nome=name #atributo da classe\n",
        "    self.idade=age #atributo da classe\n",
        "  def nascimento(self, idade): #variável da função\n",
        "    return(2022-idade) #retorna o ano que a pessoa nasceu"
      ]
    },
    {
      "cell_type": "code",
      "source": [
        "pessoa1 = Pessoa(\"Maria\", 35) #criando um objeto a partir da classe Pessoa()\n",
        "pessoa1.nome #chamando um atributo do objeto\n",
        "pessoa1.idade #chamando um atributo do objeto\n",
        "pessoa1.nascimento(35) #chamando um método do objeto"
      ],
      "metadata": {
        "colab": {
          "base_uri": "https://localhost:8080/"
        },
        "id": "WmYLZJ1LWUA3",
        "outputId": "214bceed-b75c-44fd-88f6-a987174bb4dc"
      },
      "execution_count": null,
      "outputs": [
        {
          "output_type": "execute_result",
          "data": {
            "text/plain": [
              "1987"
            ]
          },
          "metadata": {},
          "execution_count": 4
        }
      ]
    },
    {
      "cell_type": "code",
      "source": [
        "listaDePessoas=[] #criando lista vazia\n",
        "for i in range(5): #frequencia de repetição do loop for, segundo a questão\n",
        "  nome = str(input(\"Nome: \")) #entrada de dados\n",
        "  idade = int(input(\"Idade: \")) #entrada de dados\n",
        "  pessoa = Pessoa(nome, idade) #criando objeto pessoa com a classe Pessoa()\n",
        "  listaDePessoas.append(pessoa) #cada elemento da lista é um objeto com métodos() e atributos\n",
        "for objeto in range(len(listaDePessoas)): #acessando cada objeto da lista de objetos pessoa\n",
        "#Acessando os atributos nome e idade de cada objeto\n",
        "  print(\"Nome: %s, idade: %d \" %(listaDePessoas[objeto].nome, listaDePessoas[objeto].idade))"
      ],
      "metadata": {
        "id": "PjBB-HIYWsb2"
      },
      "execution_count": null,
      "outputs": []
    },
    {
      "cell_type": "code",
      "source": [
        "class Pessoa():\n",
        "  def __init__(self,nome,idade):\n",
        "    self.nome = nome\n",
        "    self.idade = idade\n",
        "  def mensagem():\n",
        "    print('Seja bem-vindo ao SENAC!')"
      ],
      "metadata": {
        "id": "4WSj-TZ7FXOs"
      },
      "execution_count": null,
      "outputs": []
    },
    {
      "cell_type": "code",
      "source": [
        "class PessoaFisica():\n",
        "  def __init__(self, cpf): \n",
        "    self.cpf = cpf\n",
        "  def ImpostoDeRenda(self,*salario):\n",
        "    ir = salario*0.015\n",
        "    print('o valor do seu importo de renda é: ', ir)\n",
        "    return(ir)"
      ],
      "metadata": {
        "id": "GMX0C9MPZiFm"
      },
      "execution_count": null,
      "outputs": []
    },
    {
      "cell_type": "code",
      "source": [
        "class PessoaJuridica():\n",
        "  def __init__(self,cnpj):\n",
        "    self.cnpj = cnpj\n",
        "  def ImpostoDeRenda(self,*salario,porte):\n",
        "    porteDaEmpresa = str(input('digite o tamanho de porte da empresa [pequeno/medio/grande]: '))\n",
        "    if porteDaEmpresa == 'pequeno':\n",
        "      ir = salario*0.10\n",
        "      print('o valor do seu importo de renda é: ', ir)\n",
        "    elif porteDaEmpresa == 'medio':\n",
        "      ir = salario*0.15\n",
        "      print('o valor do seu importo de renda é: ', ir)\n",
        "    elif porteDaEmpresa == 'grande':\n",
        "      ir = salario*0.20\n",
        "      print('o valor do seu importo de renda é: ', ir)\n",
        "    \n",
        "    return(ir)"
      ],
      "metadata": {
        "id": "TexzesUSZzzW"
      },
      "execution_count": null,
      "outputs": []
    },
    {
      "cell_type": "code",
      "source": [
        "nome = str(input('nome: '))\n",
        "idade = int(input('idade: '))\n",
        "tipoDePessoa = str(input('tipo de pessoa [PF/PJ]: '))\n",
        "if tipoDePessoa == 'PF':\n",
        "  cpf = int(input(\"cpf: \"))\n",
        "  salario = float(input('salario: '))\n",
        "elif tipoDePessoa == 'PJ':\n",
        "  cnpj = int(input('cnpj: '))\n",
        "  salario = float(input('salario: '))\n",
        "  porteDaEmpresa = input('porte da empresa[pequeno/medio/grande]: ')"
      ],
      "metadata": {
        "colab": {
          "base_uri": "https://localhost:8080/"
        },
        "id": "a2FSZDENZ_v-",
        "outputId": "7edadc98-a77e-4206-ddd2-523bba1c8ab4"
      },
      "execution_count": null,
      "outputs": [
        {
          "name": "stdout",
          "output_type": "stream",
          "text": [
            "nome: aaa\n",
            "idade: 44\n",
            "tipo de pessoa [PF/PJ]: PJ\n",
            "cnpj: 4938483\n",
            "salario: 13092\n",
            "porte da empresa[pequeno/medio/grande]: grande\n"
          ]
        }
      ]
    }
  ]
}