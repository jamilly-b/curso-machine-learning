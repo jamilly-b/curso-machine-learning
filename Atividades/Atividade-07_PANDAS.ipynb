{
  "nbformat": 4,
  "nbformat_minor": 0,
  "metadata": {
    "colab": {
      "provenance": [],
      "include_colab_link": true
    },
    "kernelspec": {
      "name": "python3",
      "display_name": "Python 3"
    },
    "language_info": {
      "name": "python"
    }
  },
  "cells": [
    {
      "cell_type": "markdown",
      "metadata": {
        "id": "view-in-github",
        "colab_type": "text"
      },
      "source": [
        "<a href=\"https://colab.research.google.com/github/jmlly/curso-machine-learning/blob/main/Atividades/Atividade-07_PANDAS.ipynb\" target=\"_parent\"><img src=\"https://colab.research.google.com/assets/colab-badge.svg\" alt=\"Open In Colab\"/></a>"
      ]
    },
    {
      "cell_type": "code",
      "execution_count": 45,
      "metadata": {
        "id": "haofwNFHTOwu"
      },
      "outputs": [],
      "source": [
        "import pandas as pd\n",
        "import numpy as np\n",
        "import matplotlib.pyplot as plt\n",
        "plt.style.use('seaborn-talk')"
      ]
    },
    {
      "cell_type": "markdown",
      "source": [
        "##Obtendo os dados: \n",
        "Ao rodarmos a célula abaixo vamos obter os dados diretamente do site:\n",
        "\n",
        "http://dados.recife.pe.gov.br/tl/dataset/relacao-de-pessoas-vacinadas-covid-19/resource/966e9c4c-df45-40d7-9c58-2f13c61a6d28 \n"
      ],
      "metadata": {
        "id": "CJSaC-eDpKpZ"
      }
    },
    {
      "cell_type": "code",
      "source": [
        "df1 = pd.read_csv('http://dados.recife.pe.gov.br/dataset/2b5ee58d-9535-4d80-ab32-f63fd475346e/resource/93f4e8c2-430f-4142-86b3-96dab4905b4e/download/casosgravescovid.csv', sep=\";\")"
      ],
      "metadata": {
        "id": "nx62qgP0Teii"
      },
      "execution_count": 2,
      "outputs": []
    },
    {
      "cell_type": "markdown",
      "source": [
        "Utilize os comandos aprendidos em aula para os dados carregados, começando, preferencialmente, por:\n",
        "- head()\n",
        "- head(1-2)\n",
        "- tail()\n",
        "- info()\n",
        "- describe()\n",
        "- seguindo com outros aprendidos para manipulação de tratamento dos dados."
      ],
      "metadata": {
        "id": "S4Z2XURVpkAS"
      }
    },
    {
      "cell_type": "markdown",
      "source": [
        "**Comandos iniciais:**"
      ],
      "metadata": {
        "id": "leV6ZMfqrXpZ"
      }
    },
    {
      "cell_type": "code",
      "source": [
        "df1 = pd.DataFrame(df1)"
      ],
      "metadata": {
        "id": "bzTMdHQ8_-za"
      },
      "execution_count": 3,
      "outputs": []
    },
    {
      "cell_type": "code",
      "source": [
        "df1.head()"
      ],
      "metadata": {
        "id": "Eqrqv6A4qEL6",
        "colab": {
          "base_uri": "https://localhost:8080/",
          "height": 478
        },
        "outputId": "39f6e77e-c949-4b82-fa57-0b375c7fa24d"
      },
      "execution_count": 4,
      "outputs": [
        {
          "output_type": "execute_result",
          "data": {
            "text/plain": [
              "  data_notificacao       sexo    raca etnia idade municipio_residencia  \\\n",
              "0       2020-05-30  Masculino  Branca   NaN    53               Recife   \n",
              "1       2020-06-02   Feminino   Parda   NaN     0               Recife   \n",
              "2       2020-06-02   Feminino   Parda   NaN    86               Recife   \n",
              "3       2020-06-01  Masculino  Branca   NaN    66               Recife   \n",
              "4       2020-06-02  Masculino   Preta   NaN    68               Recife   \n",
              "\n",
              "                 bairro distrito_sanitario data_inicio_sintomas  \\\n",
              "0            SAN MARTIN                  V           2020-05-25   \n",
              "1  ALTO SANTA TEREZINHA                 II           2020-05-30   \n",
              "2            ESPINHEIRO                III           2020-06-01   \n",
              "3            CASA FORTE                III           2020-05-25   \n",
              "4        ILHA DO RETIRO                 IV           2020-05-30   \n",
              "\n",
              "                                            sintomas outros_sintomas  \\\n",
              "0  Febre, Tosse, Mialgia, Alteração/perda de olfa...             NaN   \n",
              "1          Febre, Tosse, Dispneia, Saturação O2 < 95             NaN   \n",
              "2                        Dispneia, Saturação O2 < 95             NaN   \n",
              "3                                                NaN             NaN   \n",
              "4                 Tosse, Dispneia, Saturação O2 < 95             NaN   \n",
              "\n",
              "  doencas_preexistentes outras_doencas_preexistentes  profissional_saude  \\\n",
              "0                   NaN                           NaN                NaN   \n",
              "1                   NaN                           NaN                NaN   \n",
              "2                   NaN                           NaN                NaN   \n",
              "3                   NaN                           NaN                NaN   \n",
              "4                   NaN                           NaN                NaN   \n",
              "\n",
              "  categoria_profissional classificacao_final                       evolucao  \\\n",
              "0                    NaN          DESCARTADO          ISOLAMENTO DOMICILIAR   \n",
              "1                    NaN        INCONCLUSIVO          ISOLAMENTO DOMICILIAR   \n",
              "2                    NaN          DESCARTADO  INTERNADO LEITO DE ISOLAMENTO   \n",
              "3                    NaN          CONFIRMADO                     RECUPERADO   \n",
              "4                    NaN          DESCARTADO  INTERNADO LEITO DE ISOLAMENTO   \n",
              "\n",
              "  data_obito  \n",
              "0        NaN  \n",
              "1        NaN  \n",
              "2        NaN  \n",
              "3        NaN  \n",
              "4        NaN  "
            ],
            "text/html": [
              "\n",
              "  <div id=\"df-8b73eca8-6e42-467c-9845-02cb699fd798\">\n",
              "    <div class=\"colab-df-container\">\n",
              "      <div>\n",
              "<style scoped>\n",
              "    .dataframe tbody tr th:only-of-type {\n",
              "        vertical-align: middle;\n",
              "    }\n",
              "\n",
              "    .dataframe tbody tr th {\n",
              "        vertical-align: top;\n",
              "    }\n",
              "\n",
              "    .dataframe thead th {\n",
              "        text-align: right;\n",
              "    }\n",
              "</style>\n",
              "<table border=\"1\" class=\"dataframe\">\n",
              "  <thead>\n",
              "    <tr style=\"text-align: right;\">\n",
              "      <th></th>\n",
              "      <th>data_notificacao</th>\n",
              "      <th>sexo</th>\n",
              "      <th>raca</th>\n",
              "      <th>etnia</th>\n",
              "      <th>idade</th>\n",
              "      <th>municipio_residencia</th>\n",
              "      <th>bairro</th>\n",
              "      <th>distrito_sanitario</th>\n",
              "      <th>data_inicio_sintomas</th>\n",
              "      <th>sintomas</th>\n",
              "      <th>outros_sintomas</th>\n",
              "      <th>doencas_preexistentes</th>\n",
              "      <th>outras_doencas_preexistentes</th>\n",
              "      <th>profissional_saude</th>\n",
              "      <th>categoria_profissional</th>\n",
              "      <th>classificacao_final</th>\n",
              "      <th>evolucao</th>\n",
              "      <th>data_obito</th>\n",
              "    </tr>\n",
              "  </thead>\n",
              "  <tbody>\n",
              "    <tr>\n",
              "      <th>0</th>\n",
              "      <td>2020-05-30</td>\n",
              "      <td>Masculino</td>\n",
              "      <td>Branca</td>\n",
              "      <td>NaN</td>\n",
              "      <td>53</td>\n",
              "      <td>Recife</td>\n",
              "      <td>SAN MARTIN</td>\n",
              "      <td>V</td>\n",
              "      <td>2020-05-25</td>\n",
              "      <td>Febre, Tosse, Mialgia, Alteração/perda de olfa...</td>\n",
              "      <td>NaN</td>\n",
              "      <td>NaN</td>\n",
              "      <td>NaN</td>\n",
              "      <td>NaN</td>\n",
              "      <td>NaN</td>\n",
              "      <td>DESCARTADO</td>\n",
              "      <td>ISOLAMENTO DOMICILIAR</td>\n",
              "      <td>NaN</td>\n",
              "    </tr>\n",
              "    <tr>\n",
              "      <th>1</th>\n",
              "      <td>2020-06-02</td>\n",
              "      <td>Feminino</td>\n",
              "      <td>Parda</td>\n",
              "      <td>NaN</td>\n",
              "      <td>0</td>\n",
              "      <td>Recife</td>\n",
              "      <td>ALTO SANTA TEREZINHA</td>\n",
              "      <td>II</td>\n",
              "      <td>2020-05-30</td>\n",
              "      <td>Febre, Tosse, Dispneia, Saturação O2 &lt; 95</td>\n",
              "      <td>NaN</td>\n",
              "      <td>NaN</td>\n",
              "      <td>NaN</td>\n",
              "      <td>NaN</td>\n",
              "      <td>NaN</td>\n",
              "      <td>INCONCLUSIVO</td>\n",
              "      <td>ISOLAMENTO DOMICILIAR</td>\n",
              "      <td>NaN</td>\n",
              "    </tr>\n",
              "    <tr>\n",
              "      <th>2</th>\n",
              "      <td>2020-06-02</td>\n",
              "      <td>Feminino</td>\n",
              "      <td>Parda</td>\n",
              "      <td>NaN</td>\n",
              "      <td>86</td>\n",
              "      <td>Recife</td>\n",
              "      <td>ESPINHEIRO</td>\n",
              "      <td>III</td>\n",
              "      <td>2020-06-01</td>\n",
              "      <td>Dispneia, Saturação O2 &lt; 95</td>\n",
              "      <td>NaN</td>\n",
              "      <td>NaN</td>\n",
              "      <td>NaN</td>\n",
              "      <td>NaN</td>\n",
              "      <td>NaN</td>\n",
              "      <td>DESCARTADO</td>\n",
              "      <td>INTERNADO LEITO DE ISOLAMENTO</td>\n",
              "      <td>NaN</td>\n",
              "    </tr>\n",
              "    <tr>\n",
              "      <th>3</th>\n",
              "      <td>2020-06-01</td>\n",
              "      <td>Masculino</td>\n",
              "      <td>Branca</td>\n",
              "      <td>NaN</td>\n",
              "      <td>66</td>\n",
              "      <td>Recife</td>\n",
              "      <td>CASA FORTE</td>\n",
              "      <td>III</td>\n",
              "      <td>2020-05-25</td>\n",
              "      <td>NaN</td>\n",
              "      <td>NaN</td>\n",
              "      <td>NaN</td>\n",
              "      <td>NaN</td>\n",
              "      <td>NaN</td>\n",
              "      <td>NaN</td>\n",
              "      <td>CONFIRMADO</td>\n",
              "      <td>RECUPERADO</td>\n",
              "      <td>NaN</td>\n",
              "    </tr>\n",
              "    <tr>\n",
              "      <th>4</th>\n",
              "      <td>2020-06-02</td>\n",
              "      <td>Masculino</td>\n",
              "      <td>Preta</td>\n",
              "      <td>NaN</td>\n",
              "      <td>68</td>\n",
              "      <td>Recife</td>\n",
              "      <td>ILHA DO RETIRO</td>\n",
              "      <td>IV</td>\n",
              "      <td>2020-05-30</td>\n",
              "      <td>Tosse, Dispneia, Saturação O2 &lt; 95</td>\n",
              "      <td>NaN</td>\n",
              "      <td>NaN</td>\n",
              "      <td>NaN</td>\n",
              "      <td>NaN</td>\n",
              "      <td>NaN</td>\n",
              "      <td>DESCARTADO</td>\n",
              "      <td>INTERNADO LEITO DE ISOLAMENTO</td>\n",
              "      <td>NaN</td>\n",
              "    </tr>\n",
              "  </tbody>\n",
              "</table>\n",
              "</div>\n",
              "      <button class=\"colab-df-convert\" onclick=\"convertToInteractive('df-8b73eca8-6e42-467c-9845-02cb699fd798')\"\n",
              "              title=\"Convert this dataframe to an interactive table.\"\n",
              "              style=\"display:none;\">\n",
              "        \n",
              "  <svg xmlns=\"http://www.w3.org/2000/svg\" height=\"24px\"viewBox=\"0 0 24 24\"\n",
              "       width=\"24px\">\n",
              "    <path d=\"M0 0h24v24H0V0z\" fill=\"none\"/>\n",
              "    <path d=\"M18.56 5.44l.94 2.06.94-2.06 2.06-.94-2.06-.94-.94-2.06-.94 2.06-2.06.94zm-11 1L8.5 8.5l.94-2.06 2.06-.94-2.06-.94L8.5 2.5l-.94 2.06-2.06.94zm10 10l.94 2.06.94-2.06 2.06-.94-2.06-.94-.94-2.06-.94 2.06-2.06.94z\"/><path d=\"M17.41 7.96l-1.37-1.37c-.4-.4-.92-.59-1.43-.59-.52 0-1.04.2-1.43.59L10.3 9.45l-7.72 7.72c-.78.78-.78 2.05 0 2.83L4 21.41c.39.39.9.59 1.41.59.51 0 1.02-.2 1.41-.59l7.78-7.78 2.81-2.81c.8-.78.8-2.07 0-2.86zM5.41 20L4 18.59l7.72-7.72 1.47 1.35L5.41 20z\"/>\n",
              "  </svg>\n",
              "      </button>\n",
              "      \n",
              "  <style>\n",
              "    .colab-df-container {\n",
              "      display:flex;\n",
              "      flex-wrap:wrap;\n",
              "      gap: 12px;\n",
              "    }\n",
              "\n",
              "    .colab-df-convert {\n",
              "      background-color: #E8F0FE;\n",
              "      border: none;\n",
              "      border-radius: 50%;\n",
              "      cursor: pointer;\n",
              "      display: none;\n",
              "      fill: #1967D2;\n",
              "      height: 32px;\n",
              "      padding: 0 0 0 0;\n",
              "      width: 32px;\n",
              "    }\n",
              "\n",
              "    .colab-df-convert:hover {\n",
              "      background-color: #E2EBFA;\n",
              "      box-shadow: 0px 1px 2px rgba(60, 64, 67, 0.3), 0px 1px 3px 1px rgba(60, 64, 67, 0.15);\n",
              "      fill: #174EA6;\n",
              "    }\n",
              "\n",
              "    [theme=dark] .colab-df-convert {\n",
              "      background-color: #3B4455;\n",
              "      fill: #D2E3FC;\n",
              "    }\n",
              "\n",
              "    [theme=dark] .colab-df-convert:hover {\n",
              "      background-color: #434B5C;\n",
              "      box-shadow: 0px 1px 3px 1px rgba(0, 0, 0, 0.15);\n",
              "      filter: drop-shadow(0px 1px 2px rgba(0, 0, 0, 0.3));\n",
              "      fill: #FFFFFF;\n",
              "    }\n",
              "  </style>\n",
              "\n",
              "      <script>\n",
              "        const buttonEl =\n",
              "          document.querySelector('#df-8b73eca8-6e42-467c-9845-02cb699fd798 button.colab-df-convert');\n",
              "        buttonEl.style.display =\n",
              "          google.colab.kernel.accessAllowed ? 'block' : 'none';\n",
              "\n",
              "        async function convertToInteractive(key) {\n",
              "          const element = document.querySelector('#df-8b73eca8-6e42-467c-9845-02cb699fd798');\n",
              "          const dataTable =\n",
              "            await google.colab.kernel.invokeFunction('convertToInteractive',\n",
              "                                                     [key], {});\n",
              "          if (!dataTable) return;\n",
              "\n",
              "          const docLinkHtml = 'Like what you see? Visit the ' +\n",
              "            '<a target=\"_blank\" href=https://colab.research.google.com/notebooks/data_table.ipynb>data table notebook</a>'\n",
              "            + ' to learn more about interactive tables.';\n",
              "          element.innerHTML = '';\n",
              "          dataTable['output_type'] = 'display_data';\n",
              "          await google.colab.output.renderOutput(dataTable, element);\n",
              "          const docLink = document.createElement('div');\n",
              "          docLink.innerHTML = docLinkHtml;\n",
              "          element.appendChild(docLink);\n",
              "        }\n",
              "      </script>\n",
              "    </div>\n",
              "  </div>\n",
              "  "
            ]
          },
          "metadata": {},
          "execution_count": 4
        }
      ]
    },
    {
      "cell_type": "code",
      "source": [
        "df1.head(1-2)"
      ],
      "metadata": {
        "id": "R15a_NwQ4jGh",
        "colab": {
          "base_uri": "https://localhost:8080/",
          "height": 424
        },
        "outputId": "e007becc-883e-4963-d45e-aa694635c064"
      },
      "execution_count": 28,
      "outputs": [
        {
          "output_type": "execute_result",
          "data": {
            "text/plain": [
              "      data_notificacao       sexo      raca idade              bairro  \\\n",
              "10          2020-06-02   Feminino     Parda    43            CORDEIRO   \n",
              "20          2020-06-03   Feminino     Parda    61            BEBERIBE   \n",
              "23          2020-07-19   Feminino     Parda    64         SANTO AMARO   \n",
              "43          2020-06-29   Feminino     Parda    39              VARZEA   \n",
              "44          2020-06-29  Masculino  Ignorado    40              SANCHO   \n",
              "...                ...        ...       ...   ...                 ...   \n",
              "36429       2022-06-08  Masculino    Branca     1           GUABIRABA   \n",
              "36430       2022-06-08  Masculino  Ignorado    77  BREJO DA GUABIRABA   \n",
              "36431       2022-06-09  Masculino     Parda    74     NOVA DESCOBERTA   \n",
              "36432       2022-06-10  Masculino     Parda    74            BEBERIBE   \n",
              "36433       2022-06-12   Feminino   Amarela    73     ENGENHO DO MEIO   \n",
              "\n",
              "      profissional_saude  \n",
              "10                   SIM  \n",
              "20                   SIM  \n",
              "23                   NÃO  \n",
              "43                   NÃO  \n",
              "44                   NÃO  \n",
              "...                  ...  \n",
              "36429                NÃO  \n",
              "36430                NÃO  \n",
              "36431                NÃO  \n",
              "36432                NÃO  \n",
              "36433                NÃO  \n",
              "\n",
              "[25025 rows x 6 columns]"
            ],
            "text/html": [
              "\n",
              "  <div id=\"df-a6fd0f8d-243f-49f7-ac21-aff8b9c9f488\">\n",
              "    <div class=\"colab-df-container\">\n",
              "      <div>\n",
              "<style scoped>\n",
              "    .dataframe tbody tr th:only-of-type {\n",
              "        vertical-align: middle;\n",
              "    }\n",
              "\n",
              "    .dataframe tbody tr th {\n",
              "        vertical-align: top;\n",
              "    }\n",
              "\n",
              "    .dataframe thead th {\n",
              "        text-align: right;\n",
              "    }\n",
              "</style>\n",
              "<table border=\"1\" class=\"dataframe\">\n",
              "  <thead>\n",
              "    <tr style=\"text-align: right;\">\n",
              "      <th></th>\n",
              "      <th>data_notificacao</th>\n",
              "      <th>sexo</th>\n",
              "      <th>raca</th>\n",
              "      <th>idade</th>\n",
              "      <th>bairro</th>\n",
              "      <th>profissional_saude</th>\n",
              "    </tr>\n",
              "  </thead>\n",
              "  <tbody>\n",
              "    <tr>\n",
              "      <th>10</th>\n",
              "      <td>2020-06-02</td>\n",
              "      <td>Feminino</td>\n",
              "      <td>Parda</td>\n",
              "      <td>43</td>\n",
              "      <td>CORDEIRO</td>\n",
              "      <td>SIM</td>\n",
              "    </tr>\n",
              "    <tr>\n",
              "      <th>20</th>\n",
              "      <td>2020-06-03</td>\n",
              "      <td>Feminino</td>\n",
              "      <td>Parda</td>\n",
              "      <td>61</td>\n",
              "      <td>BEBERIBE</td>\n",
              "      <td>SIM</td>\n",
              "    </tr>\n",
              "    <tr>\n",
              "      <th>23</th>\n",
              "      <td>2020-07-19</td>\n",
              "      <td>Feminino</td>\n",
              "      <td>Parda</td>\n",
              "      <td>64</td>\n",
              "      <td>SANTO AMARO</td>\n",
              "      <td>NÃO</td>\n",
              "    </tr>\n",
              "    <tr>\n",
              "      <th>43</th>\n",
              "      <td>2020-06-29</td>\n",
              "      <td>Feminino</td>\n",
              "      <td>Parda</td>\n",
              "      <td>39</td>\n",
              "      <td>VARZEA</td>\n",
              "      <td>NÃO</td>\n",
              "    </tr>\n",
              "    <tr>\n",
              "      <th>44</th>\n",
              "      <td>2020-06-29</td>\n",
              "      <td>Masculino</td>\n",
              "      <td>Ignorado</td>\n",
              "      <td>40</td>\n",
              "      <td>SANCHO</td>\n",
              "      <td>NÃO</td>\n",
              "    </tr>\n",
              "    <tr>\n",
              "      <th>...</th>\n",
              "      <td>...</td>\n",
              "      <td>...</td>\n",
              "      <td>...</td>\n",
              "      <td>...</td>\n",
              "      <td>...</td>\n",
              "      <td>...</td>\n",
              "    </tr>\n",
              "    <tr>\n",
              "      <th>36429</th>\n",
              "      <td>2022-06-08</td>\n",
              "      <td>Masculino</td>\n",
              "      <td>Branca</td>\n",
              "      <td>1</td>\n",
              "      <td>GUABIRABA</td>\n",
              "      <td>NÃO</td>\n",
              "    </tr>\n",
              "    <tr>\n",
              "      <th>36430</th>\n",
              "      <td>2022-06-08</td>\n",
              "      <td>Masculino</td>\n",
              "      <td>Ignorado</td>\n",
              "      <td>77</td>\n",
              "      <td>BREJO DA GUABIRABA</td>\n",
              "      <td>NÃO</td>\n",
              "    </tr>\n",
              "    <tr>\n",
              "      <th>36431</th>\n",
              "      <td>2022-06-09</td>\n",
              "      <td>Masculino</td>\n",
              "      <td>Parda</td>\n",
              "      <td>74</td>\n",
              "      <td>NOVA DESCOBERTA</td>\n",
              "      <td>NÃO</td>\n",
              "    </tr>\n",
              "    <tr>\n",
              "      <th>36432</th>\n",
              "      <td>2022-06-10</td>\n",
              "      <td>Masculino</td>\n",
              "      <td>Parda</td>\n",
              "      <td>74</td>\n",
              "      <td>BEBERIBE</td>\n",
              "      <td>NÃO</td>\n",
              "    </tr>\n",
              "    <tr>\n",
              "      <th>36433</th>\n",
              "      <td>2022-06-12</td>\n",
              "      <td>Feminino</td>\n",
              "      <td>Amarela</td>\n",
              "      <td>73</td>\n",
              "      <td>ENGENHO DO MEIO</td>\n",
              "      <td>NÃO</td>\n",
              "    </tr>\n",
              "  </tbody>\n",
              "</table>\n",
              "<p>25025 rows × 6 columns</p>\n",
              "</div>\n",
              "      <button class=\"colab-df-convert\" onclick=\"convertToInteractive('df-a6fd0f8d-243f-49f7-ac21-aff8b9c9f488')\"\n",
              "              title=\"Convert this dataframe to an interactive table.\"\n",
              "              style=\"display:none;\">\n",
              "        \n",
              "  <svg xmlns=\"http://www.w3.org/2000/svg\" height=\"24px\"viewBox=\"0 0 24 24\"\n",
              "       width=\"24px\">\n",
              "    <path d=\"M0 0h24v24H0V0z\" fill=\"none\"/>\n",
              "    <path d=\"M18.56 5.44l.94 2.06.94-2.06 2.06-.94-2.06-.94-.94-2.06-.94 2.06-2.06.94zm-11 1L8.5 8.5l.94-2.06 2.06-.94-2.06-.94L8.5 2.5l-.94 2.06-2.06.94zm10 10l.94 2.06.94-2.06 2.06-.94-2.06-.94-.94-2.06-.94 2.06-2.06.94z\"/><path d=\"M17.41 7.96l-1.37-1.37c-.4-.4-.92-.59-1.43-.59-.52 0-1.04.2-1.43.59L10.3 9.45l-7.72 7.72c-.78.78-.78 2.05 0 2.83L4 21.41c.39.39.9.59 1.41.59.51 0 1.02-.2 1.41-.59l7.78-7.78 2.81-2.81c.8-.78.8-2.07 0-2.86zM5.41 20L4 18.59l7.72-7.72 1.47 1.35L5.41 20z\"/>\n",
              "  </svg>\n",
              "      </button>\n",
              "      \n",
              "  <style>\n",
              "    .colab-df-container {\n",
              "      display:flex;\n",
              "      flex-wrap:wrap;\n",
              "      gap: 12px;\n",
              "    }\n",
              "\n",
              "    .colab-df-convert {\n",
              "      background-color: #E8F0FE;\n",
              "      border: none;\n",
              "      border-radius: 50%;\n",
              "      cursor: pointer;\n",
              "      display: none;\n",
              "      fill: #1967D2;\n",
              "      height: 32px;\n",
              "      padding: 0 0 0 0;\n",
              "      width: 32px;\n",
              "    }\n",
              "\n",
              "    .colab-df-convert:hover {\n",
              "      background-color: #E2EBFA;\n",
              "      box-shadow: 0px 1px 2px rgba(60, 64, 67, 0.3), 0px 1px 3px 1px rgba(60, 64, 67, 0.15);\n",
              "      fill: #174EA6;\n",
              "    }\n",
              "\n",
              "    [theme=dark] .colab-df-convert {\n",
              "      background-color: #3B4455;\n",
              "      fill: #D2E3FC;\n",
              "    }\n",
              "\n",
              "    [theme=dark] .colab-df-convert:hover {\n",
              "      background-color: #434B5C;\n",
              "      box-shadow: 0px 1px 3px 1px rgba(0, 0, 0, 0.15);\n",
              "      filter: drop-shadow(0px 1px 2px rgba(0, 0, 0, 0.3));\n",
              "      fill: #FFFFFF;\n",
              "    }\n",
              "  </style>\n",
              "\n",
              "      <script>\n",
              "        const buttonEl =\n",
              "          document.querySelector('#df-a6fd0f8d-243f-49f7-ac21-aff8b9c9f488 button.colab-df-convert');\n",
              "        buttonEl.style.display =\n",
              "          google.colab.kernel.accessAllowed ? 'block' : 'none';\n",
              "\n",
              "        async function convertToInteractive(key) {\n",
              "          const element = document.querySelector('#df-a6fd0f8d-243f-49f7-ac21-aff8b9c9f488');\n",
              "          const dataTable =\n",
              "            await google.colab.kernel.invokeFunction('convertToInteractive',\n",
              "                                                     [key], {});\n",
              "          if (!dataTable) return;\n",
              "\n",
              "          const docLinkHtml = 'Like what you see? Visit the ' +\n",
              "            '<a target=\"_blank\" href=https://colab.research.google.com/notebooks/data_table.ipynb>data table notebook</a>'\n",
              "            + ' to learn more about interactive tables.';\n",
              "          element.innerHTML = '';\n",
              "          dataTable['output_type'] = 'display_data';\n",
              "          await google.colab.output.renderOutput(dataTable, element);\n",
              "          const docLink = document.createElement('div');\n",
              "          docLink.innerHTML = docLinkHtml;\n",
              "          element.appendChild(docLink);\n",
              "        }\n",
              "      </script>\n",
              "    </div>\n",
              "  </div>\n",
              "  "
            ]
          },
          "metadata": {},
          "execution_count": 28
        }
      ]
    },
    {
      "cell_type": "code",
      "source": [
        "df1.tail()"
      ],
      "metadata": {
        "colab": {
          "base_uri": "https://localhost:8080/",
          "height": 496
        },
        "id": "q_-qJ0_D5sov",
        "outputId": "bd1753f6-8959-45f9-db6b-03c0c45d5489"
      },
      "execution_count": 6,
      "outputs": [
        {
          "output_type": "execute_result",
          "data": {
            "text/plain": [
              "      data_notificacao       sexo      raca etnia idade municipio_residencia  \\\n",
              "36430       2022-06-08  Masculino  Ignorado   NaN    77               Recife   \n",
              "36431       2022-06-09  Masculino     Parda   NaN    74               Recife   \n",
              "36432       2022-06-10  Masculino     Parda   NaN    74               Recife   \n",
              "36433       2022-06-12   Feminino   Amarela   NaN    73               Recife   \n",
              "36434       2022-06-12   Feminino     Parda   NaN    66               Recife   \n",
              "\n",
              "                   bairro distrito_sanitario data_inicio_sintomas  \\\n",
              "36430  BREJO DA GUABIRABA                VII           2022-06-06   \n",
              "36431     NOVA DESCOBERTA                VII           2022-06-06   \n",
              "36432            BEBERIBE                 II           2022-06-03   \n",
              "36433     ENGENHO DO MEIO                 IV           2022-06-11   \n",
              "36434          BOA VIAGEM                 VI           2022-06-07   \n",
              "\n",
              "                                                sintomas outros_sintomas  \\\n",
              "36430                                           Dispneia             NaN   \n",
              "36431  Tosse, Cansaço/fadiga, Desconforto respiratóri...             NaN   \n",
              "36432                             Febre, Tosse, Dispneia             NaN   \n",
              "36433  Dispneia, Desconforto respiratório / aperto to...             NaN   \n",
              "36434  Tosse, Dispneia, Desconforto respiratório / ap...             RNC   \n",
              "\n",
              "                           doencas_preexistentes  \\\n",
              "36430                                        NaN   \n",
              "36431                                        NaN   \n",
              "36432                                   Diabetes   \n",
              "36433  Doenças Cardíacas ou Vasculares, Diabetes   \n",
              "36434                                        NaN   \n",
              "\n",
              "      outras_doencas_preexistentes  profissional_saude categoria_profissional  \\\n",
              "36430                           HAS                NÃO                    NaN   \n",
              "36431                           NaN                NÃO                    NaN   \n",
              "36432                           NaN                NÃO                    NaN   \n",
              "36433                           AVC                NÃO                    NaN   \n",
              "36434                          AVCH                NÃO                    NaN   \n",
              "\n",
              "      classificacao_final                       evolucao data_obito  \n",
              "36430          EM ANÁLISE                  INTERNADO UTI        NaN  \n",
              "36431          EM ANÁLISE  INTERNADO LEITO DE ISOLAMENTO        NaN  \n",
              "36432          EM ANÁLISE  INTERNADO LEITO DE ISOLAMENTO        NaN  \n",
              "36433          EM ANÁLISE                  INTERNADO UTI        NaN  \n",
              "36434          EM ANÁLISE                  INTERNADO UTI        NaN  "
            ],
            "text/html": [
              "\n",
              "  <div id=\"df-bf562b70-2b7d-44df-80dd-2f70d4cbaff2\">\n",
              "    <div class=\"colab-df-container\">\n",
              "      <div>\n",
              "<style scoped>\n",
              "    .dataframe tbody tr th:only-of-type {\n",
              "        vertical-align: middle;\n",
              "    }\n",
              "\n",
              "    .dataframe tbody tr th {\n",
              "        vertical-align: top;\n",
              "    }\n",
              "\n",
              "    .dataframe thead th {\n",
              "        text-align: right;\n",
              "    }\n",
              "</style>\n",
              "<table border=\"1\" class=\"dataframe\">\n",
              "  <thead>\n",
              "    <tr style=\"text-align: right;\">\n",
              "      <th></th>\n",
              "      <th>data_notificacao</th>\n",
              "      <th>sexo</th>\n",
              "      <th>raca</th>\n",
              "      <th>etnia</th>\n",
              "      <th>idade</th>\n",
              "      <th>municipio_residencia</th>\n",
              "      <th>bairro</th>\n",
              "      <th>distrito_sanitario</th>\n",
              "      <th>data_inicio_sintomas</th>\n",
              "      <th>sintomas</th>\n",
              "      <th>outros_sintomas</th>\n",
              "      <th>doencas_preexistentes</th>\n",
              "      <th>outras_doencas_preexistentes</th>\n",
              "      <th>profissional_saude</th>\n",
              "      <th>categoria_profissional</th>\n",
              "      <th>classificacao_final</th>\n",
              "      <th>evolucao</th>\n",
              "      <th>data_obito</th>\n",
              "    </tr>\n",
              "  </thead>\n",
              "  <tbody>\n",
              "    <tr>\n",
              "      <th>36430</th>\n",
              "      <td>2022-06-08</td>\n",
              "      <td>Masculino</td>\n",
              "      <td>Ignorado</td>\n",
              "      <td>NaN</td>\n",
              "      <td>77</td>\n",
              "      <td>Recife</td>\n",
              "      <td>BREJO DA GUABIRABA</td>\n",
              "      <td>VII</td>\n",
              "      <td>2022-06-06</td>\n",
              "      <td>Dispneia</td>\n",
              "      <td>NaN</td>\n",
              "      <td>NaN</td>\n",
              "      <td>HAS</td>\n",
              "      <td>NÃO</td>\n",
              "      <td>NaN</td>\n",
              "      <td>EM ANÁLISE</td>\n",
              "      <td>INTERNADO UTI</td>\n",
              "      <td>NaN</td>\n",
              "    </tr>\n",
              "    <tr>\n",
              "      <th>36431</th>\n",
              "      <td>2022-06-09</td>\n",
              "      <td>Masculino</td>\n",
              "      <td>Parda</td>\n",
              "      <td>NaN</td>\n",
              "      <td>74</td>\n",
              "      <td>Recife</td>\n",
              "      <td>NOVA DESCOBERTA</td>\n",
              "      <td>VII</td>\n",
              "      <td>2022-06-06</td>\n",
              "      <td>Tosse, Cansaço/fadiga, Desconforto respiratóri...</td>\n",
              "      <td>NaN</td>\n",
              "      <td>NaN</td>\n",
              "      <td>NaN</td>\n",
              "      <td>NÃO</td>\n",
              "      <td>NaN</td>\n",
              "      <td>EM ANÁLISE</td>\n",
              "      <td>INTERNADO LEITO DE ISOLAMENTO</td>\n",
              "      <td>NaN</td>\n",
              "    </tr>\n",
              "    <tr>\n",
              "      <th>36432</th>\n",
              "      <td>2022-06-10</td>\n",
              "      <td>Masculino</td>\n",
              "      <td>Parda</td>\n",
              "      <td>NaN</td>\n",
              "      <td>74</td>\n",
              "      <td>Recife</td>\n",
              "      <td>BEBERIBE</td>\n",
              "      <td>II</td>\n",
              "      <td>2022-06-03</td>\n",
              "      <td>Febre, Tosse, Dispneia</td>\n",
              "      <td>NaN</td>\n",
              "      <td>Diabetes</td>\n",
              "      <td>NaN</td>\n",
              "      <td>NÃO</td>\n",
              "      <td>NaN</td>\n",
              "      <td>EM ANÁLISE</td>\n",
              "      <td>INTERNADO LEITO DE ISOLAMENTO</td>\n",
              "      <td>NaN</td>\n",
              "    </tr>\n",
              "    <tr>\n",
              "      <th>36433</th>\n",
              "      <td>2022-06-12</td>\n",
              "      <td>Feminino</td>\n",
              "      <td>Amarela</td>\n",
              "      <td>NaN</td>\n",
              "      <td>73</td>\n",
              "      <td>Recife</td>\n",
              "      <td>ENGENHO DO MEIO</td>\n",
              "      <td>IV</td>\n",
              "      <td>2022-06-11</td>\n",
              "      <td>Dispneia, Desconforto respiratório / aperto to...</td>\n",
              "      <td>NaN</td>\n",
              "      <td>Doenças Cardíacas ou Vasculares, Diabetes</td>\n",
              "      <td>AVC</td>\n",
              "      <td>NÃO</td>\n",
              "      <td>NaN</td>\n",
              "      <td>EM ANÁLISE</td>\n",
              "      <td>INTERNADO UTI</td>\n",
              "      <td>NaN</td>\n",
              "    </tr>\n",
              "    <tr>\n",
              "      <th>36434</th>\n",
              "      <td>2022-06-12</td>\n",
              "      <td>Feminino</td>\n",
              "      <td>Parda</td>\n",
              "      <td>NaN</td>\n",
              "      <td>66</td>\n",
              "      <td>Recife</td>\n",
              "      <td>BOA VIAGEM</td>\n",
              "      <td>VI</td>\n",
              "      <td>2022-06-07</td>\n",
              "      <td>Tosse, Dispneia, Desconforto respiratório / ap...</td>\n",
              "      <td>RNC</td>\n",
              "      <td>NaN</td>\n",
              "      <td>AVCH</td>\n",
              "      <td>NÃO</td>\n",
              "      <td>NaN</td>\n",
              "      <td>EM ANÁLISE</td>\n",
              "      <td>INTERNADO UTI</td>\n",
              "      <td>NaN</td>\n",
              "    </tr>\n",
              "  </tbody>\n",
              "</table>\n",
              "</div>\n",
              "      <button class=\"colab-df-convert\" onclick=\"convertToInteractive('df-bf562b70-2b7d-44df-80dd-2f70d4cbaff2')\"\n",
              "              title=\"Convert this dataframe to an interactive table.\"\n",
              "              style=\"display:none;\">\n",
              "        \n",
              "  <svg xmlns=\"http://www.w3.org/2000/svg\" height=\"24px\"viewBox=\"0 0 24 24\"\n",
              "       width=\"24px\">\n",
              "    <path d=\"M0 0h24v24H0V0z\" fill=\"none\"/>\n",
              "    <path d=\"M18.56 5.44l.94 2.06.94-2.06 2.06-.94-2.06-.94-.94-2.06-.94 2.06-2.06.94zm-11 1L8.5 8.5l.94-2.06 2.06-.94-2.06-.94L8.5 2.5l-.94 2.06-2.06.94zm10 10l.94 2.06.94-2.06 2.06-.94-2.06-.94-.94-2.06-.94 2.06-2.06.94z\"/><path d=\"M17.41 7.96l-1.37-1.37c-.4-.4-.92-.59-1.43-.59-.52 0-1.04.2-1.43.59L10.3 9.45l-7.72 7.72c-.78.78-.78 2.05 0 2.83L4 21.41c.39.39.9.59 1.41.59.51 0 1.02-.2 1.41-.59l7.78-7.78 2.81-2.81c.8-.78.8-2.07 0-2.86zM5.41 20L4 18.59l7.72-7.72 1.47 1.35L5.41 20z\"/>\n",
              "  </svg>\n",
              "      </button>\n",
              "      \n",
              "  <style>\n",
              "    .colab-df-container {\n",
              "      display:flex;\n",
              "      flex-wrap:wrap;\n",
              "      gap: 12px;\n",
              "    }\n",
              "\n",
              "    .colab-df-convert {\n",
              "      background-color: #E8F0FE;\n",
              "      border: none;\n",
              "      border-radius: 50%;\n",
              "      cursor: pointer;\n",
              "      display: none;\n",
              "      fill: #1967D2;\n",
              "      height: 32px;\n",
              "      padding: 0 0 0 0;\n",
              "      width: 32px;\n",
              "    }\n",
              "\n",
              "    .colab-df-convert:hover {\n",
              "      background-color: #E2EBFA;\n",
              "      box-shadow: 0px 1px 2px rgba(60, 64, 67, 0.3), 0px 1px 3px 1px rgba(60, 64, 67, 0.15);\n",
              "      fill: #174EA6;\n",
              "    }\n",
              "\n",
              "    [theme=dark] .colab-df-convert {\n",
              "      background-color: #3B4455;\n",
              "      fill: #D2E3FC;\n",
              "    }\n",
              "\n",
              "    [theme=dark] .colab-df-convert:hover {\n",
              "      background-color: #434B5C;\n",
              "      box-shadow: 0px 1px 3px 1px rgba(0, 0, 0, 0.15);\n",
              "      filter: drop-shadow(0px 1px 2px rgba(0, 0, 0, 0.3));\n",
              "      fill: #FFFFFF;\n",
              "    }\n",
              "  </style>\n",
              "\n",
              "      <script>\n",
              "        const buttonEl =\n",
              "          document.querySelector('#df-bf562b70-2b7d-44df-80dd-2f70d4cbaff2 button.colab-df-convert');\n",
              "        buttonEl.style.display =\n",
              "          google.colab.kernel.accessAllowed ? 'block' : 'none';\n",
              "\n",
              "        async function convertToInteractive(key) {\n",
              "          const element = document.querySelector('#df-bf562b70-2b7d-44df-80dd-2f70d4cbaff2');\n",
              "          const dataTable =\n",
              "            await google.colab.kernel.invokeFunction('convertToInteractive',\n",
              "                                                     [key], {});\n",
              "          if (!dataTable) return;\n",
              "\n",
              "          const docLinkHtml = 'Like what you see? Visit the ' +\n",
              "            '<a target=\"_blank\" href=https://colab.research.google.com/notebooks/data_table.ipynb>data table notebook</a>'\n",
              "            + ' to learn more about interactive tables.';\n",
              "          element.innerHTML = '';\n",
              "          dataTable['output_type'] = 'display_data';\n",
              "          await google.colab.output.renderOutput(dataTable, element);\n",
              "          const docLink = document.createElement('div');\n",
              "          docLink.innerHTML = docLinkHtml;\n",
              "          element.appendChild(docLink);\n",
              "        }\n",
              "      </script>\n",
              "    </div>\n",
              "  </div>\n",
              "  "
            ]
          },
          "metadata": {},
          "execution_count": 6
        }
      ]
    },
    {
      "cell_type": "code",
      "source": [
        "df1.info()"
      ],
      "metadata": {
        "colab": {
          "base_uri": "https://localhost:8080/"
        },
        "id": "S1DnUTku51Rt",
        "outputId": "84b25c4e-7930-4742-8e8f-1d1d07cd407d"
      },
      "execution_count": 7,
      "outputs": [
        {
          "output_type": "stream",
          "name": "stdout",
          "text": [
            "<class 'pandas.core.frame.DataFrame'>\n",
            "RangeIndex: 36435 entries, 0 to 36434\n",
            "Data columns (total 18 columns):\n",
            " #   Column                         Non-Null Count  Dtype \n",
            "---  ------                         --------------  ----- \n",
            " 0   data_notificacao               36435 non-null  object\n",
            " 1   sexo                           36435 non-null  object\n",
            " 2   raca                           30106 non-null  object\n",
            " 3   etnia                          4 non-null      object\n",
            " 4   idade                          36435 non-null  object\n",
            " 5   municipio_residencia           36435 non-null  object\n",
            " 6   bairro                         36435 non-null  object\n",
            " 7   distrito_sanitario             36435 non-null  object\n",
            " 8   data_inicio_sintomas           36435 non-null  object\n",
            " 9   sintomas                       34477 non-null  object\n",
            " 10  outros_sintomas                5974 non-null   object\n",
            " 11  doencas_preexistentes          13698 non-null  object\n",
            " 12  outras_doencas_preexistentes   7807 non-null   object\n",
            " 13  profissional_saude             27338 non-null  object\n",
            " 14  categoria_profissional         2914 non-null   object\n",
            " 15  classificacao_final            36435 non-null  object\n",
            " 16  evolucao                       35458 non-null  object\n",
            " 17  data_obito                     9344 non-null   object\n",
            "dtypes: object(18)\n",
            "memory usage: 5.0+ MB\n"
          ]
        }
      ]
    },
    {
      "cell_type": "code",
      "source": [
        "df1.describe()"
      ],
      "metadata": {
        "colab": {
          "base_uri": "https://localhost:8080/",
          "height": 308
        },
        "id": "Zp4zj9Yo58He",
        "outputId": "c30554ac-c8fa-4735-f0c0-90b9171a9adc"
      },
      "execution_count": 8,
      "outputs": [
        {
          "output_type": "execute_result",
          "data": {
            "text/plain": [
              "       data_notificacao      sexo   raca     etnia  idade  \\\n",
              "count             36435     36435  30106         4  36435   \n",
              "unique              836         3      6         1    127   \n",
              "top          2020-04-23  Feminino  Parda  Ignorado     57   \n",
              "freq                464     18643  15040         4    646   \n",
              "\n",
              "       municipio_residencia      bairro distrito_sanitario  \\\n",
              "count                 36435       36435              36435   \n",
              "unique                    3         106                 10   \n",
              "top                  Recife  BOA VIAGEM                 IV   \n",
              "freq                  36433        2972               6392   \n",
              "\n",
              "       data_inicio_sintomas                                   sintomas  \\\n",
              "count                 36435                                      34477   \n",
              "unique                  850                                       3440   \n",
              "top              2020-04-20  Febre, Tosse, Dispneia, Saturação O2 < 95   \n",
              "freq                    359                                       2535   \n",
              "\n",
              "       outros_sintomas            doencas_preexistentes  \\\n",
              "count             5974                            13698   \n",
              "unique            2370                              244   \n",
              "top            ASTENIA  Doenças Cardíacas ou Vasculares   \n",
              "freq               946                             3827   \n",
              "\n",
              "       outras_doencas_preexistentes  profissional_saude  \\\n",
              "count                           7807              27338   \n",
              "unique                          3344                  2   \n",
              "top                              HAS                NÃO   \n",
              "freq                            1493              24424   \n",
              "\n",
              "                        categoria_profissional classificacao_final  \\\n",
              "count                                     2914               36435   \n",
              "unique                                      23                   4   \n",
              "top     Outro profissional de serviço de saúde          CONFIRMADO   \n",
              "freq                                      1900               17816   \n",
              "\n",
              "          evolucao  data_obito  \n",
              "count        35458        9344  \n",
              "unique           5         785  \n",
              "top     RECUPERADO  2020-05-09  \n",
              "freq         18931          72  "
            ],
            "text/html": [
              "\n",
              "  <div id=\"df-9b35f658-00c7-478c-919a-81f80a906743\">\n",
              "    <div class=\"colab-df-container\">\n",
              "      <div>\n",
              "<style scoped>\n",
              "    .dataframe tbody tr th:only-of-type {\n",
              "        vertical-align: middle;\n",
              "    }\n",
              "\n",
              "    .dataframe tbody tr th {\n",
              "        vertical-align: top;\n",
              "    }\n",
              "\n",
              "    .dataframe thead th {\n",
              "        text-align: right;\n",
              "    }\n",
              "</style>\n",
              "<table border=\"1\" class=\"dataframe\">\n",
              "  <thead>\n",
              "    <tr style=\"text-align: right;\">\n",
              "      <th></th>\n",
              "      <th>data_notificacao</th>\n",
              "      <th>sexo</th>\n",
              "      <th>raca</th>\n",
              "      <th>etnia</th>\n",
              "      <th>idade</th>\n",
              "      <th>municipio_residencia</th>\n",
              "      <th>bairro</th>\n",
              "      <th>distrito_sanitario</th>\n",
              "      <th>data_inicio_sintomas</th>\n",
              "      <th>sintomas</th>\n",
              "      <th>outros_sintomas</th>\n",
              "      <th>doencas_preexistentes</th>\n",
              "      <th>outras_doencas_preexistentes</th>\n",
              "      <th>profissional_saude</th>\n",
              "      <th>categoria_profissional</th>\n",
              "      <th>classificacao_final</th>\n",
              "      <th>evolucao</th>\n",
              "      <th>data_obito</th>\n",
              "    </tr>\n",
              "  </thead>\n",
              "  <tbody>\n",
              "    <tr>\n",
              "      <th>count</th>\n",
              "      <td>36435</td>\n",
              "      <td>36435</td>\n",
              "      <td>30106</td>\n",
              "      <td>4</td>\n",
              "      <td>36435</td>\n",
              "      <td>36435</td>\n",
              "      <td>36435</td>\n",
              "      <td>36435</td>\n",
              "      <td>36435</td>\n",
              "      <td>34477</td>\n",
              "      <td>5974</td>\n",
              "      <td>13698</td>\n",
              "      <td>7807</td>\n",
              "      <td>27338</td>\n",
              "      <td>2914</td>\n",
              "      <td>36435</td>\n",
              "      <td>35458</td>\n",
              "      <td>9344</td>\n",
              "    </tr>\n",
              "    <tr>\n",
              "      <th>unique</th>\n",
              "      <td>836</td>\n",
              "      <td>3</td>\n",
              "      <td>6</td>\n",
              "      <td>1</td>\n",
              "      <td>127</td>\n",
              "      <td>3</td>\n",
              "      <td>106</td>\n",
              "      <td>10</td>\n",
              "      <td>850</td>\n",
              "      <td>3440</td>\n",
              "      <td>2370</td>\n",
              "      <td>244</td>\n",
              "      <td>3344</td>\n",
              "      <td>2</td>\n",
              "      <td>23</td>\n",
              "      <td>4</td>\n",
              "      <td>5</td>\n",
              "      <td>785</td>\n",
              "    </tr>\n",
              "    <tr>\n",
              "      <th>top</th>\n",
              "      <td>2020-04-23</td>\n",
              "      <td>Feminino</td>\n",
              "      <td>Parda</td>\n",
              "      <td>Ignorado</td>\n",
              "      <td>57</td>\n",
              "      <td>Recife</td>\n",
              "      <td>BOA VIAGEM</td>\n",
              "      <td>IV</td>\n",
              "      <td>2020-04-20</td>\n",
              "      <td>Febre, Tosse, Dispneia, Saturação O2 &lt; 95</td>\n",
              "      <td>ASTENIA</td>\n",
              "      <td>Doenças Cardíacas ou Vasculares</td>\n",
              "      <td>HAS</td>\n",
              "      <td>NÃO</td>\n",
              "      <td>Outro profissional de serviço de saúde</td>\n",
              "      <td>CONFIRMADO</td>\n",
              "      <td>RECUPERADO</td>\n",
              "      <td>2020-05-09</td>\n",
              "    </tr>\n",
              "    <tr>\n",
              "      <th>freq</th>\n",
              "      <td>464</td>\n",
              "      <td>18643</td>\n",
              "      <td>15040</td>\n",
              "      <td>4</td>\n",
              "      <td>646</td>\n",
              "      <td>36433</td>\n",
              "      <td>2972</td>\n",
              "      <td>6392</td>\n",
              "      <td>359</td>\n",
              "      <td>2535</td>\n",
              "      <td>946</td>\n",
              "      <td>3827</td>\n",
              "      <td>1493</td>\n",
              "      <td>24424</td>\n",
              "      <td>1900</td>\n",
              "      <td>17816</td>\n",
              "      <td>18931</td>\n",
              "      <td>72</td>\n",
              "    </tr>\n",
              "  </tbody>\n",
              "</table>\n",
              "</div>\n",
              "      <button class=\"colab-df-convert\" onclick=\"convertToInteractive('df-9b35f658-00c7-478c-919a-81f80a906743')\"\n",
              "              title=\"Convert this dataframe to an interactive table.\"\n",
              "              style=\"display:none;\">\n",
              "        \n",
              "  <svg xmlns=\"http://www.w3.org/2000/svg\" height=\"24px\"viewBox=\"0 0 24 24\"\n",
              "       width=\"24px\">\n",
              "    <path d=\"M0 0h24v24H0V0z\" fill=\"none\"/>\n",
              "    <path d=\"M18.56 5.44l.94 2.06.94-2.06 2.06-.94-2.06-.94-.94-2.06-.94 2.06-2.06.94zm-11 1L8.5 8.5l.94-2.06 2.06-.94-2.06-.94L8.5 2.5l-.94 2.06-2.06.94zm10 10l.94 2.06.94-2.06 2.06-.94-2.06-.94-.94-2.06-.94 2.06-2.06.94z\"/><path d=\"M17.41 7.96l-1.37-1.37c-.4-.4-.92-.59-1.43-.59-.52 0-1.04.2-1.43.59L10.3 9.45l-7.72 7.72c-.78.78-.78 2.05 0 2.83L4 21.41c.39.39.9.59 1.41.59.51 0 1.02-.2 1.41-.59l7.78-7.78 2.81-2.81c.8-.78.8-2.07 0-2.86zM5.41 20L4 18.59l7.72-7.72 1.47 1.35L5.41 20z\"/>\n",
              "  </svg>\n",
              "      </button>\n",
              "      \n",
              "  <style>\n",
              "    .colab-df-container {\n",
              "      display:flex;\n",
              "      flex-wrap:wrap;\n",
              "      gap: 12px;\n",
              "    }\n",
              "\n",
              "    .colab-df-convert {\n",
              "      background-color: #E8F0FE;\n",
              "      border: none;\n",
              "      border-radius: 50%;\n",
              "      cursor: pointer;\n",
              "      display: none;\n",
              "      fill: #1967D2;\n",
              "      height: 32px;\n",
              "      padding: 0 0 0 0;\n",
              "      width: 32px;\n",
              "    }\n",
              "\n",
              "    .colab-df-convert:hover {\n",
              "      background-color: #E2EBFA;\n",
              "      box-shadow: 0px 1px 2px rgba(60, 64, 67, 0.3), 0px 1px 3px 1px rgba(60, 64, 67, 0.15);\n",
              "      fill: #174EA6;\n",
              "    }\n",
              "\n",
              "    [theme=dark] .colab-df-convert {\n",
              "      background-color: #3B4455;\n",
              "      fill: #D2E3FC;\n",
              "    }\n",
              "\n",
              "    [theme=dark] .colab-df-convert:hover {\n",
              "      background-color: #434B5C;\n",
              "      box-shadow: 0px 1px 3px 1px rgba(0, 0, 0, 0.15);\n",
              "      filter: drop-shadow(0px 1px 2px rgba(0, 0, 0, 0.3));\n",
              "      fill: #FFFFFF;\n",
              "    }\n",
              "  </style>\n",
              "\n",
              "      <script>\n",
              "        const buttonEl =\n",
              "          document.querySelector('#df-9b35f658-00c7-478c-919a-81f80a906743 button.colab-df-convert');\n",
              "        buttonEl.style.display =\n",
              "          google.colab.kernel.accessAllowed ? 'block' : 'none';\n",
              "\n",
              "        async function convertToInteractive(key) {\n",
              "          const element = document.querySelector('#df-9b35f658-00c7-478c-919a-81f80a906743');\n",
              "          const dataTable =\n",
              "            await google.colab.kernel.invokeFunction('convertToInteractive',\n",
              "                                                     [key], {});\n",
              "          if (!dataTable) return;\n",
              "\n",
              "          const docLinkHtml = 'Like what you see? Visit the ' +\n",
              "            '<a target=\"_blank\" href=https://colab.research.google.com/notebooks/data_table.ipynb>data table notebook</a>'\n",
              "            + ' to learn more about interactive tables.';\n",
              "          element.innerHTML = '';\n",
              "          dataTable['output_type'] = 'display_data';\n",
              "          await google.colab.output.renderOutput(dataTable, element);\n",
              "          const docLink = document.createElement('div');\n",
              "          docLink.innerHTML = docLinkHtml;\n",
              "          element.appendChild(docLink);\n",
              "        }\n",
              "      </script>\n",
              "    </div>\n",
              "  </div>\n",
              "  "
            ]
          },
          "metadata": {},
          "execution_count": 8
        }
      ]
    },
    {
      "cell_type": "code",
      "source": [
        "df1.shape"
      ],
      "metadata": {
        "colab": {
          "base_uri": "https://localhost:8080/"
        },
        "id": "F8UZRlca8TCE",
        "outputId": "1ffcb8e3-760b-4997-9d1e-6d6e3798ea83"
      },
      "execution_count": 9,
      "outputs": [
        {
          "output_type": "execute_result",
          "data": {
            "text/plain": [
              "(36435, 18)"
            ]
          },
          "metadata": {},
          "execution_count": 9
        }
      ]
    },
    {
      "cell_type": "code",
      "source": [
        "df1.columns.to_list()"
      ],
      "metadata": {
        "colab": {
          "base_uri": "https://localhost:8080/"
        },
        "id": "bzg9ASFp8gDV",
        "outputId": "534965d7-afe2-4f79-df67-5c2f4abbd5e7"
      },
      "execution_count": 10,
      "outputs": [
        {
          "output_type": "execute_result",
          "data": {
            "text/plain": [
              "['data_notificacao',\n",
              " 'sexo',\n",
              " 'raca',\n",
              " 'etnia',\n",
              " 'idade',\n",
              " 'municipio_residencia',\n",
              " 'bairro',\n",
              " 'distrito_sanitario',\n",
              " 'data_inicio_sintomas',\n",
              " 'sintomas',\n",
              " 'outros_sintomas',\n",
              " 'doencas_preexistentes',\n",
              " 'outras_doencas_preexistentes ',\n",
              " 'profissional_saude',\n",
              " 'categoria_profissional',\n",
              " 'classificacao_final',\n",
              " 'evolucao',\n",
              " 'data_obito']"
            ]
          },
          "metadata": {},
          "execution_count": 10
        }
      ]
    },
    {
      "cell_type": "code",
      "source": [
        "df2 = df1.copy"
      ],
      "metadata": {
        "id": "aELkwTAm-a3b"
      },
      "execution_count": 11,
      "outputs": []
    },
    {
      "cell_type": "markdown",
      "source": [
        "### Escolhendo as colunas mais interessantes:"
      ],
      "metadata": {
        "id": "aCannU-Tsw2o"
      }
    },
    {
      "cell_type": "code",
      "source": [
        "df1 = df1[['data_notificacao', 'sexo', 'raca', 'idade', 'bairro', 'profissional_saude']]\n",
        "df1"
      ],
      "metadata": {
        "colab": {
          "base_uri": "https://localhost:8080/",
          "height": 424
        },
        "id": "tgLlIlJa-2D1",
        "outputId": "d379727e-4bfc-4a0e-bf22-6af6cf6b2c84"
      },
      "execution_count": 12,
      "outputs": [
        {
          "output_type": "execute_result",
          "data": {
            "text/plain": [
              "      data_notificacao       sexo      raca idade                bairro  \\\n",
              "0           2020-05-30  Masculino    Branca    53            SAN MARTIN   \n",
              "1           2020-06-02   Feminino     Parda     0  ALTO SANTA TEREZINHA   \n",
              "2           2020-06-02   Feminino     Parda    86            ESPINHEIRO   \n",
              "3           2020-06-01  Masculino    Branca    66            CASA FORTE   \n",
              "4           2020-06-02  Masculino     Preta    68        ILHA DO RETIRO   \n",
              "...                ...        ...       ...   ...                   ...   \n",
              "36430       2022-06-08  Masculino  Ignorado    77    BREJO DA GUABIRABA   \n",
              "36431       2022-06-09  Masculino     Parda    74       NOVA DESCOBERTA   \n",
              "36432       2022-06-10  Masculino     Parda    74              BEBERIBE   \n",
              "36433       2022-06-12   Feminino   Amarela    73       ENGENHO DO MEIO   \n",
              "36434       2022-06-12   Feminino     Parda    66            BOA VIAGEM   \n",
              "\n",
              "      profissional_saude  \n",
              "0                    NaN  \n",
              "1                    NaN  \n",
              "2                    NaN  \n",
              "3                    NaN  \n",
              "4                    NaN  \n",
              "...                  ...  \n",
              "36430                NÃO  \n",
              "36431                NÃO  \n",
              "36432                NÃO  \n",
              "36433                NÃO  \n",
              "36434                NÃO  \n",
              "\n",
              "[36435 rows x 6 columns]"
            ],
            "text/html": [
              "\n",
              "  <div id=\"df-fe991b38-665c-4bd6-9cdc-6e10c4e19143\">\n",
              "    <div class=\"colab-df-container\">\n",
              "      <div>\n",
              "<style scoped>\n",
              "    .dataframe tbody tr th:only-of-type {\n",
              "        vertical-align: middle;\n",
              "    }\n",
              "\n",
              "    .dataframe tbody tr th {\n",
              "        vertical-align: top;\n",
              "    }\n",
              "\n",
              "    .dataframe thead th {\n",
              "        text-align: right;\n",
              "    }\n",
              "</style>\n",
              "<table border=\"1\" class=\"dataframe\">\n",
              "  <thead>\n",
              "    <tr style=\"text-align: right;\">\n",
              "      <th></th>\n",
              "      <th>data_notificacao</th>\n",
              "      <th>sexo</th>\n",
              "      <th>raca</th>\n",
              "      <th>idade</th>\n",
              "      <th>bairro</th>\n",
              "      <th>profissional_saude</th>\n",
              "    </tr>\n",
              "  </thead>\n",
              "  <tbody>\n",
              "    <tr>\n",
              "      <th>0</th>\n",
              "      <td>2020-05-30</td>\n",
              "      <td>Masculino</td>\n",
              "      <td>Branca</td>\n",
              "      <td>53</td>\n",
              "      <td>SAN MARTIN</td>\n",
              "      <td>NaN</td>\n",
              "    </tr>\n",
              "    <tr>\n",
              "      <th>1</th>\n",
              "      <td>2020-06-02</td>\n",
              "      <td>Feminino</td>\n",
              "      <td>Parda</td>\n",
              "      <td>0</td>\n",
              "      <td>ALTO SANTA TEREZINHA</td>\n",
              "      <td>NaN</td>\n",
              "    </tr>\n",
              "    <tr>\n",
              "      <th>2</th>\n",
              "      <td>2020-06-02</td>\n",
              "      <td>Feminino</td>\n",
              "      <td>Parda</td>\n",
              "      <td>86</td>\n",
              "      <td>ESPINHEIRO</td>\n",
              "      <td>NaN</td>\n",
              "    </tr>\n",
              "    <tr>\n",
              "      <th>3</th>\n",
              "      <td>2020-06-01</td>\n",
              "      <td>Masculino</td>\n",
              "      <td>Branca</td>\n",
              "      <td>66</td>\n",
              "      <td>CASA FORTE</td>\n",
              "      <td>NaN</td>\n",
              "    </tr>\n",
              "    <tr>\n",
              "      <th>4</th>\n",
              "      <td>2020-06-02</td>\n",
              "      <td>Masculino</td>\n",
              "      <td>Preta</td>\n",
              "      <td>68</td>\n",
              "      <td>ILHA DO RETIRO</td>\n",
              "      <td>NaN</td>\n",
              "    </tr>\n",
              "    <tr>\n",
              "      <th>...</th>\n",
              "      <td>...</td>\n",
              "      <td>...</td>\n",
              "      <td>...</td>\n",
              "      <td>...</td>\n",
              "      <td>...</td>\n",
              "      <td>...</td>\n",
              "    </tr>\n",
              "    <tr>\n",
              "      <th>36430</th>\n",
              "      <td>2022-06-08</td>\n",
              "      <td>Masculino</td>\n",
              "      <td>Ignorado</td>\n",
              "      <td>77</td>\n",
              "      <td>BREJO DA GUABIRABA</td>\n",
              "      <td>NÃO</td>\n",
              "    </tr>\n",
              "    <tr>\n",
              "      <th>36431</th>\n",
              "      <td>2022-06-09</td>\n",
              "      <td>Masculino</td>\n",
              "      <td>Parda</td>\n",
              "      <td>74</td>\n",
              "      <td>NOVA DESCOBERTA</td>\n",
              "      <td>NÃO</td>\n",
              "    </tr>\n",
              "    <tr>\n",
              "      <th>36432</th>\n",
              "      <td>2022-06-10</td>\n",
              "      <td>Masculino</td>\n",
              "      <td>Parda</td>\n",
              "      <td>74</td>\n",
              "      <td>BEBERIBE</td>\n",
              "      <td>NÃO</td>\n",
              "    </tr>\n",
              "    <tr>\n",
              "      <th>36433</th>\n",
              "      <td>2022-06-12</td>\n",
              "      <td>Feminino</td>\n",
              "      <td>Amarela</td>\n",
              "      <td>73</td>\n",
              "      <td>ENGENHO DO MEIO</td>\n",
              "      <td>NÃO</td>\n",
              "    </tr>\n",
              "    <tr>\n",
              "      <th>36434</th>\n",
              "      <td>2022-06-12</td>\n",
              "      <td>Feminino</td>\n",
              "      <td>Parda</td>\n",
              "      <td>66</td>\n",
              "      <td>BOA VIAGEM</td>\n",
              "      <td>NÃO</td>\n",
              "    </tr>\n",
              "  </tbody>\n",
              "</table>\n",
              "<p>36435 rows × 6 columns</p>\n",
              "</div>\n",
              "      <button class=\"colab-df-convert\" onclick=\"convertToInteractive('df-fe991b38-665c-4bd6-9cdc-6e10c4e19143')\"\n",
              "              title=\"Convert this dataframe to an interactive table.\"\n",
              "              style=\"display:none;\">\n",
              "        \n",
              "  <svg xmlns=\"http://www.w3.org/2000/svg\" height=\"24px\"viewBox=\"0 0 24 24\"\n",
              "       width=\"24px\">\n",
              "    <path d=\"M0 0h24v24H0V0z\" fill=\"none\"/>\n",
              "    <path d=\"M18.56 5.44l.94 2.06.94-2.06 2.06-.94-2.06-.94-.94-2.06-.94 2.06-2.06.94zm-11 1L8.5 8.5l.94-2.06 2.06-.94-2.06-.94L8.5 2.5l-.94 2.06-2.06.94zm10 10l.94 2.06.94-2.06 2.06-.94-2.06-.94-.94-2.06-.94 2.06-2.06.94z\"/><path d=\"M17.41 7.96l-1.37-1.37c-.4-.4-.92-.59-1.43-.59-.52 0-1.04.2-1.43.59L10.3 9.45l-7.72 7.72c-.78.78-.78 2.05 0 2.83L4 21.41c.39.39.9.59 1.41.59.51 0 1.02-.2 1.41-.59l7.78-7.78 2.81-2.81c.8-.78.8-2.07 0-2.86zM5.41 20L4 18.59l7.72-7.72 1.47 1.35L5.41 20z\"/>\n",
              "  </svg>\n",
              "      </button>\n",
              "      \n",
              "  <style>\n",
              "    .colab-df-container {\n",
              "      display:flex;\n",
              "      flex-wrap:wrap;\n",
              "      gap: 12px;\n",
              "    }\n",
              "\n",
              "    .colab-df-convert {\n",
              "      background-color: #E8F0FE;\n",
              "      border: none;\n",
              "      border-radius: 50%;\n",
              "      cursor: pointer;\n",
              "      display: none;\n",
              "      fill: #1967D2;\n",
              "      height: 32px;\n",
              "      padding: 0 0 0 0;\n",
              "      width: 32px;\n",
              "    }\n",
              "\n",
              "    .colab-df-convert:hover {\n",
              "      background-color: #E2EBFA;\n",
              "      box-shadow: 0px 1px 2px rgba(60, 64, 67, 0.3), 0px 1px 3px 1px rgba(60, 64, 67, 0.15);\n",
              "      fill: #174EA6;\n",
              "    }\n",
              "\n",
              "    [theme=dark] .colab-df-convert {\n",
              "      background-color: #3B4455;\n",
              "      fill: #D2E3FC;\n",
              "    }\n",
              "\n",
              "    [theme=dark] .colab-df-convert:hover {\n",
              "      background-color: #434B5C;\n",
              "      box-shadow: 0px 1px 3px 1px rgba(0, 0, 0, 0.15);\n",
              "      filter: drop-shadow(0px 1px 2px rgba(0, 0, 0, 0.3));\n",
              "      fill: #FFFFFF;\n",
              "    }\n",
              "  </style>\n",
              "\n",
              "      <script>\n",
              "        const buttonEl =\n",
              "          document.querySelector('#df-fe991b38-665c-4bd6-9cdc-6e10c4e19143 button.colab-df-convert');\n",
              "        buttonEl.style.display =\n",
              "          google.colab.kernel.accessAllowed ? 'block' : 'none';\n",
              "\n",
              "        async function convertToInteractive(key) {\n",
              "          const element = document.querySelector('#df-fe991b38-665c-4bd6-9cdc-6e10c4e19143');\n",
              "          const dataTable =\n",
              "            await google.colab.kernel.invokeFunction('convertToInteractive',\n",
              "                                                     [key], {});\n",
              "          if (!dataTable) return;\n",
              "\n",
              "          const docLinkHtml = 'Like what you see? Visit the ' +\n",
              "            '<a target=\"_blank\" href=https://colab.research.google.com/notebooks/data_table.ipynb>data table notebook</a>'\n",
              "            + ' to learn more about interactive tables.';\n",
              "          element.innerHTML = '';\n",
              "          dataTable['output_type'] = 'display_data';\n",
              "          await google.colab.output.renderOutput(dataTable, element);\n",
              "          const docLink = document.createElement('div');\n",
              "          docLink.innerHTML = docLinkHtml;\n",
              "          element.appendChild(docLink);\n",
              "        }\n",
              "      </script>\n",
              "    </div>\n",
              "  </div>\n",
              "  "
            ]
          },
          "metadata": {},
          "execution_count": 12
        }
      ]
    },
    {
      "cell_type": "code",
      "source": [
        "df1.info()"
      ],
      "metadata": {
        "colab": {
          "base_uri": "https://localhost:8080/"
        },
        "id": "_Jp1pab4Byef",
        "outputId": "5c56bc26-3950-48ae-dc3b-bf97f3a70eef"
      },
      "execution_count": 13,
      "outputs": [
        {
          "output_type": "stream",
          "name": "stdout",
          "text": [
            "<class 'pandas.core.frame.DataFrame'>\n",
            "RangeIndex: 36435 entries, 0 to 36434\n",
            "Data columns (total 6 columns):\n",
            " #   Column              Non-Null Count  Dtype \n",
            "---  ------              --------------  ----- \n",
            " 0   data_notificacao    36435 non-null  object\n",
            " 1   sexo                36435 non-null  object\n",
            " 2   raca                30106 non-null  object\n",
            " 3   idade               36435 non-null  object\n",
            " 4   bairro              36435 non-null  object\n",
            " 5   profissional_saude  27338 non-null  object\n",
            "dtypes: object(6)\n",
            "memory usage: 1.7+ MB\n"
          ]
        }
      ]
    },
    {
      "cell_type": "markdown",
      "source": [
        "### Apagando os objetos nulos"
      ],
      "metadata": {
        "id": "latVXml7s3O4"
      }
    },
    {
      "cell_type": "code",
      "source": [
        "df1.dropna(subset = ['idade'], inplace = True)"
      ],
      "metadata": {
        "id": "mXZg40kjBYnY",
        "colab": {
          "base_uri": "https://localhost:8080/"
        },
        "outputId": "4bf0cd8f-3aae-4d7e-c6d2-225e5030a245"
      },
      "execution_count": 29,
      "outputs": [
        {
          "output_type": "stream",
          "name": "stderr",
          "text": [
            "/usr/local/lib/python3.8/dist-packages/pandas/util/_decorators.py:311: SettingWithCopyWarning: \n",
            "A value is trying to be set on a copy of a slice from a DataFrame\n",
            "\n",
            "See the caveats in the documentation: https://pandas.pydata.org/pandas-docs/stable/user_guide/indexing.html#returning-a-view-versus-a-copy\n",
            "  return func(*args, **kwargs)\n"
          ]
        }
      ]
    },
    {
      "cell_type": "code",
      "source": [
        "df1.dropna(subset = ['raca'], inplace = True)"
      ],
      "metadata": {
        "id": "QM4gO3HALx8H",
        "colab": {
          "base_uri": "https://localhost:8080/"
        },
        "outputId": "b062ecd0-db84-47b4-932f-7d963133363a"
      },
      "execution_count": 21,
      "outputs": [
        {
          "output_type": "stream",
          "name": "stderr",
          "text": [
            "/usr/local/lib/python3.8/dist-packages/pandas/util/_decorators.py:311: SettingWithCopyWarning: \n",
            "A value is trying to be set on a copy of a slice from a DataFrame\n",
            "\n",
            "See the caveats in the documentation: https://pandas.pydata.org/pandas-docs/stable/user_guide/indexing.html#returning-a-view-versus-a-copy\n",
            "  return func(*args, **kwargs)\n"
          ]
        }
      ]
    },
    {
      "cell_type": "code",
      "source": [
        "df1.dropna(subset = ['profissional_saude'], inplace = True)\n",
        "df1"
      ],
      "metadata": {
        "colab": {
          "base_uri": "https://localhost:8080/",
          "height": 424
        },
        "id": "t4FXmujOBlJS",
        "outputId": "0c3e3937-f94b-4f3c-834d-942734a8eb5c"
      },
      "execution_count": 16,
      "outputs": [
        {
          "output_type": "execute_result",
          "data": {
            "text/plain": [
              "      data_notificacao       sexo      raca idade              bairro  \\\n",
              "10          2020-06-02   Feminino     Parda    43            CORDEIRO   \n",
              "20          2020-06-03   Feminino     Parda    61            BEBERIBE   \n",
              "23          2020-07-19   Feminino     Parda    64         SANTO AMARO   \n",
              "43          2020-06-29   Feminino     Parda    39              VARZEA   \n",
              "44          2020-06-29  Masculino  Ignorado    40              SANCHO   \n",
              "...                ...        ...       ...   ...                 ...   \n",
              "36430       2022-06-08  Masculino  Ignorado    77  BREJO DA GUABIRABA   \n",
              "36431       2022-06-09  Masculino     Parda    74     NOVA DESCOBERTA   \n",
              "36432       2022-06-10  Masculino     Parda    74            BEBERIBE   \n",
              "36433       2022-06-12   Feminino   Amarela    73     ENGENHO DO MEIO   \n",
              "36434       2022-06-12   Feminino     Parda    66          BOA VIAGEM   \n",
              "\n",
              "      profissional_saude  \n",
              "10                   SIM  \n",
              "20                   SIM  \n",
              "23                   NÃO  \n",
              "43                   NÃO  \n",
              "44                   NÃO  \n",
              "...                  ...  \n",
              "36430                NÃO  \n",
              "36431                NÃO  \n",
              "36432                NÃO  \n",
              "36433                NÃO  \n",
              "36434                NÃO  \n",
              "\n",
              "[27338 rows x 6 columns]"
            ],
            "text/html": [
              "\n",
              "  <div id=\"df-ff8edbf7-6717-4e9d-a3ed-e7dd7607c763\">\n",
              "    <div class=\"colab-df-container\">\n",
              "      <div>\n",
              "<style scoped>\n",
              "    .dataframe tbody tr th:only-of-type {\n",
              "        vertical-align: middle;\n",
              "    }\n",
              "\n",
              "    .dataframe tbody tr th {\n",
              "        vertical-align: top;\n",
              "    }\n",
              "\n",
              "    .dataframe thead th {\n",
              "        text-align: right;\n",
              "    }\n",
              "</style>\n",
              "<table border=\"1\" class=\"dataframe\">\n",
              "  <thead>\n",
              "    <tr style=\"text-align: right;\">\n",
              "      <th></th>\n",
              "      <th>data_notificacao</th>\n",
              "      <th>sexo</th>\n",
              "      <th>raca</th>\n",
              "      <th>idade</th>\n",
              "      <th>bairro</th>\n",
              "      <th>profissional_saude</th>\n",
              "    </tr>\n",
              "  </thead>\n",
              "  <tbody>\n",
              "    <tr>\n",
              "      <th>10</th>\n",
              "      <td>2020-06-02</td>\n",
              "      <td>Feminino</td>\n",
              "      <td>Parda</td>\n",
              "      <td>43</td>\n",
              "      <td>CORDEIRO</td>\n",
              "      <td>SIM</td>\n",
              "    </tr>\n",
              "    <tr>\n",
              "      <th>20</th>\n",
              "      <td>2020-06-03</td>\n",
              "      <td>Feminino</td>\n",
              "      <td>Parda</td>\n",
              "      <td>61</td>\n",
              "      <td>BEBERIBE</td>\n",
              "      <td>SIM</td>\n",
              "    </tr>\n",
              "    <tr>\n",
              "      <th>23</th>\n",
              "      <td>2020-07-19</td>\n",
              "      <td>Feminino</td>\n",
              "      <td>Parda</td>\n",
              "      <td>64</td>\n",
              "      <td>SANTO AMARO</td>\n",
              "      <td>NÃO</td>\n",
              "    </tr>\n",
              "    <tr>\n",
              "      <th>43</th>\n",
              "      <td>2020-06-29</td>\n",
              "      <td>Feminino</td>\n",
              "      <td>Parda</td>\n",
              "      <td>39</td>\n",
              "      <td>VARZEA</td>\n",
              "      <td>NÃO</td>\n",
              "    </tr>\n",
              "    <tr>\n",
              "      <th>44</th>\n",
              "      <td>2020-06-29</td>\n",
              "      <td>Masculino</td>\n",
              "      <td>Ignorado</td>\n",
              "      <td>40</td>\n",
              "      <td>SANCHO</td>\n",
              "      <td>NÃO</td>\n",
              "    </tr>\n",
              "    <tr>\n",
              "      <th>...</th>\n",
              "      <td>...</td>\n",
              "      <td>...</td>\n",
              "      <td>...</td>\n",
              "      <td>...</td>\n",
              "      <td>...</td>\n",
              "      <td>...</td>\n",
              "    </tr>\n",
              "    <tr>\n",
              "      <th>36430</th>\n",
              "      <td>2022-06-08</td>\n",
              "      <td>Masculino</td>\n",
              "      <td>Ignorado</td>\n",
              "      <td>77</td>\n",
              "      <td>BREJO DA GUABIRABA</td>\n",
              "      <td>NÃO</td>\n",
              "    </tr>\n",
              "    <tr>\n",
              "      <th>36431</th>\n",
              "      <td>2022-06-09</td>\n",
              "      <td>Masculino</td>\n",
              "      <td>Parda</td>\n",
              "      <td>74</td>\n",
              "      <td>NOVA DESCOBERTA</td>\n",
              "      <td>NÃO</td>\n",
              "    </tr>\n",
              "    <tr>\n",
              "      <th>36432</th>\n",
              "      <td>2022-06-10</td>\n",
              "      <td>Masculino</td>\n",
              "      <td>Parda</td>\n",
              "      <td>74</td>\n",
              "      <td>BEBERIBE</td>\n",
              "      <td>NÃO</td>\n",
              "    </tr>\n",
              "    <tr>\n",
              "      <th>36433</th>\n",
              "      <td>2022-06-12</td>\n",
              "      <td>Feminino</td>\n",
              "      <td>Amarela</td>\n",
              "      <td>73</td>\n",
              "      <td>ENGENHO DO MEIO</td>\n",
              "      <td>NÃO</td>\n",
              "    </tr>\n",
              "    <tr>\n",
              "      <th>36434</th>\n",
              "      <td>2022-06-12</td>\n",
              "      <td>Feminino</td>\n",
              "      <td>Parda</td>\n",
              "      <td>66</td>\n",
              "      <td>BOA VIAGEM</td>\n",
              "      <td>NÃO</td>\n",
              "    </tr>\n",
              "  </tbody>\n",
              "</table>\n",
              "<p>27338 rows × 6 columns</p>\n",
              "</div>\n",
              "      <button class=\"colab-df-convert\" onclick=\"convertToInteractive('df-ff8edbf7-6717-4e9d-a3ed-e7dd7607c763')\"\n",
              "              title=\"Convert this dataframe to an interactive table.\"\n",
              "              style=\"display:none;\">\n",
              "        \n",
              "  <svg xmlns=\"http://www.w3.org/2000/svg\" height=\"24px\"viewBox=\"0 0 24 24\"\n",
              "       width=\"24px\">\n",
              "    <path d=\"M0 0h24v24H0V0z\" fill=\"none\"/>\n",
              "    <path d=\"M18.56 5.44l.94 2.06.94-2.06 2.06-.94-2.06-.94-.94-2.06-.94 2.06-2.06.94zm-11 1L8.5 8.5l.94-2.06 2.06-.94-2.06-.94L8.5 2.5l-.94 2.06-2.06.94zm10 10l.94 2.06.94-2.06 2.06-.94-2.06-.94-.94-2.06-.94 2.06-2.06.94z\"/><path d=\"M17.41 7.96l-1.37-1.37c-.4-.4-.92-.59-1.43-.59-.52 0-1.04.2-1.43.59L10.3 9.45l-7.72 7.72c-.78.78-.78 2.05 0 2.83L4 21.41c.39.39.9.59 1.41.59.51 0 1.02-.2 1.41-.59l7.78-7.78 2.81-2.81c.8-.78.8-2.07 0-2.86zM5.41 20L4 18.59l7.72-7.72 1.47 1.35L5.41 20z\"/>\n",
              "  </svg>\n",
              "      </button>\n",
              "      \n",
              "  <style>\n",
              "    .colab-df-container {\n",
              "      display:flex;\n",
              "      flex-wrap:wrap;\n",
              "      gap: 12px;\n",
              "    }\n",
              "\n",
              "    .colab-df-convert {\n",
              "      background-color: #E8F0FE;\n",
              "      border: none;\n",
              "      border-radius: 50%;\n",
              "      cursor: pointer;\n",
              "      display: none;\n",
              "      fill: #1967D2;\n",
              "      height: 32px;\n",
              "      padding: 0 0 0 0;\n",
              "      width: 32px;\n",
              "    }\n",
              "\n",
              "    .colab-df-convert:hover {\n",
              "      background-color: #E2EBFA;\n",
              "      box-shadow: 0px 1px 2px rgba(60, 64, 67, 0.3), 0px 1px 3px 1px rgba(60, 64, 67, 0.15);\n",
              "      fill: #174EA6;\n",
              "    }\n",
              "\n",
              "    [theme=dark] .colab-df-convert {\n",
              "      background-color: #3B4455;\n",
              "      fill: #D2E3FC;\n",
              "    }\n",
              "\n",
              "    [theme=dark] .colab-df-convert:hover {\n",
              "      background-color: #434B5C;\n",
              "      box-shadow: 0px 1px 3px 1px rgba(0, 0, 0, 0.15);\n",
              "      filter: drop-shadow(0px 1px 2px rgba(0, 0, 0, 0.3));\n",
              "      fill: #FFFFFF;\n",
              "    }\n",
              "  </style>\n",
              "\n",
              "      <script>\n",
              "        const buttonEl =\n",
              "          document.querySelector('#df-ff8edbf7-6717-4e9d-a3ed-e7dd7607c763 button.colab-df-convert');\n",
              "        buttonEl.style.display =\n",
              "          google.colab.kernel.accessAllowed ? 'block' : 'none';\n",
              "\n",
              "        async function convertToInteractive(key) {\n",
              "          const element = document.querySelector('#df-ff8edbf7-6717-4e9d-a3ed-e7dd7607c763');\n",
              "          const dataTable =\n",
              "            await google.colab.kernel.invokeFunction('convertToInteractive',\n",
              "                                                     [key], {});\n",
              "          if (!dataTable) return;\n",
              "\n",
              "          const docLinkHtml = 'Like what you see? Visit the ' +\n",
              "            '<a target=\"_blank\" href=https://colab.research.google.com/notebooks/data_table.ipynb>data table notebook</a>'\n",
              "            + ' to learn more about interactive tables.';\n",
              "          element.innerHTML = '';\n",
              "          dataTable['output_type'] = 'display_data';\n",
              "          await google.colab.output.renderOutput(dataTable, element);\n",
              "          const docLink = document.createElement('div');\n",
              "          docLink.innerHTML = docLinkHtml;\n",
              "          element.appendChild(docLink);\n",
              "        }\n",
              "      </script>\n",
              "    </div>\n",
              "  </div>\n",
              "  "
            ]
          },
          "metadata": {},
          "execution_count": 16
        }
      ]
    },
    {
      "cell_type": "code",
      "source": [
        "df1 = df1.sort_values(by = 'idade')"
      ],
      "metadata": {
        "id": "G7ZwNzKmCIqz"
      },
      "execution_count": 30,
      "outputs": []
    },
    {
      "cell_type": "markdown",
      "source": [
        "Obtendo os dados do Data frame atualizado:"
      ],
      "metadata": {
        "id": "iZbypIf2tBjA"
      }
    },
    {
      "cell_type": "code",
      "source": [
        "df1.shape"
      ],
      "metadata": {
        "colab": {
          "base_uri": "https://localhost:8080/"
        },
        "id": "pPkYSxQRH4Fa",
        "outputId": "177d796b-cd5f-4b8f-8112-6f05d38ccd39"
      },
      "execution_count": 31,
      "outputs": [
        {
          "output_type": "execute_result",
          "data": {
            "text/plain": [
              "(25026, 6)"
            ]
          },
          "metadata": {},
          "execution_count": 31
        }
      ]
    },
    {
      "cell_type": "code",
      "source": [
        "df1.describe()"
      ],
      "metadata": {
        "colab": {
          "base_uri": "https://localhost:8080/",
          "height": 175
        },
        "id": "wmp3l4VzLc5X",
        "outputId": "3a566160-5b8b-494f-f004-96ff1fa8761f"
      },
      "execution_count": 32,
      "outputs": [
        {
          "output_type": "execute_result",
          "data": {
            "text/plain": [
              "       data_notificacao       sexo   raca  idade      bairro  \\\n",
              "count             25026      25026  25026  25026       25026   \n",
              "unique              802          2      6    126          99   \n",
              "top          2020-05-11  Masculino  Parda     68  BOA VIAGEM   \n",
              "freq                139      12581  12444    484        1953   \n",
              "\n",
              "       profissional_saude  \n",
              "count               25026  \n",
              "unique                  2  \n",
              "top                   NÃO  \n",
              "freq                24418  "
            ],
            "text/html": [
              "\n",
              "  <div id=\"df-225083f0-17ce-470f-bf1e-97ad7809fd58\">\n",
              "    <div class=\"colab-df-container\">\n",
              "      <div>\n",
              "<style scoped>\n",
              "    .dataframe tbody tr th:only-of-type {\n",
              "        vertical-align: middle;\n",
              "    }\n",
              "\n",
              "    .dataframe tbody tr th {\n",
              "        vertical-align: top;\n",
              "    }\n",
              "\n",
              "    .dataframe thead th {\n",
              "        text-align: right;\n",
              "    }\n",
              "</style>\n",
              "<table border=\"1\" class=\"dataframe\">\n",
              "  <thead>\n",
              "    <tr style=\"text-align: right;\">\n",
              "      <th></th>\n",
              "      <th>data_notificacao</th>\n",
              "      <th>sexo</th>\n",
              "      <th>raca</th>\n",
              "      <th>idade</th>\n",
              "      <th>bairro</th>\n",
              "      <th>profissional_saude</th>\n",
              "    </tr>\n",
              "  </thead>\n",
              "  <tbody>\n",
              "    <tr>\n",
              "      <th>count</th>\n",
              "      <td>25026</td>\n",
              "      <td>25026</td>\n",
              "      <td>25026</td>\n",
              "      <td>25026</td>\n",
              "      <td>25026</td>\n",
              "      <td>25026</td>\n",
              "    </tr>\n",
              "    <tr>\n",
              "      <th>unique</th>\n",
              "      <td>802</td>\n",
              "      <td>2</td>\n",
              "      <td>6</td>\n",
              "      <td>126</td>\n",
              "      <td>99</td>\n",
              "      <td>2</td>\n",
              "    </tr>\n",
              "    <tr>\n",
              "      <th>top</th>\n",
              "      <td>2020-05-11</td>\n",
              "      <td>Masculino</td>\n",
              "      <td>Parda</td>\n",
              "      <td>68</td>\n",
              "      <td>BOA VIAGEM</td>\n",
              "      <td>NÃO</td>\n",
              "    </tr>\n",
              "    <tr>\n",
              "      <th>freq</th>\n",
              "      <td>139</td>\n",
              "      <td>12581</td>\n",
              "      <td>12444</td>\n",
              "      <td>484</td>\n",
              "      <td>1953</td>\n",
              "      <td>24418</td>\n",
              "    </tr>\n",
              "  </tbody>\n",
              "</table>\n",
              "</div>\n",
              "      <button class=\"colab-df-convert\" onclick=\"convertToInteractive('df-225083f0-17ce-470f-bf1e-97ad7809fd58')\"\n",
              "              title=\"Convert this dataframe to an interactive table.\"\n",
              "              style=\"display:none;\">\n",
              "        \n",
              "  <svg xmlns=\"http://www.w3.org/2000/svg\" height=\"24px\"viewBox=\"0 0 24 24\"\n",
              "       width=\"24px\">\n",
              "    <path d=\"M0 0h24v24H0V0z\" fill=\"none\"/>\n",
              "    <path d=\"M18.56 5.44l.94 2.06.94-2.06 2.06-.94-2.06-.94-.94-2.06-.94 2.06-2.06.94zm-11 1L8.5 8.5l.94-2.06 2.06-.94-2.06-.94L8.5 2.5l-.94 2.06-2.06.94zm10 10l.94 2.06.94-2.06 2.06-.94-2.06-.94-.94-2.06-.94 2.06-2.06.94z\"/><path d=\"M17.41 7.96l-1.37-1.37c-.4-.4-.92-.59-1.43-.59-.52 0-1.04.2-1.43.59L10.3 9.45l-7.72 7.72c-.78.78-.78 2.05 0 2.83L4 21.41c.39.39.9.59 1.41.59.51 0 1.02-.2 1.41-.59l7.78-7.78 2.81-2.81c.8-.78.8-2.07 0-2.86zM5.41 20L4 18.59l7.72-7.72 1.47 1.35L5.41 20z\"/>\n",
              "  </svg>\n",
              "      </button>\n",
              "      \n",
              "  <style>\n",
              "    .colab-df-container {\n",
              "      display:flex;\n",
              "      flex-wrap:wrap;\n",
              "      gap: 12px;\n",
              "    }\n",
              "\n",
              "    .colab-df-convert {\n",
              "      background-color: #E8F0FE;\n",
              "      border: none;\n",
              "      border-radius: 50%;\n",
              "      cursor: pointer;\n",
              "      display: none;\n",
              "      fill: #1967D2;\n",
              "      height: 32px;\n",
              "      padding: 0 0 0 0;\n",
              "      width: 32px;\n",
              "    }\n",
              "\n",
              "    .colab-df-convert:hover {\n",
              "      background-color: #E2EBFA;\n",
              "      box-shadow: 0px 1px 2px rgba(60, 64, 67, 0.3), 0px 1px 3px 1px rgba(60, 64, 67, 0.15);\n",
              "      fill: #174EA6;\n",
              "    }\n",
              "\n",
              "    [theme=dark] .colab-df-convert {\n",
              "      background-color: #3B4455;\n",
              "      fill: #D2E3FC;\n",
              "    }\n",
              "\n",
              "    [theme=dark] .colab-df-convert:hover {\n",
              "      background-color: #434B5C;\n",
              "      box-shadow: 0px 1px 3px 1px rgba(0, 0, 0, 0.15);\n",
              "      filter: drop-shadow(0px 1px 2px rgba(0, 0, 0, 0.3));\n",
              "      fill: #FFFFFF;\n",
              "    }\n",
              "  </style>\n",
              "\n",
              "      <script>\n",
              "        const buttonEl =\n",
              "          document.querySelector('#df-225083f0-17ce-470f-bf1e-97ad7809fd58 button.colab-df-convert');\n",
              "        buttonEl.style.display =\n",
              "          google.colab.kernel.accessAllowed ? 'block' : 'none';\n",
              "\n",
              "        async function convertToInteractive(key) {\n",
              "          const element = document.querySelector('#df-225083f0-17ce-470f-bf1e-97ad7809fd58');\n",
              "          const dataTable =\n",
              "            await google.colab.kernel.invokeFunction('convertToInteractive',\n",
              "                                                     [key], {});\n",
              "          if (!dataTable) return;\n",
              "\n",
              "          const docLinkHtml = 'Like what you see? Visit the ' +\n",
              "            '<a target=\"_blank\" href=https://colab.research.google.com/notebooks/data_table.ipynb>data table notebook</a>'\n",
              "            + ' to learn more about interactive tables.';\n",
              "          element.innerHTML = '';\n",
              "          dataTable['output_type'] = 'display_data';\n",
              "          await google.colab.output.renderOutput(dataTable, element);\n",
              "          const docLink = document.createElement('div');\n",
              "          docLink.innerHTML = docLinkHtml;\n",
              "          element.appendChild(docLink);\n",
              "        }\n",
              "      </script>\n",
              "    </div>\n",
              "  </div>\n",
              "  "
            ]
          },
          "metadata": {},
          "execution_count": 32
        }
      ]
    },
    {
      "cell_type": "code",
      "source": [
        "df1.isna().sum()"
      ],
      "metadata": {
        "colab": {
          "base_uri": "https://localhost:8080/"
        },
        "id": "kyoNXlp0LeWf",
        "outputId": "83e6050a-587e-4970-fc47-8fbe29030010"
      },
      "execution_count": 33,
      "outputs": [
        {
          "output_type": "execute_result",
          "data": {
            "text/plain": [
              "data_notificacao      0\n",
              "sexo                  0\n",
              "raca                  0\n",
              "idade                 0\n",
              "bairro                0\n",
              "profissional_saude    0\n",
              "dtype: int64"
            ]
          },
          "metadata": {},
          "execution_count": 33
        }
      ]
    },
    {
      "cell_type": "markdown",
      "source": [
        "### Aqui, começo a selecionar a coluna e plotar os gráficos:"
      ],
      "metadata": {
        "id": "CP19RpmAtKZH"
      }
    },
    {
      "cell_type": "code",
      "source": [
        "df1.raca.value_counts()"
      ],
      "metadata": {
        "colab": {
          "base_uri": "https://localhost:8080/"
        },
        "id": "7rX-UsKFRJPd",
        "outputId": "b1c4c20e-3ab8-4a4b-c293-64d0241dcfea"
      },
      "execution_count": 25,
      "outputs": [
        {
          "output_type": "execute_result",
          "data": {
            "text/plain": [
              "Parda       12444\n",
              "Ignorado     7078\n",
              "Branca       4450\n",
              "Preta         869\n",
              "Amarela       173\n",
              "Indígena       12\n",
              "Name: raca, dtype: int64"
            ]
          },
          "metadata": {},
          "execution_count": 25
        }
      ]
    },
    {
      "cell_type": "code",
      "source": [
        "racas = df1.raca.value_counts()\n",
        "plt.pie(racas)\n",
        "plt.legend(racas.index, bbox_to_anchor=(1, 0.5))"
      ],
      "metadata": {
        "colab": {
          "base_uri": "https://localhost:8080/",
          "height": 437
        },
        "id": "gCGfqsoSRPjl",
        "outputId": "89af3140-2bb4-4e1c-a5d0-506bf62cf9f5"
      },
      "execution_count": 46,
      "outputs": [
        {
          "output_type": "execute_result",
          "data": {
            "text/plain": [
              "<matplotlib.legend.Legend at 0x7fd8fb658370>"
            ]
          },
          "metadata": {},
          "execution_count": 46
        },
        {
          "output_type": "display_data",
          "data": {
            "text/plain": [
              "<Figure size 748.8x514.8 with 1 Axes>"
            ],
            "image/png": "[encoded data removed]"
          },
          "metadata": {}
        }
      ]
    },
    {
      "cell_type": "code",
      "source": [
        "df1.sexo.value_counts()"
      ],
      "metadata": {
        "colab": {
          "base_uri": "https://localhost:8080/"
        },
        "id": "cKFeorl7WhYo",
        "outputId": "014cc45a-3b92-46b8-f358-961151ef0217"
      },
      "execution_count": 126,
      "outputs": [
        {
          "output_type": "execute_result",
          "data": {
            "text/plain": [
              "Masculino    12581\n",
              "Feminino     12445\n",
              "Name: sexo, dtype: int64"
            ]
          },
          "metadata": {},
          "execution_count": 126
        }
      ]
    },
    {
      "cell_type": "code",
      "source": [
        "df1.sexo.value_counts().sum()"
      ],
      "metadata": {
        "colab": {
          "base_uri": "https://localhost:8080/"
        },
        "id": "XI7N_KHxm64I",
        "outputId": "ead52d60-fb45-4a1f-ab21-039204f9536f"
      },
      "execution_count": 127,
      "outputs": [
        {
          "output_type": "execute_result",
          "data": {
            "text/plain": [
              "25026"
            ]
          },
          "metadata": {},
          "execution_count": 127
        }
      ]
    },
    {
      "cell_type": "code",
      "source": [
        "generos = pd.DataFrame(df1.sexo.value_counts())"
      ],
      "metadata": {
        "id": "F4ww3AGgmiQJ"
      },
      "execution_count": 130,
      "outputs": []
    },
    {
      "cell_type": "code",
      "source": [
        "plt.rcParams['figure.figsize'] = (5, 8)\n",
        "generos.plot(kind = 'bar', color= 'green')\n",
        "plt.title('Pessoas com Covid-19')\n",
        "plt.xlabel('Sexo')\n",
        "plt.ylabel('Quantidade')\n",
        "plt.legend(bbox_to_anchor=(1, 0.5))"
      ],
      "metadata": {
        "colab": {
          "base_uri": "https://localhost:8080/",
          "height": 596
        },
        "id": "vEmZb2uZnX-A",
        "outputId": "0fe71a5c-034a-453d-83ea-641dce18bc3a"
      },
      "execution_count": 191,
      "outputs": [
        {
          "output_type": "execute_result",
          "data": {
            "text/plain": [
              "<matplotlib.legend.Legend at 0x7fd8d7edbe80>"
            ]
          },
          "metadata": {},
          "execution_count": 191
        },
        {
          "output_type": "display_data",
          "data": {
            "text/plain": [
              "<Figure size 360x576 with 1 Axes>"
            ],
            "image/png": "[encoded data removed]"
          },
          "metadata": {
            "needs_background": "light"
          }
        }
      ]
    },
    {
      "cell_type": "code",
      "source": [
        "df1.bairro.value_counts()"
      ],
      "metadata": {
        "colab": {
          "base_uri": "https://localhost:8080/"
        },
        "id": "gQuuzgO-pXbJ",
        "outputId": "fdc183d9-54b6-4dc7-cf48-43238190d1f8"
      },
      "execution_count": 157,
      "outputs": [
        {
          "output_type": "execute_result",
          "data": {
            "text/plain": [
              "BOA VIAGEM          1953\n",
              "IGN                 1089\n",
              "VARZEA               944\n",
              "IBURA                941\n",
              "IPUTINGA             807\n",
              "                    ... \n",
              "IPESEP                 1\n",
              "PINA                   1\n",
              "CENTRO EXPANDIDO       1\n",
              "Engenho Do Meio        1\n",
              "PAU FERRO              1\n",
              "Name: bairro, Length: 99, dtype: int64"
            ]
          },
          "metadata": {},
          "execution_count": 157
        }
      ]
    },
    {
      "cell_type": "code",
      "source": [
        "df1.sexo.value_counts().sum()"
      ],
      "metadata": {
        "colab": {
          "base_uri": "https://localhost:8080/"
        },
        "id": "-KqR6RinpjtI",
        "outputId": "75198af5-50e4-429e-f551-50822e0e1a88"
      },
      "execution_count": 158,
      "outputs": [
        {
          "output_type": "execute_result",
          "data": {
            "text/plain": [
              "25026"
            ]
          },
          "metadata": {},
          "execution_count": 158
        }
      ]
    },
    {
      "cell_type": "code",
      "source": [
        "bairro = pd.DataFrame(df1.bairro.value_counts())"
      ],
      "metadata": {
        "id": "QeajGWLqpnUB"
      },
      "execution_count": 161,
      "outputs": []
    },
    {
      "cell_type": "code",
      "source": [
        "plt.rcParams['figure.figsize'] = (10, 22)\n",
        "bairro.plot(kind = 'barh', color= 'blue', edgecolor = 'black')\n",
        "plt.title('Casos de Covid-19 por Bairro')\n",
        "plt.xlabel('Quantidade')\n",
        "plt.ylabel('Bairro')\n",
        "plt.legend(bbox_to_anchor=(1, 0.5))"
      ],
      "metadata": {
        "colab": {
          "base_uri": "https://localhost:8080/",
          "height": 1000
        },
        "id": "edtUDvbYpvxY",
        "outputId": "4e84a314-8f88-484a-c085-9e488db48f49"
      },
      "execution_count": 173,
      "outputs": [
        {
          "output_type": "execute_result",
          "data": {
            "text/plain": [
              "<matplotlib.legend.Legend at 0x7fd8d83f96a0>"
            ]
          },
          "metadata": {},
          "execution_count": 173
        },
        {
          "output_type": "display_data",
          "data": {
            "text/plain": [
              "<Figure size 720x1584 with 1 Axes>"
            ],
            "image/png": "[encoded data removed]"
          },
          "metadata": {
            "needs_background": "light"
          }
        }
      ]
    },
    {
      "cell_type": "code",
      "source": [
        "df1.profissional_saude.value_counts()"
      ],
      "metadata": {
        "colab": {
          "base_uri": "https://localhost:8080/"
        },
        "id": "Ycdj7fR0rloI",
        "outputId": "0f8ad26c-5888-4d9b-864d-1632a855b957"
      },
      "execution_count": 179,
      "outputs": [
        {
          "output_type": "execute_result",
          "data": {
            "text/plain": [
              "NÃO    24418\n",
              "SIM      608\n",
              "Name: profissional_saude, dtype: int64"
            ]
          },
          "metadata": {},
          "execution_count": 179
        }
      ]
    },
    {
      "cell_type": "code",
      "source": [
        "profissional_saude = pd.DataFrame(df1.profissional_saude.value_counts())"
      ],
      "metadata": {
        "id": "rz_gBIlqrwAB"
      },
      "execution_count": 183,
      "outputs": []
    },
    {
      "cell_type": "code",
      "source": [
        "plt.rcParams['figure.figsize'] = (8, 5)\n",
        "plt.pie(profissional_saude)\n",
        "plt.legend(df1.profissional_saude.value_counts().index, bbox_to_anchor = (1,1))\n",
        "plt.show()"
      ],
      "metadata": {
        "colab": {
          "base_uri": "https://localhost:8080/",
          "height": 358
        },
        "id": "NFyzV0qEr3-p",
        "outputId": "d8101404-7cc6-4dfa-89c5-983747312b33"
      },
      "execution_count": 189,
      "outputs": [
        {
          "output_type": "stream",
          "name": "stderr",
          "text": [
            "<ipython-input-189-41ae1ffd529f>:2: MatplotlibDeprecationWarning: Non-1D inputs to pie() are currently squeeze()d, but this behavior is deprecated since 3.1 and will be removed in 3.3; pass a 1D array instead.\n",
            "  plt.pie(profissional_saude)\n"
          ]
        },
        {
          "output_type": "display_data",
          "data": {
            "text/plain": [
              "<Figure size 576x360 with 1 Axes>"
            ],
            "image/png": "[encoded data removed]"
          },
          "metadata": {}
        }
      ]
    },
    {
      "cell_type": "markdown",
      "source": [
        "Aqui seria interessante conseguir os dados da população geral e verificar quantos desses são profissionais de saúde, e comparar os dois gráficos."
      ],
      "metadata": {
        "id": "S7_wrMIgtd2I"
      }
    }
  ]
}