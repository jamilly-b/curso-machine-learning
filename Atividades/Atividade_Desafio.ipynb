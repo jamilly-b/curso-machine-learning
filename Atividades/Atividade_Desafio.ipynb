{
  "nbformat": 4,
  "nbformat_minor": 0,
  "metadata": {
    "colab": {
      "provenance": [],
      "authorship_tag": "ABX9TyMrkuOqu4aBH5xUfeB+UaZQ",
      "include_colab_link": true
    },
    "kernelspec": {
      "name": "python3",
      "display_name": "Python 3"
    },
    "language_info": {
      "name": "python"
    }
  },
  "cells": [
    {
      "cell_type": "markdown",
      "metadata": {
        "id": "view-in-github",
        "colab_type": "text"
      },
      "source": [
        "<a href=\"https://colab.research.google.com/github/jmlly/curso-machine-learning/blob/main/Atividades/Atividade_Desafio.ipynb\" target=\"_parent\"><img src=\"https://colab.research.google.com/assets/colab-badge.svg\" alt=\"Open In Colab\"/></a>"
      ]
    },
    {
      "cell_type": "markdown",
      "source": [
        "#DESAFIO: Atividade de Casa 2"
      ],
      "metadata": {
        "id": "zWSADRf0YY2t"
      }
    },
    {
      "cell_type": "markdown",
      "source": [
        "1) Utilize lista ou dicionário com 5 perguntas para uma pessoa sobre\n",
        "um crime. As perguntas são:\n",
        "\"Telefonou para a vítima?\",\n",
        "\"Esteve no local do crime?\"\n",
        "\"Mora perto da vítima?\"\n",
        "\"Devia para a vítima?\"\n",
        "\"Já trabalhou com a vítima?\"\n",
        "\n",
        "O seu programa deve utilizar o índice da lista ou a chave do dicionário\n",
        "para direcionar a pergunta para o usuário.\n",
        "Ao final das perguntas, seu programa deve emitir uma classificação\n",
        "sobre a participação da pessoa no crime.\n",
        "Por exemplo: Se a pessoa responder positivamente a 2 questões ela\n",
        "deve ser classificada como \"Suspeito grau 1\", entre 3 e 4 como\n",
        "\"Suspeito grau 2\" e 5 como \"Suspeito grau 3: Principal suspeito\".\n",
        "Caso contrário, ele será classificado como \"Inocente\"."
      ],
      "metadata": {
        "id": "aE_X5kjUYpBi"
      }
    },
    {
      "cell_type": "code",
      "execution_count": null,
      "metadata": {
        "id": "uIZ2UtVEYYIm"
      },
      "outputs": [],
      "source": [
        "sim = 0\n",
        "nao = 0\n",
        "perguntas = [\"Telefonou para a vítima?\",\"Esteve no local do crime?\",\"Mora perto da vítima?\",\"Devia para a vítima?\",\"Já trabalhou com a vítima?\"]\n",
        "for i in perguntas[0::1]:\n",
        "    print(i)\n",
        "    resposta = str(input('[s/n]: '))\n",
        "    if resposta == 's':\n",
        "        sim += 1\n",
        "    elif resposta == 'n':\n",
        "        nao += 1\n",
        "\n",
        "if sim == 2:\n",
        "    grau = 1\n",
        "    print(f'A pessoa interrogada respondeu sim para {sim} perguntas,\\\n",
        " e não para {nao} perguntas, o que a classifica como Suspeito grau {grau}')\n",
        "if sim >= 3 and sim <= 4:\n",
        "    grau = 2\n",
        "    print(f'A pessoa interrogada respondeu sim para {sim} perguntas,\\\n",
        " e não para {nao} perguntas, o que a classifica como Suspeito grau {grau}')\n",
        "if sim == 5:\n",
        "    grau = 3\n",
        "    print(f'A pessoa interrogada respondeu sim para {sim} perguntas,\\\n",
        " e não para {nao} perguntas, o que a classifica como Suspeito grau {grau}, é o suspeito principal da investigação.')\n",
        "else:\n",
        "    print('inocente')"
      ]
    },
    {
      "cell_type": "markdown",
      "source": [
        "2) Utilize uma lista para resolver o problema a seguir. Uma empresa paga seus vendedores com base em comissões. O vendedor recebe $ 200 por semana mais 9% de suas vendas brutas daquela semana. Por exemplo, um vendedor que teve vendas brutas de $3000 em uma semana recebe $200 mais 9% de $3000, ou seja, um total de $470.\n",
        "Escreva um programa que determine quantos vendedores receberam salários nos seguintes intervalos de valores.\n",
        "\n",
        "$200 - $299\n",
        "\n",
        "$300 - $399\n",
        "\n",
        "$400 - $499\n",
        "\n",
        "$500 - $599\n",
        "\n",
        "\n",
        "$600 - $699\n",
        "\n",
        "$700 - $799\n",
        "\n",
        "$800 - $899\n",
        "\n",
        "$900 - $999\n",
        "\n",
        "$1000 em diante "
      ],
      "metadata": {
        "id": "BKPhM1ATZV2c"
      }
    },
    {
      "cell_type": "code",
      "source": [
        "valores = [200,300,400,500,600,700,800,900,1000]\n",
        "i = 1\n",
        "intervalo1 = 0\n",
        "intervalo2 = 0\n",
        "intervalo3 = 0\n",
        "intervalo4 = 0\n",
        "intervalo5 = 0\n",
        "intervalo6 = 0\n",
        "intervalo7 = 0\n",
        "intervalo8 = 0\n",
        "intervalo9 = 0\n",
        "\n",
        "print('Digite -1 a qualquer momento para encerrar o programa.')\n",
        "vendas = int(input('valor bruto de vendas do vendedor %d: ' %i))\n",
        "comissao = (0.09 * vendas)\n",
        "salario = 200 + comissao\n",
        "\n",
        "if vendas == -1:\n",
        "    print('programa encerrado.')\n",
        "else:\n",
        "\n",
        "  while True:\n",
        "      i += 1\n",
        "      vendas = int(input('valor bruto de vendas do vendedor %d: ' %i))\n",
        "      if vendas == -1:\n",
        "          print('programa encerrado.')\n",
        "          break\n",
        "      comissao = (0.09 * vendas)\n",
        "      salario = 200 + comissao\n",
        "      if salario >= valores[0] and salario < valores[1]:\n",
        "          intervalo1 += 1\n",
        "      if salario >= valores[1] and salario < valores[2]:\n",
        "          intervalo2 += 1\n",
        "      if salario >= valores[2] and salario < valores[3]:\n",
        "          intervalo3 += 1\n",
        "      if salario >= valores[3] and salario < valores[4]:\n",
        "          intervalo4 += 1\n",
        "      if salario >= valores[4] and salario < valores[5]:\n",
        "          intervalo5 += 1\n",
        "      if salario >= valores[5] and salario < valores[6]:\n",
        "          intervalo6 += 1\n",
        "      if salario >= valores[6] and salario < valores[7]:\n",
        "          intervalo7 += 1\n",
        "      if salario >= valores[7] and salario < valores[8]:\n",
        "          intervalo8 += 1\n",
        "      if salario >= valores[8]:\n",
        "          intervalo9 += 1\n",
        "      \n",
        "                \n",
        "  print('%d vendedores receberam entre 200 e 299 reais\\n%d vendedores receberam entre 300 e 399 reais\\n%d vendedores receberam entre 400 e 499 reais\\n%d vendedores receberam entre 500 e 599 reais\\n%d vendedores receberam entre 600 e 699 reais\\n%d vendedores receberam entre 700 e 799 reais\\n%d vendedores receberam entre 800 e 899 reais\\n%d vendedores receberam entre 900 e 999 reais\\n%d vendedores receberam mais que 1000 reais\\n' %(intervalo1,intervalo2,intervalo3,intervalo4,intervalo5,intervalo6,intervalo7,intervalo8,intervalo9))"
      ],
      "metadata": {
        "id": "gJG0oICBZR8C"
      },
      "execution_count": null,
      "outputs": []
    },
    {
      "cell_type": "markdown",
      "source": [
        "3) Faça um Programa que leia um vetor de 10 números reais e\n",
        "mostre-os na ordem inversa."
      ],
      "metadata": {
        "id": "-_RjqtBtoXDf"
      }
    },
    {
      "cell_type": "code",
      "source": [
        "vetor = []\n",
        "for i in range(10):\n",
        "  vetor.append(i+1)\n",
        "vetor[::-1]"
      ],
      "metadata": {
        "colab": {
          "base_uri": "https://localhost:8080/"
        },
        "id": "EIflKupNoXwO",
        "outputId": "9bf7fed7-0c4e-49b0-8924-df7260840a91"
      },
      "execution_count": 14,
      "outputs": [
        {
          "output_type": "execute_result",
          "data": {
            "text/plain": [
              "[10, 9, 8, 7, 6, 5, 4, 3, 2, 1]"
            ]
          },
          "metadata": {},
          "execution_count": 14
        }
      ]
    },
    {
      "cell_type": "markdown",
      "source": [
        "4)Faça um Programa que peça as quatro notas de 10 alunos, calcule\n",
        "e armazene num vetor a média de cada aluno, imprima o número de\n",
        "alunos com média maior ou igual a 7.0."
      ],
      "metadata": {
        "id": "ajN7H9XMpfZ9"
      }
    },
    {
      "cell_type": "code",
      "source": [
        "medias_lista = []\n",
        "aprovados = []\n",
        "soma = 0\n",
        "for i in range(10):\n",
        "  print(f'Aluno {i+1}')\n",
        "  for i in range(4):\n",
        "    notas = float(input('nota: '))\n",
        "    soma += notas\n",
        "  media = (soma/4)\n",
        "  medias_lista.append(media)\n",
        "  if media > 7:\n",
        "    aprovados.append(media)\n",
        "print(f'Média dos alunos aprovados: {aprovados}')  \n",
        "print(f'Média dos alunos geral: {medias_lista}')"
      ],
      "metadata": {
        "id": "lN9OMVehpe4m"
      },
      "execution_count": null,
      "outputs": []
    }
  ]
}