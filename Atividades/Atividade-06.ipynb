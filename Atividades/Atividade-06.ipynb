{
  "nbformat": 4,
  "nbformat_minor": 0,
  "metadata": {
    "colab": {
      "provenance": [],
      "authorship_tag": "ABX9TyMe23D02LVF4ZLOkhNowRu4",
      "include_colab_link": true
    },
    "kernelspec": {
      "name": "python3",
      "display_name": "Python 3"
    },
    "language_info": {
      "name": "python"
    }
  },
  "cells": [
    {
      "cell_type": "markdown",
      "metadata": {
        "id": "view-in-github",
        "colab_type": "text"
      },
      "source": [
        "<a href=\"https://colab.research.google.com/github/jmlly/curso-machine-learning/blob/main/Atividades/Atividade-06.ipynb\" target=\"_parent\"><img src=\"https://colab.research.google.com/assets/colab-badge.svg\" alt=\"Open In Colab\"/></a>"
      ]
    },
    {
      "cell_type": "code",
      "source": [
        "import numpy as np"
      ],
      "metadata": {
        "id": "f2qptT8dpjZK"
      },
      "execution_count": null,
      "outputs": []
    },
    {
      "cell_type": "code",
      "execution_count": null,
      "metadata": {
        "id": "6IdItTlLx5mJ",
        "colab": {
          "base_uri": "https://localhost:8080/"
        },
        "outputId": "611faf7f-e33a-458f-f5f9-79005275f9d9"
      },
      "outputs": [
        {
          "output_type": "execute_result",
          "data": {
            "text/plain": [
              "array([0, 1, 2, 3, 4, 5, 6, 7, 8, 9])"
            ]
          },
          "metadata": {},
          "execution_count": 15
        }
      ],
      "source": [
        "arr1 = np.arange(10)\n",
        "arr1"
      ]
    },
    {
      "cell_type": "code",
      "source": [
        "arr2 = np.arange(10, 20)\n",
        "arr2"
      ],
      "metadata": {
        "colab": {
          "base_uri": "https://localhost:8080/"
        },
        "id": "pL-qqMqVqOjH",
        "outputId": "0f3a20d8-29e1-498c-aef8-b1cc48be7db3"
      },
      "execution_count": null,
      "outputs": [
        {
          "output_type": "execute_result",
          "data": {
            "text/plain": [
              "array([10, 11, 12, 13, 14, 15, 16, 17, 18, 19])"
            ]
          },
          "metadata": {},
          "execution_count": 16
        }
      ]
    },
    {
      "cell_type": "code",
      "source": [
        "arr3 = np.arange(10, 20, 2)\n",
        "arr3"
      ],
      "metadata": {
        "colab": {
          "base_uri": "https://localhost:8080/"
        },
        "id": "Xqo6J-xbqOaX",
        "outputId": "d9864529-02f2-4452-b0f9-dab4a59ef26e"
      },
      "execution_count": null,
      "outputs": [
        {
          "output_type": "execute_result",
          "data": {
            "text/plain": [
              "array([10, 12, 14, 16, 18])"
            ]
          },
          "metadata": {},
          "execution_count": 17
        }
      ]
    },
    {
      "cell_type": "code",
      "source": [
        "arr4 = np.arange(10, 20, 1.4)\n",
        "arr4"
      ],
      "metadata": {
        "colab": {
          "base_uri": "https://localhost:8080/"
        },
        "id": "aFbBnHGWqODH",
        "outputId": "c9154f2a-3351-4fa5-e025-09c6c593b23b"
      },
      "execution_count": null,
      "outputs": [
        {
          "output_type": "execute_result",
          "data": {
            "text/plain": [
              "array([10. , 11.4, 12.8, 14.2, 15.6, 17. , 18.4, 19.8])"
            ]
          },
          "metadata": {},
          "execution_count": 18
        }
      ]
    },
    {
      "cell_type": "code",
      "source": [
        "arr5 = np.linspace(10, 20, 11) #11 elementos\n",
        "arr5"
      ],
      "metadata": {
        "colab": {
          "base_uri": "https://localhost:8080/"
        },
        "id": "y9ixP2-upeEf",
        "outputId": "6c6c1d2c-f3f3-4d53-c746-8eac9f7cd808"
      },
      "execution_count": null,
      "outputs": [
        {
          "output_type": "execute_result",
          "data": {
            "text/plain": [
              "array([10., 11., 12., 13., 14., 15., 16., 17., 18., 19., 20.])"
            ]
          },
          "metadata": {},
          "execution_count": 19
        }
      ]
    },
    {
      "cell_type": "code",
      "source": [
        "arr6 = np.linspace(10, 20, 101) #criou 101 elementos do 10 ao 20\n",
        "arr6"
      ],
      "metadata": {
        "colab": {
          "base_uri": "https://localhost:8080/"
        },
        "id": "itP73_3gpyOy",
        "outputId": "470fee91-29f0-454e-95ec-c79c148a11bf"
      },
      "execution_count": null,
      "outputs": [
        {
          "output_type": "execute_result",
          "data": {
            "text/plain": [
              "array([10. , 10.1, 10.2, 10.3, 10.4, 10.5, 10.6, 10.7, 10.8, 10.9, 11. ,\n",
              "       11.1, 11.2, 11.3, 11.4, 11.5, 11.6, 11.7, 11.8, 11.9, 12. , 12.1,\n",
              "       12.2, 12.3, 12.4, 12.5, 12.6, 12.7, 12.8, 12.9, 13. , 13.1, 13.2,\n",
              "       13.3, 13.4, 13.5, 13.6, 13.7, 13.8, 13.9, 14. , 14.1, 14.2, 14.3,\n",
              "       14.4, 14.5, 14.6, 14.7, 14.8, 14.9, 15. , 15.1, 15.2, 15.3, 15.4,\n",
              "       15.5, 15.6, 15.7, 15.8, 15.9, 16. , 16.1, 16.2, 16.3, 16.4, 16.5,\n",
              "       16.6, 16.7, 16.8, 16.9, 17. , 17.1, 17.2, 17.3, 17.4, 17.5, 17.6,\n",
              "       17.7, 17.8, 17.9, 18. , 18.1, 18.2, 18.3, 18.4, 18.5, 18.6, 18.7,\n",
              "       18.8, 18.9, 19. , 19.1, 19.2, 19.3, 19.4, 19.5, 19.6, 19.7, 19.8,\n",
              "       19.9, 20. ])"
            ]
          },
          "metadata": {},
          "execution_count": 20
        }
      ]
    },
    {
      "cell_type": "code",
      "source": [
        "arr7 = np.linspace(0, np.pi, 100) #100 elementos do 0 ao pi\n",
        "arr7"
      ],
      "metadata": {
        "colab": {
          "base_uri": "https://localhost:8080/"
        },
        "id": "vcWFfeL0qA2I",
        "outputId": "a1bbfd98-4b93-49f8-bc39-27920651b40a"
      },
      "execution_count": null,
      "outputs": [
        {
          "output_type": "execute_result",
          "data": {
            "text/plain": [
              "array([0.        , 0.03173326, 0.06346652, 0.09519978, 0.12693304,\n",
              "       0.1586663 , 0.19039955, 0.22213281, 0.25386607, 0.28559933,\n",
              "       0.31733259, 0.34906585, 0.38079911, 0.41253237, 0.44426563,\n",
              "       0.47599889, 0.50773215, 0.53946541, 0.57119866, 0.60293192,\n",
              "       0.63466518, 0.66639844, 0.6981317 , 0.72986496, 0.76159822,\n",
              "       0.79333148, 0.82506474, 0.856798  , 0.88853126, 0.92026451,\n",
              "       0.95199777, 0.98373103, 1.01546429, 1.04719755, 1.07893081,\n",
              "       1.11066407, 1.14239733, 1.17413059, 1.20586385, 1.23759711,\n",
              "       1.26933037, 1.30106362, 1.33279688, 1.36453014, 1.3962634 ,\n",
              "       1.42799666, 1.45972992, 1.49146318, 1.52319644, 1.5549297 ,\n",
              "       1.58666296, 1.61839622, 1.65012947, 1.68186273, 1.71359599,\n",
              "       1.74532925, 1.77706251, 1.80879577, 1.84052903, 1.87226229,\n",
              "       1.90399555, 1.93572881, 1.96746207, 1.99919533, 2.03092858,\n",
              "       2.06266184, 2.0943951 , 2.12612836, 2.15786162, 2.18959488,\n",
              "       2.22132814, 2.2530614 , 2.28479466, 2.31652792, 2.34826118,\n",
              "       2.37999443, 2.41172769, 2.44346095, 2.47519421, 2.50692747,\n",
              "       2.53866073, 2.57039399, 2.60212725, 2.63386051, 2.66559377,\n",
              "       2.69732703, 2.72906028, 2.76079354, 2.7925268 , 2.82426006,\n",
              "       2.85599332, 2.88772658, 2.91945984, 2.9511931 , 2.98292636,\n",
              "       3.01465962, 3.04639288, 3.07812614, 3.10985939, 3.14159265])"
            ]
          },
          "metadata": {},
          "execution_count": 21
        }
      ]
    },
    {
      "cell_type": "code",
      "source": [
        "minhaMatriz = np.array([[1,2,3],[4,5,6]]) #criando uma matriz"
      ],
      "metadata": {
        "id": "JqCH-YUFqDRX"
      },
      "execution_count": null,
      "outputs": []
    },
    {
      "cell_type": "code",
      "source": [
        "minhaMatriz = np.array([[1,2,3], [4,5,6]])\n",
        "minhaMatriz"
      ],
      "metadata": {
        "colab": {
          "base_uri": "https://localhost:8080/"
        },
        "id": "C8ybNBWuqE4f",
        "outputId": "9a7dd381-e591-4b64-8ffd-4ef7a2c0d162"
      },
      "execution_count": null,
      "outputs": [
        {
          "output_type": "execute_result",
          "data": {
            "text/plain": [
              "array([[1, 2, 3],\n",
              "       [4, 5, 6]])"
            ]
          },
          "metadata": {},
          "execution_count": 14
        }
      ]
    },
    {
      "cell_type": "code",
      "source": [],
      "metadata": {
        "id": "H4mWiKDhrG2o"
      },
      "execution_count": null,
      "outputs": []
    }
  ]
}