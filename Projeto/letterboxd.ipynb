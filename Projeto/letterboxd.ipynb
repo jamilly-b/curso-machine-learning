{
  "nbformat": 4,
  "nbformat_minor": 0,
  "metadata": {
    "colab": {
      "provenance": [],
      "collapsed_sections": [
        "Fs28YXvlkMR1",
        "LVeuGn8WkYmE",
        "rzUjvuQqkd-0"
      ],
      "include_colab_link": true
    },
    "kernelspec": {
      "name": "python3",
      "display_name": "Python 3"
    },
    "language_info": {
      "name": "python"
    }
  },
  "cells": [
    {
      "cell_type": "markdown",
      "metadata": {
        "id": "view-in-github",
        "colab_type": "text"
      },
      "source": [
        "<a href=\"https://colab.research.google.com/github/jmlly/curso-machine-learning/blob/main/Projeto/letterboxd.ipynb\" target=\"_parent\"><img src=\"https://colab.research.google.com/assets/colab-badge.svg\" alt=\"Open In Colab\"/></a>"
      ]
    },
    {
      "cell_type": "code",
      "source": [
        "from google.colab import drive\n",
        "import pandas as pd\n",
        "import numpy as np"
      ],
      "metadata": {
        "id": "a7k9-YuqSH-M"
      },
      "execution_count": 30,
      "outputs": []
    },
    {
      "cell_type": "code",
      "execution_count": 31,
      "metadata": {
        "id": "Lyzwk9tQRVgA",
        "colab": {
          "base_uri": "https://localhost:8080/"
        },
        "outputId": "55bc0f03-544c-4290-e3f2-c8e2fd105c48"
      },
      "outputs": [
        {
          "output_type": "stream",
          "name": "stdout",
          "text": [
            "Drive already mounted at /content/drive; to attempt to forcibly remount, call drive.mount(\"/content/drive\", force_remount=True).\n"
          ]
        }
      ],
      "source": [
        "drive.mount('/content/drive')\n",
        "dados_dos_filmes = pd.read_csv('/content/drive/MyDrive/machine-learning-project/movie_data.csv', lineterminator='\\n')\n",
        "usuario = pd.read_csv('/content/drive/MyDrive/machine-learning-project/users_export.csv')\n",
        "avaliacao = pd.read_csv('/content/drive/MyDrive/machine-learning-project/ratings_export.csv')"
      ]
    },
    {
      "cell_type": "markdown",
      "source": [
        "## Visualização dos dados"
      ],
      "metadata": {
        "id": "nwI5rhK3kE2-"
      }
    },
    {
      "cell_type": "markdown",
      "source": [
        "### Tabela Usuário"
      ],
      "metadata": {
        "id": "Fs28YXvlkMR1"
      }
    },
    {
      "cell_type": "code",
      "source": [
        "usuario.head()"
      ],
      "metadata": {
        "id": "bUZpJ1viZI9N",
        "colab": {
          "base_uri": "https://localhost:8080/",
          "height": 206
        },
        "outputId": "616e03d6-208d-4cf2-cb27-32574ea1f330"
      },
      "execution_count": 32,
      "outputs": [
        {
          "output_type": "execute_result",
          "data": {
            "text/plain": [
              "                        _id display_name  num_ratings_pages  num_reviews  \\\n",
              "0  5fc4172ec6cd28ebd99dd0e2         Lucy               32.0         1650   \n",
              "1  5fc4172ec6cd28ebd99dd0ea  Matt Singer               52.0         1915   \n",
              "2  5fc4172ec6cd28ebd99dd0ed   Sean Baker               21.0         1283   \n",
              "3  5fc4172ec6cd28ebd99dd0ee         iana               37.0         1177   \n",
              "4  5fc419171ebf67b9fbe48615        Lizzy               57.0         1810   \n",
              "\n",
              "          username  \n",
              "0       deathproof  \n",
              "1       superpulse  \n",
              "2          lilfilm  \n",
              "3       ianamurray  \n",
              "4  punchdrunklizzy  "
            ],
            "text/html": [
              "\n",
              "  <div id=\"df-78f98af1-efef-459f-8034-86b8c0034943\">\n",
              "    <div class=\"colab-df-container\">\n",
              "      <div>\n",
              "<style scoped>\n",
              "    .dataframe tbody tr th:only-of-type {\n",
              "        vertical-align: middle;\n",
              "    }\n",
              "\n",
              "    .dataframe tbody tr th {\n",
              "        vertical-align: top;\n",
              "    }\n",
              "\n",
              "    .dataframe thead th {\n",
              "        text-align: right;\n",
              "    }\n",
              "</style>\n",
              "<table border=\"1\" class=\"dataframe\">\n",
              "  <thead>\n",
              "    <tr style=\"text-align: right;\">\n",
              "      <th></th>\n",
              "      <th>_id</th>\n",
              "      <th>display_name</th>\n",
              "      <th>num_ratings_pages</th>\n",
              "      <th>num_reviews</th>\n",
              "      <th>username</th>\n",
              "    </tr>\n",
              "  </thead>\n",
              "  <tbody>\n",
              "    <tr>\n",
              "      <th>0</th>\n",
              "      <td>5fc4172ec6cd28ebd99dd0e2</td>\n",
              "      <td>Lucy</td>\n",
              "      <td>32.0</td>\n",
              "      <td>1650</td>\n",
              "      <td>deathproof</td>\n",
              "    </tr>\n",
              "    <tr>\n",
              "      <th>1</th>\n",
              "      <td>5fc4172ec6cd28ebd99dd0ea</td>\n",
              "      <td>Matt Singer</td>\n",
              "      <td>52.0</td>\n",
              "      <td>1915</td>\n",
              "      <td>superpulse</td>\n",
              "    </tr>\n",
              "    <tr>\n",
              "      <th>2</th>\n",
              "      <td>5fc4172ec6cd28ebd99dd0ed</td>\n",
              "      <td>Sean Baker</td>\n",
              "      <td>21.0</td>\n",
              "      <td>1283</td>\n",
              "      <td>lilfilm</td>\n",
              "    </tr>\n",
              "    <tr>\n",
              "      <th>3</th>\n",
              "      <td>5fc4172ec6cd28ebd99dd0ee</td>\n",
              "      <td>iana</td>\n",
              "      <td>37.0</td>\n",
              "      <td>1177</td>\n",
              "      <td>ianamurray</td>\n",
              "    </tr>\n",
              "    <tr>\n",
              "      <th>4</th>\n",
              "      <td>5fc419171ebf67b9fbe48615</td>\n",
              "      <td>Lizzy</td>\n",
              "      <td>57.0</td>\n",
              "      <td>1810</td>\n",
              "      <td>punchdrunklizzy</td>\n",
              "    </tr>\n",
              "  </tbody>\n",
              "</table>\n",
              "</div>\n",
              "      <button class=\"colab-df-convert\" onclick=\"convertToInteractive('df-78f98af1-efef-459f-8034-86b8c0034943')\"\n",
              "              title=\"Convert this dataframe to an interactive table.\"\n",
              "              style=\"display:none;\">\n",
              "        \n",
              "  <svg xmlns=\"http://www.w3.org/2000/svg\" height=\"24px\"viewBox=\"0 0 24 24\"\n",
              "       width=\"24px\">\n",
              "    <path d=\"M0 0h24v24H0V0z\" fill=\"none\"/>\n",
              "    <path d=\"M18.56 5.44l.94 2.06.94-2.06 2.06-.94-2.06-.94-.94-2.06-.94 2.06-2.06.94zm-11 1L8.5 8.5l.94-2.06 2.06-.94-2.06-.94L8.5 2.5l-.94 2.06-2.06.94zm10 10l.94 2.06.94-2.06 2.06-.94-2.06-.94-.94-2.06-.94 2.06-2.06.94z\"/><path d=\"M17.41 7.96l-1.37-1.37c-.4-.4-.92-.59-1.43-.59-.52 0-1.04.2-1.43.59L10.3 9.45l-7.72 7.72c-.78.78-.78 2.05 0 2.83L4 21.41c.39.39.9.59 1.41.59.51 0 1.02-.2 1.41-.59l7.78-7.78 2.81-2.81c.8-.78.8-2.07 0-2.86zM5.41 20L4 18.59l7.72-7.72 1.47 1.35L5.41 20z\"/>\n",
              "  </svg>\n",
              "      </button>\n",
              "      \n",
              "  <style>\n",
              "    .colab-df-container {\n",
              "      display:flex;\n",
              "      flex-wrap:wrap;\n",
              "      gap: 12px;\n",
              "    }\n",
              "\n",
              "    .colab-df-convert {\n",
              "      background-color: #E8F0FE;\n",
              "      border: none;\n",
              "      border-radius: 50%;\n",
              "      cursor: pointer;\n",
              "      display: none;\n",
              "      fill: #1967D2;\n",
              "      height: 32px;\n",
              "      padding: 0 0 0 0;\n",
              "      width: 32px;\n",
              "    }\n",
              "\n",
              "    .colab-df-convert:hover {\n",
              "      background-color: #E2EBFA;\n",
              "      box-shadow: 0px 1px 2px rgba(60, 64, 67, 0.3), 0px 1px 3px 1px rgba(60, 64, 67, 0.15);\n",
              "      fill: #174EA6;\n",
              "    }\n",
              "\n",
              "    [theme=dark] .colab-df-convert {\n",
              "      background-color: #3B4455;\n",
              "      fill: #D2E3FC;\n",
              "    }\n",
              "\n",
              "    [theme=dark] .colab-df-convert:hover {\n",
              "      background-color: #434B5C;\n",
              "      box-shadow: 0px 1px 3px 1px rgba(0, 0, 0, 0.15);\n",
              "      filter: drop-shadow(0px 1px 2px rgba(0, 0, 0, 0.3));\n",
              "      fill: #FFFFFF;\n",
              "    }\n",
              "  </style>\n",
              "\n",
              "      <script>\n",
              "        const buttonEl =\n",
              "          document.querySelector('#df-78f98af1-efef-459f-8034-86b8c0034943 button.colab-df-convert');\n",
              "        buttonEl.style.display =\n",
              "          google.colab.kernel.accessAllowed ? 'block' : 'none';\n",
              "\n",
              "        async function convertToInteractive(key) {\n",
              "          const element = document.querySelector('#df-78f98af1-efef-459f-8034-86b8c0034943');\n",
              "          const dataTable =\n",
              "            await google.colab.kernel.invokeFunction('convertToInteractive',\n",
              "                                                     [key], {});\n",
              "          if (!dataTable) return;\n",
              "\n",
              "          const docLinkHtml = 'Like what you see? Visit the ' +\n",
              "            '<a target=\"_blank\" href=https://colab.research.google.com/notebooks/data_table.ipynb>data table notebook</a>'\n",
              "            + ' to learn more about interactive tables.';\n",
              "          element.innerHTML = '';\n",
              "          dataTable['output_type'] = 'display_data';\n",
              "          await google.colab.output.renderOutput(dataTable, element);\n",
              "          const docLink = document.createElement('div');\n",
              "          docLink.innerHTML = docLinkHtml;\n",
              "          element.appendChild(docLink);\n",
              "        }\n",
              "      </script>\n",
              "    </div>\n",
              "  </div>\n",
              "  "
            ]
          },
          "metadata": {},
          "execution_count": 32
        }
      ]
    },
    {
      "cell_type": "code",
      "source": [
        "usuario.columns"
      ],
      "metadata": {
        "id": "CFET3xFDftlt",
        "colab": {
          "base_uri": "https://localhost:8080/"
        },
        "outputId": "7cbb8a1d-72e0-4c13-ca70-ecb347658f0f"
      },
      "execution_count": 33,
      "outputs": [
        {
          "output_type": "execute_result",
          "data": {
            "text/plain": [
              "Index(['_id', 'display_name', 'num_ratings_pages', 'num_reviews', 'username'], dtype='object')"
            ]
          },
          "metadata": {},
          "execution_count": 33
        }
      ]
    },
    {
      "cell_type": "markdown",
      "source": [
        "**_id** = ID exclusivo global.\n",
        "\n",
        "**display_name** = Nome de exibição em Letterboxd no momento do último rastreamento.\n",
        "\n",
        "**num_ratings_pages** = Número de páginas de avaliações.\n",
        "\n",
        "**num_reviews** = Número total de avaliações feitas por este usuário.\n",
        "\n",
        "**username** = Letterboxd ID/nome de usuário exclusivo. Pode ser usado para formar um URL Letterboxd."
      ],
      "metadata": {
        "id": "_PJjDLeZgjlH"
      }
    },
    {
      "cell_type": "code",
      "source": [
        "usuario.info()"
      ],
      "metadata": {
        "id": "txjOVWt_jous",
        "colab": {
          "base_uri": "https://localhost:8080/"
        },
        "outputId": "fa335a2c-d979-4341-802b-54dbae1a587d"
      },
      "execution_count": 34,
      "outputs": [
        {
          "output_type": "stream",
          "name": "stdout",
          "text": [
            "<class 'pandas.core.frame.DataFrame'>\n",
            "RangeIndex: 8139 entries, 0 to 8138\n",
            "Data columns (total 5 columns):\n",
            " #   Column             Non-Null Count  Dtype  \n",
            "---  ------             --------------  -----  \n",
            " 0   _id                8139 non-null   object \n",
            " 1   display_name       7832 non-null   object \n",
            " 2   num_ratings_pages  4747 non-null   float64\n",
            " 3   num_reviews        8139 non-null   int64  \n",
            " 4   username           8139 non-null   object \n",
            "dtypes: float64(1), int64(1), object(3)\n",
            "memory usage: 318.1+ KB\n"
          ]
        }
      ]
    },
    {
      "cell_type": "code",
      "source": [
        "usuario.isnull().sum()"
      ],
      "metadata": {
        "id": "EnWtE9ahZMjG",
        "colab": {
          "base_uri": "https://localhost:8080/"
        },
        "outputId": "a4606758-2d28-4ea1-c294-f2e1b0f7d06d"
      },
      "execution_count": 35,
      "outputs": [
        {
          "output_type": "execute_result",
          "data": {
            "text/plain": [
              "_id                     0\n",
              "display_name          307\n",
              "num_ratings_pages    3392\n",
              "num_reviews             0\n",
              "username                0\n",
              "dtype: int64"
            ]
          },
          "metadata": {},
          "execution_count": 35
        }
      ]
    },
    {
      "cell_type": "code",
      "source": [
        "usuario.index.value_counts().sum()"
      ],
      "metadata": {
        "id": "b7RxpKGg47EB",
        "colab": {
          "base_uri": "https://localhost:8080/"
        },
        "outputId": "6daed3ff-486c-46b3-91b2-673b63412375"
      },
      "execution_count": 36,
      "outputs": [
        {
          "output_type": "execute_result",
          "data": {
            "text/plain": [
              "8139"
            ]
          },
          "metadata": {},
          "execution_count": 36
        }
      ]
    },
    {
      "cell_type": "markdown",
      "source": [
        "### Tabela Dados dos filmes"
      ],
      "metadata": {
        "id": "LVeuGn8WkYmE"
      }
    },
    {
      "cell_type": "code",
      "source": [
        "dados_dos_filmes.head()"
      ],
      "metadata": {
        "id": "pZjMpIeIaAd2",
        "colab": {
          "base_uri": "https://localhost:8080/",
          "height": 704
        },
        "outputId": "0d270060-3e52-4fa5-f8a6-01e608cc017c"
      },
      "execution_count": 37,
      "outputs": [
        {
          "output_type": "execute_result",
          "data": {
            "text/plain": [
              "                        _id                 genres  \\\n",
              "0  5fc85f606758f69634496fd3  [\"Music\",\"Animation\"]   \n",
              "1  5fc85ff26758f696344ace0c                     []   \n",
              "2  5fc85f606758f69634496fcd              [\"Drama\"]   \n",
              "3  5fc85f606758f69634496fd1              [\"Drama\"]   \n",
              "4  5fc85f606758f69634496fd4        [\"Documentary\"]   \n",
              "\n",
              "                                           image_url    imdb_id  \\\n",
              "0  film-poster/4/6/4/4/4/0/464440-football-freaks...        NaN   \n",
              "1  film-poster/2/4/5/5/0/0/245500-aftermath-0-230...  tt0586129   \n",
              "2  film-poster/9/3/3/1/8/93318-where-chimneys-are...  tt0045731   \n",
              "3                                                NaN  tt0187327   \n",
              "4  film-poster/4/5/4/6/0/3/454603-50-years-of-fab...  tt4769914   \n",
              "\n",
              "                                         imdb_link                 movie_id  \\\n",
              "0                                              NaN          football-freaks   \n",
              "1  http://www.imdb.com/title/tt0586129/maindetails           aftermath-1960   \n",
              "2  http://www.imdb.com/title/tt0045731/maindetails  where-chimneys-are-seen   \n",
              "3  http://www.imdb.com/title/tt0187327/maindetails   the-musicians-daughter   \n",
              "4  http://www.imdb.com/title/tt4769914/maindetails     50-years-of-fabulous   \n",
              "\n",
              "               movie_title original_language  \\\n",
              "0          Football Freaks                en   \n",
              "1                Aftermath                en   \n",
              "2  Where Chimneys Are Seen                ja   \n",
              "3  The Musician's Daughter                en   \n",
              "4     50 Years of Fabulous                en   \n",
              "\n",
              "                                            overview  popularity  \\\n",
              "0  Football crazy, football mad. Don’t watch this...       0.600   \n",
              "1  Aftermath was the pilot for an unsold TV serie...       0.600   \n",
              "2  Gosho’s most celebrated film both in Japan and...       1.568   \n",
              "3  Carl Wagner's good wife was dying. His heart b...       0.600   \n",
              "4  50 Years of Fabulous recounts the rich history...       0.600   \n",
              "\n",
              "           production_countries release_date  runtime spoken_languages  \\\n",
              "0            [\"United Kingdom\"]   1971-12-05      0.0               []   \n",
              "1                            []   1960-04-17     22.0               []   \n",
              "2                     [\"Japan\"]   1953-03-05    108.0          [\"日本語\"]   \n",
              "3  [\"United States of America\"]   1911-12-12     15.0               []   \n",
              "4                            []   2018-05-17     75.0               []   \n",
              "\n",
              "    tmdb_id                                 tmdb_link  vote_average  \\\n",
              "0  535272.0  https://www.themoviedb.org/movie/535272/           0.0   \n",
              "1  318331.0  https://www.themoviedb.org/movie/318331/           8.0   \n",
              "2  117779.0  https://www.themoviedb.org/movie/117779/           6.6   \n",
              "3  560377.0  https://www.themoviedb.org/movie/560377/           0.0   \n",
              "4  525187.0  https://www.themoviedb.org/movie/525187/           0.0   \n",
              "\n",
              "   vote_count  year_released  \n",
              "0         0.0         1971.0  \n",
              "1         1.0         1960.0  \n",
              "2        10.0         1953.0  \n",
              "3         0.0         1911.0  \n",
              "4         0.0         2018.0  "
            ],
            "text/html": [
              "\n",
              "  <div id=\"df-812a58e0-7ff9-47ee-a3fb-008d5a9a4592\">\n",
              "    <div class=\"colab-df-container\">\n",
              "      <div>\n",
              "<style scoped>\n",
              "    .dataframe tbody tr th:only-of-type {\n",
              "        vertical-align: middle;\n",
              "    }\n",
              "\n",
              "    .dataframe tbody tr th {\n",
              "        vertical-align: top;\n",
              "    }\n",
              "\n",
              "    .dataframe thead th {\n",
              "        text-align: right;\n",
              "    }\n",
              "</style>\n",
              "<table border=\"1\" class=\"dataframe\">\n",
              "  <thead>\n",
              "    <tr style=\"text-align: right;\">\n",
              "      <th></th>\n",
              "      <th>_id</th>\n",
              "      <th>genres</th>\n",
              "      <th>image_url</th>\n",
              "      <th>imdb_id</th>\n",
              "      <th>imdb_link</th>\n",
              "      <th>movie_id</th>\n",
              "      <th>movie_title</th>\n",
              "      <th>original_language</th>\n",
              "      <th>overview</th>\n",
              "      <th>popularity</th>\n",
              "      <th>production_countries</th>\n",
              "      <th>release_date</th>\n",
              "      <th>runtime</th>\n",
              "      <th>spoken_languages</th>\n",
              "      <th>tmdb_id</th>\n",
              "      <th>tmdb_link</th>\n",
              "      <th>vote_average</th>\n",
              "      <th>vote_count</th>\n",
              "      <th>year_released</th>\n",
              "    </tr>\n",
              "  </thead>\n",
              "  <tbody>\n",
              "    <tr>\n",
              "      <th>0</th>\n",
              "      <td>5fc85f606758f69634496fd3</td>\n",
              "      <td>[\"Music\",\"Animation\"]</td>\n",
              "      <td>film-poster/4/6/4/4/4/0/464440-football-freaks...</td>\n",
              "      <td>NaN</td>\n",
              "      <td>NaN</td>\n",
              "      <td>football-freaks</td>\n",
              "      <td>Football Freaks</td>\n",
              "      <td>en</td>\n",
              "      <td>Football crazy, football mad. Don’t watch this...</td>\n",
              "      <td>0.600</td>\n",
              "      <td>[\"United Kingdom\"]</td>\n",
              "      <td>1971-12-05</td>\n",
              "      <td>0.0</td>\n",
              "      <td>[]</td>\n",
              "      <td>535272.0</td>\n",
              "      <td>https://www.themoviedb.org/movie/535272/</td>\n",
              "      <td>0.0</td>\n",
              "      <td>0.0</td>\n",
              "      <td>1971.0</td>\n",
              "    </tr>\n",
              "    <tr>\n",
              "      <th>1</th>\n",
              "      <td>5fc85ff26758f696344ace0c</td>\n",
              "      <td>[]</td>\n",
              "      <td>film-poster/2/4/5/5/0/0/245500-aftermath-0-230...</td>\n",
              "      <td>tt0586129</td>\n",
              "      <td>http://www.imdb.com/title/tt0586129/maindetails</td>\n",
              "      <td>aftermath-1960</td>\n",
              "      <td>Aftermath</td>\n",
              "      <td>en</td>\n",
              "      <td>Aftermath was the pilot for an unsold TV serie...</td>\n",
              "      <td>0.600</td>\n",
              "      <td>[]</td>\n",
              "      <td>1960-04-17</td>\n",
              "      <td>22.0</td>\n",
              "      <td>[]</td>\n",
              "      <td>318331.0</td>\n",
              "      <td>https://www.themoviedb.org/movie/318331/</td>\n",
              "      <td>8.0</td>\n",
              "      <td>1.0</td>\n",
              "      <td>1960.0</td>\n",
              "    </tr>\n",
              "    <tr>\n",
              "      <th>2</th>\n",
              "      <td>5fc85f606758f69634496fcd</td>\n",
              "      <td>[\"Drama\"]</td>\n",
              "      <td>film-poster/9/3/3/1/8/93318-where-chimneys-are...</td>\n",
              "      <td>tt0045731</td>\n",
              "      <td>http://www.imdb.com/title/tt0045731/maindetails</td>\n",
              "      <td>where-chimneys-are-seen</td>\n",
              "      <td>Where Chimneys Are Seen</td>\n",
              "      <td>ja</td>\n",
              "      <td>Gosho’s most celebrated film both in Japan and...</td>\n",
              "      <td>1.568</td>\n",
              "      <td>[\"Japan\"]</td>\n",
              "      <td>1953-03-05</td>\n",
              "      <td>108.0</td>\n",
              "      <td>[\"日本語\"]</td>\n",
              "      <td>117779.0</td>\n",
              "      <td>https://www.themoviedb.org/movie/117779/</td>\n",
              "      <td>6.6</td>\n",
              "      <td>10.0</td>\n",
              "      <td>1953.0</td>\n",
              "    </tr>\n",
              "    <tr>\n",
              "      <th>3</th>\n",
              "      <td>5fc85f606758f69634496fd1</td>\n",
              "      <td>[\"Drama\"]</td>\n",
              "      <td>NaN</td>\n",
              "      <td>tt0187327</td>\n",
              "      <td>http://www.imdb.com/title/tt0187327/maindetails</td>\n",
              "      <td>the-musicians-daughter</td>\n",
              "      <td>The Musician's Daughter</td>\n",
              "      <td>en</td>\n",
              "      <td>Carl Wagner's good wife was dying. His heart b...</td>\n",
              "      <td>0.600</td>\n",
              "      <td>[\"United States of America\"]</td>\n",
              "      <td>1911-12-12</td>\n",
              "      <td>15.0</td>\n",
              "      <td>[]</td>\n",
              "      <td>560377.0</td>\n",
              "      <td>https://www.themoviedb.org/movie/560377/</td>\n",
              "      <td>0.0</td>\n",
              "      <td>0.0</td>\n",
              "      <td>1911.0</td>\n",
              "    </tr>\n",
              "    <tr>\n",
              "      <th>4</th>\n",
              "      <td>5fc85f606758f69634496fd4</td>\n",
              "      <td>[\"Documentary\"]</td>\n",
              "      <td>film-poster/4/5/4/6/0/3/454603-50-years-of-fab...</td>\n",
              "      <td>tt4769914</td>\n",
              "      <td>http://www.imdb.com/title/tt4769914/maindetails</td>\n",
              "      <td>50-years-of-fabulous</td>\n",
              "      <td>50 Years of Fabulous</td>\n",
              "      <td>en</td>\n",
              "      <td>50 Years of Fabulous recounts the rich history...</td>\n",
              "      <td>0.600</td>\n",
              "      <td>[]</td>\n",
              "      <td>2018-05-17</td>\n",
              "      <td>75.0</td>\n",
              "      <td>[]</td>\n",
              "      <td>525187.0</td>\n",
              "      <td>https://www.themoviedb.org/movie/525187/</td>\n",
              "      <td>0.0</td>\n",
              "      <td>0.0</td>\n",
              "      <td>2018.0</td>\n",
              "    </tr>\n",
              "  </tbody>\n",
              "</table>\n",
              "</div>\n",
              "      <button class=\"colab-df-convert\" onclick=\"convertToInteractive('df-812a58e0-7ff9-47ee-a3fb-008d5a9a4592')\"\n",
              "              title=\"Convert this dataframe to an interactive table.\"\n",
              "              style=\"display:none;\">\n",
              "        \n",
              "  <svg xmlns=\"http://www.w3.org/2000/svg\" height=\"24px\"viewBox=\"0 0 24 24\"\n",
              "       width=\"24px\">\n",
              "    <path d=\"M0 0h24v24H0V0z\" fill=\"none\"/>\n",
              "    <path d=\"M18.56 5.44l.94 2.06.94-2.06 2.06-.94-2.06-.94-.94-2.06-.94 2.06-2.06.94zm-11 1L8.5 8.5l.94-2.06 2.06-.94-2.06-.94L8.5 2.5l-.94 2.06-2.06.94zm10 10l.94 2.06.94-2.06 2.06-.94-2.06-.94-.94-2.06-.94 2.06-2.06.94z\"/><path d=\"M17.41 7.96l-1.37-1.37c-.4-.4-.92-.59-1.43-.59-.52 0-1.04.2-1.43.59L10.3 9.45l-7.72 7.72c-.78.78-.78 2.05 0 2.83L4 21.41c.39.39.9.59 1.41.59.51 0 1.02-.2 1.41-.59l7.78-7.78 2.81-2.81c.8-.78.8-2.07 0-2.86zM5.41 20L4 18.59l7.72-7.72 1.47 1.35L5.41 20z\"/>\n",
              "  </svg>\n",
              "      </button>\n",
              "      \n",
              "  <style>\n",
              "    .colab-df-container {\n",
              "      display:flex;\n",
              "      flex-wrap:wrap;\n",
              "      gap: 12px;\n",
              "    }\n",
              "\n",
              "    .colab-df-convert {\n",
              "      background-color: #E8F0FE;\n",
              "      border: none;\n",
              "      border-radius: 50%;\n",
              "      cursor: pointer;\n",
              "      display: none;\n",
              "      fill: #1967D2;\n",
              "      height: 32px;\n",
              "      padding: 0 0 0 0;\n",
              "      width: 32px;\n",
              "    }\n",
              "\n",
              "    .colab-df-convert:hover {\n",
              "      background-color: #E2EBFA;\n",
              "      box-shadow: 0px 1px 2px rgba(60, 64, 67, 0.3), 0px 1px 3px 1px rgba(60, 64, 67, 0.15);\n",
              "      fill: #174EA6;\n",
              "    }\n",
              "\n",
              "    [theme=dark] .colab-df-convert {\n",
              "      background-color: #3B4455;\n",
              "      fill: #D2E3FC;\n",
              "    }\n",
              "\n",
              "    [theme=dark] .colab-df-convert:hover {\n",
              "      background-color: #434B5C;\n",
              "      box-shadow: 0px 1px 3px 1px rgba(0, 0, 0, 0.15);\n",
              "      filter: drop-shadow(0px 1px 2px rgba(0, 0, 0, 0.3));\n",
              "      fill: #FFFFFF;\n",
              "    }\n",
              "  </style>\n",
              "\n",
              "      <script>\n",
              "        const buttonEl =\n",
              "          document.querySelector('#df-812a58e0-7ff9-47ee-a3fb-008d5a9a4592 button.colab-df-convert');\n",
              "        buttonEl.style.display =\n",
              "          google.colab.kernel.accessAllowed ? 'block' : 'none';\n",
              "\n",
              "        async function convertToInteractive(key) {\n",
              "          const element = document.querySelector('#df-812a58e0-7ff9-47ee-a3fb-008d5a9a4592');\n",
              "          const dataTable =\n",
              "            await google.colab.kernel.invokeFunction('convertToInteractive',\n",
              "                                                     [key], {});\n",
              "          if (!dataTable) return;\n",
              "\n",
              "          const docLinkHtml = 'Like what you see? Visit the ' +\n",
              "            '<a target=\"_blank\" href=https://colab.research.google.com/notebooks/data_table.ipynb>data table notebook</a>'\n",
              "            + ' to learn more about interactive tables.';\n",
              "          element.innerHTML = '';\n",
              "          dataTable['output_type'] = 'display_data';\n",
              "          await google.colab.output.renderOutput(dataTable, element);\n",
              "          const docLink = document.createElement('div');\n",
              "          docLink.innerHTML = docLinkHtml;\n",
              "          element.appendChild(docLink);\n",
              "        }\n",
              "      </script>\n",
              "    </div>\n",
              "  </div>\n",
              "  "
            ]
          },
          "metadata": {},
          "execution_count": 37
        }
      ]
    },
    {
      "cell_type": "code",
      "source": [
        "dados_dos_filmes.columns"
      ],
      "metadata": {
        "id": "oei0ruHJwLBH",
        "colab": {
          "base_uri": "https://localhost:8080/"
        },
        "outputId": "1de227e7-b2fc-4d78-ee19-b320dca8f03e"
      },
      "execution_count": 38,
      "outputs": [
        {
          "output_type": "execute_result",
          "data": {
            "text/plain": [
              "Index(['_id', 'genres', 'image_url', 'imdb_id', 'imdb_link', 'movie_id',\n",
              "       'movie_title', 'original_language', 'overview', 'popularity',\n",
              "       'production_countries', 'release_date', 'runtime', 'spoken_languages',\n",
              "       'tmdb_id', 'tmdb_link', 'vote_average', 'vote_count', 'year_released'],\n",
              "      dtype='object')"
            ]
          },
          "metadata": {},
          "execution_count": 38
        }
      ]
    },
    {
      "cell_type": "markdown",
      "source": [
        "**_id** = ID exclusivo global.\n",
        "\n",
        "**genres** = Array  de gêneros de filmes associados.\n",
        "\n",
        "**image_url** = Imagem usada no site Letterboxd para o filme. Geralmente um pôster.\n",
        "\n",
        "**imdb_id** = ID para IMDB.\n",
        "\n",
        "**imdb_link** = Link para a página IMDB do filme.\n",
        "\n",
        "**movie_id** = Identificação do filme Letterboxd.\n",
        "\n",
        "**movie_title** = Título de exibição.\n",
        "\n",
        "**original_language** = Idioma original do filme\n",
        "\n",
        "**overview** = Descrição do filme\n",
        "\n",
        "**popularity** = Popularidade numérica \n",
        "\n",
        "**production_countries** = Matriz de países em que o filme foi produzido \n",
        "\n",
        "**release_date** = Data de lançamento\n",
        "\n",
        "**runtime** = Tempo de execução em minutos\n",
        "\n",
        "**spoken_languages** = Array de todos os idiomas falados no filme\n",
        "\n",
        "**tmdb_id** = ID para acessar dados na API\n",
        "\n",
        "**tmdb_link** = Link para a entrada do filme no TMDB\n",
        "\n",
        "**vote_average** = Média de votos\n",
        "\n",
        "**vote_count** = contagem de votos\n",
        "\n",
        "**year_released** = Ano lançado"
      ],
      "metadata": {
        "id": "soabw53oznmR"
      }
    },
    {
      "cell_type": "code",
      "source": [
        "dados_dos_filmes.info()"
      ],
      "metadata": {
        "id": "cWiJc5P5fRde",
        "colab": {
          "base_uri": "https://localhost:8080/"
        },
        "outputId": "c192c011-acfe-4f68-a964-b779f7838ab2"
      },
      "execution_count": 39,
      "outputs": [
        {
          "output_type": "stream",
          "name": "stdout",
          "text": [
            "<class 'pandas.core.frame.DataFrame'>\n",
            "RangeIndex: 285504 entries, 0 to 285503\n",
            "Data columns (total 19 columns):\n",
            " #   Column                Non-Null Count   Dtype  \n",
            "---  ------                --------------   -----  \n",
            " 0   _id                   285504 non-null  object \n",
            " 1   genres                274872 non-null  object \n",
            " 2   image_url             264407 non-null  object \n",
            " 3   imdb_id               243802 non-null  object \n",
            " 4   imdb_link             243802 non-null  object \n",
            " 5   movie_id              285502 non-null  object \n",
            " 6   movie_title           283340 non-null  object \n",
            " 7   original_language     274872 non-null  object \n",
            " 8   overview              261248 non-null  object \n",
            " 9   popularity            274872 non-null  float64\n",
            " 10  production_countries  274872 non-null  object \n",
            " 11  release_date          271050 non-null  object \n",
            " 12  runtime               270055 non-null  float64\n",
            " 13  spoken_languages      274872 non-null  object \n",
            " 14  tmdb_id               279917 non-null  float64\n",
            " 15  tmdb_link             279917 non-null  object \n",
            " 16  vote_average          274872 non-null  float64\n",
            " 17  vote_count            274872 non-null  float64\n",
            " 18  year_released         277932 non-null  float64\n",
            "dtypes: float64(6), object(13)\n",
            "memory usage: 41.4+ MB\n"
          ]
        }
      ]
    },
    {
      "cell_type": "code",
      "source": [
        "dados_dos_filmes.index.value_counts().sum()"
      ],
      "metadata": {
        "colab": {
          "base_uri": "https://localhost:8080/"
        },
        "id": "HNnzQlx46Htg",
        "outputId": "cb421119-918f-404b-c000-157fec8e39a2"
      },
      "execution_count": 40,
      "outputs": [
        {
          "output_type": "execute_result",
          "data": {
            "text/plain": [
              "285504"
            ]
          },
          "metadata": {},
          "execution_count": 40
        }
      ]
    },
    {
      "cell_type": "markdown",
      "source": [
        "### Tabela Avaliação"
      ],
      "metadata": {
        "id": "rzUjvuQqkd-0"
      }
    },
    {
      "cell_type": "code",
      "source": [
        "avaliacao.head()"
      ],
      "metadata": {
        "id": "NQtJNMo5i1BN",
        "colab": {
          "base_uri": "https://localhost:8080/",
          "height": 206
        },
        "outputId": "2798b876-0c0a-4b21-ed3c-415946f7f49b"
      },
      "execution_count": 41,
      "outputs": [
        {
          "output_type": "execute_result",
          "data": {
            "text/plain": [
              "                        _id          movie_id  rating_val     user_id\n",
              "0  5fc57c5d6758f6963451a07f        feast-2014           7  deathproof\n",
              "1  5fc57c5d6758f6963451a063       loving-2016           7  deathproof\n",
              "2  5fc57c5d6758f6963451a0ef  scripted-content           7  deathproof\n",
              "3  5fc57c5d6758f6963451a060        the-future           4  deathproof\n",
              "4  5fc57c5c6758f69634519398              mank           5  deathproof"
            ],
            "text/html": [
              "\n",
              "  <div id=\"df-f6ef4d1c-f0db-4aa7-933f-ab080b2362e7\">\n",
              "    <div class=\"colab-df-container\">\n",
              "      <div>\n",
              "<style scoped>\n",
              "    .dataframe tbody tr th:only-of-type {\n",
              "        vertical-align: middle;\n",
              "    }\n",
              "\n",
              "    .dataframe tbody tr th {\n",
              "        vertical-align: top;\n",
              "    }\n",
              "\n",
              "    .dataframe thead th {\n",
              "        text-align: right;\n",
              "    }\n",
              "</style>\n",
              "<table border=\"1\" class=\"dataframe\">\n",
              "  <thead>\n",
              "    <tr style=\"text-align: right;\">\n",
              "      <th></th>\n",
              "      <th>_id</th>\n",
              "      <th>movie_id</th>\n",
              "      <th>rating_val</th>\n",
              "      <th>user_id</th>\n",
              "    </tr>\n",
              "  </thead>\n",
              "  <tbody>\n",
              "    <tr>\n",
              "      <th>0</th>\n",
              "      <td>5fc57c5d6758f6963451a07f</td>\n",
              "      <td>feast-2014</td>\n",
              "      <td>7</td>\n",
              "      <td>deathproof</td>\n",
              "    </tr>\n",
              "    <tr>\n",
              "      <th>1</th>\n",
              "      <td>5fc57c5d6758f6963451a063</td>\n",
              "      <td>loving-2016</td>\n",
              "      <td>7</td>\n",
              "      <td>deathproof</td>\n",
              "    </tr>\n",
              "    <tr>\n",
              "      <th>2</th>\n",
              "      <td>5fc57c5d6758f6963451a0ef</td>\n",
              "      <td>scripted-content</td>\n",
              "      <td>7</td>\n",
              "      <td>deathproof</td>\n",
              "    </tr>\n",
              "    <tr>\n",
              "      <th>3</th>\n",
              "      <td>5fc57c5d6758f6963451a060</td>\n",
              "      <td>the-future</td>\n",
              "      <td>4</td>\n",
              "      <td>deathproof</td>\n",
              "    </tr>\n",
              "    <tr>\n",
              "      <th>4</th>\n",
              "      <td>5fc57c5c6758f69634519398</td>\n",
              "      <td>mank</td>\n",
              "      <td>5</td>\n",
              "      <td>deathproof</td>\n",
              "    </tr>\n",
              "  </tbody>\n",
              "</table>\n",
              "</div>\n",
              "      <button class=\"colab-df-convert\" onclick=\"convertToInteractive('df-f6ef4d1c-f0db-4aa7-933f-ab080b2362e7')\"\n",
              "              title=\"Convert this dataframe to an interactive table.\"\n",
              "              style=\"display:none;\">\n",
              "        \n",
              "  <svg xmlns=\"http://www.w3.org/2000/svg\" height=\"24px\"viewBox=\"0 0 24 24\"\n",
              "       width=\"24px\">\n",
              "    <path d=\"M0 0h24v24H0V0z\" fill=\"none\"/>\n",
              "    <path d=\"M18.56 5.44l.94 2.06.94-2.06 2.06-.94-2.06-.94-.94-2.06-.94 2.06-2.06.94zm-11 1L8.5 8.5l.94-2.06 2.06-.94-2.06-.94L8.5 2.5l-.94 2.06-2.06.94zm10 10l.94 2.06.94-2.06 2.06-.94-2.06-.94-.94-2.06-.94 2.06-2.06.94z\"/><path d=\"M17.41 7.96l-1.37-1.37c-.4-.4-.92-.59-1.43-.59-.52 0-1.04.2-1.43.59L10.3 9.45l-7.72 7.72c-.78.78-.78 2.05 0 2.83L4 21.41c.39.39.9.59 1.41.59.51 0 1.02-.2 1.41-.59l7.78-7.78 2.81-2.81c.8-.78.8-2.07 0-2.86zM5.41 20L4 18.59l7.72-7.72 1.47 1.35L5.41 20z\"/>\n",
              "  </svg>\n",
              "      </button>\n",
              "      \n",
              "  <style>\n",
              "    .colab-df-container {\n",
              "      display:flex;\n",
              "      flex-wrap:wrap;\n",
              "      gap: 12px;\n",
              "    }\n",
              "\n",
              "    .colab-df-convert {\n",
              "      background-color: #E8F0FE;\n",
              "      border: none;\n",
              "      border-radius: 50%;\n",
              "      cursor: pointer;\n",
              "      display: none;\n",
              "      fill: #1967D2;\n",
              "      height: 32px;\n",
              "      padding: 0 0 0 0;\n",
              "      width: 32px;\n",
              "    }\n",
              "\n",
              "    .colab-df-convert:hover {\n",
              "      background-color: #E2EBFA;\n",
              "      box-shadow: 0px 1px 2px rgba(60, 64, 67, 0.3), 0px 1px 3px 1px rgba(60, 64, 67, 0.15);\n",
              "      fill: #174EA6;\n",
              "    }\n",
              "\n",
              "    [theme=dark] .colab-df-convert {\n",
              "      background-color: #3B4455;\n",
              "      fill: #D2E3FC;\n",
              "    }\n",
              "\n",
              "    [theme=dark] .colab-df-convert:hover {\n",
              "      background-color: #434B5C;\n",
              "      box-shadow: 0px 1px 3px 1px rgba(0, 0, 0, 0.15);\n",
              "      filter: drop-shadow(0px 1px 2px rgba(0, 0, 0, 0.3));\n",
              "      fill: #FFFFFF;\n",
              "    }\n",
              "  </style>\n",
              "\n",
              "      <script>\n",
              "        const buttonEl =\n",
              "          document.querySelector('#df-f6ef4d1c-f0db-4aa7-933f-ab080b2362e7 button.colab-df-convert');\n",
              "        buttonEl.style.display =\n",
              "          google.colab.kernel.accessAllowed ? 'block' : 'none';\n",
              "\n",
              "        async function convertToInteractive(key) {\n",
              "          const element = document.querySelector('#df-f6ef4d1c-f0db-4aa7-933f-ab080b2362e7');\n",
              "          const dataTable =\n",
              "            await google.colab.kernel.invokeFunction('convertToInteractive',\n",
              "                                                     [key], {});\n",
              "          if (!dataTable) return;\n",
              "\n",
              "          const docLinkHtml = 'Like what you see? Visit the ' +\n",
              "            '<a target=\"_blank\" href=https://colab.research.google.com/notebooks/data_table.ipynb>data table notebook</a>'\n",
              "            + ' to learn more about interactive tables.';\n",
              "          element.innerHTML = '';\n",
              "          dataTable['output_type'] = 'display_data';\n",
              "          await google.colab.output.renderOutput(dataTable, element);\n",
              "          const docLink = document.createElement('div');\n",
              "          docLink.innerHTML = docLinkHtml;\n",
              "          element.appendChild(docLink);\n",
              "        }\n",
              "      </script>\n",
              "    </div>\n",
              "  </div>\n",
              "  "
            ]
          },
          "metadata": {},
          "execution_count": 41
        }
      ]
    },
    {
      "cell_type": "code",
      "source": [
        "avaliacao.info()"
      ],
      "metadata": {
        "id": "EqZsyzwgjkAN",
        "colab": {
          "base_uri": "https://localhost:8080/"
        },
        "outputId": "5189a7e7-b273-4358-8872-eb3d15b697de"
      },
      "execution_count": 42,
      "outputs": [
        {
          "output_type": "stream",
          "name": "stdout",
          "text": [
            "<class 'pandas.core.frame.DataFrame'>\n",
            "RangeIndex: 11078167 entries, 0 to 11078166\n",
            "Data columns (total 4 columns):\n",
            " #   Column      Dtype \n",
            "---  ------      ----- \n",
            " 0   _id         object\n",
            " 1   movie_id    object\n",
            " 2   rating_val  int64 \n",
            " 3   user_id     object\n",
            "dtypes: int64(1), object(3)\n",
            "memory usage: 338.1+ MB\n"
          ]
        }
      ]
    },
    {
      "cell_type": "code",
      "source": [
        "avaliacao.columns"
      ],
      "metadata": {
        "id": "Z0q2X3V8fxul",
        "colab": {
          "base_uri": "https://localhost:8080/"
        },
        "outputId": "91651db5-b581-4e33-d5ec-05c380cc46ab"
      },
      "execution_count": 43,
      "outputs": [
        {
          "output_type": "execute_result",
          "data": {
            "text/plain": [
              "Index(['_id', 'movie_id', 'rating_val', 'user_id'], dtype='object')"
            ]
          },
          "metadata": {},
          "execution_count": 43
        }
      ]
    },
    {
      "cell_type": "markdown",
      "source": [
        "**_id** = ID exclusivo global.\n",
        "\n",
        "**movie_id** = Letterboxd ID exclusivo para o filme. Pode ser usado para corresponder aos dados do filme neste conjunto de dados ou para construir um Letterboxd\n",
        "\n",
        "**rating_val** = Valor da classificação com base nas estrelas dadas (em incrementos de meia estrela). Uma meia estrela é 1, cinco estrelas é 10, etc.\n",
        "\n",
        "**user_id** = Letterboxd ID exclusivo para o usuário. Pode ser usado para corresponder aos dados do usuário neste conjunto de dados ou para construir um Letterboxd"
      ],
      "metadata": {
        "id": "vo5t-Sbe2oHr"
      }
    },
    {
      "cell_type": "code",
      "source": [
        "avaliacao.index.value_counts().sum()"
      ],
      "metadata": {
        "colab": {
          "base_uri": "https://localhost:8080/"
        },
        "id": "fLARWC746Cfh",
        "outputId": "648d17a8-7d6c-45b7-e8d8-537e6c41276c"
      },
      "execution_count": 44,
      "outputs": [
        {
          "output_type": "execute_result",
          "data": {
            "text/plain": [
              "11078167"
            ]
          },
          "metadata": {},
          "execution_count": 44
        }
      ]
    },
    {
      "cell_type": "markdown",
      "source": [
        "## Tratamento dos dados"
      ],
      "metadata": {
        "id": "g6D4T0z9CyyJ"
      }
    },
    {
      "cell_type": "markdown",
      "source": [
        "plotar graficos sobre: número médio de reviews, generos, tempo medio dos filmes, pais de produção."
      ],
      "metadata": {
        "id": "66O-9xnEGqG5"
      }
    },
    {
      "cell_type": "code",
      "source": [],
      "metadata": {
        "id": "MaxmbA9ACx0a"
      },
      "execution_count": 44,
      "outputs": []
    }
  ]
}