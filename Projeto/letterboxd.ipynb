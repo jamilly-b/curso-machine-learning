{
  "cells": [
    {
      "cell_type": "markdown",
      "metadata": {
        "id": "view-in-github",
        "colab_type": "text"
      },
      "source": [
        "<a href=\"https://colab.research.google.com/github/jamilly-b/curso-machine-learning/blob/main/Projeto/letterboxd.ipynb\" target=\"_parent\"><img src=\"https://colab.research.google.com/assets/colab-badge.svg\" alt=\"Open In Colab\"/></a>"
      ]
    },
    {
      "cell_type": "code",
      "execution_count": 1,
      "metadata": {
        "id": "a7k9-YuqSH-M"
      },
      "outputs": [],
      "source": [
        "from google.colab import drive\n",
        "import pandas as pd\n",
        "import numpy as np"
      ]
    },
    {
      "cell_type": "code",
      "execution_count": 2,
      "metadata": {
        "colab": {
          "base_uri": "https://localhost:8080/"
        },
        "id": "Lyzwk9tQRVgA",
        "outputId": "625f7110-1965-4ccc-c9fa-d03103f38e09"
      },
      "outputs": [
        {
          "output_type": "stream",
          "name": "stdout",
          "text": [
            "Mounted at /content/drive\n"
          ]
        }
      ],
      "source": [
        "drive.mount('/content/drive')\n",
        "dados_dos_filmes = pd.read_csv('/content/drive/MyDrive/machine-learning-project/movie_data.csv', lineterminator='\\n')\n",
        "usuario = pd.read_csv('/content/drive/MyDrive/machine-learning-project/users_export.csv')\n",
        "avaliacao = pd.read_csv('/content/drive/MyDrive/machine-learning-project/ratings_export.csv')"
      ]
    },
    {
      "cell_type": "markdown",
      "metadata": {
        "id": "nwI5rhK3kE2-"
      },
      "source": [
        "## Visualização dos dados"
      ]
    },
    {
      "cell_type": "markdown",
      "metadata": {
        "id": "Fs28YXvlkMR1"
      },
      "source": [
        "### Tabela Usuário"
      ]
    },
    {
      "cell_type": "code",
      "execution_count": 3,
      "metadata": {
        "colab": {
          "base_uri": "https://localhost:8080/",
          "height": 0
        },
        "id": "bUZpJ1viZI9N",
        "outputId": "2ad6d30c-ef59-4761-e59a-e036a620a6d2"
      },
      "outputs": [
        {
          "output_type": "execute_result",
          "data": {
            "text/plain": [
              "                        _id display_name  num_ratings_pages  num_reviews  \\\n",
              "0  5fc4172ec6cd28ebd99dd0e2         Lucy               32.0         1650   \n",
              "1  5fc4172ec6cd28ebd99dd0ea  Matt Singer               52.0         1915   \n",
              "2  5fc4172ec6cd28ebd99dd0ed   Sean Baker               21.0         1283   \n",
              "3  5fc4172ec6cd28ebd99dd0ee         iana               37.0         1177   \n",
              "4  5fc419171ebf67b9fbe48615        Lizzy               57.0         1810   \n",
              "\n",
              "          username  \n",
              "0       deathproof  \n",
              "1       superpulse  \n",
              "2          lilfilm  \n",
              "3       ianamurray  \n",
              "4  punchdrunklizzy  "
            ],
            "text/html": [
              "\n",
              "  <div id=\"df-8fb76a31-c520-4374-a444-a608f1af705b\">\n",
              "    <div class=\"colab-df-container\">\n",
              "      <div>\n",
              "<style scoped>\n",
              "    .dataframe tbody tr th:only-of-type {\n",
              "        vertical-align: middle;\n",
              "    }\n",
              "\n",
              "    .dataframe tbody tr th {\n",
              "        vertical-align: top;\n",
              "    }\n",
              "\n",
              "    .dataframe thead th {\n",
              "        text-align: right;\n",
              "    }\n",
              "</style>\n",
              "<table border=\"1\" class=\"dataframe\">\n",
              "  <thead>\n",
              "    <tr style=\"text-align: right;\">\n",
              "      <th></th>\n",
              "      <th>_id</th>\n",
              "      <th>display_name</th>\n",
              "      <th>num_ratings_pages</th>\n",
              "      <th>num_reviews</th>\n",
              "      <th>username</th>\n",
              "    </tr>\n",
              "  </thead>\n",
              "  <tbody>\n",
              "    <tr>\n",
              "      <th>0</th>\n",
              "      <td>5fc4172ec6cd28ebd99dd0e2</td>\n",
              "      <td>Lucy</td>\n",
              "      <td>32.0</td>\n",
              "      <td>1650</td>\n",
              "      <td>deathproof</td>\n",
              "    </tr>\n",
              "    <tr>\n",
              "      <th>1</th>\n",
              "      <td>5fc4172ec6cd28ebd99dd0ea</td>\n",
              "      <td>Matt Singer</td>\n",
              "      <td>52.0</td>\n",
              "      <td>1915</td>\n",
              "      <td>superpulse</td>\n",
              "    </tr>\n",
              "    <tr>\n",
              "      <th>2</th>\n",
              "      <td>5fc4172ec6cd28ebd99dd0ed</td>\n",
              "      <td>Sean Baker</td>\n",
              "      <td>21.0</td>\n",
              "      <td>1283</td>\n",
              "      <td>lilfilm</td>\n",
              "    </tr>\n",
              "    <tr>\n",
              "      <th>3</th>\n",
              "      <td>5fc4172ec6cd28ebd99dd0ee</td>\n",
              "      <td>iana</td>\n",
              "      <td>37.0</td>\n",
              "      <td>1177</td>\n",
              "      <td>ianamurray</td>\n",
              "    </tr>\n",
              "    <tr>\n",
              "      <th>4</th>\n",
              "      <td>5fc419171ebf67b9fbe48615</td>\n",
              "      <td>Lizzy</td>\n",
              "      <td>57.0</td>\n",
              "      <td>1810</td>\n",
              "      <td>punchdrunklizzy</td>\n",
              "    </tr>\n",
              "  </tbody>\n",
              "</table>\n",
              "</div>\n",
              "      <button class=\"colab-df-convert\" onclick=\"convertToInteractive('df-8fb76a31-c520-4374-a444-a608f1af705b')\"\n",
              "              title=\"Convert this dataframe to an interactive table.\"\n",
              "              style=\"display:none;\">\n",
              "        \n",
              "  <svg xmlns=\"http://www.w3.org/2000/svg\" height=\"24px\"viewBox=\"0 0 24 24\"\n",
              "       width=\"24px\">\n",
              "    <path d=\"M0 0h24v24H0V0z\" fill=\"none\"/>\n",
              "    <path d=\"M18.56 5.44l.94 2.06.94-2.06 2.06-.94-2.06-.94-.94-2.06-.94 2.06-2.06.94zm-11 1L8.5 8.5l.94-2.06 2.06-.94-2.06-.94L8.5 2.5l-.94 2.06-2.06.94zm10 10l.94 2.06.94-2.06 2.06-.94-2.06-.94-.94-2.06-.94 2.06-2.06.94z\"/><path d=\"M17.41 7.96l-1.37-1.37c-.4-.4-.92-.59-1.43-.59-.52 0-1.04.2-1.43.59L10.3 9.45l-7.72 7.72c-.78.78-.78 2.05 0 2.83L4 21.41c.39.39.9.59 1.41.59.51 0 1.02-.2 1.41-.59l7.78-7.78 2.81-2.81c.8-.78.8-2.07 0-2.86zM5.41 20L4 18.59l7.72-7.72 1.47 1.35L5.41 20z\"/>\n",
              "  </svg>\n",
              "      </button>\n",
              "      \n",
              "  <style>\n",
              "    .colab-df-container {\n",
              "      display:flex;\n",
              "      flex-wrap:wrap;\n",
              "      gap: 12px;\n",
              "    }\n",
              "\n",
              "    .colab-df-convert {\n",
              "      background-color: #E8F0FE;\n",
              "      border: none;\n",
              "      border-radius: 50%;\n",
              "      cursor: pointer;\n",
              "      display: none;\n",
              "      fill: #1967D2;\n",
              "      height: 32px;\n",
              "      padding: 0 0 0 0;\n",
              "      width: 32px;\n",
              "    }\n",
              "\n",
              "    .colab-df-convert:hover {\n",
              "      background-color: #E2EBFA;\n",
              "      box-shadow: 0px 1px 2px rgba(60, 64, 67, 0.3), 0px 1px 3px 1px rgba(60, 64, 67, 0.15);\n",
              "      fill: #174EA6;\n",
              "    }\n",
              "\n",
              "    [theme=dark] .colab-df-convert {\n",
              "      background-color: #3B4455;\n",
              "      fill: #D2E3FC;\n",
              "    }\n",
              "\n",
              "    [theme=dark] .colab-df-convert:hover {\n",
              "      background-color: #434B5C;\n",
              "      box-shadow: 0px 1px 3px 1px rgba(0, 0, 0, 0.15);\n",
              "      filter: drop-shadow(0px 1px 2px rgba(0, 0, 0, 0.3));\n",
              "      fill: #FFFFFF;\n",
              "    }\n",
              "  </style>\n",
              "\n",
              "      <script>\n",
              "        const buttonEl =\n",
              "          document.querySelector('#df-8fb76a31-c520-4374-a444-a608f1af705b button.colab-df-convert');\n",
              "        buttonEl.style.display =\n",
              "          google.colab.kernel.accessAllowed ? 'block' : 'none';\n",
              "\n",
              "        async function convertToInteractive(key) {\n",
              "          const element = document.querySelector('#df-8fb76a31-c520-4374-a444-a608f1af705b');\n",
              "          const dataTable =\n",
              "            await google.colab.kernel.invokeFunction('convertToInteractive',\n",
              "                                                     [key], {});\n",
              "          if (!dataTable) return;\n",
              "\n",
              "          const docLinkHtml = 'Like what you see? Visit the ' +\n",
              "            '<a target=\"_blank\" href=https://colab.research.google.com/notebooks/data_table.ipynb>data table notebook</a>'\n",
              "            + ' to learn more about interactive tables.';\n",
              "          element.innerHTML = '';\n",
              "          dataTable['output_type'] = 'display_data';\n",
              "          await google.colab.output.renderOutput(dataTable, element);\n",
              "          const docLink = document.createElement('div');\n",
              "          docLink.innerHTML = docLinkHtml;\n",
              "          element.appendChild(docLink);\n",
              "        }\n",
              "      </script>\n",
              "    </div>\n",
              "  </div>\n",
              "  "
            ]
          },
          "metadata": {},
          "execution_count": 3
        }
      ],
      "source": [
        "usuario.head() "
      ]
    },
    {
      "cell_type": "code",
      "execution_count": 4,
      "metadata": {
        "colab": {
          "base_uri": "https://localhost:8080/"
        },
        "id": "CFET3xFDftlt",
        "outputId": "ae1e47f6-92fa-4492-90f3-1f44511a132b"
      },
      "outputs": [
        {
          "output_type": "execute_result",
          "data": {
            "text/plain": [
              "Index(['_id', 'display_name', 'num_ratings_pages', 'num_reviews', 'username'], dtype='object')"
            ]
          },
          "metadata": {},
          "execution_count": 4
        }
      ],
      "source": [
        "usuario.columns"
      ]
    },
    {
      "cell_type": "markdown",
      "metadata": {
        "id": "_PJjDLeZgjlH"
      },
      "source": [
        "**_id** = ID exclusivo global.\n",
        "\n",
        "**display_name** = Nome de exibição em Letterboxd no momento do último rastreamento. ###################\n",
        "\n",
        "**num_ratings_pages** = Número de páginas de avaliações. ###################\n",
        "\n",
        "**num_reviews** = Número total de avaliações feitas por este usuário.\n",
        "\n",
        "**username** = Letterboxd ID/nome de usuário exclusivo. Pode ser usado para formar um URL Letterboxd."
      ]
    },
    {
      "cell_type": "code",
      "execution_count": 5,
      "metadata": {
        "colab": {
          "base_uri": "https://localhost:8080/"
        },
        "id": "EnWtE9ahZMjG",
        "outputId": "3c002653-a344-44ad-f401-4630d2809798"
      },
      "outputs": [
        {
          "output_type": "execute_result",
          "data": {
            "text/plain": [
              "_id                     0\n",
              "display_name          307\n",
              "num_ratings_pages    3392\n",
              "num_reviews             0\n",
              "username                0\n",
              "dtype: int64"
            ]
          },
          "metadata": {},
          "execution_count": 5
        }
      ],
      "source": [
        "usuario.isnull().sum()"
      ]
    },
    {
      "cell_type": "code",
      "execution_count": 6,
      "metadata": {
        "colab": {
          "base_uri": "https://localhost:8080/"
        },
        "id": "b7RxpKGg47EB",
        "outputId": "5ea63429-5350-42e0-884c-4d7d6a50cc30"
      },
      "outputs": [
        {
          "output_type": "execute_result",
          "data": {
            "text/plain": [
              "8139"
            ]
          },
          "metadata": {},
          "execution_count": 6
        }
      ],
      "source": [
        "usuario.index.value_counts().sum()"
      ]
    },
    {
      "cell_type": "markdown",
      "metadata": {
        "id": "LVeuGn8WkYmE"
      },
      "source": [
        "### Tabela Dados dos filmes"
      ]
    },
    {
      "cell_type": "code",
      "execution_count": 7,
      "metadata": {
        "colab": {
          "base_uri": "https://localhost:8080/",
          "height": 0
        },
        "id": "pZjMpIeIaAd2",
        "outputId": "1e890072-d87b-4692-dceb-4621ad195713"
      },
      "outputs": [
        {
          "output_type": "execute_result",
          "data": {
            "text/plain": [
              "                        _id                 genres  \\\n",
              "0  5fc85f606758f69634496fd3  [\"Music\",\"Animation\"]   \n",
              "1  5fc85ff26758f696344ace0c                     []   \n",
              "2  5fc85f606758f69634496fcd              [\"Drama\"]   \n",
              "\n",
              "                                           image_url    imdb_id  \\\n",
              "0  film-poster/4/6/4/4/4/0/464440-football-freaks...        NaN   \n",
              "1  film-poster/2/4/5/5/0/0/245500-aftermath-0-230...  tt0586129   \n",
              "2  film-poster/9/3/3/1/8/93318-where-chimneys-are...  tt0045731   \n",
              "\n",
              "                                         imdb_link                 movie_id  \\\n",
              "0                                              NaN          football-freaks   \n",
              "1  http://www.imdb.com/title/tt0586129/maindetails           aftermath-1960   \n",
              "2  http://www.imdb.com/title/tt0045731/maindetails  where-chimneys-are-seen   \n",
              "\n",
              "               movie_title original_language  \\\n",
              "0          Football Freaks                en   \n",
              "1                Aftermath                en   \n",
              "2  Where Chimneys Are Seen                ja   \n",
              "\n",
              "                                            overview  popularity  \\\n",
              "0  Football crazy, football mad. Don’t watch this...       0.600   \n",
              "1  Aftermath was the pilot for an unsold TV serie...       0.600   \n",
              "2  Gosho’s most celebrated film both in Japan and...       1.568   \n",
              "\n",
              "  production_countries release_date  runtime spoken_languages   tmdb_id  \\\n",
              "0   [\"United Kingdom\"]   1971-12-05      0.0               []  535272.0   \n",
              "1                   []   1960-04-17     22.0               []  318331.0   \n",
              "2            [\"Japan\"]   1953-03-05    108.0          [\"日本語\"]  117779.0   \n",
              "\n",
              "                                  tmdb_link  vote_average  vote_count  \\\n",
              "0  https://www.themoviedb.org/movie/535272/           0.0         0.0   \n",
              "1  https://www.themoviedb.org/movie/318331/           8.0         1.0   \n",
              "2  https://www.themoviedb.org/movie/117779/           6.6        10.0   \n",
              "\n",
              "   year_released  \n",
              "0         1971.0  \n",
              "1         1960.0  \n",
              "2         1953.0  "
            ],
            "text/html": [
              "\n",
              "  <div id=\"df-45c43b17-86fe-4529-b986-dc5409ad53c3\">\n",
              "    <div class=\"colab-df-container\">\n",
              "      <div>\n",
              "<style scoped>\n",
              "    .dataframe tbody tr th:only-of-type {\n",
              "        vertical-align: middle;\n",
              "    }\n",
              "\n",
              "    .dataframe tbody tr th {\n",
              "        vertical-align: top;\n",
              "    }\n",
              "\n",
              "    .dataframe thead th {\n",
              "        text-align: right;\n",
              "    }\n",
              "</style>\n",
              "<table border=\"1\" class=\"dataframe\">\n",
              "  <thead>\n",
              "    <tr style=\"text-align: right;\">\n",
              "      <th></th>\n",
              "      <th>_id</th>\n",
              "      <th>genres</th>\n",
              "      <th>image_url</th>\n",
              "      <th>imdb_id</th>\n",
              "      <th>imdb_link</th>\n",
              "      <th>movie_id</th>\n",
              "      <th>movie_title</th>\n",
              "      <th>original_language</th>\n",
              "      <th>overview</th>\n",
              "      <th>popularity</th>\n",
              "      <th>production_countries</th>\n",
              "      <th>release_date</th>\n",
              "      <th>runtime</th>\n",
              "      <th>spoken_languages</th>\n",
              "      <th>tmdb_id</th>\n",
              "      <th>tmdb_link</th>\n",
              "      <th>vote_average</th>\n",
              "      <th>vote_count</th>\n",
              "      <th>year_released</th>\n",
              "    </tr>\n",
              "  </thead>\n",
              "  <tbody>\n",
              "    <tr>\n",
              "      <th>0</th>\n",
              "      <td>5fc85f606758f69634496fd3</td>\n",
              "      <td>[\"Music\",\"Animation\"]</td>\n",
              "      <td>film-poster/4/6/4/4/4/0/464440-football-freaks...</td>\n",
              "      <td>NaN</td>\n",
              "      <td>NaN</td>\n",
              "      <td>football-freaks</td>\n",
              "      <td>Football Freaks</td>\n",
              "      <td>en</td>\n",
              "      <td>Football crazy, football mad. Don’t watch this...</td>\n",
              "      <td>0.600</td>\n",
              "      <td>[\"United Kingdom\"]</td>\n",
              "      <td>1971-12-05</td>\n",
              "      <td>0.0</td>\n",
              "      <td>[]</td>\n",
              "      <td>535272.0</td>\n",
              "      <td>https://www.themoviedb.org/movie/535272/</td>\n",
              "      <td>0.0</td>\n",
              "      <td>0.0</td>\n",
              "      <td>1971.0</td>\n",
              "    </tr>\n",
              "    <tr>\n",
              "      <th>1</th>\n",
              "      <td>5fc85ff26758f696344ace0c</td>\n",
              "      <td>[]</td>\n",
              "      <td>film-poster/2/4/5/5/0/0/245500-aftermath-0-230...</td>\n",
              "      <td>tt0586129</td>\n",
              "      <td>http://www.imdb.com/title/tt0586129/maindetails</td>\n",
              "      <td>aftermath-1960</td>\n",
              "      <td>Aftermath</td>\n",
              "      <td>en</td>\n",
              "      <td>Aftermath was the pilot for an unsold TV serie...</td>\n",
              "      <td>0.600</td>\n",
              "      <td>[]</td>\n",
              "      <td>1960-04-17</td>\n",
              "      <td>22.0</td>\n",
              "      <td>[]</td>\n",
              "      <td>318331.0</td>\n",
              "      <td>https://www.themoviedb.org/movie/318331/</td>\n",
              "      <td>8.0</td>\n",
              "      <td>1.0</td>\n",
              "      <td>1960.0</td>\n",
              "    </tr>\n",
              "    <tr>\n",
              "      <th>2</th>\n",
              "      <td>5fc85f606758f69634496fcd</td>\n",
              "      <td>[\"Drama\"]</td>\n",
              "      <td>film-poster/9/3/3/1/8/93318-where-chimneys-are...</td>\n",
              "      <td>tt0045731</td>\n",
              "      <td>http://www.imdb.com/title/tt0045731/maindetails</td>\n",
              "      <td>where-chimneys-are-seen</td>\n",
              "      <td>Where Chimneys Are Seen</td>\n",
              "      <td>ja</td>\n",
              "      <td>Gosho’s most celebrated film both in Japan and...</td>\n",
              "      <td>1.568</td>\n",
              "      <td>[\"Japan\"]</td>\n",
              "      <td>1953-03-05</td>\n",
              "      <td>108.0</td>\n",
              "      <td>[\"日本語\"]</td>\n",
              "      <td>117779.0</td>\n",
              "      <td>https://www.themoviedb.org/movie/117779/</td>\n",
              "      <td>6.6</td>\n",
              "      <td>10.0</td>\n",
              "      <td>1953.0</td>\n",
              "    </tr>\n",
              "  </tbody>\n",
              "</table>\n",
              "</div>\n",
              "      <button class=\"colab-df-convert\" onclick=\"convertToInteractive('df-45c43b17-86fe-4529-b986-dc5409ad53c3')\"\n",
              "              title=\"Convert this dataframe to an interactive table.\"\n",
              "              style=\"display:none;\">\n",
              "        \n",
              "  <svg xmlns=\"http://www.w3.org/2000/svg\" height=\"24px\"viewBox=\"0 0 24 24\"\n",
              "       width=\"24px\">\n",
              "    <path d=\"M0 0h24v24H0V0z\" fill=\"none\"/>\n",
              "    <path d=\"M18.56 5.44l.94 2.06.94-2.06 2.06-.94-2.06-.94-.94-2.06-.94 2.06-2.06.94zm-11 1L8.5 8.5l.94-2.06 2.06-.94-2.06-.94L8.5 2.5l-.94 2.06-2.06.94zm10 10l.94 2.06.94-2.06 2.06-.94-2.06-.94-.94-2.06-.94 2.06-2.06.94z\"/><path d=\"M17.41 7.96l-1.37-1.37c-.4-.4-.92-.59-1.43-.59-.52 0-1.04.2-1.43.59L10.3 9.45l-7.72 7.72c-.78.78-.78 2.05 0 2.83L4 21.41c.39.39.9.59 1.41.59.51 0 1.02-.2 1.41-.59l7.78-7.78 2.81-2.81c.8-.78.8-2.07 0-2.86zM5.41 20L4 18.59l7.72-7.72 1.47 1.35L5.41 20z\"/>\n",
              "  </svg>\n",
              "      </button>\n",
              "      \n",
              "  <style>\n",
              "    .colab-df-container {\n",
              "      display:flex;\n",
              "      flex-wrap:wrap;\n",
              "      gap: 12px;\n",
              "    }\n",
              "\n",
              "    .colab-df-convert {\n",
              "      background-color: #E8F0FE;\n",
              "      border: none;\n",
              "      border-radius: 50%;\n",
              "      cursor: pointer;\n",
              "      display: none;\n",
              "      fill: #1967D2;\n",
              "      height: 32px;\n",
              "      padding: 0 0 0 0;\n",
              "      width: 32px;\n",
              "    }\n",
              "\n",
              "    .colab-df-convert:hover {\n",
              "      background-color: #E2EBFA;\n",
              "      box-shadow: 0px 1px 2px rgba(60, 64, 67, 0.3), 0px 1px 3px 1px rgba(60, 64, 67, 0.15);\n",
              "      fill: #174EA6;\n",
              "    }\n",
              "\n",
              "    [theme=dark] .colab-df-convert {\n",
              "      background-color: #3B4455;\n",
              "      fill: #D2E3FC;\n",
              "    }\n",
              "\n",
              "    [theme=dark] .colab-df-convert:hover {\n",
              "      background-color: #434B5C;\n",
              "      box-shadow: 0px 1px 3px 1px rgba(0, 0, 0, 0.15);\n",
              "      filter: drop-shadow(0px 1px 2px rgba(0, 0, 0, 0.3));\n",
              "      fill: #FFFFFF;\n",
              "    }\n",
              "  </style>\n",
              "\n",
              "      <script>\n",
              "        const buttonEl =\n",
              "          document.querySelector('#df-45c43b17-86fe-4529-b986-dc5409ad53c3 button.colab-df-convert');\n",
              "        buttonEl.style.display =\n",
              "          google.colab.kernel.accessAllowed ? 'block' : 'none';\n",
              "\n",
              "        async function convertToInteractive(key) {\n",
              "          const element = document.querySelector('#df-45c43b17-86fe-4529-b986-dc5409ad53c3');\n",
              "          const dataTable =\n",
              "            await google.colab.kernel.invokeFunction('convertToInteractive',\n",
              "                                                     [key], {});\n",
              "          if (!dataTable) return;\n",
              "\n",
              "          const docLinkHtml = 'Like what you see? Visit the ' +\n",
              "            '<a target=\"_blank\" href=https://colab.research.google.com/notebooks/data_table.ipynb>data table notebook</a>'\n",
              "            + ' to learn more about interactive tables.';\n",
              "          element.innerHTML = '';\n",
              "          dataTable['output_type'] = 'display_data';\n",
              "          await google.colab.output.renderOutput(dataTable, element);\n",
              "          const docLink = document.createElement('div');\n",
              "          docLink.innerHTML = docLinkHtml;\n",
              "          element.appendChild(docLink);\n",
              "        }\n",
              "      </script>\n",
              "    </div>\n",
              "  </div>\n",
              "  "
            ]
          },
          "metadata": {},
          "execution_count": 7
        }
      ],
      "source": [
        "dados_dos_filmes.head(3)"
      ]
    },
    {
      "cell_type": "code",
      "execution_count": 8,
      "metadata": {
        "colab": {
          "base_uri": "https://localhost:8080/"
        },
        "id": "oei0ruHJwLBH",
        "outputId": "01b38ce8-88fa-4ddf-aec3-2738fefe3a64"
      },
      "outputs": [
        {
          "output_type": "execute_result",
          "data": {
            "text/plain": [
              "Index(['_id', 'genres', 'image_url', 'imdb_id', 'imdb_link', 'movie_id',\n",
              "       'movie_title', 'original_language', 'overview', 'popularity',\n",
              "       'production_countries', 'release_date', 'runtime', 'spoken_languages',\n",
              "       'tmdb_id', 'tmdb_link', 'vote_average', 'vote_count', 'year_released'],\n",
              "      dtype='object')"
            ]
          },
          "metadata": {},
          "execution_count": 8
        }
      ],
      "source": [
        "dados_dos_filmes.columns"
      ]
    },
    {
      "cell_type": "markdown",
      "metadata": {
        "id": "soabw53oznmR"
      },
      "source": [
        "**_id** = ID exclusivo global.\n",
        "\n",
        "**genres** = Array  de gêneros de filmes associados.\n",
        "\n",
        "**image_url** = Imagem usada no site Letterboxd para o filme. Geralmente um pôster. ##############\n",
        "\n",
        "**imdb_id** = ID para IMDB. \n",
        "\n",
        "**imdb_link** = Link para a página IMDB do filme. ##############\n",
        "\n",
        "**movie_id** = Identificação do filme Letterboxd. \n",
        "\n",
        "**movie_title** = Título de exibição. \n",
        "\n",
        "**original_language** = Idioma original do filme \n",
        "\n",
        "**overview** = Descrição do filme ##############\n",
        "\n",
        "**popularity** = Popularidade numérica  \n",
        "\n",
        "**production_countries** = Matriz de países em que o filme foi produzido \n",
        "\n",
        "**release_date** = Data de lançamento ##############\n",
        "\n",
        "**runtime** = Tempo de execução em minutos \n",
        "\n",
        "**spoken_languages** = Array de todos os idiomas falados no filme ##############\n",
        "\n",
        "**tmdb_id** = ID para acessar dados na API \n",
        "\n",
        "**tmdb_link** = Link para a entrada do filme no TMDB \n",
        "\n",
        "**vote_average** = Média de votos \n",
        "\n",
        "**vote_count** = contagem de votos \n",
        "\n",
        "**year_released** = Ano lançado"
      ]
    },
    {
      "cell_type": "code",
      "execution_count": 9,
      "metadata": {
        "colab": {
          "base_uri": "https://localhost:8080/"
        },
        "id": "cWiJc5P5fRde",
        "outputId": "b45cecd3-d5aa-4963-d9a7-10e9c46fe89a"
      },
      "outputs": [
        {
          "output_type": "execute_result",
          "data": {
            "text/plain": [
              "(285504, 19)"
            ]
          },
          "metadata": {},
          "execution_count": 9
        }
      ],
      "source": [
        "dados_dos_filmes.shape"
      ]
    },
    {
      "cell_type": "code",
      "execution_count": 10,
      "metadata": {
        "colab": {
          "base_uri": "https://localhost:8080/"
        },
        "id": "B57ll-ZA7-Q1",
        "outputId": "5005505f-c706-47f1-9be4-d0195a0c53d4"
      },
      "outputs": [
        {
          "output_type": "execute_result",
          "data": {
            "text/plain": [
              "_id                         0\n",
              "genres                  10632\n",
              "image_url               21097\n",
              "imdb_id                 41702\n",
              "imdb_link               41702\n",
              "movie_id                    2\n",
              "movie_title              2164\n",
              "original_language       10632\n",
              "overview                24256\n",
              "popularity              10632\n",
              "production_countries    10632\n",
              "release_date            14454\n",
              "runtime                 15449\n",
              "spoken_languages        10632\n",
              "tmdb_id                  5587\n",
              "tmdb_link                5587\n",
              "vote_average            10632\n",
              "vote_count              10632\n",
              "year_released            7572\n",
              "dtype: int64"
            ]
          },
          "metadata": {},
          "execution_count": 10
        }
      ],
      "source": [
        "dados_dos_filmes.isna().sum()"
      ]
    },
    {
      "cell_type": "markdown",
      "metadata": {
        "id": "rzUjvuQqkd-0"
      },
      "source": [
        "### Tabela Avaliação"
      ]
    },
    {
      "cell_type": "code",
      "execution_count": 11,
      "metadata": {
        "colab": {
          "base_uri": "https://localhost:8080/",
          "height": 0
        },
        "id": "NQtJNMo5i1BN",
        "outputId": "9c802225-470a-46e6-90e6-b06f6ee7418b"
      },
      "outputs": [
        {
          "output_type": "execute_result",
          "data": {
            "text/plain": [
              "                        _id          movie_id  rating_val     user_id\n",
              "0  5fc57c5d6758f6963451a07f        feast-2014           7  deathproof\n",
              "1  5fc57c5d6758f6963451a063       loving-2016           7  deathproof\n",
              "2  5fc57c5d6758f6963451a0ef  scripted-content           7  deathproof\n",
              "3  5fc57c5d6758f6963451a060        the-future           4  deathproof\n",
              "4  5fc57c5c6758f69634519398              mank           5  deathproof"
            ],
            "text/html": [
              "\n",
              "  <div id=\"df-b2f12314-f0d0-4762-a4c6-9b9686594a9c\">\n",
              "    <div class=\"colab-df-container\">\n",
              "      <div>\n",
              "<style scoped>\n",
              "    .dataframe tbody tr th:only-of-type {\n",
              "        vertical-align: middle;\n",
              "    }\n",
              "\n",
              "    .dataframe tbody tr th {\n",
              "        vertical-align: top;\n",
              "    }\n",
              "\n",
              "    .dataframe thead th {\n",
              "        text-align: right;\n",
              "    }\n",
              "</style>\n",
              "<table border=\"1\" class=\"dataframe\">\n",
              "  <thead>\n",
              "    <tr style=\"text-align: right;\">\n",
              "      <th></th>\n",
              "      <th>_id</th>\n",
              "      <th>movie_id</th>\n",
              "      <th>rating_val</th>\n",
              "      <th>user_id</th>\n",
              "    </tr>\n",
              "  </thead>\n",
              "  <tbody>\n",
              "    <tr>\n",
              "      <th>0</th>\n",
              "      <td>5fc57c5d6758f6963451a07f</td>\n",
              "      <td>feast-2014</td>\n",
              "      <td>7</td>\n",
              "      <td>deathproof</td>\n",
              "    </tr>\n",
              "    <tr>\n",
              "      <th>1</th>\n",
              "      <td>5fc57c5d6758f6963451a063</td>\n",
              "      <td>loving-2016</td>\n",
              "      <td>7</td>\n",
              "      <td>deathproof</td>\n",
              "    </tr>\n",
              "    <tr>\n",
              "      <th>2</th>\n",
              "      <td>5fc57c5d6758f6963451a0ef</td>\n",
              "      <td>scripted-content</td>\n",
              "      <td>7</td>\n",
              "      <td>deathproof</td>\n",
              "    </tr>\n",
              "    <tr>\n",
              "      <th>3</th>\n",
              "      <td>5fc57c5d6758f6963451a060</td>\n",
              "      <td>the-future</td>\n",
              "      <td>4</td>\n",
              "      <td>deathproof</td>\n",
              "    </tr>\n",
              "    <tr>\n",
              "      <th>4</th>\n",
              "      <td>5fc57c5c6758f69634519398</td>\n",
              "      <td>mank</td>\n",
              "      <td>5</td>\n",
              "      <td>deathproof</td>\n",
              "    </tr>\n",
              "  </tbody>\n",
              "</table>\n",
              "</div>\n",
              "      <button class=\"colab-df-convert\" onclick=\"convertToInteractive('df-b2f12314-f0d0-4762-a4c6-9b9686594a9c')\"\n",
              "              title=\"Convert this dataframe to an interactive table.\"\n",
              "              style=\"display:none;\">\n",
              "        \n",
              "  <svg xmlns=\"http://www.w3.org/2000/svg\" height=\"24px\"viewBox=\"0 0 24 24\"\n",
              "       width=\"24px\">\n",
              "    <path d=\"M0 0h24v24H0V0z\" fill=\"none\"/>\n",
              "    <path d=\"M18.56 5.44l.94 2.06.94-2.06 2.06-.94-2.06-.94-.94-2.06-.94 2.06-2.06.94zm-11 1L8.5 8.5l.94-2.06 2.06-.94-2.06-.94L8.5 2.5l-.94 2.06-2.06.94zm10 10l.94 2.06.94-2.06 2.06-.94-2.06-.94-.94-2.06-.94 2.06-2.06.94z\"/><path d=\"M17.41 7.96l-1.37-1.37c-.4-.4-.92-.59-1.43-.59-.52 0-1.04.2-1.43.59L10.3 9.45l-7.72 7.72c-.78.78-.78 2.05 0 2.83L4 21.41c.39.39.9.59 1.41.59.51 0 1.02-.2 1.41-.59l7.78-7.78 2.81-2.81c.8-.78.8-2.07 0-2.86zM5.41 20L4 18.59l7.72-7.72 1.47 1.35L5.41 20z\"/>\n",
              "  </svg>\n",
              "      </button>\n",
              "      \n",
              "  <style>\n",
              "    .colab-df-container {\n",
              "      display:flex;\n",
              "      flex-wrap:wrap;\n",
              "      gap: 12px;\n",
              "    }\n",
              "\n",
              "    .colab-df-convert {\n",
              "      background-color: #E8F0FE;\n",
              "      border: none;\n",
              "      border-radius: 50%;\n",
              "      cursor: pointer;\n",
              "      display: none;\n",
              "      fill: #1967D2;\n",
              "      height: 32px;\n",
              "      padding: 0 0 0 0;\n",
              "      width: 32px;\n",
              "    }\n",
              "\n",
              "    .colab-df-convert:hover {\n",
              "      background-color: #E2EBFA;\n",
              "      box-shadow: 0px 1px 2px rgba(60, 64, 67, 0.3), 0px 1px 3px 1px rgba(60, 64, 67, 0.15);\n",
              "      fill: #174EA6;\n",
              "    }\n",
              "\n",
              "    [theme=dark] .colab-df-convert {\n",
              "      background-color: #3B4455;\n",
              "      fill: #D2E3FC;\n",
              "    }\n",
              "\n",
              "    [theme=dark] .colab-df-convert:hover {\n",
              "      background-color: #434B5C;\n",
              "      box-shadow: 0px 1px 3px 1px rgba(0, 0, 0, 0.15);\n",
              "      filter: drop-shadow(0px 1px 2px rgba(0, 0, 0, 0.3));\n",
              "      fill: #FFFFFF;\n",
              "    }\n",
              "  </style>\n",
              "\n",
              "      <script>\n",
              "        const buttonEl =\n",
              "          document.querySelector('#df-b2f12314-f0d0-4762-a4c6-9b9686594a9c button.colab-df-convert');\n",
              "        buttonEl.style.display =\n",
              "          google.colab.kernel.accessAllowed ? 'block' : 'none';\n",
              "\n",
              "        async function convertToInteractive(key) {\n",
              "          const element = document.querySelector('#df-b2f12314-f0d0-4762-a4c6-9b9686594a9c');\n",
              "          const dataTable =\n",
              "            await google.colab.kernel.invokeFunction('convertToInteractive',\n",
              "                                                     [key], {});\n",
              "          if (!dataTable) return;\n",
              "\n",
              "          const docLinkHtml = 'Like what you see? Visit the ' +\n",
              "            '<a target=\"_blank\" href=https://colab.research.google.com/notebooks/data_table.ipynb>data table notebook</a>'\n",
              "            + ' to learn more about interactive tables.';\n",
              "          element.innerHTML = '';\n",
              "          dataTable['output_type'] = 'display_data';\n",
              "          await google.colab.output.renderOutput(dataTable, element);\n",
              "          const docLink = document.createElement('div');\n",
              "          docLink.innerHTML = docLinkHtml;\n",
              "          element.appendChild(docLink);\n",
              "        }\n",
              "      </script>\n",
              "    </div>\n",
              "  </div>\n",
              "  "
            ]
          },
          "metadata": {},
          "execution_count": 11
        }
      ],
      "source": [
        "avaliacao.head()"
      ]
    },
    {
      "cell_type": "code",
      "execution_count": 12,
      "metadata": {
        "colab": {
          "base_uri": "https://localhost:8080/"
        },
        "id": "EqZsyzwgjkAN",
        "outputId": "545b544b-a43b-4b7e-86cd-b22c053fd40d"
      },
      "outputs": [
        {
          "output_type": "execute_result",
          "data": {
            "text/plain": [
              "(11078167, 4)"
            ]
          },
          "metadata": {},
          "execution_count": 12
        }
      ],
      "source": [
        "avaliacao.shape"
      ]
    },
    {
      "cell_type": "code",
      "execution_count": 13,
      "metadata": {
        "colab": {
          "base_uri": "https://localhost:8080/"
        },
        "id": "Z0q2X3V8fxul",
        "outputId": "6a190e1c-9e3b-447a-ccd8-c3625f856a45"
      },
      "outputs": [
        {
          "output_type": "execute_result",
          "data": {
            "text/plain": [
              "Index(['_id', 'movie_id', 'rating_val', 'user_id'], dtype='object')"
            ]
          },
          "metadata": {},
          "execution_count": 13
        }
      ],
      "source": [
        "avaliacao.columns"
      ]
    },
    {
      "cell_type": "markdown",
      "metadata": {
        "id": "vo5t-Sbe2oHr"
      },
      "source": [
        "**_id** = ID exclusivo global.\n",
        "\n",
        "**movie_id** = Letterboxd ID exclusivo para o filme. Pode ser usado para corresponder aos dados do filme neste conjunto de dados ou para construir um Letterboxd\n",
        "\n",
        "**rating_val** = Valor da classificação com base nas estrelas dadas (em incrementos de meia estrela). Uma meia estrela é 1, cinco estrelas é 10, etc.\n",
        "\n",
        "**user_id** = Letterboxd ID exclusivo para o usuário. Pode ser usado para corresponder aos dados do usuário neste conjunto de dados ou para construir um Letterboxd"
      ]
    },
    {
      "cell_type": "code",
      "execution_count": 14,
      "metadata": {
        "colab": {
          "base_uri": "https://localhost:8080/"
        },
        "id": "fLARWC746Cfh",
        "outputId": "e6bf6603-f169-43f5-e689-2770a2d60119"
      },
      "outputs": [
        {
          "output_type": "execute_result",
          "data": {
            "text/plain": [
              "_id           0\n",
              "movie_id      6\n",
              "rating_val    0\n",
              "user_id       0\n",
              "dtype: int64"
            ]
          },
          "metadata": {},
          "execution_count": 14
        }
      ],
      "source": [
        "avaliacao.isnull().sum()"
      ]
    },
    {
      "cell_type": "markdown",
      "metadata": {
        "id": "g6D4T0z9CyyJ"
      },
      "source": [
        "## Tratamento dos dados"
      ]
    },
    {
      "cell_type": "markdown",
      "metadata": {
        "id": "66O-9xnEGqG5"
      },
      "source": [
        "plotar graficos sobre: número médio de reviews, generos, tempo medio dos filmes, pais de produção."
      ]
    },
    {
      "cell_type": "markdown",
      "metadata": {
        "id": "ziZTnTObd7x3"
      },
      "source": [
        "############### Antes dessa parte, cuidar dos dados nulos e das listas vazias"
      ]
    },
    {
      "cell_type": "code",
      "execution_count": 15,
      "metadata": {
        "id": "_GKdm903Ihnu"
      },
      "outputs": [],
      "source": [
        "avaliacao = avaliacao.rename(columns={'user_id': 'username'})"
      ]
    },
    {
      "cell_type": "code",
      "execution_count": 16,
      "metadata": {
        "colab": {
          "base_uri": "https://localhost:8080/",
          "height": 386
        },
        "id": "MaxmbA9ACx0a",
        "outputId": "226dc53c-23ca-4dd6-dea0-00750388e231"
      },
      "outputs": [
        {
          "output_type": "execute_result",
          "data": {
            "text/plain": [
              "                      _id_x         display_name  num_ratings_pages  \\\n",
              "0  5fc4172ec6cd28ebd99dd0e2                 Lucy               32.0   \n",
              "1  5fc419171ebf67b9fbe485a2  Allison M. 🌱 @ SXSW              290.0   \n",
              "2  5fc4172ec6cd28ebd99dd0f1               {Todd}               78.0   \n",
              "3  5fc4172ec6cd28ebd99dd0ec                DirkH               65.0   \n",
              "4  5fc419161ebf67b9fbe48571               lauren               24.0   \n",
              "\n",
              "   num_reviews       username                     _id_y    movie_id  \\\n",
              "0         1650     deathproof  5fc57c5d6758f6963451a07f  feast-2014   \n",
              "1         3105      allisoncm  5fc67eda6758f69634d57dba  feast-2014   \n",
              "2         5271  juggernaut323  5fc67dae6758f69634cd2410  feast-2014   \n",
              "3         2029          dirkh  5fc57cbd6758f696345475a3  feast-2014   \n",
              "4         1117   nycsubwayrat  5fc57d246758f696345689a5  feast-2014   \n",
              "\n",
              "   rating_val                       _id  \\\n",
              "0           7  5fc880726758f69634df0bca   \n",
              "1           4  5fc880726758f69634df0bca   \n",
              "2           9  5fc880726758f69634df0bca   \n",
              "3           8  5fc880726758f69634df0bca   \n",
              "4          10  5fc880726758f69634df0bca   \n",
              "\n",
              "                                    genres  ... popularity  \\\n",
              "0  [\"Animation\",\"Comedy\",\"Drama\",\"Family\"]  ...       9.26   \n",
              "1  [\"Animation\",\"Comedy\",\"Drama\",\"Family\"]  ...       9.26   \n",
              "2  [\"Animation\",\"Comedy\",\"Drama\",\"Family\"]  ...       9.26   \n",
              "3  [\"Animation\",\"Comedy\",\"Drama\",\"Family\"]  ...       9.26   \n",
              "4  [\"Animation\",\"Comedy\",\"Drama\",\"Family\"]  ...       9.26   \n",
              "\n",
              "           production_countries release_date runtime spoken_languages  \\\n",
              "0  [\"United States of America\"]   2014-10-25     6.0      [\"English\"]   \n",
              "1  [\"United States of America\"]   2014-10-25     6.0      [\"English\"]   \n",
              "2  [\"United States of America\"]   2014-10-25     6.0      [\"English\"]   \n",
              "3  [\"United States of America\"]   2014-10-25     6.0      [\"English\"]   \n",
              "4  [\"United States of America\"]   2014-10-25     6.0      [\"English\"]   \n",
              "\n",
              "    tmdb_id                                 tmdb_link vote_average vote_count  \\\n",
              "0  293299.0  https://www.themoviedb.org/movie/293299/          7.9      720.0   \n",
              "1  293299.0  https://www.themoviedb.org/movie/293299/          7.9      720.0   \n",
              "2  293299.0  https://www.themoviedb.org/movie/293299/          7.9      720.0   \n",
              "3  293299.0  https://www.themoviedb.org/movie/293299/          7.9      720.0   \n",
              "4  293299.0  https://www.themoviedb.org/movie/293299/          7.9      720.0   \n",
              "\n",
              "   year_released  \n",
              "0         2014.0  \n",
              "1         2014.0  \n",
              "2         2014.0  \n",
              "3         2014.0  \n",
              "4         2014.0  \n",
              "\n",
              "[5 rows x 26 columns]"
            ],
            "text/html": [
              "\n",
              "  <div id=\"df-358ea64f-230e-4ee1-a70e-ad3cb7eefa41\">\n",
              "    <div class=\"colab-df-container\">\n",
              "      <div>\n",
              "<style scoped>\n",
              "    .dataframe tbody tr th:only-of-type {\n",
              "        vertical-align: middle;\n",
              "    }\n",
              "\n",
              "    .dataframe tbody tr th {\n",
              "        vertical-align: top;\n",
              "    }\n",
              "\n",
              "    .dataframe thead th {\n",
              "        text-align: right;\n",
              "    }\n",
              "</style>\n",
              "<table border=\"1\" class=\"dataframe\">\n",
              "  <thead>\n",
              "    <tr style=\"text-align: right;\">\n",
              "      <th></th>\n",
              "      <th>_id_x</th>\n",
              "      <th>display_name</th>\n",
              "      <th>num_ratings_pages</th>\n",
              "      <th>num_reviews</th>\n",
              "      <th>username</th>\n",
              "      <th>_id_y</th>\n",
              "      <th>movie_id</th>\n",
              "      <th>rating_val</th>\n",
              "      <th>_id</th>\n",
              "      <th>genres</th>\n",
              "      <th>...</th>\n",
              "      <th>popularity</th>\n",
              "      <th>production_countries</th>\n",
              "      <th>release_date</th>\n",
              "      <th>runtime</th>\n",
              "      <th>spoken_languages</th>\n",
              "      <th>tmdb_id</th>\n",
              "      <th>tmdb_link</th>\n",
              "      <th>vote_average</th>\n",
              "      <th>vote_count</th>\n",
              "      <th>year_released</th>\n",
              "    </tr>\n",
              "  </thead>\n",
              "  <tbody>\n",
              "    <tr>\n",
              "      <th>0</th>\n",
              "      <td>5fc4172ec6cd28ebd99dd0e2</td>\n",
              "      <td>Lucy</td>\n",
              "      <td>32.0</td>\n",
              "      <td>1650</td>\n",
              "      <td>deathproof</td>\n",
              "      <td>5fc57c5d6758f6963451a07f</td>\n",
              "      <td>feast-2014</td>\n",
              "      <td>7</td>\n",
              "      <td>5fc880726758f69634df0bca</td>\n",
              "      <td>[\"Animation\",\"Comedy\",\"Drama\",\"Family\"]</td>\n",
              "      <td>...</td>\n",
              "      <td>9.26</td>\n",
              "      <td>[\"United States of America\"]</td>\n",
              "      <td>2014-10-25</td>\n",
              "      <td>6.0</td>\n",
              "      <td>[\"English\"]</td>\n",
              "      <td>293299.0</td>\n",
              "      <td>https://www.themoviedb.org/movie/293299/</td>\n",
              "      <td>7.9</td>\n",
              "      <td>720.0</td>\n",
              "      <td>2014.0</td>\n",
              "    </tr>\n",
              "    <tr>\n",
              "      <th>1</th>\n",
              "      <td>5fc419171ebf67b9fbe485a2</td>\n",
              "      <td>Allison M. 🌱 @ SXSW</td>\n",
              "      <td>290.0</td>\n",
              "      <td>3105</td>\n",
              "      <td>allisoncm</td>\n",
              "      <td>5fc67eda6758f69634d57dba</td>\n",
              "      <td>feast-2014</td>\n",
              "      <td>4</td>\n",
              "      <td>5fc880726758f69634df0bca</td>\n",
              "      <td>[\"Animation\",\"Comedy\",\"Drama\",\"Family\"]</td>\n",
              "      <td>...</td>\n",
              "      <td>9.26</td>\n",
              "      <td>[\"United States of America\"]</td>\n",
              "      <td>2014-10-25</td>\n",
              "      <td>6.0</td>\n",
              "      <td>[\"English\"]</td>\n",
              "      <td>293299.0</td>\n",
              "      <td>https://www.themoviedb.org/movie/293299/</td>\n",
              "      <td>7.9</td>\n",
              "      <td>720.0</td>\n",
              "      <td>2014.0</td>\n",
              "    </tr>\n",
              "    <tr>\n",
              "      <th>2</th>\n",
              "      <td>5fc4172ec6cd28ebd99dd0f1</td>\n",
              "      <td>{Todd}</td>\n",
              "      <td>78.0</td>\n",
              "      <td>5271</td>\n",
              "      <td>juggernaut323</td>\n",
              "      <td>5fc67dae6758f69634cd2410</td>\n",
              "      <td>feast-2014</td>\n",
              "      <td>9</td>\n",
              "      <td>5fc880726758f69634df0bca</td>\n",
              "      <td>[\"Animation\",\"Comedy\",\"Drama\",\"Family\"]</td>\n",
              "      <td>...</td>\n",
              "      <td>9.26</td>\n",
              "      <td>[\"United States of America\"]</td>\n",
              "      <td>2014-10-25</td>\n",
              "      <td>6.0</td>\n",
              "      <td>[\"English\"]</td>\n",
              "      <td>293299.0</td>\n",
              "      <td>https://www.themoviedb.org/movie/293299/</td>\n",
              "      <td>7.9</td>\n",
              "      <td>720.0</td>\n",
              "      <td>2014.0</td>\n",
              "    </tr>\n",
              "    <tr>\n",
              "      <th>3</th>\n",
              "      <td>5fc4172ec6cd28ebd99dd0ec</td>\n",
              "      <td>DirkH</td>\n",
              "      <td>65.0</td>\n",
              "      <td>2029</td>\n",
              "      <td>dirkh</td>\n",
              "      <td>5fc57cbd6758f696345475a3</td>\n",
              "      <td>feast-2014</td>\n",
              "      <td>8</td>\n",
              "      <td>5fc880726758f69634df0bca</td>\n",
              "      <td>[\"Animation\",\"Comedy\",\"Drama\",\"Family\"]</td>\n",
              "      <td>...</td>\n",
              "      <td>9.26</td>\n",
              "      <td>[\"United States of America\"]</td>\n",
              "      <td>2014-10-25</td>\n",
              "      <td>6.0</td>\n",
              "      <td>[\"English\"]</td>\n",
              "      <td>293299.0</td>\n",
              "      <td>https://www.themoviedb.org/movie/293299/</td>\n",
              "      <td>7.9</td>\n",
              "      <td>720.0</td>\n",
              "      <td>2014.0</td>\n",
              "    </tr>\n",
              "    <tr>\n",
              "      <th>4</th>\n",
              "      <td>5fc419161ebf67b9fbe48571</td>\n",
              "      <td>lauren</td>\n",
              "      <td>24.0</td>\n",
              "      <td>1117</td>\n",
              "      <td>nycsubwayrat</td>\n",
              "      <td>5fc57d246758f696345689a5</td>\n",
              "      <td>feast-2014</td>\n",
              "      <td>10</td>\n",
              "      <td>5fc880726758f69634df0bca</td>\n",
              "      <td>[\"Animation\",\"Comedy\",\"Drama\",\"Family\"]</td>\n",
              "      <td>...</td>\n",
              "      <td>9.26</td>\n",
              "      <td>[\"United States of America\"]</td>\n",
              "      <td>2014-10-25</td>\n",
              "      <td>6.0</td>\n",
              "      <td>[\"English\"]</td>\n",
              "      <td>293299.0</td>\n",
              "      <td>https://www.themoviedb.org/movie/293299/</td>\n",
              "      <td>7.9</td>\n",
              "      <td>720.0</td>\n",
              "      <td>2014.0</td>\n",
              "    </tr>\n",
              "  </tbody>\n",
              "</table>\n",
              "<p>5 rows × 26 columns</p>\n",
              "</div>\n",
              "      <button class=\"colab-df-convert\" onclick=\"convertToInteractive('df-358ea64f-230e-4ee1-a70e-ad3cb7eefa41')\"\n",
              "              title=\"Convert this dataframe to an interactive table.\"\n",
              "              style=\"display:none;\">\n",
              "        \n",
              "  <svg xmlns=\"http://www.w3.org/2000/svg\" height=\"24px\"viewBox=\"0 0 24 24\"\n",
              "       width=\"24px\">\n",
              "    <path d=\"M0 0h24v24H0V0z\" fill=\"none\"/>\n",
              "    <path d=\"M18.56 5.44l.94 2.06.94-2.06 2.06-.94-2.06-.94-.94-2.06-.94 2.06-2.06.94zm-11 1L8.5 8.5l.94-2.06 2.06-.94-2.06-.94L8.5 2.5l-.94 2.06-2.06.94zm10 10l.94 2.06.94-2.06 2.06-.94-2.06-.94-.94-2.06-.94 2.06-2.06.94z\"/><path d=\"M17.41 7.96l-1.37-1.37c-.4-.4-.92-.59-1.43-.59-.52 0-1.04.2-1.43.59L10.3 9.45l-7.72 7.72c-.78.78-.78 2.05 0 2.83L4 21.41c.39.39.9.59 1.41.59.51 0 1.02-.2 1.41-.59l7.78-7.78 2.81-2.81c.8-.78.8-2.07 0-2.86zM5.41 20L4 18.59l7.72-7.72 1.47 1.35L5.41 20z\"/>\n",
              "  </svg>\n",
              "      </button>\n",
              "      \n",
              "  <style>\n",
              "    .colab-df-container {\n",
              "      display:flex;\n",
              "      flex-wrap:wrap;\n",
              "      gap: 12px;\n",
              "    }\n",
              "\n",
              "    .colab-df-convert {\n",
              "      background-color: #E8F0FE;\n",
              "      border: none;\n",
              "      border-radius: 50%;\n",
              "      cursor: pointer;\n",
              "      display: none;\n",
              "      fill: #1967D2;\n",
              "      height: 32px;\n",
              "      padding: 0 0 0 0;\n",
              "      width: 32px;\n",
              "    }\n",
              "\n",
              "    .colab-df-convert:hover {\n",
              "      background-color: #E2EBFA;\n",
              "      box-shadow: 0px 1px 2px rgba(60, 64, 67, 0.3), 0px 1px 3px 1px rgba(60, 64, 67, 0.15);\n",
              "      fill: #174EA6;\n",
              "    }\n",
              "\n",
              "    [theme=dark] .colab-df-convert {\n",
              "      background-color: #3B4455;\n",
              "      fill: #D2E3FC;\n",
              "    }\n",
              "\n",
              "    [theme=dark] .colab-df-convert:hover {\n",
              "      background-color: #434B5C;\n",
              "      box-shadow: 0px 1px 3px 1px rgba(0, 0, 0, 0.15);\n",
              "      filter: drop-shadow(0px 1px 2px rgba(0, 0, 0, 0.3));\n",
              "      fill: #FFFFFF;\n",
              "    }\n",
              "  </style>\n",
              "\n",
              "      <script>\n",
              "        const buttonEl =\n",
              "          document.querySelector('#df-358ea64f-230e-4ee1-a70e-ad3cb7eefa41 button.colab-df-convert');\n",
              "        buttonEl.style.display =\n",
              "          google.colab.kernel.accessAllowed ? 'block' : 'none';\n",
              "\n",
              "        async function convertToInteractive(key) {\n",
              "          const element = document.querySelector('#df-358ea64f-230e-4ee1-a70e-ad3cb7eefa41');\n",
              "          const dataTable =\n",
              "            await google.colab.kernel.invokeFunction('convertToInteractive',\n",
              "                                                     [key], {});\n",
              "          if (!dataTable) return;\n",
              "\n",
              "          const docLinkHtml = 'Like what you see? Visit the ' +\n",
              "            '<a target=\"_blank\" href=https://colab.research.google.com/notebooks/data_table.ipynb>data table notebook</a>'\n",
              "            + ' to learn more about interactive tables.';\n",
              "          element.innerHTML = '';\n",
              "          dataTable['output_type'] = 'display_data';\n",
              "          await google.colab.output.renderOutput(dataTable, element);\n",
              "          const docLink = document.createElement('div');\n",
              "          docLink.innerHTML = docLinkHtml;\n",
              "          element.appendChild(docLink);\n",
              "        }\n",
              "      </script>\n",
              "    </div>\n",
              "  </div>\n",
              "  "
            ]
          },
          "metadata": {},
          "execution_count": 16
        }
      ],
      "source": [
        "tabela = pd.merge(usuario, avaliacao, on = 'username', how = 'inner')\n",
        "tabela = pd.merge(tabela, dados_dos_filmes, on = 'movie_id', how = 'inner')\n",
        "tabela.head()"
      ]
    },
    {
      "cell_type": "code",
      "source": [
        "tabela.columns.to_list()"
      ],
      "metadata": {
        "colab": {
          "base_uri": "https://localhost:8080/"
        },
        "id": "E9LC7UwHnJHi",
        "outputId": "a092d90d-eac8-4c25-faa8-4c90631a4de1"
      },
      "execution_count": 17,
      "outputs": [
        {
          "output_type": "execute_result",
          "data": {
            "text/plain": [
              "['_id_x',\n",
              " 'display_name',\n",
              " 'num_ratings_pages',\n",
              " 'num_reviews',\n",
              " 'username',\n",
              " '_id_y',\n",
              " 'movie_id',\n",
              " 'rating_val',\n",
              " '_id',\n",
              " 'genres',\n",
              " 'image_url',\n",
              " 'imdb_id',\n",
              " 'imdb_link',\n",
              " 'movie_title',\n",
              " 'original_language',\n",
              " 'overview',\n",
              " 'popularity',\n",
              " 'production_countries',\n",
              " 'release_date',\n",
              " 'runtime',\n",
              " 'spoken_languages',\n",
              " 'tmdb_id',\n",
              " 'tmdb_link',\n",
              " 'vote_average',\n",
              " 'vote_count',\n",
              " 'year_released']"
            ]
          },
          "metadata": {},
          "execution_count": 17
        }
      ]
    },
    {
      "cell_type": "code",
      "source": [
        "tabela = tabela[['_id_x','num_reviews','username','_id_y','movie_id','rating_val','_id','genres','image_url','imdb_id','movie_title','original_language','popularity','production_countries','runtime','tmdb_id','tmdb_link','vote_average','vote_count','year_released']]"
      ],
      "metadata": {
        "id": "cdT9vOBvnU5Z"
      },
      "execution_count": 18,
      "outputs": []
    },
    {
      "cell_type": "code",
      "source": [
        "tabela.isna().sum()"
      ],
      "metadata": {
        "colab": {
          "base_uri": "https://localhost:8080/"
        },
        "id": "5uvfaEmujiMS",
        "outputId": "956b666b-ea00-4134-c21a-8ada866a4085"
      },
      "execution_count": 19,
      "outputs": [
        {
          "output_type": "execute_result",
          "data": {
            "text/plain": [
              "_id_x                        0\n",
              "num_reviews                  0\n",
              "username                     0\n",
              "_id_y                        0\n",
              "movie_id                    12\n",
              "rating_val                   0\n",
              "_id                          0\n",
              "genres                  167900\n",
              "image_url                39956\n",
              "imdb_id                 115587\n",
              "movie_title               9485\n",
              "original_language       167900\n",
              "popularity              167900\n",
              "production_countries    167900\n",
              "runtime                 174705\n",
              "tmdb_id                  93552\n",
              "tmdb_link                93552\n",
              "vote_average            167900\n",
              "vote_count              167900\n",
              "year_released            20246\n",
              "dtype: int64"
            ]
          },
          "metadata": {},
          "execution_count": 19
        }
      ]
    },
    {
      "cell_type": "code",
      "source": [
        "tabela = tabela.dropna(subset= ['movie_id'])"
      ],
      "metadata": {
        "id": "KnID1Y6dp3JK"
      },
      "execution_count": 20,
      "outputs": []
    },
    {
      "cell_type": "markdown",
      "source": [
        "inserindo cada tributo da tabela resultante em um vetor para melhor manipulação dos dados"
      ],
      "metadata": {
        "id": "bslPr3JIzd36"
      }
    },
    {
      "cell_type": "code",
      "source": [
        "df = pd.DataFrame()"
      ],
      "metadata": {
        "id": "8V25iwpD2eya"
      },
      "execution_count": 21,
      "outputs": []
    },
    {
      "cell_type": "code",
      "source": [
        "vetor__id_x = np.array(tabela._id_x)\n",
        "vetor_num_reviews = np.array(tabela.num_reviews)\n",
        "vetor_username = np.array(tabela.username)\n",
        "vetor__id_y = np.array(tabela._id_y)\n",
        "vetor_movie_id = np.array(tabela.movie_id)\n",
        "vetor_rating_val = np.array(tabela.rating_val)\n",
        "vetor__id = np.array(tabela._id)\n",
        "vetor_genres = np.array(tabela.genres)\n",
        "vetor_image_url = np.array(tabela.image_url)\n",
        "vetor_imdb_id = np.array(tabela.imdb_id)\n",
        "vetor_movie_title = np.array(tabela.movie_title)\n",
        "vetor_original_language = np.array(tabela.original_language)\n",
        "vetor_popularity = np.array(tabela.popularity)\n",
        "vetor_production_countries = np.array(tabela.production_countries)\n",
        "vetor_runtime = np.array(tabela.runtime)\n",
        "vetor_tmdb_id = np.array(tabela.tmdb_id)\n",
        "vetor_tmdb_link = np.array(tabela.tmdb_link)\n",
        "vetor_vote_average = np.array(tabela.vote_average)\n",
        "vetor_vote_count = np.array(tabela.vote_count)\n",
        "vetor_year_released = np.array(tabela.year_released)"
      ],
      "metadata": {
        "id": "o7yoFmnKx-OT"
      },
      "execution_count": 22,
      "outputs": []
    },
    {
      "cell_type": "code",
      "source": [
        "Colunas =['ID_usuario','Num_reviews','Username','ID_Avaliacao','Codigo_Filme','Nota_usuario','ID_Filme','Generos','Link_Poster','IMDB_ID','Filme','Idioma_Original','Popularidade','Pais_Producao','Minutos_Filme','TMDB_ID','Link_TMDB','Nota_Media','Contagem_TMDB','Ano_Lancamento']"
      ],
      "metadata": {
        "id": "e1qyBIaXzeji"
      },
      "execution_count": 23,
      "outputs": []
    },
    {
      "cell_type": "code",
      "source": [
        "df = pd.DataFrame(columns = Colunas)\n",
        "df.ID_usuario = vetor__id_x\n",
        "df.Username = vetor_username\n",
        "df.ID_Avaliacao = vetor__id_y\n",
        "df.Codigo_Filme = vetor_movie_id\n",
        "df.Nota_usuario = vetor_rating_val\n",
        "df.ID_Filme = vetor__id\n",
        "df.Generos = vetor_genres\n",
        "df.Filme = vetor_movie_title\n",
        "df.Popularidade = vetor_popularity\n",
        "df.Pais_Producao = vetor_production_countries\n",
        "df.Minutos_Filme = vetor_runtime\n",
        "df.Nota_Media = vetor_vote_average\n",
        "df.Contagem_TMDB = vetor_vote_count\n",
        "df.Ano_Lancamento = vetor_year_released"
      ],
      "metadata": {
        "id": "VWjpRbSI5Cii",
        "colab": {
          "base_uri": "https://localhost:8080/",
          "height": 998
        },
        "outputId": "90ebc6ee-ff35-446e-9169-669cbebaa384"
      },
      "execution_count": 24,
      "outputs": [
        {
          "output_type": "stream",
          "name": "stderr",
          "text": [
            "ERROR:root:Internal Python error in the inspect module.\n",
            "Below is the traceback from this internal error.\n",
            "\n"
          ]
        },
        {
          "output_type": "stream",
          "name": "stdout",
          "text": [
            "Traceback (most recent call last):\n",
            "  File \"/usr/local/lib/python3.8/dist-packages/IPython/core/interactiveshell.py\", line 3326, in run_code\n",
            "    exec(code_obj, self.user_global_ns, self.user_ns)\n",
            "  File \"<ipython-input-24-0fd044c60909>\", line 7, in <module>\n",
            "    df.ID_Filme = vetor__id\n",
            "  File \"/usr/local/lib/python3.8/dist-packages/pandas/core/generic.py\", line 5516, in __setattr__\n",
            "    self[name] = value\n",
            "  File \"/usr/local/lib/python3.8/dist-packages/pandas/core/frame.py\", line 3612, in __setitem__\n",
            "    self._set_item(key, value)\n",
            "  File \"/usr/local/lib/python3.8/dist-packages/pandas/core/frame.py\", line 3784, in _set_item\n",
            "    value = self._sanitize_column(value)\n",
            "  File \"/usr/local/lib/python3.8/dist-packages/pandas/core/frame.py\", line 4510, in _sanitize_column\n",
            "    return sanitize_array(value, self.index, copy=True, allow_2d=True)\n",
            "  File \"/usr/local/lib/python3.8/dist-packages/pandas/core/construction.py\", line 545, in sanitize_array\n",
            "    subarr = _try_cast(data, dtype, copy, raise_cast_failure)\n",
            "  File \"/usr/local/lib/python3.8/dist-packages/pandas/core/construction.py\", line 708, in _try_cast\n",
            "    out = out.copy()\n",
            "KeyboardInterrupt\n",
            "\n",
            "During handling of the above exception, another exception occurred:\n",
            "\n",
            "Traceback (most recent call last):\n",
            "  File \"/usr/local/lib/python3.8/dist-packages/IPython/core/interactiveshell.py\", line 2040, in showtraceback\n",
            "    stb = value._render_traceback_()\n",
            "AttributeError: 'KeyboardInterrupt' object has no attribute '_render_traceback_'\n",
            "\n",
            "During handling of the above exception, another exception occurred:\n",
            "\n",
            "Traceback (most recent call last):\n",
            "  File \"/usr/local/lib/python3.8/dist-packages/IPython/core/ultratb.py\", line 1101, in get_records\n",
            "    return _fixed_getinnerframes(etb, number_of_lines_of_context, tb_offset)\n",
            "  File \"/usr/local/lib/python3.8/dist-packages/IPython/core/ultratb.py\", line 319, in wrapped\n",
            "    return f(*args, **kwargs)\n",
            "  File \"/usr/local/lib/python3.8/dist-packages/IPython/core/ultratb.py\", line 353, in _fixed_getinnerframes\n",
            "    records = fix_frame_records_filenames(inspect.getinnerframes(etb, context))\n",
            "  File \"/usr/lib/python3.8/inspect.py\", line 1515, in getinnerframes\n",
            "    frameinfo = (tb.tb_frame,) + getframeinfo(tb, context)\n",
            "  File \"/usr/lib/python3.8/inspect.py\", line 1473, in getframeinfo\n",
            "    filename = getsourcefile(frame) or getfile(frame)\n",
            "  File \"/usr/lib/python3.8/inspect.py\", line 708, in getsourcefile\n",
            "    if getattr(getmodule(object, filename), '__loader__', None) is not None:\n",
            "  File \"/usr/lib/python3.8/inspect.py\", line 751, in getmodule\n",
            "    f = getabsfile(module)\n",
            "  File \"/usr/lib/python3.8/inspect.py\", line 720, in getabsfile\n",
            "    _filename = getsourcefile(object) or getfile(object)\n",
            "  File \"/usr/lib/python3.8/inspect.py\", line 705, in getsourcefile\n",
            "    if os.path.exists(filename):\n",
            "  File \"/usr/lib/python3.8/genericpath.py\", line 19, in exists\n",
            "    os.stat(path)\n",
            "KeyboardInterrupt\n"
          ]
        },
        {
          "output_type": "error",
          "ename": "KeyboardInterrupt",
          "evalue": "ignored",
          "traceback": [
            "\u001b[0;31m---------------------------------------------------------------------------\u001b[0m"
          ]
        }
      ]
    },
    {
      "cell_type": "code",
      "source": [
        "df.info()"
      ],
      "metadata": {
        "id": "gbt8CZtWgYPd"
      },
      "execution_count": null,
      "outputs": []
    },
    {
      "cell_type": "code",
      "source": [
        "from sklearn.tree import DecisionTreeClassifier, export_graphviz\n",
        "from sklearn.model_selection import train_test_split\n",
        "from sklearn import metrics\n",
        "from sklearn.preprocessing import LabelEncoder"
      ],
      "metadata": {
        "id": "Z7wIGkabgI9u"
      },
      "execution_count": null,
      "outputs": []
    },
    {
      "cell_type": "markdown",
      "source": [
        "Removendo os elemento não numéricos:"
      ],
      "metadata": {
        "id": "mE4_RSw5gmg2"
      }
    },
    {
      "cell_type": "code",
      "source": [
        "df['ID_usuario'] = df['ID_usuario'].str.replace(r'\\D', '')\n",
        "df['ID_Avaliacao'] = df['ID_Avaliacao'].str.replace(r'\\D', '')\n",
        "df['ID_Filme'] = df['ID_Filme'].str.replace(r'\\D', '')"
      ],
      "metadata": {
        "id": "I91aYwERgK_1"
      },
      "execution_count": null,
      "outputs": []
    },
    {
      "cell_type": "code",
      "source": [
        "le = LabelEncoder()"
      ],
      "metadata": {
        "id": "1XIR62Rwh6Nu"
      },
      "execution_count": null,
      "outputs": []
    },
    {
      "cell_type": "code",
      "source": [
        "df['Generos'] = le.fit_transform(df['Generos'])\n",
        "df['Username'] = le.fit_transform(df['Username'])"
      ],
      "metadata": {
        "id": "UrEP8blgiCvN"
      },
      "execution_count": null,
      "outputs": []
    }
  ],
  "metadata": {
    "colab": {
      "collapsed_sections": [
        "Fs28YXvlkMR1",
        "LVeuGn8WkYmE",
        "rzUjvuQqkd-0"
      ],
      "provenance": [],
      "include_colab_link": true
    },
    "kernelspec": {
      "display_name": "Python 3",
      "name": "python3"
    },
    "language_info": {
      "name": "python"
    }
  },
  "nbformat": 4,
  "nbformat_minor": 0
}