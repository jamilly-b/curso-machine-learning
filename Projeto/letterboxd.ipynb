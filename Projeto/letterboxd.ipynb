{
  "cells": [
    {
      "cell_type": "markdown",
      "metadata": {
        "id": "view-in-github",
        "colab_type": "text"
      },
      "source": [
        "<a href=\"https://colab.research.google.com/github/jamilly-b/curso-machine-learning/blob/main/Projeto/letterboxd.ipynb\" target=\"_parent\"><img src=\"https://colab.research.google.com/assets/colab-badge.svg\" alt=\"Open In Colab\"/></a>"
      ]
    },
    {
      "cell_type": "code",
      "execution_count": 1,
      "metadata": {
        "id": "a7k9-YuqSH-M"
      },
      "outputs": [],
      "source": [
        "from google.colab import drive\n",
        "import pandas as pd\n",
        "import numpy as np"
      ]
    },
    {
      "cell_type": "code",
      "execution_count": 2,
      "metadata": {
        "colab": {
          "base_uri": "https://localhost:8080/"
        },
        "id": "Lyzwk9tQRVgA",
        "outputId": "fb290444-7563-47ed-ba65-511dde8f07b2"
      },
      "outputs": [
        {
          "output_type": "stream",
          "name": "stdout",
          "text": [
            "Mounted at /content/drive\n"
          ]
        }
      ],
      "source": [
        "drive.mount('/content/drive')\n",
        "dados_filmes = pd.read_csv('/content/drive/MyDrive/machine-learning-project/movie_data.csv', lineterminator='\\n')\n",
        "usuario = pd.read_csv('/content/drive/MyDrive/machine-learning-project/users_export.csv')\n",
        "avaliacao = pd.read_csv('/content/drive/MyDrive/machine-learning-project/ratings_export.csv')"
      ]
    },
    {
      "cell_type": "markdown",
      "metadata": {
        "id": "nwI5rhK3kE2-"
      },
      "source": [
        "## Visualização dos dados"
      ]
    },
    {
      "cell_type": "markdown",
      "source": [
        "### Significado das variáveis"
      ],
      "metadata": {
        "id": "QoLf4P4eTEiY"
      }
    },
    {
      "cell_type": "markdown",
      "source": [
        "**_id** = ID exclusivo global.\n",
        "\n",
        "**display_name** = Nome de exibição em Letterboxd no momento do último rastreamento. /// **num_ratings_pages** = Número de páginas de avaliações ///  **num_reviews** = Número total de avaliações feitas por este usuário. /// **username** = Letterboxd ID ///nome de usuário exclusivo. Pode ser usado para formar um URL Letterboxd. /// **_id** = ID exclusivo global. /// **genres** = Array  de gêneros de filmes associados. /// **image_url** = Imagem usada no site Letterboxd para o filme. Geralmente um pôster. /// **imdb_id** = ID para IMDB. /// **imdb_link** = Link para a página IMDB do filme. /// **movie_id** = Identificação do filme Letterboxd. /// **movie_title** = Título de exibição. ///**original_language** = Idioma original do filme /// **overview** = Descrição do filme /// **popularity** = Popularidade numérica  /// **production_countries** = Matriz de países em que o filme foi produzido /// **release_date** = Data de lançamento /// **runtime** = Tempo de execução em minutos /// **spoken_languages** = Array de todos os idiomas falados no filme /// **tmdb_id** = ID para acessar dados na API /// **tmdb_link** = Link para a entrada do filme no TMDB ///**vote_average** = Média de votos /// **vote_count** = contagem de votos ///**year_released** = Ano lançado /// **_id** = ID exclusivo global. /// **movie_id** = Letterboxd ID exclusivo para o filme. Pode ser usado para corresponder aos dados do filme neste conjunto de dados ou para construir um Letterboxd /// **rating_val** = Valor da classificação com base nas estrelas dadas (em incrementos de meia estrela). Uma meia estrela é 1, cinco estrelas é 10, etc. /// **user_id** = Letterboxd ID exclusivo para o usuário. Pode ser usado para corresponder aos dados do usuário neste conjunto de dados ou para construir um Letterboxd"
      ],
      "metadata": {
        "id": "EMfz52jSUE8Q"
      }
    },
    {
      "cell_type": "markdown",
      "metadata": {
        "id": "Fs28YXvlkMR1"
      },
      "source": [
        "### Tabela Usuário"
      ]
    },
    {
      "cell_type": "code",
      "execution_count": 3,
      "metadata": {
        "colab": {
          "base_uri": "https://localhost:8080/",
          "height": 206
        },
        "id": "bUZpJ1viZI9N",
        "outputId": "0ceb4d43-715e-4e1c-a22f-e71a232caa67"
      },
      "outputs": [
        {
          "output_type": "execute_result",
          "data": {
            "text/plain": [
              "                        _id display_name  num_ratings_pages  num_reviews  \\\n",
              "0  5fc4172ec6cd28ebd99dd0e2         Lucy               32.0         1650   \n",
              "1  5fc4172ec6cd28ebd99dd0ea  Matt Singer               52.0         1915   \n",
              "2  5fc4172ec6cd28ebd99dd0ed   Sean Baker               21.0         1283   \n",
              "3  5fc4172ec6cd28ebd99dd0ee         iana               37.0         1177   \n",
              "4  5fc419171ebf67b9fbe48615        Lizzy               57.0         1810   \n",
              "\n",
              "          username  \n",
              "0       deathproof  \n",
              "1       superpulse  \n",
              "2          lilfilm  \n",
              "3       ianamurray  \n",
              "4  punchdrunklizzy  "
            ],
            "text/html": [
              "\n",
              "  <div id=\"df-7c59ffab-74ae-4c13-a2f2-d73a6260c6cd\">\n",
              "    <div class=\"colab-df-container\">\n",
              "      <div>\n",
              "<style scoped>\n",
              "    .dataframe tbody tr th:only-of-type {\n",
              "        vertical-align: middle;\n",
              "    }\n",
              "\n",
              "    .dataframe tbody tr th {\n",
              "        vertical-align: top;\n",
              "    }\n",
              "\n",
              "    .dataframe thead th {\n",
              "        text-align: right;\n",
              "    }\n",
              "</style>\n",
              "<table border=\"1\" class=\"dataframe\">\n",
              "  <thead>\n",
              "    <tr style=\"text-align: right;\">\n",
              "      <th></th>\n",
              "      <th>_id</th>\n",
              "      <th>display_name</th>\n",
              "      <th>num_ratings_pages</th>\n",
              "      <th>num_reviews</th>\n",
              "      <th>username</th>\n",
              "    </tr>\n",
              "  </thead>\n",
              "  <tbody>\n",
              "    <tr>\n",
              "      <th>0</th>\n",
              "      <td>5fc4172ec6cd28ebd99dd0e2</td>\n",
              "      <td>Lucy</td>\n",
              "      <td>32.0</td>\n",
              "      <td>1650</td>\n",
              "      <td>deathproof</td>\n",
              "    </tr>\n",
              "    <tr>\n",
              "      <th>1</th>\n",
              "      <td>5fc4172ec6cd28ebd99dd0ea</td>\n",
              "      <td>Matt Singer</td>\n",
              "      <td>52.0</td>\n",
              "      <td>1915</td>\n",
              "      <td>superpulse</td>\n",
              "    </tr>\n",
              "    <tr>\n",
              "      <th>2</th>\n",
              "      <td>5fc4172ec6cd28ebd99dd0ed</td>\n",
              "      <td>Sean Baker</td>\n",
              "      <td>21.0</td>\n",
              "      <td>1283</td>\n",
              "      <td>lilfilm</td>\n",
              "    </tr>\n",
              "    <tr>\n",
              "      <th>3</th>\n",
              "      <td>5fc4172ec6cd28ebd99dd0ee</td>\n",
              "      <td>iana</td>\n",
              "      <td>37.0</td>\n",
              "      <td>1177</td>\n",
              "      <td>ianamurray</td>\n",
              "    </tr>\n",
              "    <tr>\n",
              "      <th>4</th>\n",
              "      <td>5fc419171ebf67b9fbe48615</td>\n",
              "      <td>Lizzy</td>\n",
              "      <td>57.0</td>\n",
              "      <td>1810</td>\n",
              "      <td>punchdrunklizzy</td>\n",
              "    </tr>\n",
              "  </tbody>\n",
              "</table>\n",
              "</div>\n",
              "      <button class=\"colab-df-convert\" onclick=\"convertToInteractive('df-7c59ffab-74ae-4c13-a2f2-d73a6260c6cd')\"\n",
              "              title=\"Convert this dataframe to an interactive table.\"\n",
              "              style=\"display:none;\">\n",
              "        \n",
              "  <svg xmlns=\"http://www.w3.org/2000/svg\" height=\"24px\"viewBox=\"0 0 24 24\"\n",
              "       width=\"24px\">\n",
              "    <path d=\"M0 0h24v24H0V0z\" fill=\"none\"/>\n",
              "    <path d=\"M18.56 5.44l.94 2.06.94-2.06 2.06-.94-2.06-.94-.94-2.06-.94 2.06-2.06.94zm-11 1L8.5 8.5l.94-2.06 2.06-.94-2.06-.94L8.5 2.5l-.94 2.06-2.06.94zm10 10l.94 2.06.94-2.06 2.06-.94-2.06-.94-.94-2.06-.94 2.06-2.06.94z\"/><path d=\"M17.41 7.96l-1.37-1.37c-.4-.4-.92-.59-1.43-.59-.52 0-1.04.2-1.43.59L10.3 9.45l-7.72 7.72c-.78.78-.78 2.05 0 2.83L4 21.41c.39.39.9.59 1.41.59.51 0 1.02-.2 1.41-.59l7.78-7.78 2.81-2.81c.8-.78.8-2.07 0-2.86zM5.41 20L4 18.59l7.72-7.72 1.47 1.35L5.41 20z\"/>\n",
              "  </svg>\n",
              "      </button>\n",
              "      \n",
              "  <style>\n",
              "    .colab-df-container {\n",
              "      display:flex;\n",
              "      flex-wrap:wrap;\n",
              "      gap: 12px;\n",
              "    }\n",
              "\n",
              "    .colab-df-convert {\n",
              "      background-color: #E8F0FE;\n",
              "      border: none;\n",
              "      border-radius: 50%;\n",
              "      cursor: pointer;\n",
              "      display: none;\n",
              "      fill: #1967D2;\n",
              "      height: 32px;\n",
              "      padding: 0 0 0 0;\n",
              "      width: 32px;\n",
              "    }\n",
              "\n",
              "    .colab-df-convert:hover {\n",
              "      background-color: #E2EBFA;\n",
              "      box-shadow: 0px 1px 2px rgba(60, 64, 67, 0.3), 0px 1px 3px 1px rgba(60, 64, 67, 0.15);\n",
              "      fill: #174EA6;\n",
              "    }\n",
              "\n",
              "    [theme=dark] .colab-df-convert {\n",
              "      background-color: #3B4455;\n",
              "      fill: #D2E3FC;\n",
              "    }\n",
              "\n",
              "    [theme=dark] .colab-df-convert:hover {\n",
              "      background-color: #434B5C;\n",
              "      box-shadow: 0px 1px 3px 1px rgba(0, 0, 0, 0.15);\n",
              "      filter: drop-shadow(0px 1px 2px rgba(0, 0, 0, 0.3));\n",
              "      fill: #FFFFFF;\n",
              "    }\n",
              "  </style>\n",
              "\n",
              "      <script>\n",
              "        const buttonEl =\n",
              "          document.querySelector('#df-7c59ffab-74ae-4c13-a2f2-d73a6260c6cd button.colab-df-convert');\n",
              "        buttonEl.style.display =\n",
              "          google.colab.kernel.accessAllowed ? 'block' : 'none';\n",
              "\n",
              "        async function convertToInteractive(key) {\n",
              "          const element = document.querySelector('#df-7c59ffab-74ae-4c13-a2f2-d73a6260c6cd');\n",
              "          const dataTable =\n",
              "            await google.colab.kernel.invokeFunction('convertToInteractive',\n",
              "                                                     [key], {});\n",
              "          if (!dataTable) return;\n",
              "\n",
              "          const docLinkHtml = 'Like what you see? Visit the ' +\n",
              "            '<a target=\"_blank\" href=https://colab.research.google.com/notebooks/data_table.ipynb>data table notebook</a>'\n",
              "            + ' to learn more about interactive tables.';\n",
              "          element.innerHTML = '';\n",
              "          dataTable['output_type'] = 'display_data';\n",
              "          await google.colab.output.renderOutput(dataTable, element);\n",
              "          const docLink = document.createElement('div');\n",
              "          docLink.innerHTML = docLinkHtml;\n",
              "          element.appendChild(docLink);\n",
              "        }\n",
              "      </script>\n",
              "    </div>\n",
              "  </div>\n",
              "  "
            ]
          },
          "metadata": {},
          "execution_count": 3
        }
      ],
      "source": [
        "usuario.head() "
      ]
    },
    {
      "cell_type": "code",
      "execution_count": 4,
      "metadata": {
        "colab": {
          "base_uri": "https://localhost:8080/"
        },
        "id": "EnWtE9ahZMjG",
        "outputId": "ff7ccb31-2652-4aca-c137-10899bc8d007"
      },
      "outputs": [
        {
          "output_type": "execute_result",
          "data": {
            "text/plain": [
              "_id                     0\n",
              "display_name          307\n",
              "num_ratings_pages    3392\n",
              "num_reviews             0\n",
              "username                0\n",
              "dtype: int64"
            ]
          },
          "metadata": {},
          "execution_count": 4
        }
      ],
      "source": [
        "usuario.isnull().sum()"
      ]
    },
    {
      "cell_type": "markdown",
      "source": [
        "Limpando os dados nulos e selecionando os dados que serão úteis:"
      ],
      "metadata": {
        "id": "7QVAOiV7UxyA"
      }
    },
    {
      "cell_type": "code",
      "source": [
        "usuario = usuario.dropna(subset= ['display_name', 'num_ratings_pages']) #apagando os dados nulos"
      ],
      "metadata": {
        "id": "r9t3xbXfUKwY"
      },
      "execution_count": 5,
      "outputs": []
    },
    {
      "cell_type": "code",
      "source": [
        "usuario.shape"
      ],
      "metadata": {
        "colab": {
          "base_uri": "https://localhost:8080/"
        },
        "id": "uCmSz_35U86o",
        "outputId": "7b5ac636-6d41-4a7c-c5df-c78260c758a4"
      },
      "execution_count": 6,
      "outputs": [
        {
          "output_type": "execute_result",
          "data": {
            "text/plain": [
              "(4747, 5)"
            ]
          },
          "metadata": {},
          "execution_count": 6
        }
      ]
    },
    {
      "cell_type": "code",
      "source": [
        "usuario = usuario.drop(usuario[usuario.num_reviews < 1000].index) #selecionando os usuários que possuem mais de 1000 avaliações"
      ],
      "metadata": {
        "id": "0yaoOmQhU5Do"
      },
      "execution_count": 7,
      "outputs": []
    },
    {
      "cell_type": "code",
      "source": [
        "usuario = usuario.drop(columns = ['num_reviews', 'num_ratings_pages', 'display_name'])"
      ],
      "metadata": {
        "id": "jcA63VfQgFI6"
      },
      "execution_count": 8,
      "outputs": []
    },
    {
      "cell_type": "code",
      "source": [
        "usuario.shape"
      ],
      "metadata": {
        "colab": {
          "base_uri": "https://localhost:8080/"
        },
        "id": "qs2VK5zAVZf4",
        "outputId": "2b38ab6e-d576-4d38-cee3-a37978e61520"
      },
      "execution_count": 9,
      "outputs": [
        {
          "output_type": "execute_result",
          "data": {
            "text/plain": [
              "(1867, 2)"
            ]
          },
          "metadata": {},
          "execution_count": 9
        }
      ]
    },
    {
      "cell_type": "markdown",
      "source": [
        "Agora a quantidade de usuários que serão avaliados foi reduzido, para deixar o data frame mais leve."
      ],
      "metadata": {
        "id": "Rnek1EaKVtmw"
      }
    },
    {
      "cell_type": "markdown",
      "metadata": {
        "id": "LVeuGn8WkYmE"
      },
      "source": [
        "### Tabela Dados dos filmes"
      ]
    },
    {
      "cell_type": "code",
      "execution_count": 10,
      "metadata": {
        "colab": {
          "base_uri": "https://localhost:8080/",
          "height": 468
        },
        "id": "pZjMpIeIaAd2",
        "outputId": "17346e8d-6be9-4077-fca6-ef4183cce24d"
      },
      "outputs": [
        {
          "output_type": "execute_result",
          "data": {
            "text/plain": [
              "                        _id                 genres  \\\n",
              "0  5fc85f606758f69634496fd3  [\"Music\",\"Animation\"]   \n",
              "1  5fc85ff26758f696344ace0c                     []   \n",
              "2  5fc85f606758f69634496fcd              [\"Drama\"]   \n",
              "\n",
              "                                           image_url    imdb_id  \\\n",
              "0  film-poster/4/6/4/4/4/0/464440-football-freaks...        NaN   \n",
              "1  film-poster/2/4/5/5/0/0/245500-aftermath-0-230...  tt0586129   \n",
              "2  film-poster/9/3/3/1/8/93318-where-chimneys-are...  tt0045731   \n",
              "\n",
              "                                         imdb_link                 movie_id  \\\n",
              "0                                              NaN          football-freaks   \n",
              "1  http://www.imdb.com/title/tt0586129/maindetails           aftermath-1960   \n",
              "2  http://www.imdb.com/title/tt0045731/maindetails  where-chimneys-are-seen   \n",
              "\n",
              "               movie_title original_language  \\\n",
              "0          Football Freaks                en   \n",
              "1                Aftermath                en   \n",
              "2  Where Chimneys Are Seen                ja   \n",
              "\n",
              "                                            overview  popularity  \\\n",
              "0  Football crazy, football mad. Don’t watch this...       0.600   \n",
              "1  Aftermath was the pilot for an unsold TV serie...       0.600   \n",
              "2  Gosho’s most celebrated film both in Japan and...       1.568   \n",
              "\n",
              "  production_countries release_date  runtime spoken_languages   tmdb_id  \\\n",
              "0   [\"United Kingdom\"]   1971-12-05      0.0               []  535272.0   \n",
              "1                   []   1960-04-17     22.0               []  318331.0   \n",
              "2            [\"Japan\"]   1953-03-05    108.0          [\"日本語\"]  117779.0   \n",
              "\n",
              "                                  tmdb_link  vote_average  vote_count  \\\n",
              "0  https://www.themoviedb.org/movie/535272/           0.0         0.0   \n",
              "1  https://www.themoviedb.org/movie/318331/           8.0         1.0   \n",
              "2  https://www.themoviedb.org/movie/117779/           6.6        10.0   \n",
              "\n",
              "   year_released  \n",
              "0         1971.0  \n",
              "1         1960.0  \n",
              "2         1953.0  "
            ],
            "text/html": [
              "\n",
              "  <div id=\"df-b096cec6-2a2c-43b0-aca1-78555b3ccd24\">\n",
              "    <div class=\"colab-df-container\">\n",
              "      <div>\n",
              "<style scoped>\n",
              "    .dataframe tbody tr th:only-of-type {\n",
              "        vertical-align: middle;\n",
              "    }\n",
              "\n",
              "    .dataframe tbody tr th {\n",
              "        vertical-align: top;\n",
              "    }\n",
              "\n",
              "    .dataframe thead th {\n",
              "        text-align: right;\n",
              "    }\n",
              "</style>\n",
              "<table border=\"1\" class=\"dataframe\">\n",
              "  <thead>\n",
              "    <tr style=\"text-align: right;\">\n",
              "      <th></th>\n",
              "      <th>_id</th>\n",
              "      <th>genres</th>\n",
              "      <th>image_url</th>\n",
              "      <th>imdb_id</th>\n",
              "      <th>imdb_link</th>\n",
              "      <th>movie_id</th>\n",
              "      <th>movie_title</th>\n",
              "      <th>original_language</th>\n",
              "      <th>overview</th>\n",
              "      <th>popularity</th>\n",
              "      <th>production_countries</th>\n",
              "      <th>release_date</th>\n",
              "      <th>runtime</th>\n",
              "      <th>spoken_languages</th>\n",
              "      <th>tmdb_id</th>\n",
              "      <th>tmdb_link</th>\n",
              "      <th>vote_average</th>\n",
              "      <th>vote_count</th>\n",
              "      <th>year_released</th>\n",
              "    </tr>\n",
              "  </thead>\n",
              "  <tbody>\n",
              "    <tr>\n",
              "      <th>0</th>\n",
              "      <td>5fc85f606758f69634496fd3</td>\n",
              "      <td>[\"Music\",\"Animation\"]</td>\n",
              "      <td>film-poster/4/6/4/4/4/0/464440-football-freaks...</td>\n",
              "      <td>NaN</td>\n",
              "      <td>NaN</td>\n",
              "      <td>football-freaks</td>\n",
              "      <td>Football Freaks</td>\n",
              "      <td>en</td>\n",
              "      <td>Football crazy, football mad. Don’t watch this...</td>\n",
              "      <td>0.600</td>\n",
              "      <td>[\"United Kingdom\"]</td>\n",
              "      <td>1971-12-05</td>\n",
              "      <td>0.0</td>\n",
              "      <td>[]</td>\n",
              "      <td>535272.0</td>\n",
              "      <td>https://www.themoviedb.org/movie/535272/</td>\n",
              "      <td>0.0</td>\n",
              "      <td>0.0</td>\n",
              "      <td>1971.0</td>\n",
              "    </tr>\n",
              "    <tr>\n",
              "      <th>1</th>\n",
              "      <td>5fc85ff26758f696344ace0c</td>\n",
              "      <td>[]</td>\n",
              "      <td>film-poster/2/4/5/5/0/0/245500-aftermath-0-230...</td>\n",
              "      <td>tt0586129</td>\n",
              "      <td>http://www.imdb.com/title/tt0586129/maindetails</td>\n",
              "      <td>aftermath-1960</td>\n",
              "      <td>Aftermath</td>\n",
              "      <td>en</td>\n",
              "      <td>Aftermath was the pilot for an unsold TV serie...</td>\n",
              "      <td>0.600</td>\n",
              "      <td>[]</td>\n",
              "      <td>1960-04-17</td>\n",
              "      <td>22.0</td>\n",
              "      <td>[]</td>\n",
              "      <td>318331.0</td>\n",
              "      <td>https://www.themoviedb.org/movie/318331/</td>\n",
              "      <td>8.0</td>\n",
              "      <td>1.0</td>\n",
              "      <td>1960.0</td>\n",
              "    </tr>\n",
              "    <tr>\n",
              "      <th>2</th>\n",
              "      <td>5fc85f606758f69634496fcd</td>\n",
              "      <td>[\"Drama\"]</td>\n",
              "      <td>film-poster/9/3/3/1/8/93318-where-chimneys-are...</td>\n",
              "      <td>tt0045731</td>\n",
              "      <td>http://www.imdb.com/title/tt0045731/maindetails</td>\n",
              "      <td>where-chimneys-are-seen</td>\n",
              "      <td>Where Chimneys Are Seen</td>\n",
              "      <td>ja</td>\n",
              "      <td>Gosho’s most celebrated film both in Japan and...</td>\n",
              "      <td>1.568</td>\n",
              "      <td>[\"Japan\"]</td>\n",
              "      <td>1953-03-05</td>\n",
              "      <td>108.0</td>\n",
              "      <td>[\"日本語\"]</td>\n",
              "      <td>117779.0</td>\n",
              "      <td>https://www.themoviedb.org/movie/117779/</td>\n",
              "      <td>6.6</td>\n",
              "      <td>10.0</td>\n",
              "      <td>1953.0</td>\n",
              "    </tr>\n",
              "  </tbody>\n",
              "</table>\n",
              "</div>\n",
              "      <button class=\"colab-df-convert\" onclick=\"convertToInteractive('df-b096cec6-2a2c-43b0-aca1-78555b3ccd24')\"\n",
              "              title=\"Convert this dataframe to an interactive table.\"\n",
              "              style=\"display:none;\">\n",
              "        \n",
              "  <svg xmlns=\"http://www.w3.org/2000/svg\" height=\"24px\"viewBox=\"0 0 24 24\"\n",
              "       width=\"24px\">\n",
              "    <path d=\"M0 0h24v24H0V0z\" fill=\"none\"/>\n",
              "    <path d=\"M18.56 5.44l.94 2.06.94-2.06 2.06-.94-2.06-.94-.94-2.06-.94 2.06-2.06.94zm-11 1L8.5 8.5l.94-2.06 2.06-.94-2.06-.94L8.5 2.5l-.94 2.06-2.06.94zm10 10l.94 2.06.94-2.06 2.06-.94-2.06-.94-.94-2.06-.94 2.06-2.06.94z\"/><path d=\"M17.41 7.96l-1.37-1.37c-.4-.4-.92-.59-1.43-.59-.52 0-1.04.2-1.43.59L10.3 9.45l-7.72 7.72c-.78.78-.78 2.05 0 2.83L4 21.41c.39.39.9.59 1.41.59.51 0 1.02-.2 1.41-.59l7.78-7.78 2.81-2.81c.8-.78.8-2.07 0-2.86zM5.41 20L4 18.59l7.72-7.72 1.47 1.35L5.41 20z\"/>\n",
              "  </svg>\n",
              "      </button>\n",
              "      \n",
              "  <style>\n",
              "    .colab-df-container {\n",
              "      display:flex;\n",
              "      flex-wrap:wrap;\n",
              "      gap: 12px;\n",
              "    }\n",
              "\n",
              "    .colab-df-convert {\n",
              "      background-color: #E8F0FE;\n",
              "      border: none;\n",
              "      border-radius: 50%;\n",
              "      cursor: pointer;\n",
              "      display: none;\n",
              "      fill: #1967D2;\n",
              "      height: 32px;\n",
              "      padding: 0 0 0 0;\n",
              "      width: 32px;\n",
              "    }\n",
              "\n",
              "    .colab-df-convert:hover {\n",
              "      background-color: #E2EBFA;\n",
              "      box-shadow: 0px 1px 2px rgba(60, 64, 67, 0.3), 0px 1px 3px 1px rgba(60, 64, 67, 0.15);\n",
              "      fill: #174EA6;\n",
              "    }\n",
              "\n",
              "    [theme=dark] .colab-df-convert {\n",
              "      background-color: #3B4455;\n",
              "      fill: #D2E3FC;\n",
              "    }\n",
              "\n",
              "    [theme=dark] .colab-df-convert:hover {\n",
              "      background-color: #434B5C;\n",
              "      box-shadow: 0px 1px 3px 1px rgba(0, 0, 0, 0.15);\n",
              "      filter: drop-shadow(0px 1px 2px rgba(0, 0, 0, 0.3));\n",
              "      fill: #FFFFFF;\n",
              "    }\n",
              "  </style>\n",
              "\n",
              "      <script>\n",
              "        const buttonEl =\n",
              "          document.querySelector('#df-b096cec6-2a2c-43b0-aca1-78555b3ccd24 button.colab-df-convert');\n",
              "        buttonEl.style.display =\n",
              "          google.colab.kernel.accessAllowed ? 'block' : 'none';\n",
              "\n",
              "        async function convertToInteractive(key) {\n",
              "          const element = document.querySelector('#df-b096cec6-2a2c-43b0-aca1-78555b3ccd24');\n",
              "          const dataTable =\n",
              "            await google.colab.kernel.invokeFunction('convertToInteractive',\n",
              "                                                     [key], {});\n",
              "          if (!dataTable) return;\n",
              "\n",
              "          const docLinkHtml = 'Like what you see? Visit the ' +\n",
              "            '<a target=\"_blank\" href=https://colab.research.google.com/notebooks/data_table.ipynb>data table notebook</a>'\n",
              "            + ' to learn more about interactive tables.';\n",
              "          element.innerHTML = '';\n",
              "          dataTable['output_type'] = 'display_data';\n",
              "          await google.colab.output.renderOutput(dataTable, element);\n",
              "          const docLink = document.createElement('div');\n",
              "          docLink.innerHTML = docLinkHtml;\n",
              "          element.appendChild(docLink);\n",
              "        }\n",
              "      </script>\n",
              "    </div>\n",
              "  </div>\n",
              "  "
            ]
          },
          "metadata": {},
          "execution_count": 10
        }
      ],
      "source": [
        "dados_filmes.head(3)"
      ]
    },
    {
      "cell_type": "code",
      "execution_count": 11,
      "metadata": {
        "colab": {
          "base_uri": "https://localhost:8080/"
        },
        "id": "oei0ruHJwLBH",
        "outputId": "a89c8219-644f-4298-ee38-3c74dfdd24e5"
      },
      "outputs": [
        {
          "output_type": "execute_result",
          "data": {
            "text/plain": [
              "Index(['_id', 'genres', 'image_url', 'imdb_id', 'imdb_link', 'movie_id',\n",
              "       'movie_title', 'original_language', 'overview', 'popularity',\n",
              "       'production_countries', 'release_date', 'runtime', 'spoken_languages',\n",
              "       'tmdb_id', 'tmdb_link', 'vote_average', 'vote_count', 'year_released'],\n",
              "      dtype='object')"
            ]
          },
          "metadata": {},
          "execution_count": 11
        }
      ],
      "source": [
        "dados_filmes.columns"
      ]
    },
    {
      "cell_type": "code",
      "execution_count": 12,
      "metadata": {
        "colab": {
          "base_uri": "https://localhost:8080/"
        },
        "id": "cWiJc5P5fRde",
        "outputId": "efac809c-6276-4e63-b691-3fdf8ea1b41e"
      },
      "outputs": [
        {
          "output_type": "execute_result",
          "data": {
            "text/plain": [
              "(285504, 19)"
            ]
          },
          "metadata": {},
          "execution_count": 12
        }
      ],
      "source": [
        "dados_filmes.shape"
      ]
    },
    {
      "cell_type": "markdown",
      "source": [
        "A tabela possui 285.504, é muito interessante reduzir essa quantidade, pois a maioria dos filmes não são relevantes para nosso projeto."
      ],
      "metadata": {
        "id": "22fGQi6QZUUx"
      }
    },
    {
      "cell_type": "code",
      "execution_count": 13,
      "metadata": {
        "colab": {
          "base_uri": "https://localhost:8080/"
        },
        "id": "B57ll-ZA7-Q1",
        "outputId": "64ed6574-7ce8-40f4-caeb-81b683561351"
      },
      "outputs": [
        {
          "output_type": "execute_result",
          "data": {
            "text/plain": [
              "_id                         0\n",
              "genres                  10632\n",
              "image_url               21097\n",
              "imdb_id                 41702\n",
              "imdb_link               41702\n",
              "movie_id                    2\n",
              "movie_title              2164\n",
              "original_language       10632\n",
              "overview                24256\n",
              "popularity              10632\n",
              "production_countries    10632\n",
              "release_date            14454\n",
              "runtime                 15449\n",
              "spoken_languages        10632\n",
              "tmdb_id                  5587\n",
              "tmdb_link                5587\n",
              "vote_average            10632\n",
              "vote_count              10632\n",
              "year_released            7572\n",
              "dtype: int64"
            ]
          },
          "metadata": {},
          "execution_count": 13
        }
      ],
      "source": [
        "dados_filmes.isna().sum()"
      ]
    },
    {
      "cell_type": "markdown",
      "source": [
        "Filtrando os dados interessantes:"
      ],
      "metadata": {
        "id": "9VEoFU8qWYrQ"
      }
    },
    {
      "cell_type": "code",
      "source": [
        "dados_filmes = dados_filmes.drop(dados_filmes[dados_filmes.popularity < 9].index)\n",
        "dados_filmes = dados_filmes.drop(dados_filmes[dados_filmes.vote_count < 1000].index)\n",
        "dados_filmes = dados_filmes.drop(dados_filmes[dados_filmes.runtime < 50].index)\n",
        "dados_filmes = dados_filmes.drop(dados_filmes[dados_filmes.year_released < 1940].index)"
      ],
      "metadata": {
        "id": "PveKvXH6WU8B"
      },
      "execution_count": 14,
      "outputs": []
    },
    {
      "cell_type": "markdown",
      "source": [
        "Tratando os dados nulos:"
      ],
      "metadata": {
        "id": "XWrP8fIqXJc5"
      }
    },
    {
      "cell_type": "code",
      "source": [
        "dados_filmes = dados_filmes.dropna(subset= ['genres', 'image_url', 'imdb_id', 'imdb_link', 'movie_id','movie_title', 'original_language', 'overview', \\\n",
        "                                            'popularity','production_countries', 'release_date', 'runtime', 'spoken_languages','tmdb_id', 'tmdb_link', 'vote_average', 'vote_count', 'year_released'])"
      ],
      "metadata": {
        "id": "hZZOybodXL35"
      },
      "execution_count": 15,
      "outputs": []
    },
    {
      "cell_type": "markdown",
      "source": [
        "Eliminando as colunas desnecessárias:"
      ],
      "metadata": {
        "id": "hQ_b4Bc8WMrA"
      }
    },
    {
      "cell_type": "code",
      "source": [
        "dados_filmes = dados_filmes.drop(columns= ['imdb_id', 'original_language', 'overview', 'release_date', 'runtime', 'spoken_languages','tmdb_id', 'tmdb_link'])"
      ],
      "metadata": {
        "id": "_KzaZrAlXrop"
      },
      "execution_count": 16,
      "outputs": []
    },
    {
      "cell_type": "code",
      "source": [
        "dados_filmes.shape"
      ],
      "metadata": {
        "colab": {
          "base_uri": "https://localhost:8080/"
        },
        "id": "ja3AAr72YjMR",
        "outputId": "5b75201e-b9b6-4f94-8430-0dd1004deb30"
      },
      "execution_count": 17,
      "outputs": [
        {
          "output_type": "execute_result",
          "data": {
            "text/plain": [
              "(3159, 11)"
            ]
          },
          "metadata": {},
          "execution_count": 17
        }
      ]
    },
    {
      "cell_type": "markdown",
      "source": [
        "Conseguimos uma redução de 98% nessa tabela."
      ],
      "metadata": {
        "id": "PiaX14VqYm7y"
      }
    },
    {
      "cell_type": "markdown",
      "metadata": {
        "id": "rzUjvuQqkd-0"
      },
      "source": [
        "### Tabela Avaliação"
      ]
    },
    {
      "cell_type": "markdown",
      "source": [
        "Essa tabela é a maior de todas, e precisa ser o mais enxuta possível, senão o Colab não conseguirá rodar o treino. Contudo, não é possível fazer muita coisa agora, o tratamento dela será feito após o Merge."
      ],
      "metadata": {
        "id": "MixqNzDia2Xp"
      }
    },
    {
      "cell_type": "code",
      "execution_count": 18,
      "metadata": {
        "colab": {
          "base_uri": "https://localhost:8080/",
          "height": 0
        },
        "id": "NQtJNMo5i1BN",
        "outputId": "3d89e7c1-916c-4ac4-bfbc-273aba89f392"
      },
      "outputs": [
        {
          "output_type": "execute_result",
          "data": {
            "text/plain": [
              "                        _id          movie_id  rating_val     user_id\n",
              "0  5fc57c5d6758f6963451a07f        feast-2014           7  deathproof\n",
              "1  5fc57c5d6758f6963451a063       loving-2016           7  deathproof\n",
              "2  5fc57c5d6758f6963451a0ef  scripted-content           7  deathproof\n",
              "3  5fc57c5d6758f6963451a060        the-future           4  deathproof\n",
              "4  5fc57c5c6758f69634519398              mank           5  deathproof"
            ],
            "text/html": [
              "\n",
              "  <div id=\"df-e9a17c7c-c79e-4768-a4e4-5ec59242a174\">\n",
              "    <div class=\"colab-df-container\">\n",
              "      <div>\n",
              "<style scoped>\n",
              "    .dataframe tbody tr th:only-of-type {\n",
              "        vertical-align: middle;\n",
              "    }\n",
              "\n",
              "    .dataframe tbody tr th {\n",
              "        vertical-align: top;\n",
              "    }\n",
              "\n",
              "    .dataframe thead th {\n",
              "        text-align: right;\n",
              "    }\n",
              "</style>\n",
              "<table border=\"1\" class=\"dataframe\">\n",
              "  <thead>\n",
              "    <tr style=\"text-align: right;\">\n",
              "      <th></th>\n",
              "      <th>_id</th>\n",
              "      <th>movie_id</th>\n",
              "      <th>rating_val</th>\n",
              "      <th>user_id</th>\n",
              "    </tr>\n",
              "  </thead>\n",
              "  <tbody>\n",
              "    <tr>\n",
              "      <th>0</th>\n",
              "      <td>5fc57c5d6758f6963451a07f</td>\n",
              "      <td>feast-2014</td>\n",
              "      <td>7</td>\n",
              "      <td>deathproof</td>\n",
              "    </tr>\n",
              "    <tr>\n",
              "      <th>1</th>\n",
              "      <td>5fc57c5d6758f6963451a063</td>\n",
              "      <td>loving-2016</td>\n",
              "      <td>7</td>\n",
              "      <td>deathproof</td>\n",
              "    </tr>\n",
              "    <tr>\n",
              "      <th>2</th>\n",
              "      <td>5fc57c5d6758f6963451a0ef</td>\n",
              "      <td>scripted-content</td>\n",
              "      <td>7</td>\n",
              "      <td>deathproof</td>\n",
              "    </tr>\n",
              "    <tr>\n",
              "      <th>3</th>\n",
              "      <td>5fc57c5d6758f6963451a060</td>\n",
              "      <td>the-future</td>\n",
              "      <td>4</td>\n",
              "      <td>deathproof</td>\n",
              "    </tr>\n",
              "    <tr>\n",
              "      <th>4</th>\n",
              "      <td>5fc57c5c6758f69634519398</td>\n",
              "      <td>mank</td>\n",
              "      <td>5</td>\n",
              "      <td>deathproof</td>\n",
              "    </tr>\n",
              "  </tbody>\n",
              "</table>\n",
              "</div>\n",
              "      <button class=\"colab-df-convert\" onclick=\"convertToInteractive('df-e9a17c7c-c79e-4768-a4e4-5ec59242a174')\"\n",
              "              title=\"Convert this dataframe to an interactive table.\"\n",
              "              style=\"display:none;\">\n",
              "        \n",
              "  <svg xmlns=\"http://www.w3.org/2000/svg\" height=\"24px\"viewBox=\"0 0 24 24\"\n",
              "       width=\"24px\">\n",
              "    <path d=\"M0 0h24v24H0V0z\" fill=\"none\"/>\n",
              "    <path d=\"M18.56 5.44l.94 2.06.94-2.06 2.06-.94-2.06-.94-.94-2.06-.94 2.06-2.06.94zm-11 1L8.5 8.5l.94-2.06 2.06-.94-2.06-.94L8.5 2.5l-.94 2.06-2.06.94zm10 10l.94 2.06.94-2.06 2.06-.94-2.06-.94-.94-2.06-.94 2.06-2.06.94z\"/><path d=\"M17.41 7.96l-1.37-1.37c-.4-.4-.92-.59-1.43-.59-.52 0-1.04.2-1.43.59L10.3 9.45l-7.72 7.72c-.78.78-.78 2.05 0 2.83L4 21.41c.39.39.9.59 1.41.59.51 0 1.02-.2 1.41-.59l7.78-7.78 2.81-2.81c.8-.78.8-2.07 0-2.86zM5.41 20L4 18.59l7.72-7.72 1.47 1.35L5.41 20z\"/>\n",
              "  </svg>\n",
              "      </button>\n",
              "      \n",
              "  <style>\n",
              "    .colab-df-container {\n",
              "      display:flex;\n",
              "      flex-wrap:wrap;\n",
              "      gap: 12px;\n",
              "    }\n",
              "\n",
              "    .colab-df-convert {\n",
              "      background-color: #E8F0FE;\n",
              "      border: none;\n",
              "      border-radius: 50%;\n",
              "      cursor: pointer;\n",
              "      display: none;\n",
              "      fill: #1967D2;\n",
              "      height: 32px;\n",
              "      padding: 0 0 0 0;\n",
              "      width: 32px;\n",
              "    }\n",
              "\n",
              "    .colab-df-convert:hover {\n",
              "      background-color: #E2EBFA;\n",
              "      box-shadow: 0px 1px 2px rgba(60, 64, 67, 0.3), 0px 1px 3px 1px rgba(60, 64, 67, 0.15);\n",
              "      fill: #174EA6;\n",
              "    }\n",
              "\n",
              "    [theme=dark] .colab-df-convert {\n",
              "      background-color: #3B4455;\n",
              "      fill: #D2E3FC;\n",
              "    }\n",
              "\n",
              "    [theme=dark] .colab-df-convert:hover {\n",
              "      background-color: #434B5C;\n",
              "      box-shadow: 0px 1px 3px 1px rgba(0, 0, 0, 0.15);\n",
              "      filter: drop-shadow(0px 1px 2px rgba(0, 0, 0, 0.3));\n",
              "      fill: #FFFFFF;\n",
              "    }\n",
              "  </style>\n",
              "\n",
              "      <script>\n",
              "        const buttonEl =\n",
              "          document.querySelector('#df-e9a17c7c-c79e-4768-a4e4-5ec59242a174 button.colab-df-convert');\n",
              "        buttonEl.style.display =\n",
              "          google.colab.kernel.accessAllowed ? 'block' : 'none';\n",
              "\n",
              "        async function convertToInteractive(key) {\n",
              "          const element = document.querySelector('#df-e9a17c7c-c79e-4768-a4e4-5ec59242a174');\n",
              "          const dataTable =\n",
              "            await google.colab.kernel.invokeFunction('convertToInteractive',\n",
              "                                                     [key], {});\n",
              "          if (!dataTable) return;\n",
              "\n",
              "          const docLinkHtml = 'Like what you see? Visit the ' +\n",
              "            '<a target=\"_blank\" href=https://colab.research.google.com/notebooks/data_table.ipynb>data table notebook</a>'\n",
              "            + ' to learn more about interactive tables.';\n",
              "          element.innerHTML = '';\n",
              "          dataTable['output_type'] = 'display_data';\n",
              "          await google.colab.output.renderOutput(dataTable, element);\n",
              "          const docLink = document.createElement('div');\n",
              "          docLink.innerHTML = docLinkHtml;\n",
              "          element.appendChild(docLink);\n",
              "        }\n",
              "      </script>\n",
              "    </div>\n",
              "  </div>\n",
              "  "
            ]
          },
          "metadata": {},
          "execution_count": 18
        }
      ],
      "source": [
        "avaliacao.head()"
      ]
    },
    {
      "cell_type": "code",
      "execution_count": 19,
      "metadata": {
        "colab": {
          "base_uri": "https://localhost:8080/"
        },
        "id": "EqZsyzwgjkAN",
        "outputId": "d365c725-dcad-46fd-b7f2-664e3399f47f"
      },
      "outputs": [
        {
          "output_type": "execute_result",
          "data": {
            "text/plain": [
              "(11078167, 4)"
            ]
          },
          "metadata": {},
          "execution_count": 19
        }
      ],
      "source": [
        "avaliacao.shape"
      ]
    },
    {
      "cell_type": "code",
      "execution_count": 20,
      "metadata": {
        "colab": {
          "base_uri": "https://localhost:8080/"
        },
        "id": "Z0q2X3V8fxul",
        "outputId": "16e8d50a-0e23-4b66-b36d-aededc4b3d8e"
      },
      "outputs": [
        {
          "output_type": "execute_result",
          "data": {
            "text/plain": [
              "Index(['_id', 'movie_id', 'rating_val', 'user_id'], dtype='object')"
            ]
          },
          "metadata": {},
          "execution_count": 20
        }
      ],
      "source": [
        "avaliacao.columns"
      ]
    },
    {
      "cell_type": "code",
      "execution_count": 21,
      "metadata": {
        "colab": {
          "base_uri": "https://localhost:8080/"
        },
        "id": "fLARWC746Cfh",
        "outputId": "52064b1b-f715-403f-fda0-25ca395b31db"
      },
      "outputs": [
        {
          "output_type": "execute_result",
          "data": {
            "text/plain": [
              "_id           0\n",
              "movie_id      6\n",
              "rating_val    0\n",
              "user_id       0\n",
              "dtype: int64"
            ]
          },
          "metadata": {},
          "execution_count": 21
        }
      ],
      "source": [
        "avaliacao.isnull().sum()"
      ]
    },
    {
      "cell_type": "code",
      "source": [
        "avaliacao = avaliacao.dropna(subset = ['movie_id'])"
      ],
      "metadata": {
        "id": "sCRoxYZwckwp"
      },
      "execution_count": 22,
      "outputs": []
    },
    {
      "cell_type": "markdown",
      "metadata": {
        "id": "g6D4T0z9CyyJ"
      },
      "source": [
        "## Manipulação dos dados"
      ]
    },
    {
      "cell_type": "code",
      "execution_count": 23,
      "metadata": {
        "id": "_GKdm903Ihnu"
      },
      "outputs": [],
      "source": [
        "avaliacao = avaliacao.rename(columns={'user_id': 'username'})"
      ]
    },
    {
      "cell_type": "code",
      "execution_count": 24,
      "metadata": {
        "colab": {
          "base_uri": "https://localhost:8080/",
          "height": 311
        },
        "id": "MaxmbA9ACx0a",
        "outputId": "b77c65ac-05ed-428b-f232-653ed0f3ba18"
      },
      "outputs": [
        {
          "output_type": "execute_result",
          "data": {
            "text/plain": [
              "                      _id_x    username                     _id_y movie_id  \\\n",
              "0  5fc4172ec6cd28ebd99dd0e2  deathproof  5fc57c5c6758f69634519398     mank   \n",
              "1  5fc4172ec6cd28ebd99dd0ea  superpulse  5fc57cb26758f69634541441     mank   \n",
              "2  5fc4172ec6cd28ebd99dd0ee  ianamurray  5fd05004b89a841f5b220ee5     mank   \n",
              "\n",
              "   rating_val                       _id               genres  \\\n",
              "0           5  5fc884286758f69634f3ceca  [\"Drama\",\"History\"]   \n",
              "1           6  5fc884286758f69634f3ceca  [\"Drama\",\"History\"]   \n",
              "2           7  5fc884286758f69634f3ceca  [\"Drama\",\"History\"]   \n",
              "\n",
              "                                           image_url  \\\n",
              "0  film-poster/5/4/1/4/2/5/541425-mank-0-230-0-34...   \n",
              "1  film-poster/5/4/1/4/2/5/541425-mank-0-230-0-34...   \n",
              "2  film-poster/5/4/1/4/2/5/541425-mank-0-230-0-34...   \n",
              "\n",
              "                                          imdb_link movie_title  popularity  \\\n",
              "0  http://www.imdb.com/title/tt10618286/maindetails        Mank      16.331   \n",
              "1  http://www.imdb.com/title/tt10618286/maindetails        Mank      16.331   \n",
              "2  http://www.imdb.com/title/tt10618286/maindetails        Mank      16.331   \n",
              "\n",
              "           production_countries  vote_average  vote_count  year_released  \n",
              "0  [\"United States of America\"]           6.9      1077.0         2020.0  \n",
              "1  [\"United States of America\"]           6.9      1077.0         2020.0  \n",
              "2  [\"United States of America\"]           6.9      1077.0         2020.0  "
            ],
            "text/html": [
              "\n",
              "  <div id=\"df-17c59c8b-e33f-45d7-9aac-0db7005df3a7\">\n",
              "    <div class=\"colab-df-container\">\n",
              "      <div>\n",
              "<style scoped>\n",
              "    .dataframe tbody tr th:only-of-type {\n",
              "        vertical-align: middle;\n",
              "    }\n",
              "\n",
              "    .dataframe tbody tr th {\n",
              "        vertical-align: top;\n",
              "    }\n",
              "\n",
              "    .dataframe thead th {\n",
              "        text-align: right;\n",
              "    }\n",
              "</style>\n",
              "<table border=\"1\" class=\"dataframe\">\n",
              "  <thead>\n",
              "    <tr style=\"text-align: right;\">\n",
              "      <th></th>\n",
              "      <th>_id_x</th>\n",
              "      <th>username</th>\n",
              "      <th>_id_y</th>\n",
              "      <th>movie_id</th>\n",
              "      <th>rating_val</th>\n",
              "      <th>_id</th>\n",
              "      <th>genres</th>\n",
              "      <th>image_url</th>\n",
              "      <th>imdb_link</th>\n",
              "      <th>movie_title</th>\n",
              "      <th>popularity</th>\n",
              "      <th>production_countries</th>\n",
              "      <th>vote_average</th>\n",
              "      <th>vote_count</th>\n",
              "      <th>year_released</th>\n",
              "    </tr>\n",
              "  </thead>\n",
              "  <tbody>\n",
              "    <tr>\n",
              "      <th>0</th>\n",
              "      <td>5fc4172ec6cd28ebd99dd0e2</td>\n",
              "      <td>deathproof</td>\n",
              "      <td>5fc57c5c6758f69634519398</td>\n",
              "      <td>mank</td>\n",
              "      <td>5</td>\n",
              "      <td>5fc884286758f69634f3ceca</td>\n",
              "      <td>[\"Drama\",\"History\"]</td>\n",
              "      <td>film-poster/5/4/1/4/2/5/541425-mank-0-230-0-34...</td>\n",
              "      <td>http://www.imdb.com/title/tt10618286/maindetails</td>\n",
              "      <td>Mank</td>\n",
              "      <td>16.331</td>\n",
              "      <td>[\"United States of America\"]</td>\n",
              "      <td>6.9</td>\n",
              "      <td>1077.0</td>\n",
              "      <td>2020.0</td>\n",
              "    </tr>\n",
              "    <tr>\n",
              "      <th>1</th>\n",
              "      <td>5fc4172ec6cd28ebd99dd0ea</td>\n",
              "      <td>superpulse</td>\n",
              "      <td>5fc57cb26758f69634541441</td>\n",
              "      <td>mank</td>\n",
              "      <td>6</td>\n",
              "      <td>5fc884286758f69634f3ceca</td>\n",
              "      <td>[\"Drama\",\"History\"]</td>\n",
              "      <td>film-poster/5/4/1/4/2/5/541425-mank-0-230-0-34...</td>\n",
              "      <td>http://www.imdb.com/title/tt10618286/maindetails</td>\n",
              "      <td>Mank</td>\n",
              "      <td>16.331</td>\n",
              "      <td>[\"United States of America\"]</td>\n",
              "      <td>6.9</td>\n",
              "      <td>1077.0</td>\n",
              "      <td>2020.0</td>\n",
              "    </tr>\n",
              "    <tr>\n",
              "      <th>2</th>\n",
              "      <td>5fc4172ec6cd28ebd99dd0ee</td>\n",
              "      <td>ianamurray</td>\n",
              "      <td>5fd05004b89a841f5b220ee5</td>\n",
              "      <td>mank</td>\n",
              "      <td>7</td>\n",
              "      <td>5fc884286758f69634f3ceca</td>\n",
              "      <td>[\"Drama\",\"History\"]</td>\n",
              "      <td>film-poster/5/4/1/4/2/5/541425-mank-0-230-0-34...</td>\n",
              "      <td>http://www.imdb.com/title/tt10618286/maindetails</td>\n",
              "      <td>Mank</td>\n",
              "      <td>16.331</td>\n",
              "      <td>[\"United States of America\"]</td>\n",
              "      <td>6.9</td>\n",
              "      <td>1077.0</td>\n",
              "      <td>2020.0</td>\n",
              "    </tr>\n",
              "  </tbody>\n",
              "</table>\n",
              "</div>\n",
              "      <button class=\"colab-df-convert\" onclick=\"convertToInteractive('df-17c59c8b-e33f-45d7-9aac-0db7005df3a7')\"\n",
              "              title=\"Convert this dataframe to an interactive table.\"\n",
              "              style=\"display:none;\">\n",
              "        \n",
              "  <svg xmlns=\"http://www.w3.org/2000/svg\" height=\"24px\"viewBox=\"0 0 24 24\"\n",
              "       width=\"24px\">\n",
              "    <path d=\"M0 0h24v24H0V0z\" fill=\"none\"/>\n",
              "    <path d=\"M18.56 5.44l.94 2.06.94-2.06 2.06-.94-2.06-.94-.94-2.06-.94 2.06-2.06.94zm-11 1L8.5 8.5l.94-2.06 2.06-.94-2.06-.94L8.5 2.5l-.94 2.06-2.06.94zm10 10l.94 2.06.94-2.06 2.06-.94-2.06-.94-.94-2.06-.94 2.06-2.06.94z\"/><path d=\"M17.41 7.96l-1.37-1.37c-.4-.4-.92-.59-1.43-.59-.52 0-1.04.2-1.43.59L10.3 9.45l-7.72 7.72c-.78.78-.78 2.05 0 2.83L4 21.41c.39.39.9.59 1.41.59.51 0 1.02-.2 1.41-.59l7.78-7.78 2.81-2.81c.8-.78.8-2.07 0-2.86zM5.41 20L4 18.59l7.72-7.72 1.47 1.35L5.41 20z\"/>\n",
              "  </svg>\n",
              "      </button>\n",
              "      \n",
              "  <style>\n",
              "    .colab-df-container {\n",
              "      display:flex;\n",
              "      flex-wrap:wrap;\n",
              "      gap: 12px;\n",
              "    }\n",
              "\n",
              "    .colab-df-convert {\n",
              "      background-color: #E8F0FE;\n",
              "      border: none;\n",
              "      border-radius: 50%;\n",
              "      cursor: pointer;\n",
              "      display: none;\n",
              "      fill: #1967D2;\n",
              "      height: 32px;\n",
              "      padding: 0 0 0 0;\n",
              "      width: 32px;\n",
              "    }\n",
              "\n",
              "    .colab-df-convert:hover {\n",
              "      background-color: #E2EBFA;\n",
              "      box-shadow: 0px 1px 2px rgba(60, 64, 67, 0.3), 0px 1px 3px 1px rgba(60, 64, 67, 0.15);\n",
              "      fill: #174EA6;\n",
              "    }\n",
              "\n",
              "    [theme=dark] .colab-df-convert {\n",
              "      background-color: #3B4455;\n",
              "      fill: #D2E3FC;\n",
              "    }\n",
              "\n",
              "    [theme=dark] .colab-df-convert:hover {\n",
              "      background-color: #434B5C;\n",
              "      box-shadow: 0px 1px 3px 1px rgba(0, 0, 0, 0.15);\n",
              "      filter: drop-shadow(0px 1px 2px rgba(0, 0, 0, 0.3));\n",
              "      fill: #FFFFFF;\n",
              "    }\n",
              "  </style>\n",
              "\n",
              "      <script>\n",
              "        const buttonEl =\n",
              "          document.querySelector('#df-17c59c8b-e33f-45d7-9aac-0db7005df3a7 button.colab-df-convert');\n",
              "        buttonEl.style.display =\n",
              "          google.colab.kernel.accessAllowed ? 'block' : 'none';\n",
              "\n",
              "        async function convertToInteractive(key) {\n",
              "          const element = document.querySelector('#df-17c59c8b-e33f-45d7-9aac-0db7005df3a7');\n",
              "          const dataTable =\n",
              "            await google.colab.kernel.invokeFunction('convertToInteractive',\n",
              "                                                     [key], {});\n",
              "          if (!dataTable) return;\n",
              "\n",
              "          const docLinkHtml = 'Like what you see? Visit the ' +\n",
              "            '<a target=\"_blank\" href=https://colab.research.google.com/notebooks/data_table.ipynb>data table notebook</a>'\n",
              "            + ' to learn more about interactive tables.';\n",
              "          element.innerHTML = '';\n",
              "          dataTable['output_type'] = 'display_data';\n",
              "          await google.colab.output.renderOutput(dataTable, element);\n",
              "          const docLink = document.createElement('div');\n",
              "          docLink.innerHTML = docLinkHtml;\n",
              "          element.appendChild(docLink);\n",
              "        }\n",
              "      </script>\n",
              "    </div>\n",
              "  </div>\n",
              "  "
            ]
          },
          "metadata": {},
          "execution_count": 24
        }
      ],
      "source": [
        "tabela = pd.merge(usuario, avaliacao, on = 'username', how = 'inner')\n",
        "tabela = pd.merge(tabela, dados_filmes, on = 'movie_id', how = 'inner')\n",
        "tabela.head(3)"
      ]
    },
    {
      "cell_type": "markdown",
      "source": [
        "Quando as tabelas foram unidas com o Merge, o ID de cada uma ficou confuso, então é necessário renomear cada um:"
      ],
      "metadata": {
        "id": "lUXim1cOiHor"
      }
    },
    {
      "cell_type": "code",
      "source": [
        "tabela = tabela.rename(columns={'_id_x': 'id_usuario','_id': 'id_filme','_id_y': 'id_avaliacao'})"
      ],
      "metadata": {
        "id": "7ovt2Mk9gnRa"
      },
      "execution_count": 25,
      "outputs": []
    },
    {
      "cell_type": "code",
      "source": [
        "tabela.columns"
      ],
      "metadata": {
        "colab": {
          "base_uri": "https://localhost:8080/"
        },
        "id": "E9LC7UwHnJHi",
        "outputId": "84d27826-8407-4332-8341-fbb1efbf9646"
      },
      "execution_count": 26,
      "outputs": [
        {
          "output_type": "execute_result",
          "data": {
            "text/plain": [
              "Index(['id_usuario', 'username', 'id_avaliacao', 'movie_id', 'rating_val',\n",
              "       'id_filme', 'genres', 'image_url', 'imdb_link', 'movie_title',\n",
              "       'popularity', 'production_countries', 'vote_average', 'vote_count',\n",
              "       'year_released'],\n",
              "      dtype='object')"
            ]
          },
          "metadata": {},
          "execution_count": 26
        }
      ]
    },
    {
      "cell_type": "code",
      "source": [
        "tabela.shape"
      ],
      "metadata": {
        "colab": {
          "base_uri": "https://localhost:8080/"
        },
        "id": "hBzQW0TK3vPD",
        "outputId": "8f63e421-f8b7-425c-df76-c618fc97e8ec"
      },
      "execution_count": 27,
      "outputs": [
        {
          "output_type": "execute_result",
          "data": {
            "text/plain": [
              "(1910127, 15)"
            ]
          },
          "metadata": {},
          "execution_count": 27
        }
      ]
    },
    {
      "cell_type": "code",
      "source": [
        "tabela.isna().sum()"
      ],
      "metadata": {
        "colab": {
          "base_uri": "https://localhost:8080/"
        },
        "id": "5uvfaEmujiMS",
        "outputId": "ab34549e-e744-4cf2-8c88-f5b105b0dfbc"
      },
      "execution_count": 28,
      "outputs": [
        {
          "output_type": "execute_result",
          "data": {
            "text/plain": [
              "id_usuario              0\n",
              "username                0\n",
              "id_avaliacao            0\n",
              "movie_id                0\n",
              "rating_val              0\n",
              "id_filme                0\n",
              "genres                  0\n",
              "image_url               0\n",
              "imdb_link               0\n",
              "movie_title             0\n",
              "popularity              0\n",
              "production_countries    0\n",
              "vote_average            0\n",
              "vote_count              0\n",
              "year_released           0\n",
              "dtype: int64"
            ]
          },
          "metadata": {},
          "execution_count": 28
        }
      ]
    },
    {
      "cell_type": "markdown",
      "source": [
        "Escolhendo cada tributo da tabela que iremos utilizar no treinamento e transformando em um vetor para melhor manipulação dos dados"
      ],
      "metadata": {
        "id": "bslPr3JIzd36"
      }
    },
    {
      "cell_type": "code",
      "source": [
        "df = pd.DataFrame() # Criando um data frame vazio"
      ],
      "metadata": {
        "id": "8V25iwpD2eya"
      },
      "execution_count": 29,
      "outputs": []
    },
    {
      "cell_type": "markdown",
      "source": [
        "As variáveis que consideramos interessantes para avaliar são: 'id_usuario', 'username', 'rating_val', 'id_filme', 'genres', 'movie_title', 'popularity', 'production_countries', 'vote_average', 'year_released'."
      ],
      "metadata": {
        "id": "dn8za0bgfYWk"
      }
    },
    {
      "cell_type": "code",
      "source": [
        "vetor_id_usuario = np.array(tabela.id_usuario)\n",
        "vetor_username = np.array(tabela.username)\n",
        "vetor_rating_val = np.array(tabela.rating_val)\n",
        "vetor_id_filme = np.array(tabela.id_filme)\n",
        "vetor_genres = np.array(tabela.genres)\n",
        "vetor_movie_title = np.array(tabela.movie_title)\n",
        "vetor_popularity = np.array(tabela.popularity)\n",
        "vetor_production_countries = np.array(tabela.production_countries)\n",
        "vetor_vote_average = np.array(tabela.vote_average)\n",
        "vetor_year_released = np.array(tabela.year_released)"
      ],
      "metadata": {
        "id": "o7yoFmnKx-OT"
      },
      "execution_count": 30,
      "outputs": []
    },
    {
      "cell_type": "code",
      "source": [
        "Colunas =['ID_usuario','Username','Nota_usuario','ID_Filme','Generos','Nome_Filme','Popularidade','País_Produzido', 'Nota_Media', 'Ano_lançamento']"
      ],
      "metadata": {
        "id": "e1qyBIaXzeji"
      },
      "execution_count": 31,
      "outputs": []
    },
    {
      "cell_type": "code",
      "source": [
        "df = pd.DataFrame(columns = Colunas)\n",
        "\n",
        "df.ID_usuario = vetor_id_usuario\n",
        "df.Username = vetor_username\n",
        "df.Nota_usuario = vetor_rating_val\n",
        "df.ID_Filme = vetor_id_filme\n",
        "df.Generos = vetor_genres\n",
        "df.Nome_Filme = vetor_movie_title\n",
        "df.Popularidade = vetor_popularity\n",
        "df.País_Produzido = vetor_production_countries\n",
        "df.Nota_Media = vetor_vote_average\n",
        "df.Ano_lançamento = vetor_year_released"
      ],
      "metadata": {
        "id": "VWjpRbSI5Cii"
      },
      "execution_count": 32,
      "outputs": []
    },
    {
      "cell_type": "markdown",
      "source": [
        "Criando uma função para avaliar se o usuário gostou ou não do filme de acordo com a nota de avaliação."
      ],
      "metadata": {
        "id": "CTqVUi0r2bWe"
      }
    },
    {
      "cell_type": "code",
      "source": [
        "def classificar_nota(nota):\n",
        "  if nota >= 7:\n",
        "    return 1  # Se a nota de avalição do usuário for maior ou igual a 7, consideramos que ele gostou desse filme\n",
        "  else:\n",
        "    return 0  # Se a nota de avalição do usuário for menor 7, consideramos que ele não gostou desse filme\n",
        "df['Recomendacao'] = df['Nota_usuario'].apply(classificar_nota)\n",
        "print(df)"
      ],
      "metadata": {
        "colab": {
          "base_uri": "https://localhost:8080/"
        },
        "id": "52djs0iH2BL-",
        "outputId": "0ee0d035-bdbe-43ec-d493-cb8bc3d925f6"
      },
      "execution_count": 59,
      "outputs": [
        {
          "output_type": "stream",
          "name": "stdout",
          "text": [
            "                 ID_usuario  Username  Nota_usuario            ID_Filme  \\\n",
            "0              541726289902       423             5    5884286758696343   \n",
            "1               54172628990      1602             6    5884286758696343   \n",
            "2               54172628990       752             7    5884286758696343   \n",
            "3           541917167948615      1350             5    5884286758696343   \n",
            "4              541726289908       343             5    5884286758696343   \n",
            "...                     ...       ...           ...                 ...   \n",
            "1910122  598651418738210547       799             5     600798159536794   \n",
            "1910123     598614187382109      1549             7  586675869634908337   \n",
            "1910124     598141873821116        51             8  586675869634908337   \n",
            "1910125   60061315953679982      1075             3  588586758696349370   \n",
            "1910126  608811528290115283       711             3    6088892829011572   \n",
            "\n",
            "         Generos         Nome_Filme  Popularidade  País_Produzido  Nota_Media  \\\n",
            "0            574               Mank        16.331             354         6.9   \n",
            "1            574               Mank        16.331             354         6.9   \n",
            "2            574               Mank        16.331             354         6.9   \n",
            "3            574               Mank        16.331             354         6.9   \n",
            "4            574               Mank        16.331             354         6.9   \n",
            "...          ...                ...           ...             ...         ...   \n",
            "1910122      344           Fantasia        66.778             354         7.4   \n",
            "1910123      908           Superman        27.366             313         7.1   \n",
            "1910124      908           Superman        27.366             313         7.1   \n",
            "1910125      455      Babysitting 2        11.497             172         6.4   \n",
            "1910126      904  Gabriel's Inferno         9.646             354         8.6   \n",
            "\n",
            "         Ano_lançamento  Recomendacao  \n",
            "0                2020.0             0  \n",
            "1                2020.0             0  \n",
            "2                2020.0             1  \n",
            "3                2020.0             0  \n",
            "4                2020.0             0  \n",
            "...                 ...           ...  \n",
            "1910122          1940.0             0  \n",
            "1910123          1978.0             1  \n",
            "1910124          1978.0             1  \n",
            "1910125          2015.0             0  \n",
            "1910126          2020.0             0  \n",
            "\n",
            "[1910127 rows x 11 columns]\n"
          ]
        }
      ]
    },
    {
      "cell_type": "code",
      "source": [
        "df['Recomendacao'].value_counts()"
      ],
      "metadata": {
        "colab": {
          "base_uri": "https://localhost:8080/"
        },
        "id": "LxKeuIEfvSmC",
        "outputId": "52712749-74a1-42e9-caee-96aff2b3e4cc"
      },
      "execution_count": 61,
      "outputs": [
        {
          "output_type": "execute_result",
          "data": {
            "text/plain": [
              "1    1056906\n",
              "0     853221\n",
              "Name: Recomendacao, dtype: int64"
            ]
          },
          "metadata": {},
          "execution_count": 61
        }
      ]
    },
    {
      "cell_type": "code",
      "source": [
        "df.info()"
      ],
      "metadata": {
        "colab": {
          "base_uri": "https://localhost:8080/"
        },
        "id": "gbt8CZtWgYPd",
        "outputId": "134578a1-984c-4a11-f7bd-6fdbed697b2a"
      },
      "execution_count": 34,
      "outputs": [
        {
          "output_type": "stream",
          "name": "stdout",
          "text": [
            "<class 'pandas.core.frame.DataFrame'>\n",
            "RangeIndex: 1910127 entries, 0 to 1910126\n",
            "Data columns (total 11 columns):\n",
            " #   Column          Dtype  \n",
            "---  ------          -----  \n",
            " 0   ID_usuario      object \n",
            " 1   Username        object \n",
            " 2   Nota_usuario    int64  \n",
            " 3   ID_Filme        object \n",
            " 4   Generos         object \n",
            " 5   Nome_Filme      object \n",
            " 6   Popularidade    float64\n",
            " 7   País_Produzido  object \n",
            " 8   Nota_Media      float64\n",
            " 9   Ano_lançamento  float64\n",
            " 10  Recomendacao    int64  \n",
            "dtypes: float64(3), int64(2), object(6)\n",
            "memory usage: 160.3+ MB\n"
          ]
        }
      ]
    },
    {
      "cell_type": "markdown",
      "source": [
        "ID_usuario, Username, ID_Filme, Genero, Nome_filme, País_Produzido são objetos, e precisam ser convertidos para números."
      ],
      "metadata": {
        "id": "mDpRdV8mlFir"
      }
    },
    {
      "cell_type": "code",
      "source": [
        "from sklearn.preprocessing import LabelEncoder"
      ],
      "metadata": {
        "id": "Z7wIGkabgI9u"
      },
      "execution_count": 35,
      "outputs": []
    },
    {
      "cell_type": "markdown",
      "source": [
        "Removendo os elemento não numéricos:"
      ],
      "metadata": {
        "id": "mE4_RSw5gmg2"
      }
    },
    {
      "cell_type": "code",
      "source": [
        "df['ID_Filme'] = df['ID_Filme'].str.replace(r'\\D', '')\n",
        "df['ID_usuario'] = df['ID_usuario'].str.replace(r'\\D', '')"
      ],
      "metadata": {
        "id": "I91aYwERgK_1",
        "colab": {
          "base_uri": "https://localhost:8080/"
        },
        "outputId": "faf3716c-0623-4011-ca67-39d554959522"
      },
      "execution_count": 36,
      "outputs": [
        {
          "output_type": "stream",
          "name": "stderr",
          "text": [
            "<ipython-input-36-35bc5663e369>:1: FutureWarning: The default value of regex will change from True to False in a future version.\n",
            "  df['ID_Filme'] = df['ID_Filme'].str.replace(r'\\D', '')\n",
            "<ipython-input-36-35bc5663e369>:2: FutureWarning: The default value of regex will change from True to False in a future version.\n",
            "  df['ID_usuario'] = df['ID_usuario'].str.replace(r'\\D', '')\n"
          ]
        }
      ]
    },
    {
      "cell_type": "code",
      "source": [
        "le = LabelEncoder()"
      ],
      "metadata": {
        "id": "1XIR62Rwh6Nu"
      },
      "execution_count": 37,
      "outputs": []
    },
    {
      "cell_type": "code",
      "source": [
        "df['Generos'] = le.fit_transform(df['Generos'])\n",
        "df['Username'] = le.fit_transform(df['Username'])\n",
        "df['País_Produzido'] = le.fit_transform(df['País_Produzido'])"
      ],
      "metadata": {
        "id": "UrEP8blgiCvN"
      },
      "execution_count": 38,
      "outputs": []
    },
    {
      "cell_type": "markdown",
      "source": [
        "## Árvore de decisão"
      ],
      "metadata": {
        "id": "ljZFjaJx89PR"
      }
    },
    {
      "cell_type": "code",
      "source": [
        "from sklearn.tree import DecisionTreeClassifier, export_graphviz\n",
        "from sklearn.model_selection import train_test_split\n",
        "from sklearn import metrics"
      ],
      "metadata": {
        "id": "4ewV7bSU8xCQ"
      },
      "execution_count": 39,
      "outputs": []
    },
    {
      "cell_type": "code",
      "source": [
        "amostra = df.sample(frac = 0.60)"
      ],
      "metadata": {
        "id": "Y4CsTWlGoqYN"
      },
      "execution_count": 62,
      "outputs": []
    },
    {
      "cell_type": "code",
      "source": [
        "from sklearn.tree import DecisionTreeClassifier\n",
        "\n",
        "model = DecisionTreeClassifier()"
      ],
      "metadata": {
        "id": "-5bWZpp47SrM"
      },
      "execution_count": 63,
      "outputs": []
    },
    {
      "cell_type": "code",
      "source": [
        "X = amostra[['ID_usuario','Username','ID_Filme','Generos','Popularidade','País_Produzido', 'Nota_Media', 'Ano_lançamento']]\n",
        "y = amostra['Recomendacao']"
      ],
      "metadata": {
        "id": "k7InBdb79D4p"
      },
      "execution_count": 76,
      "outputs": []
    },
    {
      "cell_type": "code",
      "source": [
        "X_train, X_test, y_train, y_test = train_test_split(X, y, test_size=0.2)"
      ],
      "metadata": {
        "id": "3ulkURMC87UR"
      },
      "execution_count": 82,
      "outputs": []
    },
    {
      "cell_type": "code",
      "source": [
        "model.fit(X_train, y_train)"
      ],
      "metadata": {
        "colab": {
          "base_uri": "https://localhost:8080/"
        },
        "id": "_tHkzh5D9Hgo",
        "outputId": "37a59bd6-aa64-4aed-ebc9-a3416cc5df2a"
      },
      "execution_count": 83,
      "outputs": [
        {
          "output_type": "execute_result",
          "data": {
            "text/plain": [
              "DecisionTreeClassifier()"
            ]
          },
          "metadata": {},
          "execution_count": 83
        }
      ]
    },
    {
      "cell_type": "code",
      "source": [
        "from sklearn.metrics import accuracy_score"
      ],
      "metadata": {
        "id": "VOtmI5GebH3N"
      },
      "execution_count": 72,
      "outputs": []
    },
    {
      "cell_type": "code",
      "source": [
        "y_pred = model.predict(X_test)"
      ],
      "metadata": {
        "id": "JES0vipwkzPN"
      },
      "execution_count": 88,
      "outputs": []
    },
    {
      "cell_type": "code",
      "source": [
        "accuracy = accuracy_score(y_test, y_pred)\n",
        "\n",
        "print(f'Precisão: {accuracy:.2f}')"
      ],
      "metadata": {
        "colab": {
          "base_uri": "https://localhost:8080/"
        },
        "id": "cdF1yYEAkzGt",
        "outputId": "9a6ba6ae-1368-4d52-e175-bdd1368b4245"
      },
      "execution_count": 89,
      "outputs": [
        {
          "output_type": "stream",
          "name": "stdout",
          "text": [
            "Precisão: 0.66\n"
          ]
        }
      ]
    },
    {
      "cell_type": "code",
      "source": [
        "print(metrics.classification_report(y_test,y_pred))"
      ],
      "metadata": {
        "colab": {
          "base_uri": "https://localhost:8080/"
        },
        "id": "tma9C1JVqS48",
        "outputId": "9e06e0ad-67ff-4daa-b687-b357d0d67084"
      },
      "execution_count": 90,
      "outputs": [
        {
          "output_type": "stream",
          "name": "stdout",
          "text": [
            "              precision    recall  f1-score   support\n",
            "\n",
            "           0       0.62      0.62      0.62    102267\n",
            "           1       0.69      0.69      0.69    126949\n",
            "\n",
            "    accuracy                           0.66    229216\n",
            "   macro avg       0.66      0.66      0.66    229216\n",
            "weighted avg       0.66      0.66      0.66    229216\n",
            "\n"
          ]
        }
      ]
    },
    {
      "cell_type": "markdown",
      "source": [
        "## Random Forest"
      ],
      "metadata": {
        "id": "UHIJlJTCy11B"
      }
    },
    {
      "cell_type": "code",
      "source": [
        "from sklearn.ensemble import RandomForestClassifier"
      ],
      "metadata": {
        "id": "iPuIJfoZy1Zx"
      },
      "execution_count": 91,
      "outputs": []
    },
    {
      "cell_type": "code",
      "source": [
        "from sklearn.utils.extmath import randomized_range_finder\n",
        "RandomForestClassifier(random_state = 42)"
      ],
      "metadata": {
        "colab": {
          "base_uri": "https://localhost:8080/"
        },
        "id": "mTJ7ymuP0vNp",
        "outputId": "ce01a2d0-38d0-4946-b123-08ded4c29407"
      },
      "execution_count": 98,
      "outputs": [
        {
          "output_type": "execute_result",
          "data": {
            "text/plain": [
              "RandomForestClassifier(random_state=42)"
            ]
          },
          "metadata": {},
          "execution_count": 98
        }
      ]
    },
    {
      "cell_type": "code",
      "source": [
        "model = RandomForestClassifier(random_state = 42)\n",
        "model.fit(X_train, y_train)"
      ],
      "metadata": {
        "colab": {
          "base_uri": "https://localhost:8080/"
        },
        "id": "xJYtyAj707SZ",
        "outputId": "f4c265de-3016-43ec-953a-28575e68cf7e"
      },
      "execution_count": 99,
      "outputs": [
        {
          "output_type": "execute_result",
          "data": {
            "text/plain": [
              "RandomForestClassifier(random_state=42)"
            ]
          },
          "metadata": {},
          "execution_count": 99
        }
      ]
    },
    {
      "cell_type": "code",
      "source": [
        "predictions_train = model.predict(X_train)\n",
        "accuracy = metrics.accuracy_score(y_train, predictions_train)\n",
        "print('Accuracy:%.4f' %accuracy)"
      ],
      "metadata": {
        "colab": {
          "base_uri": "https://localhost:8080/"
        },
        "id": "DtHajoQr1Gvh",
        "outputId": "e2fcfff0-c47d-4fe0-cafe-cbcb48d5389b"
      },
      "execution_count": 105,
      "outputs": [
        {
          "output_type": "stream",
          "name": "stdout",
          "text": [
            "Accuracy:0.9999\n"
          ]
        }
      ]
    },
    {
      "cell_type": "code",
      "source": [
        "predictions_test = model.predict(X_test)\n",
        "accuracy = metrics.accuracy_score(y_test, predictions_test)\n",
        "print('Accuracy:%.4f' %accuracy)"
      ],
      "metadata": {
        "colab": {
          "base_uri": "https://localhost:8080/"
        },
        "id": "u6RjKSQ33Iey",
        "outputId": "c81abc6d-25b6-48d9-f196-dbea19c17d6f"
      },
      "execution_count": 104,
      "outputs": [
        {
          "output_type": "stream",
          "name": "stdout",
          "text": [
            "Accuracy:0.7035\n"
          ]
        }
      ]
    },
    {
      "cell_type": "code",
      "source": [
        "print(metrics.classification_report(y_test, predictions_test))"
      ],
      "metadata": {
        "colab": {
          "base_uri": "https://localhost:8080/"
        },
        "id": "AW9fqBe43ZQ5",
        "outputId": "234f6996-9ff3-4e29-9e2f-d596cef5e765"
      },
      "execution_count": 106,
      "outputs": [
        {
          "output_type": "stream",
          "name": "stdout",
          "text": [
            "              precision    recall  f1-score   support\n",
            "\n",
            "           0       0.68      0.65      0.66    102267\n",
            "           1       0.72      0.75      0.74    126949\n",
            "\n",
            "    accuracy                           0.70    229216\n",
            "   macro avg       0.70      0.70      0.70    229216\n",
            "weighted avg       0.70      0.70      0.70    229216\n",
            "\n"
          ]
        }
      ]
    }
  ],
  "metadata": {
    "colab": {
      "collapsed_sections": [
        "Fs28YXvlkMR1",
        "LVeuGn8WkYmE",
        "rzUjvuQqkd-0"
      ],
      "provenance": [],
      "include_colab_link": true
    },
    "kernelspec": {
      "display_name": "Python 3",
      "name": "python3"
    },
    "language_info": {
      "name": "python"
    },
    "gpuClass": "standard"
  },
  "nbformat": 4,
  "nbformat_minor": 0
}