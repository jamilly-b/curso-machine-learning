{
  "cells": [
    {
      "cell_type": "markdown",
      "metadata": {
        "id": "view-in-github",
        "colab_type": "text"
      },
      "source": [
        "<a href=\"https://colab.research.google.com/github/jamilly-b/curso-machine-learning/blob/main/Projeto/letterboxd.ipynb\" target=\"_parent\"><img src=\"https://colab.research.google.com/assets/colab-badge.svg\" alt=\"Open In Colab\"/></a>"
      ]
    },
    {
      "cell_type": "code",
      "execution_count": 1,
      "metadata": {
        "id": "a7k9-YuqSH-M"
      },
      "outputs": [],
      "source": [
        "from google.colab import drive\n",
        "import pandas as pd\n",
        "import numpy as np"
      ]
    },
    {
      "cell_type": "code",
      "execution_count": 2,
      "metadata": {
        "colab": {
          "base_uri": "https://localhost:8080/"
        },
        "id": "Lyzwk9tQRVgA",
        "outputId": "ef8019ed-3563-4c93-b554-ae3676af547a"
      },
      "outputs": [
        {
          "output_type": "stream",
          "name": "stdout",
          "text": [
            "Drive already mounted at /content/drive; to attempt to forcibly remount, call drive.mount(\"/content/drive\", force_remount=True).\n"
          ]
        }
      ],
      "source": [
        "drive.mount('/content/drive')\n",
        "dados_filmes = pd.read_csv('/content/drive/MyDrive/machine-learning-project/movie_data.csv', lineterminator='\\n')\n",
        "usuario = pd.read_csv('/content/drive/MyDrive/machine-learning-project/users_export.csv')\n",
        "avaliacao = pd.read_csv('/content/drive/MyDrive/machine-learning-project/ratings_export.csv')"
      ]
    },
    {
      "cell_type": "markdown",
      "metadata": {
        "id": "nwI5rhK3kE2-"
      },
      "source": [
        "## Visualização dos dados"
      ]
    },
    {
      "cell_type": "markdown",
      "source": [
        "### Significado das variáveis"
      ],
      "metadata": {
        "id": "QoLf4P4eTEiY"
      }
    },
    {
      "cell_type": "markdown",
      "source": [
        "**_id** = ID exclusivo global.\n",
        "\n",
        "**display_name** = Nome de exibição em Letterboxd no momento do último rastreamento. \n",
        "\n",
        "**num_ratings_pages** = Número de páginas de avaliações. \n",
        "\n",
        "**num_reviews** = Número total de avaliações feitas por este usuário.\n",
        "\n",
        "**username** = Letterboxd ID/nome de usuário exclusivo. Pode ser usado para formar um URL Letterboxd.\n",
        "\n",
        "**_id** = ID exclusivo global.\n",
        "\n",
        "**genres** = Array  de gêneros de filmes associados.\n",
        "\n",
        "**image_url** = Imagem usada no site Letterboxd para o filme. Geralmente um pôster. ##############\n",
        "\n",
        "**imdb_id** = ID para IMDB. \n",
        "\n",
        "**imdb_link** = Link para a página IMDB do filme. ##############\n",
        "\n",
        "**movie_id** = Identificação do filme Letterboxd. \n",
        "\n",
        "**movie_title** = Título de exibição. \n",
        "\n",
        "**original_language** = Idioma original do filme \n",
        "\n",
        "**overview** = Descrição do filme ##############\n",
        "\n",
        "**popularity** = Popularidade numérica  \n",
        "\n",
        "**production_countries** = Matriz de países em que o filme foi produzido \n",
        "\n",
        "**release_date** = Data de lançamento ##############\n",
        "\n",
        "**runtime** = Tempo de execução em minutos \n",
        "\n",
        "**spoken_languages** = Array de todos os idiomas falados no filme ##############\n",
        "\n",
        "**tmdb_id** = ID para acessar dados na API \n",
        "\n",
        "**tmdb_link** = Link para a entrada do filme no TMDB \n",
        "\n",
        "**vote_average** = Média de votos \n",
        "\n",
        "**vote_count** = contagem de votos \n",
        "\n",
        "**year_released** = Ano lançado\n",
        "\n",
        "**_id** = ID exclusivo global.\n",
        "\n",
        "**movie_id** = Letterboxd ID exclusivo para o filme. Pode ser usado para corresponder aos dados do filme neste conjunto de dados ou para construir um Letterboxd\n",
        "\n",
        "**rating_val** = Valor da classificação com base nas estrelas dadas (em incrementos de meia estrela). Uma meia estrela é 1, cinco estrelas é 10, etc.\n",
        "\n",
        "**user_id** = Letterboxd ID exclusivo para o usuário. Pode ser usado para corresponder aos dados do usuário neste conjunto de dados ou para construir um Letterboxd"
      ],
      "metadata": {
        "id": "EMfz52jSUE8Q"
      }
    },
    {
      "cell_type": "markdown",
      "metadata": {
        "id": "Fs28YXvlkMR1"
      },
      "source": [
        "### Tabela Usuário"
      ]
    },
    {
      "cell_type": "code",
      "execution_count": 3,
      "metadata": {
        "colab": {
          "base_uri": "https://localhost:8080/",
          "height": 206
        },
        "id": "bUZpJ1viZI9N",
        "outputId": "c7435e83-8ac4-42cb-8b7b-3209ae677b77"
      },
      "outputs": [
        {
          "output_type": "execute_result",
          "data": {
            "text/plain": [
              "                        _id display_name  num_ratings_pages  num_reviews  \\\n",
              "0  5fc4172ec6cd28ebd99dd0e2         Lucy               32.0         1650   \n",
              "1  5fc4172ec6cd28ebd99dd0ea  Matt Singer               52.0         1915   \n",
              "2  5fc4172ec6cd28ebd99dd0ed   Sean Baker               21.0         1283   \n",
              "3  5fc4172ec6cd28ebd99dd0ee         iana               37.0         1177   \n",
              "4  5fc419171ebf67b9fbe48615        Lizzy               57.0         1810   \n",
              "\n",
              "          username  \n",
              "0       deathproof  \n",
              "1       superpulse  \n",
              "2          lilfilm  \n",
              "3       ianamurray  \n",
              "4  punchdrunklizzy  "
            ],
            "text/html": [
              "\n",
              "  <div id=\"df-f6b5a77a-068c-4aca-a56e-4d20a491f91e\">\n",
              "    <div class=\"colab-df-container\">\n",
              "      <div>\n",
              "<style scoped>\n",
              "    .dataframe tbody tr th:only-of-type {\n",
              "        vertical-align: middle;\n",
              "    }\n",
              "\n",
              "    .dataframe tbody tr th {\n",
              "        vertical-align: top;\n",
              "    }\n",
              "\n",
              "    .dataframe thead th {\n",
              "        text-align: right;\n",
              "    }\n",
              "</style>\n",
              "<table border=\"1\" class=\"dataframe\">\n",
              "  <thead>\n",
              "    <tr style=\"text-align: right;\">\n",
              "      <th></th>\n",
              "      <th>_id</th>\n",
              "      <th>display_name</th>\n",
              "      <th>num_ratings_pages</th>\n",
              "      <th>num_reviews</th>\n",
              "      <th>username</th>\n",
              "    </tr>\n",
              "  </thead>\n",
              "  <tbody>\n",
              "    <tr>\n",
              "      <th>0</th>\n",
              "      <td>5fc4172ec6cd28ebd99dd0e2</td>\n",
              "      <td>Lucy</td>\n",
              "      <td>32.0</td>\n",
              "      <td>1650</td>\n",
              "      <td>deathproof</td>\n",
              "    </tr>\n",
              "    <tr>\n",
              "      <th>1</th>\n",
              "      <td>5fc4172ec6cd28ebd99dd0ea</td>\n",
              "      <td>Matt Singer</td>\n",
              "      <td>52.0</td>\n",
              "      <td>1915</td>\n",
              "      <td>superpulse</td>\n",
              "    </tr>\n",
              "    <tr>\n",
              "      <th>2</th>\n",
              "      <td>5fc4172ec6cd28ebd99dd0ed</td>\n",
              "      <td>Sean Baker</td>\n",
              "      <td>21.0</td>\n",
              "      <td>1283</td>\n",
              "      <td>lilfilm</td>\n",
              "    </tr>\n",
              "    <tr>\n",
              "      <th>3</th>\n",
              "      <td>5fc4172ec6cd28ebd99dd0ee</td>\n",
              "      <td>iana</td>\n",
              "      <td>37.0</td>\n",
              "      <td>1177</td>\n",
              "      <td>ianamurray</td>\n",
              "    </tr>\n",
              "    <tr>\n",
              "      <th>4</th>\n",
              "      <td>5fc419171ebf67b9fbe48615</td>\n",
              "      <td>Lizzy</td>\n",
              "      <td>57.0</td>\n",
              "      <td>1810</td>\n",
              "      <td>punchdrunklizzy</td>\n",
              "    </tr>\n",
              "  </tbody>\n",
              "</table>\n",
              "</div>\n",
              "      <button class=\"colab-df-convert\" onclick=\"convertToInteractive('df-f6b5a77a-068c-4aca-a56e-4d20a491f91e')\"\n",
              "              title=\"Convert this dataframe to an interactive table.\"\n",
              "              style=\"display:none;\">\n",
              "        \n",
              "  <svg xmlns=\"http://www.w3.org/2000/svg\" height=\"24px\"viewBox=\"0 0 24 24\"\n",
              "       width=\"24px\">\n",
              "    <path d=\"M0 0h24v24H0V0z\" fill=\"none\"/>\n",
              "    <path d=\"M18.56 5.44l.94 2.06.94-2.06 2.06-.94-2.06-.94-.94-2.06-.94 2.06-2.06.94zm-11 1L8.5 8.5l.94-2.06 2.06-.94-2.06-.94L8.5 2.5l-.94 2.06-2.06.94zm10 10l.94 2.06.94-2.06 2.06-.94-2.06-.94-.94-2.06-.94 2.06-2.06.94z\"/><path d=\"M17.41 7.96l-1.37-1.37c-.4-.4-.92-.59-1.43-.59-.52 0-1.04.2-1.43.59L10.3 9.45l-7.72 7.72c-.78.78-.78 2.05 0 2.83L4 21.41c.39.39.9.59 1.41.59.51 0 1.02-.2 1.41-.59l7.78-7.78 2.81-2.81c.8-.78.8-2.07 0-2.86zM5.41 20L4 18.59l7.72-7.72 1.47 1.35L5.41 20z\"/>\n",
              "  </svg>\n",
              "      </button>\n",
              "      \n",
              "  <style>\n",
              "    .colab-df-container {\n",
              "      display:flex;\n",
              "      flex-wrap:wrap;\n",
              "      gap: 12px;\n",
              "    }\n",
              "\n",
              "    .colab-df-convert {\n",
              "      background-color: #E8F0FE;\n",
              "      border: none;\n",
              "      border-radius: 50%;\n",
              "      cursor: pointer;\n",
              "      display: none;\n",
              "      fill: #1967D2;\n",
              "      height: 32px;\n",
              "      padding: 0 0 0 0;\n",
              "      width: 32px;\n",
              "    }\n",
              "\n",
              "    .colab-df-convert:hover {\n",
              "      background-color: #E2EBFA;\n",
              "      box-shadow: 0px 1px 2px rgba(60, 64, 67, 0.3), 0px 1px 3px 1px rgba(60, 64, 67, 0.15);\n",
              "      fill: #174EA6;\n",
              "    }\n",
              "\n",
              "    [theme=dark] .colab-df-convert {\n",
              "      background-color: #3B4455;\n",
              "      fill: #D2E3FC;\n",
              "    }\n",
              "\n",
              "    [theme=dark] .colab-df-convert:hover {\n",
              "      background-color: #434B5C;\n",
              "      box-shadow: 0px 1px 3px 1px rgba(0, 0, 0, 0.15);\n",
              "      filter: drop-shadow(0px 1px 2px rgba(0, 0, 0, 0.3));\n",
              "      fill: #FFFFFF;\n",
              "    }\n",
              "  </style>\n",
              "\n",
              "      <script>\n",
              "        const buttonEl =\n",
              "          document.querySelector('#df-f6b5a77a-068c-4aca-a56e-4d20a491f91e button.colab-df-convert');\n",
              "        buttonEl.style.display =\n",
              "          google.colab.kernel.accessAllowed ? 'block' : 'none';\n",
              "\n",
              "        async function convertToInteractive(key) {\n",
              "          const element = document.querySelector('#df-f6b5a77a-068c-4aca-a56e-4d20a491f91e');\n",
              "          const dataTable =\n",
              "            await google.colab.kernel.invokeFunction('convertToInteractive',\n",
              "                                                     [key], {});\n",
              "          if (!dataTable) return;\n",
              "\n",
              "          const docLinkHtml = 'Like what you see? Visit the ' +\n",
              "            '<a target=\"_blank\" href=https://colab.research.google.com/notebooks/data_table.ipynb>data table notebook</a>'\n",
              "            + ' to learn more about interactive tables.';\n",
              "          element.innerHTML = '';\n",
              "          dataTable['output_type'] = 'display_data';\n",
              "          await google.colab.output.renderOutput(dataTable, element);\n",
              "          const docLink = document.createElement('div');\n",
              "          docLink.innerHTML = docLinkHtml;\n",
              "          element.appendChild(docLink);\n",
              "        }\n",
              "      </script>\n",
              "    </div>\n",
              "  </div>\n",
              "  "
            ]
          },
          "metadata": {},
          "execution_count": 3
        }
      ],
      "source": [
        "usuario.head() "
      ]
    },
    {
      "cell_type": "code",
      "execution_count": 4,
      "metadata": {
        "colab": {
          "base_uri": "https://localhost:8080/"
        },
        "id": "EnWtE9ahZMjG",
        "outputId": "c7edbd53-8811-42e7-98ae-6eb3576d48e0"
      },
      "outputs": [
        {
          "output_type": "execute_result",
          "data": {
            "text/plain": [
              "_id                     0\n",
              "display_name          307\n",
              "num_ratings_pages    3392\n",
              "num_reviews             0\n",
              "username                0\n",
              "dtype: int64"
            ]
          },
          "metadata": {},
          "execution_count": 4
        }
      ],
      "source": [
        "usuario.isnull().sum()"
      ]
    },
    {
      "cell_type": "markdown",
      "source": [
        "Limpando os dados nulos e selecionando os dados que serão úteis:"
      ],
      "metadata": {
        "id": "7QVAOiV7UxyA"
      }
    },
    {
      "cell_type": "code",
      "source": [
        "usuario = usuario.dropna(subset= ['display_name', 'num_ratings_pages']) #apagando os dados nulos"
      ],
      "metadata": {
        "id": "r9t3xbXfUKwY"
      },
      "execution_count": 5,
      "outputs": []
    },
    {
      "cell_type": "code",
      "source": [
        "usuario.shape"
      ],
      "metadata": {
        "id": "uCmSz_35U86o",
        "outputId": "d6a9c566-dccb-4c35-82f2-f59eb18e5068",
        "colab": {
          "base_uri": "https://localhost:8080/"
        }
      },
      "execution_count": 6,
      "outputs": [
        {
          "output_type": "execute_result",
          "data": {
            "text/plain": [
              "(4747, 5)"
            ]
          },
          "metadata": {},
          "execution_count": 6
        }
      ]
    },
    {
      "cell_type": "code",
      "source": [
        "usuario = usuario.drop(usuario[usuario.num_reviews < 1000].index) #selecionando os usuários que possuem mais de 1000 avaliações"
      ],
      "metadata": {
        "id": "0yaoOmQhU5Do"
      },
      "execution_count": 7,
      "outputs": []
    },
    {
      "cell_type": "code",
      "source": [
        "usuario = usuario.drop(columns = ['num_reviews', 'num_ratings_pages', 'display_name'])"
      ],
      "metadata": {
        "id": "jcA63VfQgFI6"
      },
      "execution_count": 8,
      "outputs": []
    },
    {
      "cell_type": "code",
      "source": [
        "usuario.shape"
      ],
      "metadata": {
        "id": "qs2VK5zAVZf4",
        "outputId": "7ba3c3ad-e678-44d8-d3f5-d4028d5da8a0",
        "colab": {
          "base_uri": "https://localhost:8080/"
        }
      },
      "execution_count": 9,
      "outputs": [
        {
          "output_type": "execute_result",
          "data": {
            "text/plain": [
              "(1867, 2)"
            ]
          },
          "metadata": {},
          "execution_count": 9
        }
      ]
    },
    {
      "cell_type": "markdown",
      "source": [
        "Agora a quantidade de usuários que serão avaliados foi reduzido, para deixar o data frame mais leve."
      ],
      "metadata": {
        "id": "Rnek1EaKVtmw"
      }
    },
    {
      "cell_type": "markdown",
      "metadata": {
        "id": "LVeuGn8WkYmE"
      },
      "source": [
        "### Tabela Dados dos filmes"
      ]
    },
    {
      "cell_type": "code",
      "execution_count": 10,
      "metadata": {
        "colab": {
          "base_uri": "https://localhost:8080/",
          "height": 468
        },
        "id": "pZjMpIeIaAd2",
        "outputId": "2db54589-87c6-4159-b8eb-1e58f8cfb152"
      },
      "outputs": [
        {
          "output_type": "execute_result",
          "data": {
            "text/plain": [
              "                        _id                 genres  \\\n",
              "0  5fc85f606758f69634496fd3  [\"Music\",\"Animation\"]   \n",
              "1  5fc85ff26758f696344ace0c                     []   \n",
              "2  5fc85f606758f69634496fcd              [\"Drama\"]   \n",
              "\n",
              "                                           image_url    imdb_id  \\\n",
              "0  film-poster/4/6/4/4/4/0/464440-football-freaks...        NaN   \n",
              "1  film-poster/2/4/5/5/0/0/245500-aftermath-0-230...  tt0586129   \n",
              "2  film-poster/9/3/3/1/8/93318-where-chimneys-are...  tt0045731   \n",
              "\n",
              "                                         imdb_link                 movie_id  \\\n",
              "0                                              NaN          football-freaks   \n",
              "1  http://www.imdb.com/title/tt0586129/maindetails           aftermath-1960   \n",
              "2  http://www.imdb.com/title/tt0045731/maindetails  where-chimneys-are-seen   \n",
              "\n",
              "               movie_title original_language  \\\n",
              "0          Football Freaks                en   \n",
              "1                Aftermath                en   \n",
              "2  Where Chimneys Are Seen                ja   \n",
              "\n",
              "                                            overview  popularity  \\\n",
              "0  Football crazy, football mad. Don’t watch this...       0.600   \n",
              "1  Aftermath was the pilot for an unsold TV serie...       0.600   \n",
              "2  Gosho’s most celebrated film both in Japan and...       1.568   \n",
              "\n",
              "  production_countries release_date  runtime spoken_languages   tmdb_id  \\\n",
              "0   [\"United Kingdom\"]   1971-12-05      0.0               []  535272.0   \n",
              "1                   []   1960-04-17     22.0               []  318331.0   \n",
              "2            [\"Japan\"]   1953-03-05    108.0          [\"日本語\"]  117779.0   \n",
              "\n",
              "                                  tmdb_link  vote_average  vote_count  \\\n",
              "0  https://www.themoviedb.org/movie/535272/           0.0         0.0   \n",
              "1  https://www.themoviedb.org/movie/318331/           8.0         1.0   \n",
              "2  https://www.themoviedb.org/movie/117779/           6.6        10.0   \n",
              "\n",
              "   year_released  \n",
              "0         1971.0  \n",
              "1         1960.0  \n",
              "2         1953.0  "
            ],
            "text/html": [
              "\n",
              "  <div id=\"df-65ce2ba9-b191-49b9-a07e-e4550372ccac\">\n",
              "    <div class=\"colab-df-container\">\n",
              "      <div>\n",
              "<style scoped>\n",
              "    .dataframe tbody tr th:only-of-type {\n",
              "        vertical-align: middle;\n",
              "    }\n",
              "\n",
              "    .dataframe tbody tr th {\n",
              "        vertical-align: top;\n",
              "    }\n",
              "\n",
              "    .dataframe thead th {\n",
              "        text-align: right;\n",
              "    }\n",
              "</style>\n",
              "<table border=\"1\" class=\"dataframe\">\n",
              "  <thead>\n",
              "    <tr style=\"text-align: right;\">\n",
              "      <th></th>\n",
              "      <th>_id</th>\n",
              "      <th>genres</th>\n",
              "      <th>image_url</th>\n",
              "      <th>imdb_id</th>\n",
              "      <th>imdb_link</th>\n",
              "      <th>movie_id</th>\n",
              "      <th>movie_title</th>\n",
              "      <th>original_language</th>\n",
              "      <th>overview</th>\n",
              "      <th>popularity</th>\n",
              "      <th>production_countries</th>\n",
              "      <th>release_date</th>\n",
              "      <th>runtime</th>\n",
              "      <th>spoken_languages</th>\n",
              "      <th>tmdb_id</th>\n",
              "      <th>tmdb_link</th>\n",
              "      <th>vote_average</th>\n",
              "      <th>vote_count</th>\n",
              "      <th>year_released</th>\n",
              "    </tr>\n",
              "  </thead>\n",
              "  <tbody>\n",
              "    <tr>\n",
              "      <th>0</th>\n",
              "      <td>5fc85f606758f69634496fd3</td>\n",
              "      <td>[\"Music\",\"Animation\"]</td>\n",
              "      <td>film-poster/4/6/4/4/4/0/464440-football-freaks...</td>\n",
              "      <td>NaN</td>\n",
              "      <td>NaN</td>\n",
              "      <td>football-freaks</td>\n",
              "      <td>Football Freaks</td>\n",
              "      <td>en</td>\n",
              "      <td>Football crazy, football mad. Don’t watch this...</td>\n",
              "      <td>0.600</td>\n",
              "      <td>[\"United Kingdom\"]</td>\n",
              "      <td>1971-12-05</td>\n",
              "      <td>0.0</td>\n",
              "      <td>[]</td>\n",
              "      <td>535272.0</td>\n",
              "      <td>https://www.themoviedb.org/movie/535272/</td>\n",
              "      <td>0.0</td>\n",
              "      <td>0.0</td>\n",
              "      <td>1971.0</td>\n",
              "    </tr>\n",
              "    <tr>\n",
              "      <th>1</th>\n",
              "      <td>5fc85ff26758f696344ace0c</td>\n",
              "      <td>[]</td>\n",
              "      <td>film-poster/2/4/5/5/0/0/245500-aftermath-0-230...</td>\n",
              "      <td>tt0586129</td>\n",
              "      <td>http://www.imdb.com/title/tt0586129/maindetails</td>\n",
              "      <td>aftermath-1960</td>\n",
              "      <td>Aftermath</td>\n",
              "      <td>en</td>\n",
              "      <td>Aftermath was the pilot for an unsold TV serie...</td>\n",
              "      <td>0.600</td>\n",
              "      <td>[]</td>\n",
              "      <td>1960-04-17</td>\n",
              "      <td>22.0</td>\n",
              "      <td>[]</td>\n",
              "      <td>318331.0</td>\n",
              "      <td>https://www.themoviedb.org/movie/318331/</td>\n",
              "      <td>8.0</td>\n",
              "      <td>1.0</td>\n",
              "      <td>1960.0</td>\n",
              "    </tr>\n",
              "    <tr>\n",
              "      <th>2</th>\n",
              "      <td>5fc85f606758f69634496fcd</td>\n",
              "      <td>[\"Drama\"]</td>\n",
              "      <td>film-poster/9/3/3/1/8/93318-where-chimneys-are...</td>\n",
              "      <td>tt0045731</td>\n",
              "      <td>http://www.imdb.com/title/tt0045731/maindetails</td>\n",
              "      <td>where-chimneys-are-seen</td>\n",
              "      <td>Where Chimneys Are Seen</td>\n",
              "      <td>ja</td>\n",
              "      <td>Gosho’s most celebrated film both in Japan and...</td>\n",
              "      <td>1.568</td>\n",
              "      <td>[\"Japan\"]</td>\n",
              "      <td>1953-03-05</td>\n",
              "      <td>108.0</td>\n",
              "      <td>[\"日本語\"]</td>\n",
              "      <td>117779.0</td>\n",
              "      <td>https://www.themoviedb.org/movie/117779/</td>\n",
              "      <td>6.6</td>\n",
              "      <td>10.0</td>\n",
              "      <td>1953.0</td>\n",
              "    </tr>\n",
              "  </tbody>\n",
              "</table>\n",
              "</div>\n",
              "      <button class=\"colab-df-convert\" onclick=\"convertToInteractive('df-65ce2ba9-b191-49b9-a07e-e4550372ccac')\"\n",
              "              title=\"Convert this dataframe to an interactive table.\"\n",
              "              style=\"display:none;\">\n",
              "        \n",
              "  <svg xmlns=\"http://www.w3.org/2000/svg\" height=\"24px\"viewBox=\"0 0 24 24\"\n",
              "       width=\"24px\">\n",
              "    <path d=\"M0 0h24v24H0V0z\" fill=\"none\"/>\n",
              "    <path d=\"M18.56 5.44l.94 2.06.94-2.06 2.06-.94-2.06-.94-.94-2.06-.94 2.06-2.06.94zm-11 1L8.5 8.5l.94-2.06 2.06-.94-2.06-.94L8.5 2.5l-.94 2.06-2.06.94zm10 10l.94 2.06.94-2.06 2.06-.94-2.06-.94-.94-2.06-.94 2.06-2.06.94z\"/><path d=\"M17.41 7.96l-1.37-1.37c-.4-.4-.92-.59-1.43-.59-.52 0-1.04.2-1.43.59L10.3 9.45l-7.72 7.72c-.78.78-.78 2.05 0 2.83L4 21.41c.39.39.9.59 1.41.59.51 0 1.02-.2 1.41-.59l7.78-7.78 2.81-2.81c.8-.78.8-2.07 0-2.86zM5.41 20L4 18.59l7.72-7.72 1.47 1.35L5.41 20z\"/>\n",
              "  </svg>\n",
              "      </button>\n",
              "      \n",
              "  <style>\n",
              "    .colab-df-container {\n",
              "      display:flex;\n",
              "      flex-wrap:wrap;\n",
              "      gap: 12px;\n",
              "    }\n",
              "\n",
              "    .colab-df-convert {\n",
              "      background-color: #E8F0FE;\n",
              "      border: none;\n",
              "      border-radius: 50%;\n",
              "      cursor: pointer;\n",
              "      display: none;\n",
              "      fill: #1967D2;\n",
              "      height: 32px;\n",
              "      padding: 0 0 0 0;\n",
              "      width: 32px;\n",
              "    }\n",
              "\n",
              "    .colab-df-convert:hover {\n",
              "      background-color: #E2EBFA;\n",
              "      box-shadow: 0px 1px 2px rgba(60, 64, 67, 0.3), 0px 1px 3px 1px rgba(60, 64, 67, 0.15);\n",
              "      fill: #174EA6;\n",
              "    }\n",
              "\n",
              "    [theme=dark] .colab-df-convert {\n",
              "      background-color: #3B4455;\n",
              "      fill: #D2E3FC;\n",
              "    }\n",
              "\n",
              "    [theme=dark] .colab-df-convert:hover {\n",
              "      background-color: #434B5C;\n",
              "      box-shadow: 0px 1px 3px 1px rgba(0, 0, 0, 0.15);\n",
              "      filter: drop-shadow(0px 1px 2px rgba(0, 0, 0, 0.3));\n",
              "      fill: #FFFFFF;\n",
              "    }\n",
              "  </style>\n",
              "\n",
              "      <script>\n",
              "        const buttonEl =\n",
              "          document.querySelector('#df-65ce2ba9-b191-49b9-a07e-e4550372ccac button.colab-df-convert');\n",
              "        buttonEl.style.display =\n",
              "          google.colab.kernel.accessAllowed ? 'block' : 'none';\n",
              "\n",
              "        async function convertToInteractive(key) {\n",
              "          const element = document.querySelector('#df-65ce2ba9-b191-49b9-a07e-e4550372ccac');\n",
              "          const dataTable =\n",
              "            await google.colab.kernel.invokeFunction('convertToInteractive',\n",
              "                                                     [key], {});\n",
              "          if (!dataTable) return;\n",
              "\n",
              "          const docLinkHtml = 'Like what you see? Visit the ' +\n",
              "            '<a target=\"_blank\" href=https://colab.research.google.com/notebooks/data_table.ipynb>data table notebook</a>'\n",
              "            + ' to learn more about interactive tables.';\n",
              "          element.innerHTML = '';\n",
              "          dataTable['output_type'] = 'display_data';\n",
              "          await google.colab.output.renderOutput(dataTable, element);\n",
              "          const docLink = document.createElement('div');\n",
              "          docLink.innerHTML = docLinkHtml;\n",
              "          element.appendChild(docLink);\n",
              "        }\n",
              "      </script>\n",
              "    </div>\n",
              "  </div>\n",
              "  "
            ]
          },
          "metadata": {},
          "execution_count": 10
        }
      ],
      "source": [
        "dados_filmes.head(3)"
      ]
    },
    {
      "cell_type": "code",
      "execution_count": 11,
      "metadata": {
        "colab": {
          "base_uri": "https://localhost:8080/"
        },
        "id": "oei0ruHJwLBH",
        "outputId": "d48683e1-aaae-409d-b561-21fa6928ac31"
      },
      "outputs": [
        {
          "output_type": "execute_result",
          "data": {
            "text/plain": [
              "Index(['_id', 'genres', 'image_url', 'imdb_id', 'imdb_link', 'movie_id',\n",
              "       'movie_title', 'original_language', 'overview', 'popularity',\n",
              "       'production_countries', 'release_date', 'runtime', 'spoken_languages',\n",
              "       'tmdb_id', 'tmdb_link', 'vote_average', 'vote_count', 'year_released'],\n",
              "      dtype='object')"
            ]
          },
          "metadata": {},
          "execution_count": 11
        }
      ],
      "source": [
        "dados_filmes.columns"
      ]
    },
    {
      "cell_type": "code",
      "execution_count": 12,
      "metadata": {
        "colab": {
          "base_uri": "https://localhost:8080/"
        },
        "id": "cWiJc5P5fRde",
        "outputId": "9c1a07bd-8467-4912-9a9f-c26d2868b91a"
      },
      "outputs": [
        {
          "output_type": "execute_result",
          "data": {
            "text/plain": [
              "(285504, 19)"
            ]
          },
          "metadata": {},
          "execution_count": 12
        }
      ],
      "source": [
        "dados_filmes.shape"
      ]
    },
    {
      "cell_type": "markdown",
      "source": [
        "A tabela possui 285.504, é muito interessante reduzir essa quantidade, pois a maioria dos filmes não são relevantes para nosso projeto."
      ],
      "metadata": {
        "id": "22fGQi6QZUUx"
      }
    },
    {
      "cell_type": "code",
      "execution_count": 13,
      "metadata": {
        "colab": {
          "base_uri": "https://localhost:8080/"
        },
        "id": "B57ll-ZA7-Q1",
        "outputId": "f3175141-ac1f-4267-e1cd-aaf84c503058"
      },
      "outputs": [
        {
          "output_type": "execute_result",
          "data": {
            "text/plain": [
              "_id                         0\n",
              "genres                  10632\n",
              "image_url               21097\n",
              "imdb_id                 41702\n",
              "imdb_link               41702\n",
              "movie_id                    2\n",
              "movie_title              2164\n",
              "original_language       10632\n",
              "overview                24256\n",
              "popularity              10632\n",
              "production_countries    10632\n",
              "release_date            14454\n",
              "runtime                 15449\n",
              "spoken_languages        10632\n",
              "tmdb_id                  5587\n",
              "tmdb_link                5587\n",
              "vote_average            10632\n",
              "vote_count              10632\n",
              "year_released            7572\n",
              "dtype: int64"
            ]
          },
          "metadata": {},
          "execution_count": 13
        }
      ],
      "source": [
        "dados_filmes.isna().sum()"
      ]
    },
    {
      "cell_type": "markdown",
      "source": [
        "Filtrando os dados interessantes:"
      ],
      "metadata": {
        "id": "9VEoFU8qWYrQ"
      }
    },
    {
      "cell_type": "code",
      "source": [
        "dados_filmes = dados_filmes.drop(dados_filmes[dados_filmes.popularity < 9].index)\n",
        "dados_filmes = dados_filmes.drop(dados_filmes[dados_filmes.vote_count < 1000].index)\n",
        "dados_filmes = dados_filmes.drop(dados_filmes[dados_filmes.runtime < 50].index)\n",
        "dados_filmes = dados_filmes.drop(dados_filmes[dados_filmes.year_released < 1940].index)"
      ],
      "metadata": {
        "id": "PveKvXH6WU8B"
      },
      "execution_count": 14,
      "outputs": []
    },
    {
      "cell_type": "markdown",
      "source": [
        "Tratando os dados nulos:"
      ],
      "metadata": {
        "id": "XWrP8fIqXJc5"
      }
    },
    {
      "cell_type": "code",
      "source": [
        "dados_filmes = dados_filmes.dropna(subset= ['genres', 'image_url', 'imdb_id', 'imdb_link', 'movie_id','movie_title', 'original_language', 'overview', \\\n",
        "                                            'popularity','production_countries', 'release_date', 'runtime', 'spoken_languages','tmdb_id', 'tmdb_link', 'vote_average', 'vote_count', 'year_released'])"
      ],
      "metadata": {
        "id": "hZZOybodXL35"
      },
      "execution_count": 15,
      "outputs": []
    },
    {
      "cell_type": "markdown",
      "source": [
        "Eliminando as colunas desnecessárias:"
      ],
      "metadata": {
        "id": "hQ_b4Bc8WMrA"
      }
    },
    {
      "cell_type": "code",
      "source": [
        "dados_filmes = dados_filmes.drop(columns= ['imdb_id', 'original_language', 'overview', 'release_date', 'runtime', 'spoken_languages','tmdb_id', 'tmdb_link'])"
      ],
      "metadata": {
        "id": "_KzaZrAlXrop"
      },
      "execution_count": 16,
      "outputs": []
    },
    {
      "cell_type": "code",
      "source": [
        "dados_filmes.shape"
      ],
      "metadata": {
        "id": "ja3AAr72YjMR",
        "outputId": "f7b5213b-87f1-401f-aec1-819b9b6f4c4d",
        "colab": {
          "base_uri": "https://localhost:8080/"
        }
      },
      "execution_count": 17,
      "outputs": [
        {
          "output_type": "execute_result",
          "data": {
            "text/plain": [
              "(3159, 11)"
            ]
          },
          "metadata": {},
          "execution_count": 17
        }
      ]
    },
    {
      "cell_type": "markdown",
      "source": [
        "Conseguimos uma redução de 98% nessa tabela."
      ],
      "metadata": {
        "id": "PiaX14VqYm7y"
      }
    },
    {
      "cell_type": "markdown",
      "metadata": {
        "id": "rzUjvuQqkd-0"
      },
      "source": [
        "### Tabela Avaliação"
      ]
    },
    {
      "cell_type": "markdown",
      "source": [
        "Essa tabela é a maior de todas, e precisa ser o mais enxuta possível, senão o Colab não conseguirá rodar o treino. Contudo, não é possível fazer muita coisa agora, o tratamento dela será feito após o Merge."
      ],
      "metadata": {
        "id": "MixqNzDia2Xp"
      }
    },
    {
      "cell_type": "code",
      "execution_count": 18,
      "metadata": {
        "colab": {
          "base_uri": "https://localhost:8080/",
          "height": 0
        },
        "id": "NQtJNMo5i1BN",
        "outputId": "ccdc3d1d-72d8-4e69-fd0d-4c28af942b47"
      },
      "outputs": [
        {
          "output_type": "execute_result",
          "data": {
            "text/plain": [
              "                        _id          movie_id  rating_val     user_id\n",
              "0  5fc57c5d6758f6963451a07f        feast-2014           7  deathproof\n",
              "1  5fc57c5d6758f6963451a063       loving-2016           7  deathproof\n",
              "2  5fc57c5d6758f6963451a0ef  scripted-content           7  deathproof\n",
              "3  5fc57c5d6758f6963451a060        the-future           4  deathproof\n",
              "4  5fc57c5c6758f69634519398              mank           5  deathproof"
            ],
            "text/html": [
              "\n",
              "  <div id=\"df-300cf306-75cb-4700-b48c-a50bf55da8e6\">\n",
              "    <div class=\"colab-df-container\">\n",
              "      <div>\n",
              "<style scoped>\n",
              "    .dataframe tbody tr th:only-of-type {\n",
              "        vertical-align: middle;\n",
              "    }\n",
              "\n",
              "    .dataframe tbody tr th {\n",
              "        vertical-align: top;\n",
              "    }\n",
              "\n",
              "    .dataframe thead th {\n",
              "        text-align: right;\n",
              "    }\n",
              "</style>\n",
              "<table border=\"1\" class=\"dataframe\">\n",
              "  <thead>\n",
              "    <tr style=\"text-align: right;\">\n",
              "      <th></th>\n",
              "      <th>_id</th>\n",
              "      <th>movie_id</th>\n",
              "      <th>rating_val</th>\n",
              "      <th>user_id</th>\n",
              "    </tr>\n",
              "  </thead>\n",
              "  <tbody>\n",
              "    <tr>\n",
              "      <th>0</th>\n",
              "      <td>5fc57c5d6758f6963451a07f</td>\n",
              "      <td>feast-2014</td>\n",
              "      <td>7</td>\n",
              "      <td>deathproof</td>\n",
              "    </tr>\n",
              "    <tr>\n",
              "      <th>1</th>\n",
              "      <td>5fc57c5d6758f6963451a063</td>\n",
              "      <td>loving-2016</td>\n",
              "      <td>7</td>\n",
              "      <td>deathproof</td>\n",
              "    </tr>\n",
              "    <tr>\n",
              "      <th>2</th>\n",
              "      <td>5fc57c5d6758f6963451a0ef</td>\n",
              "      <td>scripted-content</td>\n",
              "      <td>7</td>\n",
              "      <td>deathproof</td>\n",
              "    </tr>\n",
              "    <tr>\n",
              "      <th>3</th>\n",
              "      <td>5fc57c5d6758f6963451a060</td>\n",
              "      <td>the-future</td>\n",
              "      <td>4</td>\n",
              "      <td>deathproof</td>\n",
              "    </tr>\n",
              "    <tr>\n",
              "      <th>4</th>\n",
              "      <td>5fc57c5c6758f69634519398</td>\n",
              "      <td>mank</td>\n",
              "      <td>5</td>\n",
              "      <td>deathproof</td>\n",
              "    </tr>\n",
              "  </tbody>\n",
              "</table>\n",
              "</div>\n",
              "      <button class=\"colab-df-convert\" onclick=\"convertToInteractive('df-300cf306-75cb-4700-b48c-a50bf55da8e6')\"\n",
              "              title=\"Convert this dataframe to an interactive table.\"\n",
              "              style=\"display:none;\">\n",
              "        \n",
              "  <svg xmlns=\"http://www.w3.org/2000/svg\" height=\"24px\"viewBox=\"0 0 24 24\"\n",
              "       width=\"24px\">\n",
              "    <path d=\"M0 0h24v24H0V0z\" fill=\"none\"/>\n",
              "    <path d=\"M18.56 5.44l.94 2.06.94-2.06 2.06-.94-2.06-.94-.94-2.06-.94 2.06-2.06.94zm-11 1L8.5 8.5l.94-2.06 2.06-.94-2.06-.94L8.5 2.5l-.94 2.06-2.06.94zm10 10l.94 2.06.94-2.06 2.06-.94-2.06-.94-.94-2.06-.94 2.06-2.06.94z\"/><path d=\"M17.41 7.96l-1.37-1.37c-.4-.4-.92-.59-1.43-.59-.52 0-1.04.2-1.43.59L10.3 9.45l-7.72 7.72c-.78.78-.78 2.05 0 2.83L4 21.41c.39.39.9.59 1.41.59.51 0 1.02-.2 1.41-.59l7.78-7.78 2.81-2.81c.8-.78.8-2.07 0-2.86zM5.41 20L4 18.59l7.72-7.72 1.47 1.35L5.41 20z\"/>\n",
              "  </svg>\n",
              "      </button>\n",
              "      \n",
              "  <style>\n",
              "    .colab-df-container {\n",
              "      display:flex;\n",
              "      flex-wrap:wrap;\n",
              "      gap: 12px;\n",
              "    }\n",
              "\n",
              "    .colab-df-convert {\n",
              "      background-color: #E8F0FE;\n",
              "      border: none;\n",
              "      border-radius: 50%;\n",
              "      cursor: pointer;\n",
              "      display: none;\n",
              "      fill: #1967D2;\n",
              "      height: 32px;\n",
              "      padding: 0 0 0 0;\n",
              "      width: 32px;\n",
              "    }\n",
              "\n",
              "    .colab-df-convert:hover {\n",
              "      background-color: #E2EBFA;\n",
              "      box-shadow: 0px 1px 2px rgba(60, 64, 67, 0.3), 0px 1px 3px 1px rgba(60, 64, 67, 0.15);\n",
              "      fill: #174EA6;\n",
              "    }\n",
              "\n",
              "    [theme=dark] .colab-df-convert {\n",
              "      background-color: #3B4455;\n",
              "      fill: #D2E3FC;\n",
              "    }\n",
              "\n",
              "    [theme=dark] .colab-df-convert:hover {\n",
              "      background-color: #434B5C;\n",
              "      box-shadow: 0px 1px 3px 1px rgba(0, 0, 0, 0.15);\n",
              "      filter: drop-shadow(0px 1px 2px rgba(0, 0, 0, 0.3));\n",
              "      fill: #FFFFFF;\n",
              "    }\n",
              "  </style>\n",
              "\n",
              "      <script>\n",
              "        const buttonEl =\n",
              "          document.querySelector('#df-300cf306-75cb-4700-b48c-a50bf55da8e6 button.colab-df-convert');\n",
              "        buttonEl.style.display =\n",
              "          google.colab.kernel.accessAllowed ? 'block' : 'none';\n",
              "\n",
              "        async function convertToInteractive(key) {\n",
              "          const element = document.querySelector('#df-300cf306-75cb-4700-b48c-a50bf55da8e6');\n",
              "          const dataTable =\n",
              "            await google.colab.kernel.invokeFunction('convertToInteractive',\n",
              "                                                     [key], {});\n",
              "          if (!dataTable) return;\n",
              "\n",
              "          const docLinkHtml = 'Like what you see? Visit the ' +\n",
              "            '<a target=\"_blank\" href=https://colab.research.google.com/notebooks/data_table.ipynb>data table notebook</a>'\n",
              "            + ' to learn more about interactive tables.';\n",
              "          element.innerHTML = '';\n",
              "          dataTable['output_type'] = 'display_data';\n",
              "          await google.colab.output.renderOutput(dataTable, element);\n",
              "          const docLink = document.createElement('div');\n",
              "          docLink.innerHTML = docLinkHtml;\n",
              "          element.appendChild(docLink);\n",
              "        }\n",
              "      </script>\n",
              "    </div>\n",
              "  </div>\n",
              "  "
            ]
          },
          "metadata": {},
          "execution_count": 18
        }
      ],
      "source": [
        "avaliacao.head()"
      ]
    },
    {
      "cell_type": "code",
      "execution_count": 19,
      "metadata": {
        "colab": {
          "base_uri": "https://localhost:8080/"
        },
        "id": "EqZsyzwgjkAN",
        "outputId": "5af1ebdf-80e3-4a1e-d711-f84ceee783b6"
      },
      "outputs": [
        {
          "output_type": "execute_result",
          "data": {
            "text/plain": [
              "(11078167, 4)"
            ]
          },
          "metadata": {},
          "execution_count": 19
        }
      ],
      "source": [
        "avaliacao.shape"
      ]
    },
    {
      "cell_type": "code",
      "execution_count": 20,
      "metadata": {
        "colab": {
          "base_uri": "https://localhost:8080/"
        },
        "id": "Z0q2X3V8fxul",
        "outputId": "370d438a-225b-43b8-c6ea-6d2320123a06"
      },
      "outputs": [
        {
          "output_type": "execute_result",
          "data": {
            "text/plain": [
              "Index(['_id', 'movie_id', 'rating_val', 'user_id'], dtype='object')"
            ]
          },
          "metadata": {},
          "execution_count": 20
        }
      ],
      "source": [
        "avaliacao.columns"
      ]
    },
    {
      "cell_type": "code",
      "execution_count": 21,
      "metadata": {
        "colab": {
          "base_uri": "https://localhost:8080/"
        },
        "id": "fLARWC746Cfh",
        "outputId": "b5e999af-128c-4a42-a75f-f8ebdb56d502"
      },
      "outputs": [
        {
          "output_type": "execute_result",
          "data": {
            "text/plain": [
              "_id           0\n",
              "movie_id      6\n",
              "rating_val    0\n",
              "user_id       0\n",
              "dtype: int64"
            ]
          },
          "metadata": {},
          "execution_count": 21
        }
      ],
      "source": [
        "avaliacao.isnull().sum()"
      ]
    },
    {
      "cell_type": "code",
      "source": [
        "avaliacao = avaliacao.dropna(subset = ['movie_id'])"
      ],
      "metadata": {
        "id": "sCRoxYZwckwp"
      },
      "execution_count": 22,
      "outputs": []
    },
    {
      "cell_type": "markdown",
      "metadata": {
        "id": "g6D4T0z9CyyJ"
      },
      "source": [
        "## Manipulação dos dados"
      ]
    },
    {
      "cell_type": "markdown",
      "metadata": {
        "id": "66O-9xnEGqG5"
      },
      "source": [
        "plotar graficos sobre: número médio de reviews, generos, tempo medio dos filmes, pais de produção."
      ]
    },
    {
      "cell_type": "code",
      "execution_count": 23,
      "metadata": {
        "id": "_GKdm903Ihnu"
      },
      "outputs": [],
      "source": [
        "avaliacao = avaliacao.rename(columns={'user_id': 'username'})"
      ]
    },
    {
      "cell_type": "code",
      "execution_count": 24,
      "metadata": {
        "colab": {
          "base_uri": "https://localhost:8080/",
          "height": 312
        },
        "id": "MaxmbA9ACx0a",
        "outputId": "e8a240ea-a3c7-4ca0-f15e-64cac94b809c"
      },
      "outputs": [
        {
          "output_type": "execute_result",
          "data": {
            "text/plain": [
              "                      _id_x    username                     _id_y movie_id  \\\n",
              "0  5fc4172ec6cd28ebd99dd0e2  deathproof  5fc57c5c6758f69634519398     mank   \n",
              "1  5fc4172ec6cd28ebd99dd0ea  superpulse  5fc57cb26758f69634541441     mank   \n",
              "2  5fc4172ec6cd28ebd99dd0ee  ianamurray  5fd05004b89a841f5b220ee5     mank   \n",
              "\n",
              "   rating_val                       _id               genres  \\\n",
              "0           5  5fc884286758f69634f3ceca  [\"Drama\",\"History\"]   \n",
              "1           6  5fc884286758f69634f3ceca  [\"Drama\",\"History\"]   \n",
              "2           7  5fc884286758f69634f3ceca  [\"Drama\",\"History\"]   \n",
              "\n",
              "                                           image_url  \\\n",
              "0  film-poster/5/4/1/4/2/5/541425-mank-0-230-0-34...   \n",
              "1  film-poster/5/4/1/4/2/5/541425-mank-0-230-0-34...   \n",
              "2  film-poster/5/4/1/4/2/5/541425-mank-0-230-0-34...   \n",
              "\n",
              "                                          imdb_link movie_title  popularity  \\\n",
              "0  http://www.imdb.com/title/tt10618286/maindetails        Mank      16.331   \n",
              "1  http://www.imdb.com/title/tt10618286/maindetails        Mank      16.331   \n",
              "2  http://www.imdb.com/title/tt10618286/maindetails        Mank      16.331   \n",
              "\n",
              "           production_countries  vote_average  vote_count  year_released  \n",
              "0  [\"United States of America\"]           6.9      1077.0         2020.0  \n",
              "1  [\"United States of America\"]           6.9      1077.0         2020.0  \n",
              "2  [\"United States of America\"]           6.9      1077.0         2020.0  "
            ],
            "text/html": [
              "\n",
              "  <div id=\"df-00afc0f7-9e42-41f8-864a-18aec41439a4\">\n",
              "    <div class=\"colab-df-container\">\n",
              "      <div>\n",
              "<style scoped>\n",
              "    .dataframe tbody tr th:only-of-type {\n",
              "        vertical-align: middle;\n",
              "    }\n",
              "\n",
              "    .dataframe tbody tr th {\n",
              "        vertical-align: top;\n",
              "    }\n",
              "\n",
              "    .dataframe thead th {\n",
              "        text-align: right;\n",
              "    }\n",
              "</style>\n",
              "<table border=\"1\" class=\"dataframe\">\n",
              "  <thead>\n",
              "    <tr style=\"text-align: right;\">\n",
              "      <th></th>\n",
              "      <th>_id_x</th>\n",
              "      <th>username</th>\n",
              "      <th>_id_y</th>\n",
              "      <th>movie_id</th>\n",
              "      <th>rating_val</th>\n",
              "      <th>_id</th>\n",
              "      <th>genres</th>\n",
              "      <th>image_url</th>\n",
              "      <th>imdb_link</th>\n",
              "      <th>movie_title</th>\n",
              "      <th>popularity</th>\n",
              "      <th>production_countries</th>\n",
              "      <th>vote_average</th>\n",
              "      <th>vote_count</th>\n",
              "      <th>year_released</th>\n",
              "    </tr>\n",
              "  </thead>\n",
              "  <tbody>\n",
              "    <tr>\n",
              "      <th>0</th>\n",
              "      <td>5fc4172ec6cd28ebd99dd0e2</td>\n",
              "      <td>deathproof</td>\n",
              "      <td>5fc57c5c6758f69634519398</td>\n",
              "      <td>mank</td>\n",
              "      <td>5</td>\n",
              "      <td>5fc884286758f69634f3ceca</td>\n",
              "      <td>[\"Drama\",\"History\"]</td>\n",
              "      <td>film-poster/5/4/1/4/2/5/541425-mank-0-230-0-34...</td>\n",
              "      <td>http://www.imdb.com/title/tt10618286/maindetails</td>\n",
              "      <td>Mank</td>\n",
              "      <td>16.331</td>\n",
              "      <td>[\"United States of America\"]</td>\n",
              "      <td>6.9</td>\n",
              "      <td>1077.0</td>\n",
              "      <td>2020.0</td>\n",
              "    </tr>\n",
              "    <tr>\n",
              "      <th>1</th>\n",
              "      <td>5fc4172ec6cd28ebd99dd0ea</td>\n",
              "      <td>superpulse</td>\n",
              "      <td>5fc57cb26758f69634541441</td>\n",
              "      <td>mank</td>\n",
              "      <td>6</td>\n",
              "      <td>5fc884286758f69634f3ceca</td>\n",
              "      <td>[\"Drama\",\"History\"]</td>\n",
              "      <td>film-poster/5/4/1/4/2/5/541425-mank-0-230-0-34...</td>\n",
              "      <td>http://www.imdb.com/title/tt10618286/maindetails</td>\n",
              "      <td>Mank</td>\n",
              "      <td>16.331</td>\n",
              "      <td>[\"United States of America\"]</td>\n",
              "      <td>6.9</td>\n",
              "      <td>1077.0</td>\n",
              "      <td>2020.0</td>\n",
              "    </tr>\n",
              "    <tr>\n",
              "      <th>2</th>\n",
              "      <td>5fc4172ec6cd28ebd99dd0ee</td>\n",
              "      <td>ianamurray</td>\n",
              "      <td>5fd05004b89a841f5b220ee5</td>\n",
              "      <td>mank</td>\n",
              "      <td>7</td>\n",
              "      <td>5fc884286758f69634f3ceca</td>\n",
              "      <td>[\"Drama\",\"History\"]</td>\n",
              "      <td>film-poster/5/4/1/4/2/5/541425-mank-0-230-0-34...</td>\n",
              "      <td>http://www.imdb.com/title/tt10618286/maindetails</td>\n",
              "      <td>Mank</td>\n",
              "      <td>16.331</td>\n",
              "      <td>[\"United States of America\"]</td>\n",
              "      <td>6.9</td>\n",
              "      <td>1077.0</td>\n",
              "      <td>2020.0</td>\n",
              "    </tr>\n",
              "  </tbody>\n",
              "</table>\n",
              "</div>\n",
              "      <button class=\"colab-df-convert\" onclick=\"convertToInteractive('df-00afc0f7-9e42-41f8-864a-18aec41439a4')\"\n",
              "              title=\"Convert this dataframe to an interactive table.\"\n",
              "              style=\"display:none;\">\n",
              "        \n",
              "  <svg xmlns=\"http://www.w3.org/2000/svg\" height=\"24px\"viewBox=\"0 0 24 24\"\n",
              "       width=\"24px\">\n",
              "    <path d=\"M0 0h24v24H0V0z\" fill=\"none\"/>\n",
              "    <path d=\"M18.56 5.44l.94 2.06.94-2.06 2.06-.94-2.06-.94-.94-2.06-.94 2.06-2.06.94zm-11 1L8.5 8.5l.94-2.06 2.06-.94-2.06-.94L8.5 2.5l-.94 2.06-2.06.94zm10 10l.94 2.06.94-2.06 2.06-.94-2.06-.94-.94-2.06-.94 2.06-2.06.94z\"/><path d=\"M17.41 7.96l-1.37-1.37c-.4-.4-.92-.59-1.43-.59-.52 0-1.04.2-1.43.59L10.3 9.45l-7.72 7.72c-.78.78-.78 2.05 0 2.83L4 21.41c.39.39.9.59 1.41.59.51 0 1.02-.2 1.41-.59l7.78-7.78 2.81-2.81c.8-.78.8-2.07 0-2.86zM5.41 20L4 18.59l7.72-7.72 1.47 1.35L5.41 20z\"/>\n",
              "  </svg>\n",
              "      </button>\n",
              "      \n",
              "  <style>\n",
              "    .colab-df-container {\n",
              "      display:flex;\n",
              "      flex-wrap:wrap;\n",
              "      gap: 12px;\n",
              "    }\n",
              "\n",
              "    .colab-df-convert {\n",
              "      background-color: #E8F0FE;\n",
              "      border: none;\n",
              "      border-radius: 50%;\n",
              "      cursor: pointer;\n",
              "      display: none;\n",
              "      fill: #1967D2;\n",
              "      height: 32px;\n",
              "      padding: 0 0 0 0;\n",
              "      width: 32px;\n",
              "    }\n",
              "\n",
              "    .colab-df-convert:hover {\n",
              "      background-color: #E2EBFA;\n",
              "      box-shadow: 0px 1px 2px rgba(60, 64, 67, 0.3), 0px 1px 3px 1px rgba(60, 64, 67, 0.15);\n",
              "      fill: #174EA6;\n",
              "    }\n",
              "\n",
              "    [theme=dark] .colab-df-convert {\n",
              "      background-color: #3B4455;\n",
              "      fill: #D2E3FC;\n",
              "    }\n",
              "\n",
              "    [theme=dark] .colab-df-convert:hover {\n",
              "      background-color: #434B5C;\n",
              "      box-shadow: 0px 1px 3px 1px rgba(0, 0, 0, 0.15);\n",
              "      filter: drop-shadow(0px 1px 2px rgba(0, 0, 0, 0.3));\n",
              "      fill: #FFFFFF;\n",
              "    }\n",
              "  </style>\n",
              "\n",
              "      <script>\n",
              "        const buttonEl =\n",
              "          document.querySelector('#df-00afc0f7-9e42-41f8-864a-18aec41439a4 button.colab-df-convert');\n",
              "        buttonEl.style.display =\n",
              "          google.colab.kernel.accessAllowed ? 'block' : 'none';\n",
              "\n",
              "        async function convertToInteractive(key) {\n",
              "          const element = document.querySelector('#df-00afc0f7-9e42-41f8-864a-18aec41439a4');\n",
              "          const dataTable =\n",
              "            await google.colab.kernel.invokeFunction('convertToInteractive',\n",
              "                                                     [key], {});\n",
              "          if (!dataTable) return;\n",
              "\n",
              "          const docLinkHtml = 'Like what you see? Visit the ' +\n",
              "            '<a target=\"_blank\" href=https://colab.research.google.com/notebooks/data_table.ipynb>data table notebook</a>'\n",
              "            + ' to learn more about interactive tables.';\n",
              "          element.innerHTML = '';\n",
              "          dataTable['output_type'] = 'display_data';\n",
              "          await google.colab.output.renderOutput(dataTable, element);\n",
              "          const docLink = document.createElement('div');\n",
              "          docLink.innerHTML = docLinkHtml;\n",
              "          element.appendChild(docLink);\n",
              "        }\n",
              "      </script>\n",
              "    </div>\n",
              "  </div>\n",
              "  "
            ]
          },
          "metadata": {},
          "execution_count": 24
        }
      ],
      "source": [
        "tabela = pd.merge(usuario, avaliacao, on = 'username', how = 'inner')\n",
        "tabela = pd.merge(tabela, dados_filmes, on = 'movie_id', how = 'inner')\n",
        "tabela.head(3)"
      ]
    },
    {
      "cell_type": "markdown",
      "source": [
        "Quando as tabelas foram unidas com o Merge, o ID de cada uma ficou confuso, então é necessário renomear cada um:"
      ],
      "metadata": {
        "id": "lUXim1cOiHor"
      }
    },
    {
      "cell_type": "code",
      "source": [
        "tabela = tabela.rename(columns={'_id_x': 'id_usuario','_id': 'id_filme','_id_y': 'id_avaliacao'})"
      ],
      "metadata": {
        "id": "7ovt2Mk9gnRa"
      },
      "execution_count": 25,
      "outputs": []
    },
    {
      "cell_type": "code",
      "source": [
        "tabela.columns"
      ],
      "metadata": {
        "colab": {
          "base_uri": "https://localhost:8080/"
        },
        "id": "E9LC7UwHnJHi",
        "outputId": "27657dfd-a65e-4423-ddb2-ce667e74c558"
      },
      "execution_count": 26,
      "outputs": [
        {
          "output_type": "execute_result",
          "data": {
            "text/plain": [
              "Index(['id_usuario', 'username', 'id_avaliacao', 'movie_id', 'rating_val',\n",
              "       'id_filme', 'genres', 'image_url', 'imdb_link', 'movie_title',\n",
              "       'popularity', 'production_countries', 'vote_average', 'vote_count',\n",
              "       'year_released'],\n",
              "      dtype='object')"
            ]
          },
          "metadata": {},
          "execution_count": 26
        }
      ]
    },
    {
      "cell_type": "code",
      "source": [
        "tabela.shape"
      ],
      "metadata": {
        "colab": {
          "base_uri": "https://localhost:8080/"
        },
        "id": "hBzQW0TK3vPD",
        "outputId": "7b73c858-8415-40d0-f9ac-ec5a61a35a98"
      },
      "execution_count": 27,
      "outputs": [
        {
          "output_type": "execute_result",
          "data": {
            "text/plain": [
              "(1910127, 15)"
            ]
          },
          "metadata": {},
          "execution_count": 27
        }
      ]
    },
    {
      "cell_type": "code",
      "source": [
        "tabela.isna().sum()"
      ],
      "metadata": {
        "colab": {
          "base_uri": "https://localhost:8080/"
        },
        "id": "5uvfaEmujiMS",
        "outputId": "d7871a1c-1880-43d3-8926-7070a85f3c4f"
      },
      "execution_count": 28,
      "outputs": [
        {
          "output_type": "execute_result",
          "data": {
            "text/plain": [
              "id_usuario              0\n",
              "username                0\n",
              "id_avaliacao            0\n",
              "movie_id                0\n",
              "rating_val              0\n",
              "id_filme                0\n",
              "genres                  0\n",
              "image_url               0\n",
              "imdb_link               0\n",
              "movie_title             0\n",
              "popularity              0\n",
              "production_countries    0\n",
              "vote_average            0\n",
              "vote_count              0\n",
              "year_released           0\n",
              "dtype: int64"
            ]
          },
          "metadata": {},
          "execution_count": 28
        }
      ]
    },
    {
      "cell_type": "code",
      "source": [
        "#tabela = tabela.dropna(subset= ['genres', 'popularity', 'vote_average', 'year_released', 'vote_count','display_name', 'num_ratings_pages', 'image_url', 'imdb_id', 'imdb_link', 'overview', 'release_date', 'runtime'])"
      ],
      "metadata": {
        "id": "KnID1Y6dp3JK"
      },
      "execution_count": 29,
      "outputs": []
    },
    {
      "cell_type": "code",
      "source": [
        "#tabela = tabela.drop(tabela[tabela.popularity < 9].index)\n",
        "#tabela = tabela.drop(tabela[tabela.vote_count < 1000].index)\n",
        "#tabela = tabela.drop(tabela[tabela.num_reviews < 1000].index)\n",
        "#tabela = tabela.drop(tabela[tabela.runtime < 50].index)\n",
        "#tabela = tabela.drop(tabela[tabela.year_released < 1940].index)"
      ],
      "metadata": {
        "id": "Fpa61-ZaMs0A"
      },
      "execution_count": 30,
      "outputs": []
    },
    {
      "cell_type": "code",
      "source": [
        "#tabela = tabela.drop(columns= ['display_name', 'num_ratings_pages', 'num_reviews', 'movie_id', 'imdb_id', 'original_language', 'overview', 'release_date', 'runtime', 'spoken_languages', 'tmdb_id', 'tmdb_link', 'vote_count',])"
      ],
      "metadata": {
        "id": "5X56jqZFBqcp"
      },
      "execution_count": 31,
      "outputs": []
    },
    {
      "cell_type": "markdown",
      "source": [
        "Escolhendo cada tributo da tabela que iremos utilizar no treinamento e transformando em um vetor para melhor manipulação dos dados"
      ],
      "metadata": {
        "id": "bslPr3JIzd36"
      }
    },
    {
      "cell_type": "code",
      "source": [
        "df = pd.DataFrame() # Criando um data frame vazio"
      ],
      "metadata": {
        "id": "8V25iwpD2eya"
      },
      "execution_count": 32,
      "outputs": []
    },
    {
      "cell_type": "markdown",
      "source": [
        "As variáveis que consideramos interessantes para avaliar são: 'id_usuario', 'username', 'rating_val', 'id_filme', 'genres', 'movie_title', 'popularity', 'production_countries', 'vote_average', 'year_released'."
      ],
      "metadata": {
        "id": "dn8za0bgfYWk"
      }
    },
    {
      "cell_type": "code",
      "source": [
        "vetor_id_usuario = np.array(tabela.id_usuario)\n",
        "vetor_username = np.array(tabela.username)\n",
        "vetor_rating_val = np.array(tabela.rating_val)\n",
        "vetor_id_filme = np.array(tabela.id_filme)\n",
        "vetor_genres = np.array(tabela.genres)\n",
        "vetor_movie_title = np.array(tabela.movie_title)\n",
        "vetor_popularity = np.array(tabela.popularity)\n",
        "vetor_production_countries = np.array(tabela.production_countries)\n",
        "vetor_vote_average = np.array(tabela.vote_average)\n",
        "vetor_year_released = np.array(tabela.year_released)"
      ],
      "metadata": {
        "id": "o7yoFmnKx-OT"
      },
      "execution_count": 33,
      "outputs": []
    },
    {
      "cell_type": "code",
      "source": [
        "Colunas =['ID_usuario','Username','Nota_usuario','ID_Filme','Generos','Nome_Filme','Popularidade','País_Produzido', 'Nota_Media', 'Ano_lançamento']"
      ],
      "metadata": {
        "id": "e1qyBIaXzeji"
      },
      "execution_count": 34,
      "outputs": []
    },
    {
      "cell_type": "code",
      "source": [
        "df = pd.DataFrame(columns = Colunas)\n",
        "\n",
        "df.ID_usuario = vetor_id_usuario\n",
        "df.Username = vetor_username\n",
        "df.Nota_usuario = vetor_rating_val\n",
        "df.ID_Filme = vetor_id_filme\n",
        "df.Generos = vetor_genres\n",
        "df.Nome_Filme = vetor_movie_title\n",
        "df.Popularidade = vetor_popularity\n",
        "df.País_Produzido = vetor_production_countries\n",
        "df.Nota_Media = vetor_vote_average\n",
        "df.Ano_lançamento = vetor_year_released"
      ],
      "metadata": {
        "id": "VWjpRbSI5Cii"
      },
      "execution_count": 35,
      "outputs": []
    },
    {
      "cell_type": "code",
      "source": [
        "def classificar_nota(nota):\n",
        "  if nota >= 7:\n",
        "    return 1\n",
        "  else:\n",
        "    return 0\n",
        "df['Nota_classificada'] = df['Nota_usuario'].apply(classificar_nota)\n",
        "print(df)"
      ],
      "metadata": {
        "id": "52djs0iH2BL-",
        "outputId": "b4106d8e-5399-4d17-a178-bd5466ccf799",
        "colab": {
          "base_uri": "https://localhost:8080/"
        }
      },
      "execution_count": 36,
      "outputs": [
        {
          "output_type": "stream",
          "name": "stdout",
          "text": [
            "                       ID_usuario         Username  Nota_usuario  \\\n",
            "0        5fc4172ec6cd28ebd99dd0e2       deathproof             5   \n",
            "1        5fc4172ec6cd28ebd99dd0ea       superpulse             6   \n",
            "2        5fc4172ec6cd28ebd99dd0ee       ianamurray             7   \n",
            "3        5fc419171ebf67b9fbe48615  punchdrunklizzy             5   \n",
            "4        5fc4172ec6cd28ebd99dd0e8  colonelmortimer             5   \n",
            "...                           ...              ...           ...   \n",
            "1910122  5fce98651b4f187382e10547   jacdeswilliams             5   \n",
            "1910123  5fce986d1b4f187382e109ef   smarmyjerkface             7   \n",
            "1910124  5fce98ad1b4f187382e111b6       alluneedis             8   \n",
            "1910125  600c613fba1595b36799aa82         maneleeo             3   \n",
            "1910126  608811e528f29d0115de2b83     hbarletto242             3   \n",
            "\n",
            "                         ID_Filme                                   Generos  \\\n",
            "0        5fc884286758f69634f3ceca                       [\"Drama\",\"History\"]   \n",
            "1        5fc884286758f69634f3ceca                       [\"Drama\",\"History\"]   \n",
            "2        5fc884286758f69634f3ceca                       [\"Drama\",\"History\"]   \n",
            "3        5fc884286758f69634f3ceca                       [\"Drama\",\"History\"]   \n",
            "4        5fc884286758f69634f3ceca                       [\"Drama\",\"History\"]   \n",
            "...                           ...                                       ...   \n",
            "1910122  600ca798ba1595b3679ee4af                    [\"Animation\",\"Family\"]   \n",
            "1910123  5fc86fcd6758f69634908337  [\"Science Fiction\",\"Action\",\"Adventure\"]   \n",
            "1910124  5fc86fcd6758f69634908337  [\"Science Fiction\",\"Action\",\"Adventure\"]   \n",
            "1910125  5fc885b86758f69634f9a370                                [\"Comedy\"]   \n",
            "1910126  60888d9b28f29d0115ea7a2e                               [\"Romance\"]   \n",
            "\n",
            "                Nome_Filme  Popularidade  \\\n",
            "0                     Mank        16.331   \n",
            "1                     Mank        16.331   \n",
            "2                     Mank        16.331   \n",
            "3                     Mank        16.331   \n",
            "4                     Mank        16.331   \n",
            "...                    ...           ...   \n",
            "1910122           Fantasia        66.778   \n",
            "1910123           Superman        27.366   \n",
            "1910124           Superman        27.366   \n",
            "1910125      Babysitting 2        11.497   \n",
            "1910126  Gabriel's Inferno         9.646   \n",
            "\n",
            "                                        País_Produzido  Nota_Media  \\\n",
            "0                         [\"United States of America\"]         6.9   \n",
            "1                         [\"United States of America\"]         6.9   \n",
            "2                         [\"United States of America\"]         6.9   \n",
            "3                         [\"United States of America\"]         6.9   \n",
            "4                         [\"United States of America\"]         6.9   \n",
            "...                                                ...         ...   \n",
            "1910122                   [\"United States of America\"]         7.4   \n",
            "1910123  [\"United Kingdom\",\"United States of America\"]         7.1   \n",
            "1910124  [\"United Kingdom\",\"United States of America\"]         7.1   \n",
            "1910125                                     [\"France\"]         6.4   \n",
            "1910126                   [\"United States of America\"]         8.6   \n",
            "\n",
            "         Ano_lançamento  Nota_classificada  \n",
            "0                2020.0                  0  \n",
            "1                2020.0                  0  \n",
            "2                2020.0                  1  \n",
            "3                2020.0                  0  \n",
            "4                2020.0                  0  \n",
            "...                 ...                ...  \n",
            "1910122          1940.0                  0  \n",
            "1910123          1978.0                  1  \n",
            "1910124          1978.0                  1  \n",
            "1910125          2015.0                  0  \n",
            "1910126          2020.0                  0  \n",
            "\n",
            "[1910127 rows x 11 columns]\n"
          ]
        }
      ]
    },
    {
      "cell_type": "code",
      "source": [
        "df.info()"
      ],
      "metadata": {
        "colab": {
          "base_uri": "https://localhost:8080/"
        },
        "id": "gbt8CZtWgYPd",
        "outputId": "39b5c61b-f2fb-4341-e3b6-ec6221466553"
      },
      "execution_count": 37,
      "outputs": [
        {
          "output_type": "stream",
          "name": "stdout",
          "text": [
            "<class 'pandas.core.frame.DataFrame'>\n",
            "RangeIndex: 1910127 entries, 0 to 1910126\n",
            "Data columns (total 11 columns):\n",
            " #   Column             Dtype  \n",
            "---  ------             -----  \n",
            " 0   ID_usuario         object \n",
            " 1   Username           object \n",
            " 2   Nota_usuario       int64  \n",
            " 3   ID_Filme           object \n",
            " 4   Generos            object \n",
            " 5   Nome_Filme         object \n",
            " 6   Popularidade       float64\n",
            " 7   País_Produzido     object \n",
            " 8   Nota_Media         float64\n",
            " 9   Ano_lançamento     float64\n",
            " 10  Nota_classificada  int64  \n",
            "dtypes: float64(3), int64(2), object(6)\n",
            "memory usage: 160.3+ MB\n"
          ]
        }
      ]
    },
    {
      "cell_type": "markdown",
      "source": [
        "ID_usuario, Username, ID_Filme, Genero, Nome_filme, País_Produzido são objetos, e precisam ser convertidos para números."
      ],
      "metadata": {
        "id": "mDpRdV8mlFir"
      }
    },
    {
      "cell_type": "code",
      "source": [
        "from sklearn.tree import DecisionTreeClassifier, export_graphviz\n",
        "from sklearn.model_selection import train_test_split\n",
        "from sklearn import metrics\n",
        "from sklearn.preprocessing import LabelEncoder"
      ],
      "metadata": {
        "id": "Z7wIGkabgI9u"
      },
      "execution_count": 38,
      "outputs": []
    },
    {
      "cell_type": "markdown",
      "source": [
        "Removendo os elemento não numéricos:"
      ],
      "metadata": {
        "id": "mE4_RSw5gmg2"
      }
    },
    {
      "cell_type": "code",
      "source": [
        "df['ID_Filme'] = df['ID_Filme'].str.replace(r'\\D', '')\n",
        "df['ID_usuario'] = df['ID_usuario'].str.replace(r'\\D', '')"
      ],
      "metadata": {
        "id": "I91aYwERgK_1",
        "colab": {
          "base_uri": "https://localhost:8080/"
        },
        "outputId": "45db1199-8a4d-4e60-94c9-5893d146b363"
      },
      "execution_count": 39,
      "outputs": [
        {
          "output_type": "stream",
          "name": "stderr",
          "text": [
            "<ipython-input-39-35bc5663e369>:1: FutureWarning: The default value of regex will change from True to False in a future version.\n",
            "  df['ID_Filme'] = df['ID_Filme'].str.replace(r'\\D', '')\n",
            "<ipython-input-39-35bc5663e369>:2: FutureWarning: The default value of regex will change from True to False in a future version.\n",
            "  df['ID_usuario'] = df['ID_usuario'].str.replace(r'\\D', '')\n"
          ]
        }
      ]
    },
    {
      "cell_type": "code",
      "source": [
        "le = LabelEncoder()"
      ],
      "metadata": {
        "id": "1XIR62Rwh6Nu"
      },
      "execution_count": 40,
      "outputs": []
    },
    {
      "cell_type": "code",
      "source": [
        "df['Generos'] = le.fit_transform(df['Generos'])\n",
        "df['Username'] = le.fit_transform(df['Username'])\n",
        "df['País_Produzido'] = le.fit_transform(df['País_Produzido'])"
      ],
      "metadata": {
        "id": "UrEP8blgiCvN"
      },
      "execution_count": 41,
      "outputs": []
    },
    {
      "cell_type": "markdown",
      "source": [
        "Criando uma função para avaliar se o usuário gostou ou não do filme de acordo com a nota de avaliação."
      ],
      "metadata": {
        "id": "CTqVUi0r2bWe"
      }
    },
    {
      "cell_type": "markdown",
      "source": [
        "## Iniciando a árvore de decisão"
      ],
      "metadata": {
        "id": "ljZFjaJx89PR"
      }
    },
    {
      "cell_type": "code",
      "source": [
        "amostra = df.sample(frac = 0.40)"
      ],
      "metadata": {
        "id": "Y4CsTWlGoqYN"
      },
      "execution_count": 42,
      "outputs": []
    },
    {
      "cell_type": "code",
      "source": [
        "from sklearn.tree import DecisionTreeClassifier\n",
        "\n",
        "model = DecisionTreeClassifier()"
      ],
      "metadata": {
        "id": "-5bWZpp47SrM"
      },
      "execution_count": 43,
      "outputs": []
    },
    {
      "cell_type": "code",
      "source": [
        "X = amostra[['ID_usuario','Username','Nota_usuario','Nota_classificada','ID_Filme','Generos','Popularidade','País_Produzido', 'Nota_Media', 'Ano_lançamento']]\n",
        "y = amostra['Nota_classificada']"
      ],
      "metadata": {
        "id": "k7InBdb79D4p"
      },
      "execution_count": 44,
      "outputs": []
    },
    {
      "cell_type": "code",
      "source": [
        "X_train, X_test, y_train, y_test = train_test_split(X, y, test_size=0.25)"
      ],
      "metadata": {
        "id": "3ulkURMC87UR"
      },
      "execution_count": 45,
      "outputs": []
    },
    {
      "cell_type": "code",
      "source": [
        "model.fit(X_train, y_train)"
      ],
      "metadata": {
        "colab": {
          "base_uri": "https://localhost:8080/"
        },
        "id": "_tHkzh5D9Hgo",
        "outputId": "17ce2015-1100-4256-91d7-d33edb17a01a"
      },
      "execution_count": 46,
      "outputs": [
        {
          "output_type": "execute_result",
          "data": {
            "text/plain": [
              "DecisionTreeClassifier()"
            ]
          },
          "metadata": {},
          "execution_count": 46
        }
      ]
    },
    {
      "cell_type": "code",
      "source": [
        "from sklearn.metrics import accuracy_score"
      ],
      "metadata": {
        "id": "VOtmI5GebH3N"
      },
      "execution_count": 47,
      "outputs": []
    },
    {
      "cell_type": "code",
      "source": [
        "y_pred = model.predict(X_test)"
      ],
      "metadata": {
        "id": "JES0vipwkzPN"
      },
      "execution_count": 48,
      "outputs": []
    },
    {
      "cell_type": "code",
      "source": [
        "accuracy = accuracy_score(y_test, y_pred)\n",
        "\n",
        "print(f'Precisão: {accuracy:.2f}')"
      ],
      "metadata": {
        "colab": {
          "base_uri": "https://localhost:8080/"
        },
        "id": "cdF1yYEAkzGt",
        "outputId": "7fe34967-a2ad-4f20-bc6a-0883a10d87b8"
      },
      "execution_count": 49,
      "outputs": [
        {
          "output_type": "stream",
          "name": "stdout",
          "text": [
            "Precisão: 1.00\n"
          ]
        }
      ]
    },
    {
      "cell_type": "code",
      "source": [
        "from sklearn import metrics\n",
        "print(metrics.classification_report(y_test,y_pred))"
      ],
      "metadata": {
        "colab": {
          "base_uri": "https://localhost:8080/"
        },
        "id": "tma9C1JVqS48",
        "outputId": "58730b79-5104-4adf-f5d6-b290d01b4216"
      },
      "execution_count": 50,
      "outputs": [
        {
          "output_type": "stream",
          "name": "stdout",
          "text": [
            "              precision    recall  f1-score   support\n",
            "\n",
            "           0       1.00      1.00      1.00     85442\n",
            "           1       1.00      1.00      1.00    105571\n",
            "\n",
            "    accuracy                           1.00    191013\n",
            "   macro avg       1.00      1.00      1.00    191013\n",
            "weighted avg       1.00      1.00      1.00    191013\n",
            "\n"
          ]
        }
      ]
    }
  ],
  "metadata": {
    "colab": {
      "collapsed_sections": [
        "Fs28YXvlkMR1",
        "LVeuGn8WkYmE",
        "rzUjvuQqkd-0"
      ],
      "provenance": [],
      "include_colab_link": true
    },
    "kernelspec": {
      "display_name": "Python 3",
      "name": "python3"
    },
    "language_info": {
      "name": "python"
    },
    "gpuClass": "standard"
  },
  "nbformat": 4,
  "nbformat_minor": 0
}