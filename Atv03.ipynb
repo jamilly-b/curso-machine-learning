{
  "nbformat": 4,
  "nbformat_minor": 0,
  "metadata": {
    "colab": {
      "provenance": [],
      "authorship_tag": "ABX9TyPZTqoc5N+Teu03A0ApuI48",
      "include_colab_link": true
    },
    "kernelspec": {
      "name": "python3",
      "display_name": "Python 3"
    },
    "language_info": {
      "name": "python"
    }
  },
  "cells": [
    {
      "cell_type": "markdown",
      "metadata": {
        "id": "view-in-github",
        "colab_type": "text"
      },
      "source": [
        "<a href=\"https://colab.research.google.com/github/jmlly/curso-machine-learning/blob/main/Atv03.ipynb\" target=\"_parent\"><img src=\"https://colab.research.google.com/assets/colab-badge.svg\" alt=\"Open In Colab\"/></a>"
      ]
    },
    {
      "cell_type": "markdown",
      "source": [
        "Atividade 3"
      ],
      "metadata": {
        "id": "QA7W272vTeFC"
      }
    },
    {
      "cell_type": "markdown",
      "source": [
        "Listas, Tuplas e dicionários"
      ],
      "metadata": {
        "id": "GWdcVGVaTmEY"
      }
    },
    {
      "cell_type": "markdown",
      "source": [
        "1."
      ],
      "metadata": {
        "id": "tfw07JOtTp5E"
      }
    },
    {
      "cell_type": "code",
      "source": [
        "palavras = [\"codigo\",\"linguagem\",\"web\"]\n",
        "numeros = [18,123]\n",
        "vazia = []\n",
        "lista_mista = [\"oi\", 2.0, 5*2, [10, 20]]"
      ],
      "metadata": {
        "id": "y_3nzTNKbSf7"
      },
      "execution_count": null,
      "outputs": []
    },
    {
      "cell_type": "code",
      "source": [
        "print(numeros) #imprimindo a lista\n",
        "print(lista_mista) #imprimindo a lista\n",
        "nova_lista = [numeros, palavras] #criando uma lista que contem duas listas\n",
        "print(nova_lista) #imprimindo a lista"
      ],
      "metadata": {
        "colab": {
          "base_uri": "https://localhost:8080/"
        },
        "id": "WEvn1IupbT-m",
        "outputId": "4e7fbf15-78af-434f-c9db-01f8e284a226"
      },
      "execution_count": null,
      "outputs": [
        {
          "output_type": "stream",
          "name": "stdout",
          "text": [
            "[18, 123]\n",
            "['oi', 2.0, 10, [10, 20]]\n",
            "[[18, 123], ['codigo', 'linguagem', 'web']]\n"
          ]
        }
      ]
    },
    {
      "cell_type": "markdown",
      "source": [
        "2."
      ],
      "metadata": {
        "id": "BQiHUEbOTtUG"
      }
    },
    {
      "cell_type": "code",
      "source": [
        "uma_lista = [\"oi\", 2.0, 5, [10, 20]]\n",
        "print(len(uma_lista)) #contando a quantidade de elementos da lista\n",
        "print(len(['spam!', 1, ['bolo', 'bolacha', 'biscoito'], [1, 2, 3]])) #contando a quantidade de elementos da lista"
      ],
      "metadata": {
        "colab": {
          "base_uri": "https://localhost:8080/"
        },
        "id": "FIu096jWdUVi",
        "outputId": "6d01c1d3-45a3-4b42-b153-aeaa7ecdc6ef"
      },
      "execution_count": null,
      "outputs": [
        {
          "output_type": "stream",
          "name": "stdout",
          "text": [
            "4\n",
            "4\n"
          ]
        }
      ]
    },
    {
      "cell_type": "markdown",
      "source": [
        "3."
      ],
      "metadata": {
        "id": "ESHvxMXqTvJq"
      }
    },
    {
      "cell_type": "code",
      "source": [
        "numeros = [18, 424, 86, 13, 66, 8338, 74]\n",
        "print(numeros[2]) #imprime o elemento que está na posição 2\n",
        "print(numeros[9-8]) #faz a subtração e imprime o que está na posição do resultado\n",
        "print(numeros[-2]) #inverte a ordem\n",
        "print(numeros[len(numeros)-1]) #imprime o ultimo numero"
      ],
      "metadata": {
        "colab": {
          "base_uri": "https://localhost:8080/"
        },
        "id": "UObh-wFrdf6x",
        "outputId": "a55dd9bd-8f47-4ea2-ad9f-247d1442cc40"
      },
      "execution_count": null,
      "outputs": [
        {
          "output_type": "stream",
          "name": "stdout",
          "text": [
            "86\n",
            "424\n",
            "8338\n",
            "74\n"
          ]
        }
      ]
    },
    {
      "cell_type": "markdown",
      "source": [
        "4."
      ],
      "metadata": {
        "id": "r_1WuGIGTw-t"
      }
    },
    {
      "cell_type": "code",
      "source": [
        "uma_lista = [3, 5, \"Cibele\", 3.14, False]\n",
        "print(len(uma_lista))"
      ],
      "metadata": {
        "colab": {
          "base_uri": "https://localhost:8080/"
        },
        "id": "hn6UgVqEeFzU",
        "outputId": "e740cda5-3ab5-47b5-bc9b-8d49ffb38ac7"
      },
      "execution_count": null,
      "outputs": [
        {
          "output_type": "stream",
          "name": "stdout",
          "text": [
            "5\n"
          ]
        }
      ]
    },
    {
      "cell_type": "markdown",
      "source": [
        "5."
      ],
      "metadata": {
        "id": "bG-rN9QkUESa"
      }
    },
    {
      "cell_type": "code",
      "source": [
        "uma_lista = [3, 5, \"Cibele\", [88, 99, \"Suely\"], [ ], 3.14, False]\n",
        "print(len(uma_lista)) #conta todos os elementos, cada lista vale apenas por um."
      ],
      "metadata": {
        "colab": {
          "base_uri": "https://localhost:8080/"
        },
        "id": "74sm1KMageMP",
        "outputId": "64322a45-b756-41b1-e66d-caefd5f2a808"
      },
      "execution_count": null,
      "outputs": [
        {
          "output_type": "stream",
          "name": "stdout",
          "text": [
            "7\n"
          ]
        }
      ]
    },
    {
      "cell_type": "markdown",
      "source": [
        "6."
      ],
      "metadata": {
        "id": "sqYbKmbgUHlb"
      }
    },
    {
      "cell_type": "code",
      "source": [
        "uma_lista = [3, 5, \"Cibele\", [88, 99, \"Suely\"], [ ], 3.14, False]\n",
        "print(uma_lista[5])"
      ],
      "metadata": {
        "colab": {
          "base_uri": "https://localhost:8080/"
        },
        "id": "iHPxSib7gkJi",
        "outputId": "d40dda7e-8155-43f2-bdcc-284387fa76d0"
      },
      "execution_count": null,
      "outputs": [
        {
          "output_type": "stream",
          "name": "stdout",
          "text": [
            "3.14\n"
          ]
        }
      ]
    },
    {
      "cell_type": "markdown",
      "source": [
        "7."
      ],
      "metadata": {
        "id": "CRoj7bd6UKH_"
      }
    },
    {
      "cell_type": "code",
      "source": [
        "uma_lista = [3, 5, \"Cibele\", [88, 99, \"Suely\"], [ ], 3.14, False]\n",
        "print(uma_lista[2].upper()) #coloca a string em letra maiuscula"
      ],
      "metadata": {
        "colab": {
          "base_uri": "https://localhost:8080/"
        },
        "id": "2V91p_Jjg4S4",
        "outputId": "38ca85d2-b85b-4dfc-dd9f-a1f9766a93e1"
      },
      "execution_count": null,
      "outputs": [
        {
          "output_type": "stream",
          "name": "stdout",
          "text": [
            "CIBELE\n"
          ]
        }
      ]
    },
    {
      "cell_type": "markdown",
      "source": [
        "8."
      ],
      "metadata": {
        "id": "2rNqt-5uUO4a"
      }
    },
    {
      "cell_type": "code",
      "source": [
        "uma_lista = [3, 5, \"Cibele\", [88, 99, \"Suely\"], [ ], 3.14, False]\n",
        "print(uma_lista[2][0]) #????"
      ],
      "metadata": {
        "colab": {
          "base_uri": "https://localhost:8080/"
        },
        "id": "h7-Sc-lRhDhi",
        "outputId": "bc5ff142-e7e8-4178-e225-1d42e873cae5"
      },
      "execution_count": null,
      "outputs": [
        {
          "output_type": "stream",
          "name": "stdout",
          "text": [
            "C\n"
          ]
        }
      ]
    },
    {
      "cell_type": "markdown",
      "source": [
        "9."
      ],
      "metadata": {
        "id": "rl5z2TIkUazh"
      }
    },
    {
      "cell_type": "code",
      "source": [
        "uma_lista = [3, 5, \"Cibele\", [88, 99, \"Suely\"], [ ], 3.14, False]\n",
        "print(3.14 in uma_lista) #verifica se o 3.14 faz parte da lista"
      ],
      "metadata": {
        "id": "ph8CpFt-heaU",
        "colab": {
          "base_uri": "https://localhost:8080/"
        },
        "outputId": "39618d98-c5c6-41df-f6f9-176801a7bebd"
      },
      "execution_count": 15,
      "outputs": [
        {
          "output_type": "stream",
          "name": "stdout",
          "text": [
            "True\n"
          ]
        }
      ]
    },
    {
      "cell_type": "markdown",
      "source": [
        "10."
      ],
      "metadata": {
        "id": "1Kx28VARUeN4"
      }
    },
    {
      "cell_type": "code",
      "source": [
        "uma_lista = [3, 5, \"Cibele\", [88, 99, \"Suely\"], [ ], 3.14, False]\n",
        "print(88 in uma_lista) #por estar dentro de outra lista, não é contado."
      ],
      "metadata": {
        "colab": {
          "base_uri": "https://localhost:8080/"
        },
        "id": "gkKKTIfQkYwU",
        "outputId": "571b4e98-cd48-4ceb-db50-9bb5f9d21e1b"
      },
      "execution_count": 16,
      "outputs": [
        {
          "output_type": "stream",
          "name": "stdout",
          "text": [
            "False\n"
          ]
        }
      ]
    },
    {
      "cell_type": "markdown",
      "source": [
        "11."
      ],
      "metadata": {
        "id": "PIHvfZoSUog4"
      }
    },
    {
      "cell_type": "code",
      "source": [
        "uma_lista = [1, 3, 5]\n",
        "outra_lista = [2, 4, 6]\n",
        "print(uma_lista + outra_lista) #junta as listas"
      ],
      "metadata": {
        "colab": {
          "base_uri": "https://localhost:8080/"
        },
        "id": "4K1xSggdkb9a",
        "outputId": "78390d90-490b-40fb-dce5-d79c986f06fb"
      },
      "execution_count": 17,
      "outputs": [
        {
          "output_type": "stream",
          "name": "stdout",
          "text": [
            "[1, 3, 5, 2, 4, 6]\n"
          ]
        }
      ]
    },
    {
      "cell_type": "markdown",
      "source": [
        "12."
      ],
      "metadata": {
        "id": "v3UJRVB4U2cZ"
      }
    },
    {
      "cell_type": "code",
      "source": [
        "uma_lista = [1, 3, 5]\n",
        "print(uma_lista * 3) #repete 3 vezes"
      ],
      "metadata": {
        "colab": {
          "base_uri": "https://localhost:8080/"
        },
        "id": "erETZpYzkrMB",
        "outputId": "4b081422-2a85-4df0-e924-e9a562eb652d"
      },
      "execution_count": 18,
      "outputs": [
        {
          "output_type": "stream",
          "name": "stdout",
          "text": [
            "[1, 3, 5, 1, 3, 5, 1, 3, 5]\n"
          ]
        }
      ]
    },
    {
      "cell_type": "markdown",
      "source": [
        "13."
      ],
      "metadata": {
        "id": "JTDLMeVLU6OO"
      }
    },
    {
      "cell_type": "code",
      "source": [
        "uma_lista = [3, 5, \"Cibele\", [88, 99, \"Suely\"], [ ], 3.14, False]\n",
        "print(uma_lista[4:]) #a partir do 4 elemento até o ultimo"
      ],
      "metadata": {
        "colab": {
          "base_uri": "https://localhost:8080/"
        },
        "id": "xxa3X4BBlIG9",
        "outputId": "444b619f-c0d3-4c7e-9eb7-5c09d8511d90"
      },
      "execution_count": 19,
      "outputs": [
        {
          "output_type": "stream",
          "name": "stdout",
          "text": [
            "[[], 3.14, False]\n"
          ]
        }
      ]
    },
    {
      "cell_type": "markdown",
      "source": [
        "14."
      ],
      "metadata": {
        "id": "uIC_qJ6dU7NL"
      }
    },
    {
      "cell_type": "code",
      "source": [
        "uma_lista = ['a', 'b', 'c', 'd', 'e', 'f']\n",
        "uma_lista[1:3] = ['x', 'y'] #substitui os elementos 1 e 2\n",
        "print(uma_lista)"
      ],
      "metadata": {
        "colab": {
          "base_uri": "https://localhost:8080/"
        },
        "id": "etCexMi6lYso",
        "outputId": "7abda7bb-5111-4ade-d6b5-ade5b64fe782"
      },
      "execution_count": 20,
      "outputs": [
        {
          "output_type": "stream",
          "name": "stdout",
          "text": [
            "['a', 'x', 'y', 'd', 'e', 'f']\n"
          ]
        }
      ]
    },
    {
      "cell_type": "markdown",
      "source": [
        "15."
      ],
      "metadata": {
        "id": "sh8T45FAU9LT"
      }
    },
    {
      "cell_type": "code",
      "source": [
        "uma_lista = ['a', 'b', 'c', 'd', 'e', 'f']\n",
        "uma_lista[1:3] = [] #substitui os elementos 1 e 2 pela lista vazia\n",
        "print(uma_lista)"
      ],
      "metadata": {
        "colab": {
          "base_uri": "https://localhost:8080/"
        },
        "id": "jArr8VCjl2XY",
        "outputId": "3a0bc8b7-21d5-4006-aeea-f935be4a1fc7"
      },
      "execution_count": 21,
      "outputs": [
        {
          "output_type": "stream",
          "name": "stdout",
          "text": [
            "['a', 'd', 'e', 'f']\n"
          ]
        }
      ]
    },
    {
      "cell_type": "markdown",
      "source": [
        "16."
      ],
      "metadata": {
        "id": "JuAIjgk1VBJe"
      }
    },
    {
      "cell_type": "code",
      "source": [
        "uma_lista = ['a', 'd', 'f']\n",
        "uma_lista[1:1] = ['b', 'c'] #adiciona esses elementos na posição 1\n",
        "print(uma_lista)\n",
        "uma_lista[4:4] = ['e'] #adiciona esses elementos na posição 4\n",
        "print(uma_lista) "
      ],
      "metadata": {
        "colab": {
          "base_uri": "https://localhost:8080/"
        },
        "id": "HIHYR1n9mJfQ",
        "outputId": "4f345fc3-c41e-4eef-f183-8c230430cc2a"
      },
      "execution_count": 23,
      "outputs": [
        {
          "output_type": "stream",
          "name": "stdout",
          "text": [
            "['a', 'b', 'c', 'd', 'f']\n",
            "['a', 'b', 'c', 'd', 'e', 'f']\n"
          ]
        }
      ]
    },
    {
      "cell_type": "markdown",
      "source": [
        "17."
      ],
      "metadata": {
        "id": "bSBGvM3aVGal"
      }
    },
    {
      "cell_type": "code",
      "source": [
        "uma_lista = [4, 1, 8, 6, 3]\n",
        "uma_lista[2] = True\n",
        "print(uma_lista)"
      ],
      "metadata": {
        "colab": {
          "base_uri": "https://localhost:8080/"
        },
        "id": "h3g5icgQn9v5",
        "outputId": "348c34ae-2de2-4acd-b55d-ce2a0496e854"
      },
      "execution_count": 24,
      "outputs": [
        {
          "output_type": "stream",
          "name": "stdout",
          "text": [
            "[4, 1, True, 6, 3]\n"
          ]
        }
      ]
    },
    {
      "cell_type": "markdown",
      "source": [
        "18."
      ],
      "metadata": {
        "id": "jvU20VJFVIQ1"
      }
    },
    {
      "cell_type": "code",
      "source": [
        "a = ['um', 'dois', 'três']\n",
        "del a[1] #deleta 'dois'\n",
        "print(a)\n",
        "lista = ['a', 'b', 'c', 'd', 'e', 'f'] \n",
        "del lista[1:5] #deleta de 1 ao 4\n",
        "print(lista)"
      ],
      "metadata": {
        "colab": {
          "base_uri": "https://localhost:8080/"
        },
        "id": "kPaMPAyGoAyl",
        "outputId": "5464d97e-f2c6-4b59-ab06-1a5e428363df"
      },
      "execution_count": 25,
      "outputs": [
        {
          "output_type": "stream",
          "name": "stdout",
          "text": [
            "['um', 'três']\n",
            "['a', 'f']\n"
          ]
        }
      ]
    },
    {
      "cell_type": "markdown",
      "source": [
        "19."
      ],
      "metadata": {
        "id": "yN4LJY_6VJX1"
      }
    },
    {
      "cell_type": "code",
      "source": [
        "lista_a = [4, 1, 8, 6, 3]\n",
        "lista_b = lista_a \n",
        "lista_b[3] = 22 #substitui o 6 por 22\n",
        "print(lista_a)"
      ],
      "metadata": {
        "colab": {
          "base_uri": "https://localhost:8080/"
        },
        "id": "5KmdoLQJpc1M",
        "outputId": "7a6ea429-b28e-448e-f470-a88ef6bdc9cd"
      },
      "execution_count": 26,
      "outputs": [
        {
          "output_type": "stream",
          "name": "stdout",
          "text": [
            "[4, 1, 8, 22, 3]\n"
          ]
        }
      ]
    },
    {
      "cell_type": "markdown",
      "source": [
        "20."
      ],
      "metadata": {
        "id": "W7Esq3p7VLRn"
      }
    },
    {
      "cell_type": "code",
      "source": [
        "lista_original = [5, 6, 7, 8] #repete os elementos da lista 3 vezes\n",
        "print(lista_original*3) "
      ],
      "metadata": {
        "colab": {
          "base_uri": "https://localhost:8080/"
        },
        "id": "Uc7lMVKQrIkA",
        "outputId": "eccecfed-d924-4ef2-8598-bf2149d32107"
      },
      "execution_count": 27,
      "outputs": [
        {
          "output_type": "stream",
          "name": "stdout",
          "text": [
            "[5, 6, 7, 8, 5, 6, 7, 8, 5, 6, 7, 8]\n"
          ]
        }
      ]
    },
    {
      "cell_type": "markdown",
      "source": [
        "21."
      ],
      "metadata": {
        "id": "LVpZLlaAVM6B"
      }
    },
    {
      "cell_type": "code",
      "source": [
        "lista_nova = [lista_original] * 3 #repete a lista 3 vezes\n",
        "print(lista_nova)"
      ],
      "metadata": {
        "colab": {
          "base_uri": "https://localhost:8080/"
        },
        "id": "ql42gQC8relV",
        "outputId": "e2752f75-fd8b-4b6e-890c-94cfef694285"
      },
      "execution_count": 28,
      "outputs": [
        {
          "output_type": "stream",
          "name": "stdout",
          "text": [
            "[[5, 6, 7, 8], [5, 6, 7, 8], [5, 6, 7, 8]]\n"
          ]
        }
      ]
    },
    {
      "cell_type": "markdown",
      "source": [
        "22."
      ],
      "metadata": {
        "id": "ca2Hgl6DVOjD"
      }
    },
    {
      "cell_type": "code",
      "source": [
        "lista_original = [5, 6, 7, 8]\n",
        "lista_nova = [lista_original] * 3\n",
        "print(lista_nova)\n",
        "lista_original[1] = 22 #substitui o 6 por 22 em cada vez que ele aparece na posição 1 da lista original\n",
        "print(lista_nova)"
      ],
      "metadata": {
        "colab": {
          "base_uri": "https://localhost:8080/"
        },
        "id": "4QE90u1trk7a",
        "outputId": "79c3bca1-d7f2-4218-bbff-dec271d664ca"
      },
      "execution_count": 29,
      "outputs": [
        {
          "output_type": "stream",
          "name": "stdout",
          "text": [
            "[[5, 6, 7, 8], [5, 6, 7, 8], [5, 6, 7, 8]]\n",
            "[[5, 22, 7, 8], [5, 22, 7, 8], [5, 22, 7, 8]]\n"
          ]
        }
      ]
    },
    {
      "cell_type": "markdown",
      "source": [
        "23."
      ],
      "metadata": {
        "id": "ZVOzHNeuVWuC"
      }
    },
    {
      "cell_type": "code",
      "source": [
        "lista_a = [4, 1, 8, 6, 3]\n",
        "lista_b = lista_a * 2 #repete a lista 2 vezes\n",
        "lista_b[3] = 35 #substitui o 6 por 35 na lista b\n",
        "print(lista_a) #não altera a lista a"
      ],
      "metadata": {
        "colab": {
          "base_uri": "https://localhost:8080/"
        },
        "id": "8qGDOFuesFPW",
        "outputId": "30fe5d1f-db92-423b-b635-9e2eb7a3232f"
      },
      "execution_count": 30,
      "outputs": [
        {
          "output_type": "stream",
          "name": "stdout",
          "text": [
            "[4, 1, 8, 6, 3]\n"
          ]
        }
      ]
    },
    {
      "cell_type": "markdown",
      "source": [
        "24."
      ],
      "metadata": {
        "id": "G8pcrXDNVYX7"
      }
    },
    {
      "cell_type": "code",
      "source": [
        "lista_a = [4, 1, 8, 6, 3]\n",
        "lista_b = [lista_a] * 2\n",
        "lista_a[3] = 35 #substitui o 6 por 35\n",
        "print(lista_b) #imprime já com a alteração "
      ],
      "metadata": {
        "colab": {
          "base_uri": "https://localhost:8080/"
        },
        "id": "9krGgBFdshXb",
        "outputId": "a4aeb560-d34c-44c2-cc14-9dae6513dc52"
      },
      "execution_count": 31,
      "outputs": [
        {
          "output_type": "stream",
          "name": "stdout",
          "text": [
            "[[4, 1, 8, 35, 3], [4, 1, 8, 35, 3]]\n"
          ]
        }
      ]
    },
    {
      "cell_type": "markdown",
      "source": [
        "25."
      ],
      "metadata": {
        "id": "2oOKXQpbCF1h"
      }
    },
    {
      "cell_type": "code",
      "source": [
        "uma_lista = [4, 1, 8, 6, 3]\n",
        "uma_lista.append(True) #.apende insere um valor na lista\n",
        "uma_lista.append(False) #.apende insere um valor na lista\n",
        "print(uma_lista)"
      ],
      "metadata": {
        "colab": {
          "base_uri": "https://localhost:8080/"
        },
        "id": "PVaXC48UtQ1Z",
        "outputId": "a2ef8ccd-aadd-408d-86fc-a8dd703e6237"
      },
      "execution_count": 32,
      "outputs": [
        {
          "output_type": "stream",
          "name": "stdout",
          "text": [
            "[4, 1, 8, 6, 3, True, False]\n"
          ]
        }
      ]
    },
    {
      "cell_type": "markdown",
      "source": [
        "26."
      ],
      "metadata": {
        "id": "VUpNbl1qCO-6"
      }
    },
    {
      "cell_type": "code",
      "source": [
        "uma_lista = [4, 1, 8, 6, 3]\n",
        "uma_lista.insert(2,True) #insere o valor na posição determinada\n",
        "uma_lista.insert(0,False)\n",
        "print(uma_lista)"
      ],
      "metadata": {
        "colab": {
          "base_uri": "https://localhost:8080/"
        },
        "id": "1DIuC5ZaB1PT",
        "outputId": "032e27b5-60c7-40b2-c9cd-879b1a915ff1"
      },
      "execution_count": 33,
      "outputs": [
        {
          "output_type": "stream",
          "name": "stdout",
          "text": [
            "[False, 4, 1, True, 8, 6, 3]\n"
          ]
        }
      ]
    },
    {
      "cell_type": "markdown",
      "source": [
        "27."
      ],
      "metadata": {
        "id": "UiCqAwXRCbeV"
      }
    },
    {
      "cell_type": "code",
      "source": [
        "uma_lista = [4, 1, 8, 6, 3]\n",
        "temp = uma_lista.pop(2) #remove o elemento no posição 2 (8)\n",
        "temp = uma_lista.pop() #remove o ultimo item\n",
        "print(uma_lista)"
      ],
      "metadata": {
        "colab": {
          "base_uri": "https://localhost:8080/"
        },
        "id": "3Yga3tf4OMJ6",
        "outputId": "2a01fb0a-e761-4d5f-80ea-6c43c1de26ff"
      },
      "execution_count": 51,
      "outputs": [
        {
          "output_type": "stream",
          "name": "stdout",
          "text": [
            "[4, 1, 6]\n"
          ]
        }
      ]
    },
    {
      "cell_type": "markdown",
      "source": [
        "28."
      ],
      "metadata": {
        "id": "ys7j4JDaDJP7"
      }
    },
    {
      "cell_type": "code",
      "source": [
        "uma_lista = [4, 1, 8, 6, 3]\n",
        "uma_lista = uma_lista.pop(0) \n",
        "print(uma_lista)"
      ],
      "metadata": {
        "colab": {
          "base_uri": "https://localhost:8080/"
        },
        "id": "hLIoJpFyDGZN",
        "outputId": "f33d51b7-292b-41d0-b038-1e09334d9116"
      },
      "execution_count": 50,
      "outputs": [
        {
          "output_type": "stream",
          "name": "stdout",
          "text": [
            "4\n"
          ]
        }
      ]
    },
    {
      "cell_type": "markdown",
      "source": [
        "**String**"
      ],
      "metadata": {
        "id": "IHHKk6q5VckJ"
      }
    },
    {
      "cell_type": "markdown",
      "source": [
        "1."
      ],
      "metadata": {
        "id": "1RaiAGRnYFNz"
      }
    },
    {
      "cell_type": "code",
      "source": [
        "nome = str(input(\"Nome: \"))\n",
        "print(nome[-1:-(len(nome)+1):-1].upper()) #o len coloca a quantidade de caracteres inseridos para ser contado, o -1 inverte a ordem e o .upper deixa maiusculo."
      ],
      "metadata": {
        "colab": {
          "base_uri": "https://localhost:8080/"
        },
        "id": "AxT0H7KaVko5",
        "outputId": "ab89d272-59b9-422d-dbdc-a195adba4275"
      },
      "execution_count": 53,
      "outputs": [
        {
          "output_type": "stream",
          "name": "stdout",
          "text": [
            "Nome: jamilly\n",
            "YLLIMAJ\n"
          ]
        }
      ]
    },
    {
      "cell_type": "markdown",
      "source": [
        "2."
      ],
      "metadata": {
        "id": "PClSBsITYGIJ"
      }
    },
    {
      "cell_type": "code",
      "source": [
        "nome = str(input(\"Nome: \"))\n",
        "print(nome[::-1].upper()) #inverte a ordem dos caracteres e deixa em maiusculo"
      ],
      "metadata": {
        "colab": {
          "base_uri": "https://localhost:8080/"
        },
        "id": "557yZ-P9YHum",
        "outputId": "e80d061d-10d3-4640-bb78-ce3e0ea8bf21"
      },
      "execution_count": 54,
      "outputs": [
        {
          "output_type": "stream",
          "name": "stdout",
          "text": [
            "Nome: jamilly\n",
            "YLLIMAJ\n"
          ]
        }
      ]
    },
    {
      "cell_type": "markdown",
      "source": [],
      "metadata": {
        "id": "yHhiE_dOYD--"
      }
    },
    {
      "cell_type": "markdown",
      "source": [
        "3."
      ],
      "metadata": {
        "id": "hbZaKjl3YXMQ"
      }
    },
    {
      "cell_type": "code",
      "source": [
        "print(list(range(1000))) #cria uma sequencia de numeros ate 999\n",
        "print(list(range(0, 300, 5)))"
      ],
      "metadata": {
        "colab": {
          "base_uri": "https://localhost:8080/"
        },
        "id": "BDPP0jAYYWsh",
        "outputId": "1e1174b3-5613-438c-8716-c1a736c4981d"
      },
      "execution_count": 55,
      "outputs": [
        {
          "output_type": "stream",
          "name": "stdout",
          "text": [
            "[0, 1, 2, 3, 4, 5, 6, 7, 8, 9, 10, 11, 12, 13, 14, 15, 16, 17, 18, 19, 20, 21, 22, 23, 24, 25, 26, 27, 28, 29, 30, 31, 32, 33, 34, 35, 36, 37, 38, 39, 40, 41, 42, 43, 44, 45, 46, 47, 48, 49, 50, 51, 52, 53, 54, 55, 56, 57, 58, 59, 60, 61, 62, 63, 64, 65, 66, 67, 68, 69, 70, 71, 72, 73, 74, 75, 76, 77, 78, 79, 80, 81, 82, 83, 84, 85, 86, 87, 88, 89, 90, 91, 92, 93, 94, 95, 96, 97, 98, 99, 100, 101, 102, 103, 104, 105, 106, 107, 108, 109, 110, 111, 112, 113, 114, 115, 116, 117, 118, 119, 120, 121, 122, 123, 124, 125, 126, 127, 128, 129, 130, 131, 132, 133, 134, 135, 136, 137, 138, 139, 140, 141, 142, 143, 144, 145, 146, 147, 148, 149, 150, 151, 152, 153, 154, 155, 156, 157, 158, 159, 160, 161, 162, 163, 164, 165, 166, 167, 168, 169, 170, 171, 172, 173, 174, 175, 176, 177, 178, 179, 180, 181, 182, 183, 184, 185, 186, 187, 188, 189, 190, 191, 192, 193, 194, 195, 196, 197, 198, 199, 200, 201, 202, 203, 204, 205, 206, 207, 208, 209, 210, 211, 212, 213, 214, 215, 216, 217, 218, 219, 220, 221, 222, 223, 224, 225, 226, 227, 228, 229, 230, 231, 232, 233, 234, 235, 236, 237, 238, 239, 240, 241, 242, 243, 244, 245, 246, 247, 248, 249, 250, 251, 252, 253, 254, 255, 256, 257, 258, 259, 260, 261, 262, 263, 264, 265, 266, 267, 268, 269, 270, 271, 272, 273, 274, 275, 276, 277, 278, 279, 280, 281, 282, 283, 284, 285, 286, 287, 288, 289, 290, 291, 292, 293, 294, 295, 296, 297, 298, 299, 300, 301, 302, 303, 304, 305, 306, 307, 308, 309, 310, 311, 312, 313, 314, 315, 316, 317, 318, 319, 320, 321, 322, 323, 324, 325, 326, 327, 328, 329, 330, 331, 332, 333, 334, 335, 336, 337, 338, 339, 340, 341, 342, 343, 344, 345, 346, 347, 348, 349, 350, 351, 352, 353, 354, 355, 356, 357, 358, 359, 360, 361, 362, 363, 364, 365, 366, 367, 368, 369, 370, 371, 372, 373, 374, 375, 376, 377, 378, 379, 380, 381, 382, 383, 384, 385, 386, 387, 388, 389, 390, 391, 392, 393, 394, 395, 396, 397, 398, 399, 400, 401, 402, 403, 404, 405, 406, 407, 408, 409, 410, 411, 412, 413, 414, 415, 416, 417, 418, 419, 420, 421, 422, 423, 424, 425, 426, 427, 428, 429, 430, 431, 432, 433, 434, 435, 436, 437, 438, 439, 440, 441, 442, 443, 444, 445, 446, 447, 448, 449, 450, 451, 452, 453, 454, 455, 456, 457, 458, 459, 460, 461, 462, 463, 464, 465, 466, 467, 468, 469, 470, 471, 472, 473, 474, 475, 476, 477, 478, 479, 480, 481, 482, 483, 484, 485, 486, 487, 488, 489, 490, 491, 492, 493, 494, 495, 496, 497, 498, 499, 500, 501, 502, 503, 504, 505, 506, 507, 508, 509, 510, 511, 512, 513, 514, 515, 516, 517, 518, 519, 520, 521, 522, 523, 524, 525, 526, 527, 528, 529, 530, 531, 532, 533, 534, 535, 536, 537, 538, 539, 540, 541, 542, 543, 544, 545, 546, 547, 548, 549, 550, 551, 552, 553, 554, 555, 556, 557, 558, 559, 560, 561, 562, 563, 564, 565, 566, 567, 568, 569, 570, 571, 572, 573, 574, 575, 576, 577, 578, 579, 580, 581, 582, 583, 584, 585, 586, 587, 588, 589, 590, 591, 592, 593, 594, 595, 596, 597, 598, 599, 600, 601, 602, 603, 604, 605, 606, 607, 608, 609, 610, 611, 612, 613, 614, 615, 616, 617, 618, 619, 620, 621, 622, 623, 624, 625, 626, 627, 628, 629, 630, 631, 632, 633, 634, 635, 636, 637, 638, 639, 640, 641, 642, 643, 644, 645, 646, 647, 648, 649, 650, 651, 652, 653, 654, 655, 656, 657, 658, 659, 660, 661, 662, 663, 664, 665, 666, 667, 668, 669, 670, 671, 672, 673, 674, 675, 676, 677, 678, 679, 680, 681, 682, 683, 684, 685, 686, 687, 688, 689, 690, 691, 692, 693, 694, 695, 696, 697, 698, 699, 700, 701, 702, 703, 704, 705, 706, 707, 708, 709, 710, 711, 712, 713, 714, 715, 716, 717, 718, 719, 720, 721, 722, 723, 724, 725, 726, 727, 728, 729, 730, 731, 732, 733, 734, 735, 736, 737, 738, 739, 740, 741, 742, 743, 744, 745, 746, 747, 748, 749, 750, 751, 752, 753, 754, 755, 756, 757, 758, 759, 760, 761, 762, 763, 764, 765, 766, 767, 768, 769, 770, 771, 772, 773, 774, 775, 776, 777, 778, 779, 780, 781, 782, 783, 784, 785, 786, 787, 788, 789, 790, 791, 792, 793, 794, 795, 796, 797, 798, 799, 800, 801, 802, 803, 804, 805, 806, 807, 808, 809, 810, 811, 812, 813, 814, 815, 816, 817, 818, 819, 820, 821, 822, 823, 824, 825, 826, 827, 828, 829, 830, 831, 832, 833, 834, 835, 836, 837, 838, 839, 840, 841, 842, 843, 844, 845, 846, 847, 848, 849, 850, 851, 852, 853, 854, 855, 856, 857, 858, 859, 860, 861, 862, 863, 864, 865, 866, 867, 868, 869, 870, 871, 872, 873, 874, 875, 876, 877, 878, 879, 880, 881, 882, 883, 884, 885, 886, 887, 888, 889, 890, 891, 892, 893, 894, 895, 896, 897, 898, 899, 900, 901, 902, 903, 904, 905, 906, 907, 908, 909, 910, 911, 912, 913, 914, 915, 916, 917, 918, 919, 920, 921, 922, 923, 924, 925, 926, 927, 928, 929, 930, 931, 932, 933, 934, 935, 936, 937, 938, 939, 940, 941, 942, 943, 944, 945, 946, 947, 948, 949, 950, 951, 952, 953, 954, 955, 956, 957, 958, 959, 960, 961, 962, 963, 964, 965, 966, 967, 968, 969, 970, 971, 972, 973, 974, 975, 976, 977, 978, 979, 980, 981, 982, 983, 984, 985, 986, 987, 988, 989, 990, 991, 992, 993, 994, 995, 996, 997, 998, 999]\n",
            "[0, 5, 10, 15, 20, 25, 30, 35, 40, 45, 50, 55, 60, 65, 70, 75, 80, 85, 90, 95, 100, 105, 110, 115, 120, 125, 130, 135, 140, 145, 150, 155, 160, 165, 170, 175, 180, 185, 190, 195, 200, 205, 210, 215, 220, 225, 230, 235, 240, 245, 250, 255, 260, 265, 270, 275, 280, 285, 290, 295]\n"
          ]
        }
      ]
    },
    {
      "cell_type": "markdown",
      "source": [
        "4."
      ],
      "metadata": {
        "id": "_JpBjNQVZEVc"
      }
    },
    {
      "cell_type": "code",
      "source": [
        "dict1 = {'a':1,'b':2} #adiciona valores as chaves\n",
        "dict2 = {'c':4,'d':5} #adiciona valores as chaves\n",
        "listaDict = [(list(dict1)), list(dict1.values()),list(dict2), list(dict2.values())] #imprime as chaves da dict1/os valores dict1 e a dict2/valores da dict2\n",
        "dict3={}\n",
        "print(listaDict)"
      ],
      "metadata": {
        "colab": {
          "base_uri": "https://localhost:8080/"
        },
        "id": "vfFZgG23ZFWw",
        "outputId": "ffbcc645-0665-4796-9c3b-1969d0c8eb3d"
      },
      "execution_count": 56,
      "outputs": [
        {
          "output_type": "stream",
          "name": "stdout",
          "text": [
            "[['a', 'b'], [1, 2], ['c', 'd'], [4, 5]]\n"
          ]
        }
      ]
    },
    {
      "cell_type": "markdown",
      "source": [
        "5."
      ],
      "metadata": {
        "id": "wFmXMDNAe7Kt"
      }
    },
    {
      "cell_type": "code",
      "source": [
        "s = \"Hello, World\"\n",
        "print(s.upper()) #coloca em maiusculo\n",
        "t = s.lower() #coloca em minusculo\n",
        "print(t)"
      ],
      "metadata": {
        "colab": {
          "base_uri": "https://localhost:8080/"
        },
        "id": "LWLeIuLge89h",
        "outputId": "73297070-f7dd-4d49-b5fb-ef52fd8a7de9"
      },
      "execution_count": 57,
      "outputs": [
        {
          "output_type": "stream",
          "name": "stdout",
          "text": [
            "HELLO, WORLD\n",
            "hello, world\n"
          ]
        }
      ]
    },
    {
      "cell_type": "markdown",
      "source": [
        "6."
      ],
      "metadata": {
        "id": "6NWQ862Dfsf8"
      }
    },
    {
      "cell_type": "code",
      "source": [
        "s = \"python\"\n",
        "e = \"!\"\n",
        "print(s+e*3) #repete a variavel \"e\" 3 vezes"
      ],
      "metadata": {
        "colab": {
          "base_uri": "https://localhost:8080/"
        },
        "id": "TfGgjePdfu8f",
        "outputId": "8c20e871-9732-4f40-b891-6ec24b2422af"
      },
      "execution_count": 58,
      "outputs": [
        {
          "output_type": "stream",
          "name": "stdout",
          "text": [
            "python!!!\n"
          ]
        }
      ]
    },
    {
      "cell_type": "markdown",
      "source": [
        "7."
      ],
      "metadata": {
        "id": "XVHCYiE0f7Bx"
      }
    },
    {
      "cell_type": "code",
      "source": [
        "ss = \" Hello, World \"\n",
        "xx = ss.count(\"l\") #conta quantos l tem na variavel\n",
        "print(xx)\n",
        "print(\"***\"+ss.strip()+\"***\")\n",
        "print(\"***\"+ss.lstrip()+\"***\")#espaço no ultimo caractere\n",
        "print(\"***\"+ss.rstrip()+\"***\")#espaço no primeiro caractere\n",
        "news = ss.replace(\"o\", \"***\") #substitui a letra o por ***\n",
        "print(news)"
      ],
      "metadata": {
        "colab": {
          "base_uri": "https://localhost:8080/"
        },
        "id": "3xSouD74f-E_",
        "outputId": "e4d4b36a-eb75-455d-8685-c23a73f9eb09"
      },
      "execution_count": 62,
      "outputs": [
        {
          "output_type": "stream",
          "name": "stdout",
          "text": [
            "3\n",
            "***Hello, World***\n",
            "***Hello, World ***\n",
            "*** Hello, World***\n",
            " Hell***, W***rld \n"
          ]
        }
      ]
    },
    {
      "cell_type": "markdown",
      "source": [
        "8."
      ],
      "metadata": {
        "id": "2nDFuK0if-tq"
      }
    },
    {
      "cell_type": "code",
      "source": [
        "# estrelas foram incluídas para mostrar limites\n",
        "food = \"banana bread\"\n",
        "print(food.capitalize()) #coloca a primeira letra em maiusculo e as demais em minusculo\n",
        "print(\"*\"+food.center(25)+\"*\") #centraliza a string com 25 px\n",
        "print(\"*\"+food.ljust(25)+\"*\") #justifica a string pela esquerda\n",
        "print(\"*\" +food.rjust(25)+\"*\") #justifica a string pela direita"
      ],
      "metadata": {
        "colab": {
          "base_uri": "https://localhost:8080/"
        },
        "id": "Y-39Jqrrf_o7",
        "outputId": "054a1f69-dea4-4c72-ca67-d49ee962f01e"
      },
      "execution_count": 63,
      "outputs": [
        {
          "output_type": "stream",
          "name": "stdout",
          "text": [
            "Banana bread\n",
            "*       banana bread      *\n",
            "*banana bread             *\n",
            "*             banana bread*\n"
          ]
        }
      ]
    },
    {
      "cell_type": "markdown",
      "source": [
        "9."
      ],
      "metadata": {
        "id": "APQg6S5PgAcZ"
      }
    },
    {
      "cell_type": "code",
      "source": [
        "print(food.find(\"e\")) #encontra a posição do caractere na string\n",
        "print(food.find(\"na\"))\n",
        "print(food.find(\"b\"))\n",
        "print(food.rfind(\"e\"))\n",
        "print(food.rfind(\"na\"))\n",
        "print(food.rfind(\"b\"))"
      ],
      "metadata": {
        "colab": {
          "base_uri": "https://localhost:8080/"
        },
        "id": "8OFdna9OgBQR",
        "outputId": "6cc2de62-54c8-4ffb-edf6-0b00ccf006c3"
      },
      "execution_count": 64,
      "outputs": [
        {
          "output_type": "stream",
          "name": "stdout",
          "text": [
            "9\n",
            "2\n",
            "0\n",
            "9\n",
            "4\n",
            "7\n"
          ]
        }
      ]
    },
    {
      "cell_type": "markdown",
      "source": [
        "10."
      ],
      "metadata": {
        "id": "hR_86z8ogCY3"
      }
    },
    {
      "cell_type": "code",
      "source": [
        "s = \"python rocks\"\n",
        "print(s[1]*s.index(\"n\")) #coloca y até a posição do n"
      ],
      "metadata": {
        "colab": {
          "base_uri": "https://localhost:8080/"
        },
        "id": "0PCoVSWagEK7",
        "outputId": "56a3174c-aad7-4c9d-e9b5-8682a0086947"
      },
      "execution_count": 65,
      "outputs": [
        {
          "output_type": "stream",
          "name": "stdout",
          "text": [
            "yyyyy\n"
          ]
        }
      ]
    },
    {
      "cell_type": "markdown",
      "source": [
        "11."
      ],
      "metadata": {
        "id": "v6MvPfgAgHDd"
      }
    },
    {
      "cell_type": "code",
      "source": [
        "pets = \"Marlene, Cibele, Suely\"\n",
        "print(pets[0:5]) #acesso direto aos caracteres\n",
        "print(pets[7:11])\n",
        "print(pets[17:21])"
      ],
      "metadata": {
        "colab": {
          "base_uri": "https://localhost:8080/"
        },
        "id": "HHyDMjjKgIx7",
        "outputId": "6fdd6a68-0773-4f54-8046-404814692b06"
      },
      "execution_count": 66,
      "outputs": [
        {
          "output_type": "stream",
          "name": "stdout",
          "text": [
            "Marle\n",
            ", Ci\n",
            "Suel\n"
          ]
        }
      ]
    },
    {
      "cell_type": "markdown",
      "source": [
        "12."
      ],
      "metadata": {
        "id": "EU_TMV-sgJiM"
      }
    },
    {
      "cell_type": "code",
      "source": [
        "print('a' in 'a') #in atua como pergunta booleana\n",
        "print('apple' in 'apple')\n",
        "print('' in 'a')\n",
        "print(' ' in 'apple')"
      ],
      "metadata": {
        "colab": {
          "base_uri": "https://localhost:8080/"
        },
        "id": "VRaiP_NqgKls",
        "outputId": "c23568d6-c247-4d41-fd9b-19c8d93c6cf0"
      },
      "execution_count": 67,
      "outputs": [
        {
          "output_type": "stream",
          "name": "stdout",
          "text": [
            "True\n",
            "True\n",
            "True\n",
            "False\n"
          ]
        }
      ]
    },
    {
      "cell_type": "markdown",
      "source": [
        "13."
      ],
      "metadata": {
        "id": "Qqyu0-ACgrwQ"
      }
    },
    {
      "cell_type": "code",
      "source": [
        "print('x' not in 'apple') #in atua como pergunta booleana"
      ],
      "metadata": {
        "colab": {
          "base_uri": "https://localhost:8080/"
        },
        "id": "kKhIuDm6gtT5",
        "outputId": "6e1f375d-5414-40f8-89a3-15d262afa3fd"
      },
      "execution_count": 68,
      "outputs": [
        {
          "output_type": "stream",
          "name": "stdout",
          "text": [
            "True\n"
          ]
        }
      ]
    }
  ]
}