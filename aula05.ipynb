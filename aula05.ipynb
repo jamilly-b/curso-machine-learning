{
  "nbformat": 4,
  "nbformat_minor": 0,
  "metadata": {
    "colab": {
      "provenance": [],
      "authorship_tag": "ABX9TyMpOb/8Ss67ppmEAf8LP7jE",
      "include_colab_link": true
    },
    "kernelspec": {
      "name": "python3",
      "display_name": "Python 3"
    },
    "language_info": {
      "name": "python"
    }
  },
  "cells": [
    {
      "cell_type": "markdown",
      "metadata": {
        "id": "view-in-github",
        "colab_type": "text"
      },
      "source": [
        "<a href=\"https://colab.research.google.com/github/jmlly/curso-machine-learning/blob/main/aula05.ipynb\" target=\"_parent\"><img src=\"https://colab.research.google.com/assets/colab-badge.svg\" alt=\"Open In Colab\"/></a>"
      ]
    },
    {
      "cell_type": "code",
      "execution_count": null,
      "metadata": {
        "colab": {
          "base_uri": "https://localhost:8080/"
        },
        "id": "vHe6Z3myPNom",
        "outputId": "19fc965f-94cf-42aa-d131-6a7a59acc6d6"
      },
      "outputs": [
        {
          "output_type": "stream",
          "name": "stdout",
          "text": [
            "variavel da função multiplica:  20\n",
            "10\n"
          ]
        }
      ],
      "source": [
        "varGlobal = 10\n",
        "def multiplicacao(num1,num2):\n",
        "  varGlobal = num1 * num2\n",
        "  print('variavel da função multiplica: ', varGlobal)\n",
        "\n",
        "multiplicacao(5, 4)\n",
        "print(varGlobal)"
      ]
    },
    {
      "cell_type": "code",
      "source": [
        "varGlobal = 10\n",
        "def multiplica(num1,num2):\n",
        "  varLocal = num1 * num2\n",
        "  print('variavel da função : ', varLocal)\n",
        "  \n",
        "multiplica(5, 4)\n",
        "print(varLocal)"
      ],
      "metadata": {
        "colab": {
          "base_uri": "https://localhost:8080/",
          "height": 217
        },
        "id": "ixVThB67P4R7",
        "outputId": "8c606d67-c68e-488b-db0e-4ccad008ab95"
      },
      "execution_count": null,
      "outputs": [
        {
          "output_type": "stream",
          "name": "stdout",
          "text": [
            "variavel da função :  20\n"
          ]
        },
        {
          "output_type": "error",
          "ename": "NameError",
          "evalue": "ignored",
          "traceback": [
            "\u001b[0;31m---------------------------------------------------------------------------\u001b[0m",
            "\u001b[0;31mNameError\u001b[0m                                 Traceback (most recent call last)",
            "\u001b[0;32m<ipython-input-7-754bc326ab28>\u001b[0m in \u001b[0;36m<module>\u001b[0;34m\u001b[0m\n\u001b[1;32m      5\u001b[0m \u001b[0;34m\u001b[0m\u001b[0m\n\u001b[1;32m      6\u001b[0m \u001b[0mmultiplica\u001b[0m\u001b[0;34m(\u001b[0m\u001b[0;36m5\u001b[0m\u001b[0;34m,\u001b[0m \u001b[0;36m4\u001b[0m\u001b[0;34m)\u001b[0m\u001b[0;34m\u001b[0m\u001b[0;34m\u001b[0m\u001b[0m\n\u001b[0;32m----> 7\u001b[0;31m \u001b[0mprint\u001b[0m\u001b[0;34m(\u001b[0m\u001b[0mvarLocal\u001b[0m\u001b[0;34m)\u001b[0m\u001b[0;34m\u001b[0m\u001b[0;34m\u001b[0m\u001b[0m\n\u001b[0m",
            "\u001b[0;31mNameError\u001b[0m: name 'varLocal' is not defined"
          ]
        }
      ]
    },
    {
      "cell_type": "code",
      "source": [
        "def separarTexto(texto): return texto.split()"
      ],
      "metadata": {
        "id": "k2ky9yfQTdQx"
      },
      "execution_count": null,
      "outputs": []
    },
    {
      "cell_type": "code",
      "source": [
        "token = separarTexto('cibele maria')\n",
        "print(token)"
      ],
      "metadata": {
        "colab": {
          "base_uri": "https://localhost:8080/"
        },
        "id": "KeeheG3kUHii",
        "outputId": "1f6ed39e-25f6-4ff8-a453-84840cc66224"
      },
      "execution_count": null,
      "outputs": [
        {
          "output_type": "stream",
          "name": "stdout",
          "text": [
            "['cibele', 'maria']\n"
          ]
        }
      ]
    },
    {
      "cell_type": "code",
      "source": [
        "#quando nao sabemos a quantidade usar * no parametro \n",
        "def variosParametros(*parametros):\n",
        "  for n, item in enumerate(parametros):\n",
        "    print('o parametro %d é: '%(n), item)\n",
        "  return;"
      ],
      "metadata": {
        "id": "AVj3jgSlUPPb"
      },
      "execution_count": null,
      "outputs": []
    },
    {
      "cell_type": "code",
      "source": [
        "variosParametros()"
      ],
      "metadata": {
        "id": "-aTBdjfmWNS6"
      },
      "execution_count": null,
      "outputs": []
    },
    {
      "cell_type": "code",
      "source": [
        "variosParametros('pitomba','jambo','siriguela','umbu')"
      ],
      "metadata": {
        "colab": {
          "base_uri": "https://localhost:8080/"
        },
        "id": "ZO_DUxVuVUzq",
        "outputId": "d8890d80-eb04-4e28-8e09-1eed4a028c1d"
      },
      "execution_count": null,
      "outputs": [
        {
          "output_type": "stream",
          "name": "stdout",
          "text": [
            "o parametro 0 é:  pitomba\n",
            "o parametro 1 é:  jambo\n",
            "o parametro 2 é:  siriguela\n",
            "o parametro 3 é:  umbu\n"
          ]
        }
      ]
    },
    {
      "cell_type": "code",
      "source": [
        "import math #pacote com conjunto de funções matematicas\n",
        "\n",
        "def numPrimo(num):\n",
        "  #verificando se o numero é primo\n",
        "  if (num%2) == 0 and num > 2:\n",
        "    return ('este numero nao é primo')\n",
        "  for i in range(3, int(math.sqrt(num))+1, 2):\n",
        "    if (num%1) == 0:\n",
        "      return('Este numero nao é primo')\n",
        "    return('Este numero é primo')"
      ],
      "metadata": {
        "id": "iH1SKWu9WcHZ"
      },
      "execution_count": null,
      "outputs": []
    },
    {
      "cell_type": "code",
      "source": [
        "num = numPrimo(5)\n",
        "print(num)"
      ],
      "metadata": {
        "colab": {
          "base_uri": "https://localhost:8080/"
        },
        "id": "wKx1dnDXXQFa",
        "outputId": "25cd871a-7f2f-42b4-b8dc-10944eb37da6"
      },
      "execution_count": null,
      "outputs": [
        {
          "output_type": "stream",
          "name": "stdout",
          "text": [
            "None\n"
          ]
        }
      ]
    },
    {
      "cell_type": "code",
      "source": [
        "def soma(n1,n2):\n",
        "  return n1 + n2\n",
        "def subtrai(n1,n2):\n",
        "  return n1 - n2\n",
        "def multiplica(n1,n2):\n",
        "  return n1 * n2\n",
        "def divide(n1,n2):\n",
        "  return n1 / n2"
      ],
      "metadata": {
        "id": "SHQJzls6Yw5x"
      },
      "execution_count": null,
      "outputs": []
    },
    {
      "cell_type": "code",
      "source": [
        "while True:\n",
        "  print('+'+'='*20 + '+')\n",
        "  print('| Menu de operaçoes  |')\n",
        "  print('| 1 - Somar          |')\n",
        "  print('| 2 - Subtrair       |')\n",
        "  print('| 3 - Multiplicar    |')\n",
        "  print('| 4 - Dividir        |')\n",
        "  print('| 0 - Sair           |')\n",
        "  print('+'+'='*20 + '+')\n",
        "\n",
        "  op = int(input())\n",
        "  if op == 0:\n",
        "    break\n",
        "\n",
        "  n1 = int(input('insira o primeiro numero: '))\n",
        "  n2 = int(input('insira o segundo numero: '))\n",
        "\n",
        "  if op == 1: \n",
        "    print('o resultado da soma é: ',soma(n1,n2))\n",
        "  elif op == 2: \n",
        "    print('o resultado da subtração é: ',subtrai(n1,n2))\n",
        "  elif op == 3: \n",
        "    print('o resultado da multiplicação é: ',multiplica(n1,n2))\n",
        "  elif op == 4: \n",
        "    print('o resultado da divisão é: ',divide(n1,n2))\n"
      ],
      "metadata": {
        "id": "9Mrv4jVfZPoB"
      },
      "execution_count": null,
      "outputs": []
    },
    {
      "cell_type": "code",
      "source": [
        "class Pessoa():\n",
        "  def __init__(self, n, i):\n",
        "    self.nome = n\n",
        "    self.idade = i\n",
        "  def apresentacao(self):\n",
        "    print('seja bem vindo ao sitema senac!')\n",
        "class PessoaFisica(Pessoa):\n",
        "  def __init__(self, n, i, cpf):\n",
        "    self.nome = n\n",
        "    self.idade = i\n",
        "    self.cpf = cpf\n",
        "  def apresentacao(self):\n",
        "    print('seja bem vindo ao sitema senac!')\n",
        "  def ImpostoDeRenda(self, *salario):\n",
        "    s = sum(salario)\n",
        "    ir = s*0.015\n",
        "    print('o valor do seu importo de renda é: ', ir)\n",
        "    return ir\n",
        "class PessoaJuridica(Pessoa):\n",
        "  def __init__(self, n, i, cnpj):\n",
        "    self.nome = n\n",
        "    self.idade = i \n",
        "    self.cnpj = cnpj\n",
        "  def apresentacao(self):\n",
        "    print('seja bem vindo ao python')\n",
        "  def ImpostoDeRenda(self, *salario):\n",
        "    ir = s*0.10\n",
        "    print('o valor do seu importo de renda é: ', ir)\n",
        "    return ir"
      ],
      "metadata": {
        "id": "HMUDKfBvcrGC"
      },
      "execution_count": null,
      "outputs": []
    },
    {
      "cell_type": "code",
      "source": [
        "nome = str(input('nome: '))\n",
        "age = int(input('idade: '))\n",
        "cnpj = int(input('cnpj: '))\n",
        "serumaninho = Pessoa(nome,age)\n",
        "comunidade = PessoaJuridica(nome,age,cnpj)\n"
      ],
      "metadata": {
        "colab": {
          "base_uri": "https://localhost:8080/"
        },
        "id": "tZwxbxKehN5S",
        "outputId": "31448c00-c707-4884-ea72-1c2159490194"
      },
      "execution_count": null,
      "outputs": [
        {
          "name": "stdout",
          "output_type": "stream",
          "text": [
            "nome: dfd\n",
            "idade: 78\n",
            "cnpj: 7878\n"
          ]
        }
      ]
    },
    {
      "cell_type": "code",
      "source": [
        "serumaninho.nome"
      ],
      "metadata": {
        "colab": {
          "base_uri": "https://localhost:8080/",
          "height": 35
        },
        "id": "fkvJ9QZ-hx0S",
        "outputId": "2705a334-d919-45b4-b08d-9559d1554fae"
      },
      "execution_count": null,
      "outputs": [
        {
          "output_type": "execute_result",
          "data": {
            "text/plain": [
              "'dfd'"
            ],
            "application/vnd.google.colaboratory.intrinsic+json": {
              "type": "string"
            }
          },
          "metadata": {},
          "execution_count": 6
        }
      ]
    },
    {
      "cell_type": "code",
      "source": [
        "serumaninho.idade"
      ],
      "metadata": {
        "id": "6pVHRdJ3h4La",
        "colab": {
          "base_uri": "https://localhost:8080/"
        },
        "outputId": "00eb2314-5eb2-4823-e318-a77469d769b1"
      },
      "execution_count": null,
      "outputs": [
        {
          "output_type": "execute_result",
          "data": {
            "text/plain": [
              "78"
            ]
          },
          "metadata": {},
          "execution_count": 7
        }
      ]
    },
    {
      "cell_type": "code",
      "source": [
        "serumaninho.apresentacao"
      ],
      "metadata": {
        "id": "_HRosMaiiOQM",
        "colab": {
          "base_uri": "https://localhost:8080/"
        },
        "outputId": "5d4f17da-45a6-44ca-b58e-8236467c9234"
      },
      "execution_count": null,
      "outputs": [
        {
          "output_type": "execute_result",
          "data": {
            "text/plain": [
              "<bound method Pessoa.apresentacao of <__main__.Pessoa object at 0x7fbe4c04af10>>"
            ]
          },
          "metadata": {},
          "execution_count": 8
        }
      ]
    },
    {
      "cell_type": "code",
      "source": [
        "salario = float(input('receita: '))\n",
        "comunidade.ImpostoDeRenda(salario)\n",
        "print('fim!')"
      ],
      "metadata": {
        "id": "9Kop9TsIjGYy"
      },
      "execution_count": null,
      "outputs": []
    }
  ]
}