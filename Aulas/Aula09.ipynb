{
  "nbformat": 4,
  "nbformat_minor": 0,
  "metadata": {
    "colab": {
      "provenance": [],
      "authorship_tag": "ABX9TyMAX10uly06vrNQTXT36v0i",
      "include_colab_link": true
    },
    "kernelspec": {
      "name": "python3",
      "display_name": "Python 3"
    },
    "language_info": {
      "name": "python"
    }
  },
  "cells": [
    {
      "cell_type": "markdown",
      "metadata": {
        "id": "view-in-github",
        "colab_type": "text"
      },
      "source": [
        "<a href=\"https://colab.research.google.com/github/jmlly/curso-machine-learning/blob/main/Aulas/Aula09.ipynb\" target=\"_parent\"><img src=\"https://colab.research.google.com/assets/colab-badge.svg\" alt=\"Open In Colab\"/></a>"
      ]
    },
    {
      "cell_type": "markdown",
      "source": [
        "**Definindo os dados de treino**"
      ],
      "metadata": {
        "id": "WHKl7TE3uoau"
      }
    },
    {
      "cell_type": "code",
      "source": [
        "import pandas as pd\n",
        "import numpy as np\n",
        "import matplotlib.pyplot as plt"
      ],
      "metadata": {
        "id": "khJisWswOT9z"
      },
      "execution_count": 3,
      "outputs": []
    },
    {
      "cell_type": "code",
      "execution_count": 6,
      "metadata": {
        "id": "cSinelORumJm"
      },
      "outputs": [],
      "source": [
        "#tosse?\n",
        "#espirro?\n",
        "#falta de ar?\n",
        "#febre?\n",
        "#usando 0 para não e 1 para sim\n",
        "\n",
        "gripado1 = [1,1,1,1] #informando ao algoritmo grupo de pessoas que estão com gripe\n",
        "gripado2 = [0,1,0,1]\n",
        "gripado3 = [1,1,0,0]\n",
        "gripado4 = [1,1,0,1]\n",
        "\n",
        "alergico1 = [1,1,0,0] #apresentando ao algoritmo grupo de pessoas que não estão doentes mas possuem sintomas\n",
        "alergico2 = [0,1,0,0]\n",
        "alergico3 = [1,0,1,0]\n",
        "alergico4 = [0,1,1,0]"
      ]
    },
    {
      "cell_type": "code",
      "source": [
        "dados = [gripado1, gripado2, gripado3, gripado4, alergico1, alergico2, alergico3, alergico4]\n",
        "#categoria 1 = gripado; categoria 0 = alergico\n",
        "categorias = [1,1,1,1,0,0,0,0]"
      ],
      "metadata": {
        "id": "xTO6WVFLPGDj"
      },
      "execution_count": 7,
      "outputs": []
    },
    {
      "cell_type": "code",
      "source": [
        "from sklearn.svm import LinearSVC"
      ],
      "metadata": {
        "id": "r0RDRy1hPhO5"
      },
      "execution_count": 8,
      "outputs": []
    },
    {
      "cell_type": "markdown",
      "source": [
        "**Rodando nosso treino**"
      ],
      "metadata": {
        "id": "st8HJLqzQvPb"
      }
    },
    {
      "cell_type": "code",
      "source": [
        "modelo = LinearSVC()\n",
        "modelo.fit(dados, categorias)"
      ],
      "metadata": {
        "colab": {
          "base_uri": "https://localhost:8080/"
        },
        "id": "G_hh7fyhQlSM",
        "outputId": "4c31264d-c08f-479e-bb38-a8d28cbbce2f"
      },
      "execution_count": 9,
      "outputs": [
        {
          "output_type": "execute_result",
          "data": {
            "text/plain": [
              "LinearSVC()"
            ]
          },
          "metadata": {},
          "execution_count": 9
        }
      ]
    },
    {
      "cell_type": "markdown",
      "source": [
        "**Defininção dados de teste**"
      ],
      "metadata": {
        "id": "fNAwV14sUVdT"
      }
    },
    {
      "cell_type": "markdown",
      "source": [
        "Os dados de teste são os dados que a gente **já conhece** o resultado e vai medir se o algoritmo está acertando as privisões"
      ],
      "metadata": {
        "id": "T0TiRcEyXYXS"
      }
    },
    {
      "cell_type": "code",
      "source": [
        "paciente1 = [0,1,0,1]\n",
        "paciente2 = [0,0,0,0]\n",
        "paciente3 = [1,1,1,1]\n",
        "paciente4 = [0,1,0,1]\n",
        "\n",
        "dados_teste = [paciente1,paciente2,paciente3,paciente4]"
      ],
      "metadata": {
        "id": "53s0OYD0RUpT"
      },
      "execution_count": 23,
      "outputs": []
    },
    {
      "cell_type": "markdown",
      "source": [
        "**Testando**"
      ],
      "metadata": {
        "id": "dVqNi6zYU4Fb"
      }
    },
    {
      "cell_type": "code",
      "source": [
        "modelo.predict(dados_teste)"
      ],
      "metadata": {
        "colab": {
          "base_uri": "https://localhost:8080/"
        },
        "id": "JvBwB47lUmpT",
        "outputId": "534b809b-e97e-4c49-a168-50960c8c93ee"
      },
      "execution_count": 24,
      "outputs": [
        {
          "output_type": "execute_result",
          "data": {
            "text/plain": [
              "array([1, 0, 1, 1])"
            ]
          },
          "metadata": {},
          "execution_count": 24
        }
      ]
    },
    {
      "cell_type": "markdown",
      "source": [
        "O algoritmo preveu que o primeiro paciente está doente, o segundo não, o terceiro e quarto estão."
      ],
      "metadata": {
        "id": "E9V9UKShVnI6"
      }
    },
    {
      "cell_type": "markdown",
      "source": [
        "Dado um novo paciente, vamos avaliar a possibilidade de ele estar gripado:"
      ],
      "metadata": {
        "id": "wPflVWj4XzPD"
      }
    },
    {
      "cell_type": "code",
      "source": [
        "novo_paciente = [0,1,0,0]\n",
        "modelo.predict([novo_paciente])"
      ],
      "metadata": {
        "colab": {
          "base_uri": "https://localhost:8080/"
        },
        "id": "K-ZH8-kgXzt6",
        "outputId": "046eb574-2ddf-4054-8d57-2ccdf8f32503"
      },
      "execution_count": 25,
      "outputs": [
        {
          "output_type": "execute_result",
          "data": {
            "text/plain": [
              "array([0])"
            ]
          },
          "metadata": {},
          "execution_count": 25
        }
      ]
    },
    {
      "cell_type": "code",
      "source": [
        "if (modelo.predict([novo_paciente]) == 0):\n",
        "  print('Paciente potencialmente alérgico')\n",
        "else:\n",
        "  print('Paciente potencialmente gripado')"
      ],
      "metadata": {
        "colab": {
          "base_uri": "https://localhost:8080/"
        },
        "id": "37z8jQPLYpLr",
        "outputId": "709d4131-ab13-4e04-e536-c69d5fa0821f"
      },
      "execution_count": 27,
      "outputs": [
        {
          "output_type": "stream",
          "name": "stdout",
          "text": [
            "Paciente potencialmente alérgico\n"
          ]
        }
      ]
    },
    {
      "cell_type": "markdown",
      "source": [
        "Vamos salvar a aplicação do nosso modelo sobre os dados de teste na variável predições"
      ],
      "metadata": {
        "id": "zyXfR5A3ZTji"
      }
    },
    {
      "cell_type": "code",
      "source": [
        "predicoes = modelo.predict(dados_teste)"
      ],
      "metadata": {
        "id": "SbpzDOE6ZMMi"
      },
      "execution_count": 28,
      "outputs": []
    },
    {
      "cell_type": "code",
      "source": [
        "#Vamos supor que temos casos com exames que confirmaram o seguinte sobre os pacientes terem gripe ou nao\n",
        "#vamos comparar nosso modelo com a realidade\n",
        "exames = [1,0,1,0]"
      ],
      "metadata": {
        "id": "zWkdqEvcZzDS"
      },
      "execution_count": 29,
      "outputs": []
    },
    {
      "cell_type": "code",
      "source": [
        "predicoes == exames"
      ],
      "metadata": {
        "colab": {
          "base_uri": "https://localhost:8080/"
        },
        "id": "dAiZEkzoaBZa",
        "outputId": "b7b68a6f-d89e-43b8-8d56-0af601839b72"
      },
      "execution_count": 30,
      "outputs": [
        {
          "output_type": "execute_result",
          "data": {
            "text/plain": [
              "array([ True,  True,  True, False])"
            ]
          },
          "metadata": {},
          "execution_count": 30
        }
      ]
    },
    {
      "cell_type": "markdown",
      "source": [
        "Descobrindo quanto o algoritmo acertou no teste:"
      ],
      "metadata": {
        "id": "fu6dzV__dCtM"
      }
    },
    {
      "cell_type": "code",
      "source": [
        "total_acertos = (predicoes == exames).sum()\n",
        "total_acertos"
      ],
      "metadata": {
        "colab": {
          "base_uri": "https://localhost:8080/"
        },
        "id": "HJpURB6Wck50",
        "outputId": "d87576f6-e8b3-45a3-acc8-59244d7fab8d"
      },
      "execution_count": 31,
      "outputs": [
        {
          "output_type": "execute_result",
          "data": {
            "text/plain": [
              "3"
            ]
          },
          "metadata": {},
          "execution_count": 31
        }
      ]
    },
    {
      "cell_type": "markdown",
      "source": [
        "Previsões totais:"
      ],
      "metadata": {
        "id": "vXHhqyrYdTLC"
      }
    },
    {
      "cell_type": "code",
      "source": [
        "total_predicoes = len(dados_teste)\n",
        "total_predicoes"
      ],
      "metadata": {
        "colab": {
          "base_uri": "https://localhost:8080/"
        },
        "id": "oP8FL6btc3zr",
        "outputId": "9bf9f4da-72ab-4bb1-d15f-39f78bb6865c"
      },
      "execution_count": 32,
      "outputs": [
        {
          "output_type": "execute_result",
          "data": {
            "text/plain": [
              "4"
            ]
          },
          "metadata": {},
          "execution_count": 32
        }
      ]
    },
    {
      "cell_type": "markdown",
      "source": [
        "Nossa taxa de sucesso:"
      ],
      "metadata": {
        "id": "SgxR1lFzdl36"
      }
    },
    {
      "cell_type": "code",
      "source": [
        "taxa_sucesso = total_acertos / total_predicoes * 100\n",
        "taxa_sucesso"
      ],
      "metadata": {
        "colab": {
          "base_uri": "https://localhost:8080/"
        },
        "id": "qyR7RAxWc-uL",
        "outputId": "2d6d4661-74e6-4c22-f85c-4a859da54c98"
      },
      "execution_count": 33,
      "outputs": [
        {
          "output_type": "execute_result",
          "data": {
            "text/plain": [
              "75.0"
            ]
          },
          "metadata": {},
          "execution_count": 33
        }
      ]
    },
    {
      "cell_type": "code",
      "source": [
        "print('A taxa de sucesso do seu modelo preditivo foi de ', taxa_sucesso, '%. ' )"
      ],
      "metadata": {
        "colab": {
          "base_uri": "https://localhost:8080/"
        },
        "id": "YyKeNP56eRjU",
        "outputId": "db340e78-5617-435e-8aca-d79645b9b7fd"
      },
      "execution_count": 34,
      "outputs": [
        {
          "output_type": "stream",
          "name": "stdout",
          "text": [
            "A taxa de sucesso do seu modelo preditivo foi de  75.0 %. \n"
          ]
        }
      ]
    },
    {
      "cell_type": "markdown",
      "source": [
        "Para situações mais complexas, usaremos o accuracy score"
      ],
      "metadata": {
        "id": "VtYT2zxRegvb"
      }
    },
    {
      "cell_type": "code",
      "source": [
        "from sklearn.metrics import accuracy_score\n",
        "taxa_sucesso = accuracy_score(total_acertos / total_predicoes) #erro por falta do y_pred, assunto da proxima aula"
      ],
      "metadata": {
        "id": "-ZSxVJDjebuz"
      },
      "execution_count": null,
      "outputs": []
    }
  ]
}