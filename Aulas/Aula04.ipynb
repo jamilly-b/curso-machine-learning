{
  "nbformat": 4,
  "nbformat_minor": 0,
  "metadata": {
    "colab": {
      "provenance": [],
      "authorship_tag": "ABX9TyP4a5tAOje5V1Wyq4GKi7DJ",
      "include_colab_link": true
    },
    "kernelspec": {
      "name": "python3",
      "display_name": "Python 3"
    },
    "language_info": {
      "name": "python"
    }
  },
  "cells": [
    {
      "cell_type": "markdown",
      "metadata": {
        "id": "view-in-github",
        "colab_type": "text"
      },
      "source": [
        "<a href=\"https://colab.research.google.com/github/jmlly/curso-machine-learning/blob/main/Aulas/Aula04.ipynb\" target=\"_parent\"><img src=\"https://colab.research.google.com/assets/colab-badge.svg\" alt=\"Open In Colab\"/></a>"
      ]
    },
    {
      "cell_type": "code",
      "execution_count": null,
      "metadata": {
        "colab": {
          "base_uri": "https://localhost:8080/"
        },
        "id": "C-wjQTB2q_ov",
        "outputId": "bb74c018-fbb2-4802-9ecb-801d003afd75"
      },
      "outputs": [
        {
          "output_type": "stream",
          "name": "stdout",
          "text": [
            "estamos no elemento 1\n",
            "estamos no elemento 2\n",
            "estamos no elemento 3\n",
            "estamos no elemento 4\n",
            "estamos no elemento 5\n",
            "estamos no elemento 6\n"
          ]
        }
      ],
      "source": [
        "for elemento in [1,2,3,4,5,6]:\n",
        "  print(\"estamos no elemento\", elemento)"
      ]
    },
    {
      "cell_type": "code",
      "source": [
        "for elemento in 'STRING':\n",
        "  print(\"estamos no elemento\", elemento)"
      ],
      "metadata": {
        "colab": {
          "base_uri": "https://localhost:8080/"
        },
        "id": "lGidGmbEwcij",
        "outputId": "f25dec9e-0097-4005-bdc7-09116c6d9198"
      },
      "execution_count": null,
      "outputs": [
        {
          "output_type": "stream",
          "name": "stdout",
          "text": [
            "estamos no elemento S\n",
            "estamos no elemento T\n",
            "estamos no elemento R\n",
            "estamos no elemento I\n",
            "estamos no elemento N\n",
            "estamos no elemento G\n"
          ]
        }
      ]
    },
    {
      "cell_type": "code",
      "source": [
        "for elemento in range(len('STRING')):\n",
        "  print(\"estamos no elemento\", elemento)"
      ],
      "metadata": {
        "colab": {
          "base_uri": "https://localhost:8080/"
        },
        "id": "2MKW7M-KwwGp",
        "outputId": "e7ded0bb-d5b7-49bf-c569-1c0276302d7a"
      },
      "execution_count": null,
      "outputs": [
        {
          "output_type": "stream",
          "name": "stdout",
          "text": [
            "estamos no elemento 0\n",
            "estamos no elemento 1\n",
            "estamos no elemento 2\n",
            "estamos no elemento 3\n",
            "estamos no elemento 4\n",
            "estamos no elemento 5\n"
          ]
        }
      ]
    },
    {
      "cell_type": "code",
      "source": [
        "elemento = 0\n",
        "while elemento <= len([1,2,3,4,5,6]):\n",
        "  print(\"estamos no elemento\", elemento)\n",
        "  elemento +=1"
      ],
      "metadata": {
        "colab": {
          "base_uri": "https://localhost:8080/"
        },
        "id": "XdcA7pcGxFXy",
        "outputId": "ab8e1287-0de1-4f6a-8dad-cc641236fa99"
      },
      "execution_count": null,
      "outputs": [
        {
          "output_type": "stream",
          "name": "stdout",
          "text": [
            "estamos no elemento 0\n",
            "estamos no elemento 1\n",
            "estamos no elemento 2\n",
            "estamos no elemento 3\n",
            "estamos no elemento 4\n",
            "estamos no elemento 5\n",
            "estamos no elemento 6\n"
          ]
        }
      ]
    },
    {
      "cell_type": "code",
      "source": [
        "s = 'STRING'\n",
        "indice = 0\n",
        "\n",
        "while indice in range (len(s)):\n",
        "  print(\"estamos no elemento \", s[indice])\n",
        "  indice += 1"
      ],
      "metadata": {
        "colab": {
          "base_uri": "https://localhost:8080/"
        },
        "id": "sVFQrpUEzDSz",
        "outputId": "1f7af0c4-8d73-45c5-fb6a-022a13941860"
      },
      "execution_count": null,
      "outputs": [
        {
          "output_type": "stream",
          "name": "stdout",
          "text": [
            "estamos no elemento  S\n",
            "estamos no elemento  T\n",
            "estamos no elemento  R\n",
            "estamos no elemento  I\n",
            "estamos no elemento  N\n",
            "estamos no elemento  G\n"
          ]
        }
      ]
    },
    {
      "cell_type": "code",
      "source": [
        "palavra = 'tranquilo'\n",
        "for indice, letra in enumerate(palavra):\n",
        "  print('indice', letra)"
      ],
      "metadata": {
        "colab": {
          "base_uri": "https://localhost:8080/"
        },
        "id": "4EqBY4BgztOS",
        "outputId": "4012de24-ce5a-4449-a389-98cb639786f2"
      },
      "execution_count": null,
      "outputs": [
        {
          "output_type": "stream",
          "name": "stdout",
          "text": [
            "indice t\n",
            "indice r\n",
            "indice a\n",
            "indice n\n",
            "indice q\n",
            "indice u\n",
            "indice i\n",
            "indice l\n",
            "indice o\n"
          ]
        }
      ]
    },
    {
      "cell_type": "code",
      "source": [
        "lista = ['eat', 'sleep','repeat']\n",
        "palavra = 'geek'"
      ],
      "metadata": {
        "id": "IPc1kPTe2OEL"
      },
      "execution_count": null,
      "outputs": []
    },
    {
      "cell_type": "code",
      "source": [
        "objeto1 = enumerate(lista)\n",
        "objeto2 = enumerate(palavra)"
      ],
      "metadata": {
        "id": "8uUx1mkP2XCz"
      },
      "execution_count": null,
      "outputs": []
    },
    {
      "cell_type": "code",
      "source": [
        "print('Tipo: ', type(objeto1))\n",
        "print(list(enumerate(lista)))"
      ],
      "metadata": {
        "colab": {
          "base_uri": "https://localhost:8080/"
        },
        "id": "Rl2n4kia2pvK",
        "outputId": "ebff1e30-050d-4069-8558-f5eeacb013aa"
      },
      "execution_count": null,
      "outputs": [
        {
          "output_type": "stream",
          "name": "stdout",
          "text": [
            "Tipo:  <class 'enumerate'>\n",
            "[(0, 'eat'), (1, 'sleep'), (2, 'repeat')]\n"
          ]
        }
      ]
    },
    {
      "cell_type": "code",
      "source": [
        "print(list(enumerate(palavra,2)))"
      ],
      "metadata": {
        "colab": {
          "base_uri": "https://localhost:8080/"
        },
        "id": "jAmdFfBz3JNK",
        "outputId": "7ab3a86b-74fb-47f6-90c3-f7fb41a94a91"
      },
      "execution_count": null,
      "outputs": [
        {
          "output_type": "stream",
          "name": "stdout",
          "text": [
            "[(2, 'g'), (3, 'e'), (4, 'e'), (5, 'k')]\n"
          ]
        }
      ]
    },
    {
      "cell_type": "code",
      "source": [
        "s = 'viva o python'\n",
        "for ch in s:\n",
        "  print('oi')"
      ],
      "metadata": {
        "colab": {
          "base_uri": "https://localhost:8080/"
        },
        "id": "9gBGM-Ci4ATz",
        "outputId": "44d23bd8-8ad6-4eb6-cf94-a039a7ea0c1f"
      },
      "execution_count": null,
      "outputs": [
        {
          "output_type": "stream",
          "name": "stdout",
          "text": [
            "oi\n",
            "oi\n",
            "oi\n",
            "oi\n",
            "oi\n",
            "oi\n",
            "oi\n",
            "oi\n",
            "oi\n",
            "oi\n",
            "oi\n",
            "oi\n",
            "oi\n"
          ]
        }
      ]
    },
    {
      "cell_type": "code",
      "source": [
        "#desafio\n",
        "\n",
        "n = int(input('Digite um numero: '))\n",
        "i = 0\n",
        "while i <= 10:\n",
        "  if n % 2 == 0:\n",
        "    print(\"O numero é %d par\",n)\n",
        "  else:\n",
        "    print(\"O numero é %d ímpar\",n)\n",
        "  i+= 1\n"
      ],
      "metadata": {
        "id": "7veg8zmf4GST"
      },
      "execution_count": null,
      "outputs": []
    },
    {
      "cell_type": "code",
      "source": [
        "#desafio\n",
        "\n",
        "dia = str(input(\"que dia é hoje: \"))\n",
        "if (dia in ['sabado','domingo']):\n",
        "    print('hoje é dia de descanso')\n",
        "elif(dia in ['segunda','terça','quarta','quinta','sexta']):\n",
        "  print('voce precisa trabalhar')"
      ],
      "metadata": {
        "colab": {
          "base_uri": "https://localhost:8080/"
        },
        "id": "jLvCcy3I8TiE",
        "outputId": "c672e3c5-6a3d-43d4-e7cd-2bf1cbd8aa5c"
      },
      "execution_count": null,
      "outputs": [
        {
          "output_type": "stream",
          "name": "stdout",
          "text": [
            "que dia é hoje: domingo\n",
            "hoje é dia de descanso\n"
          ]
        }
      ]
    },
    {
      "cell_type": "code",
      "source": [
        "palavra = input('palavra: ')\n",
        "print(list(enumerate(palavra[a,e,i,o,u])))"
      ],
      "metadata": {
        "colab": {
          "base_uri": "https://localhost:8080/",
          "height": 200
        },
        "id": "X-HTvyZf9RPM",
        "outputId": "012da353-a702-4ac7-a3c8-d295f2516c40"
      },
      "execution_count": null,
      "outputs": [
        {
          "name": "stdout",
          "output_type": "stream",
          "text": [
            "palavra: azul\n"
          ]
        },
        {
          "output_type": "error",
          "ename": "NameError",
          "evalue": "ignored",
          "traceback": [
            "\u001b[0;31m---------------------------------------------------------------------------\u001b[0m",
            "\u001b[0;31mNameError\u001b[0m                                 Traceback (most recent call last)",
            "\u001b[0;32m<ipython-input-56-67fd93b8a898>\u001b[0m in \u001b[0;36m<module>\u001b[0;34m\u001b[0m\n\u001b[1;32m      1\u001b[0m \u001b[0mpalavra\u001b[0m \u001b[0;34m=\u001b[0m \u001b[0minput\u001b[0m\u001b[0;34m(\u001b[0m\u001b[0;34m'palavra: '\u001b[0m\u001b[0;34m)\u001b[0m\u001b[0;34m\u001b[0m\u001b[0;34m\u001b[0m\u001b[0m\n\u001b[0;32m----> 2\u001b[0;31m \u001b[0mprint\u001b[0m\u001b[0;34m(\u001b[0m\u001b[0mlist\u001b[0m\u001b[0;34m(\u001b[0m\u001b[0menumerate\u001b[0m\u001b[0;34m(\u001b[0m\u001b[0mpalavra\u001b[0m\u001b[0;34m[\u001b[0m\u001b[0ma\u001b[0m\u001b[0;34m,\u001b[0m\u001b[0me\u001b[0m\u001b[0;34m,\u001b[0m\u001b[0mi\u001b[0m\u001b[0;34m,\u001b[0m\u001b[0mo\u001b[0m\u001b[0;34m,\u001b[0m\u001b[0mu\u001b[0m\u001b[0;34m]\u001b[0m\u001b[0;34m)\u001b[0m\u001b[0;34m)\u001b[0m\u001b[0;34m)\u001b[0m\u001b[0;34m\u001b[0m\u001b[0;34m\u001b[0m\u001b[0m\n\u001b[0m",
            "\u001b[0;31mNameError\u001b[0m: name 'a' is not defined"
          ]
        }
      ]
    },
    {
      "cell_type": "code",
      "source": [
        "for nome in ['Reginaldo','gisele pintcher', 'scoob','marlene','zezinho', 'cibele','suely']:\n",
        "  convite = \"oi, \" + nome + \"! Por favor venha para o sabado pet em minha casa!\"\n",
        "  print(convite)"
      ],
      "metadata": {
        "colab": {
          "base_uri": "https://localhost:8080/"
        },
        "id": "I8VO9P1nD1Ef",
        "outputId": "2b6fc912-d07a-4197-f69e-79519a419268"
      },
      "execution_count": null,
      "outputs": [
        {
          "output_type": "stream",
          "name": "stdout",
          "text": [
            "oi, Reginaldo! Por favor venha para o sabado pet em minha casa!\n",
            "oi, gisele pintcher! Por favor venha para o sabado pet em minha casa!\n",
            "oi, scoob! Por favor venha para o sabado pet em minha casa!\n",
            "oi, marlene! Por favor venha para o sabado pet em minha casa!\n",
            "oi, zezinho! Por favor venha para o sabado pet em minha casa!\n",
            "oi, cibele! Por favor venha para o sabado pet em minha casa!\n",
            "oi, suely! Por favor venha para o sabado pet em minha casa!\n"
          ]
        }
      ]
    },
    {
      "cell_type": "code",
      "source": [
        "frutas = ['maca','pera','laranja','caju','manga']\n",
        "if 'morango' in frutas:\n",
        "  print('morango faz parte da lista de frutas')\n",
        "else: \n",
        "  print('morango não faz parte da lista de frutas')"
      ],
      "metadata": {
        "colab": {
          "base_uri": "https://localhost:8080/"
        },
        "id": "EB8rR8K9Er11",
        "outputId": "8bce593a-2512-4522-cbb6-f62fa13a0d22"
      },
      "execution_count": null,
      "outputs": [
        {
          "output_type": "stream",
          "name": "stdout",
          "text": [
            "morango não faz parte da lista de frutas\n"
          ]
        }
      ]
    },
    {
      "cell_type": "code",
      "source": [
        "for num in range(100,150):\n",
        "  if num % 2 == 0:\n",
        "    print(\"par\")\n",
        "  else:\n",
        "    print('impar')"
      ],
      "metadata": {
        "colab": {
          "base_uri": "https://localhost:8080/"
        },
        "id": "w9aiJVZWFtJ2",
        "outputId": "d558dee9-e337-4d17-adf0-33a8f94c1ad1"
      },
      "execution_count": null,
      "outputs": [
        {
          "output_type": "stream",
          "name": "stdout",
          "text": [
            "par\n",
            "impar\n",
            "par\n",
            "impar\n",
            "par\n",
            "impar\n",
            "par\n",
            "impar\n",
            "par\n",
            "impar\n",
            "par\n",
            "impar\n",
            "par\n",
            "impar\n",
            "par\n",
            "impar\n",
            "par\n",
            "impar\n",
            "par\n",
            "impar\n",
            "par\n",
            "impar\n",
            "par\n",
            "impar\n",
            "par\n",
            "impar\n",
            "par\n",
            "impar\n",
            "par\n",
            "impar\n",
            "par\n",
            "impar\n",
            "par\n",
            "impar\n",
            "par\n",
            "impar\n",
            "par\n",
            "impar\n",
            "par\n",
            "impar\n",
            "par\n",
            "impar\n",
            "par\n",
            "impar\n",
            "par\n",
            "impar\n",
            "par\n",
            "impar\n",
            "par\n",
            "impar\n"
          ]
        }
      ]
    },
    {
      "cell_type": "code",
      "source": [
        "temperatura = 37.2\n",
        "while temperatura >= 25.0:\n",
        "  print(temperatura)\n",
        "  temperatura -= 1"
      ],
      "metadata": {
        "colab": {
          "base_uri": "https://localhost:8080/"
        },
        "id": "HaN35ghxFv3u",
        "outputId": "358690c2-233e-47ae-9e3c-17f61f25ce06"
      },
      "execution_count": null,
      "outputs": [
        {
          "output_type": "stream",
          "name": "stdout",
          "text": [
            "37.2\n",
            "36.2\n",
            "35.2\n",
            "34.2\n",
            "33.2\n",
            "32.2\n",
            "31.200000000000003\n",
            "30.200000000000003\n",
            "29.200000000000003\n",
            "28.200000000000003\n",
            "27.200000000000003\n",
            "26.200000000000003\n",
            "25.200000000000003\n"
          ]
        }
      ]
    }
  ]
}