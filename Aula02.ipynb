{
  "nbformat": 4,
  "nbformat_minor": 0,
  "metadata": {
    "colab": {
      "provenance": [],
      "authorship_tag": "ABX9TyP4eI5FBuwmkLe7CFo22z8c",
      "include_colab_link": true
    },
    "kernelspec": {
      "name": "python3",
      "display_name": "Python 3"
    },
    "language_info": {
      "name": "python"
    }
  },
  "cells": [
    {
      "cell_type": "markdown",
      "metadata": {
        "id": "view-in-github",
        "colab_type": "text"
      },
      "source": [
        "<a href=\"https://colab.research.google.com/github/jmlly/curso-machine-learning/blob/main/Aula02.ipynb\" target=\"_parent\"><img src=\"https://colab.research.google.com/assets/colab-badge.svg\" alt=\"Open In Colab\"/></a>"
      ]
    },
    {
      "cell_type": "code",
      "execution_count": null,
      "metadata": {
        "id": "q9Xo0k-_SO_I"
      },
      "outputs": [],
      "source": [
        "idade1 = 20"
      ]
    },
    {
      "cell_type": "code",
      "source": [
        "idade2 = 35"
      ],
      "metadata": {
        "id": "scGfHJ6ASVup"
      },
      "execution_count": null,
      "outputs": []
    },
    {
      "cell_type": "code",
      "source": [
        "idade1 + idade2"
      ],
      "metadata": {
        "id": "Emn45CyiSXPd"
      },
      "execution_count": null,
      "outputs": []
    },
    {
      "cell_type": "code",
      "source": [
        "somaIdades = idade1 + idade2"
      ],
      "metadata": {
        "id": "paRbDoOXSai9"
      },
      "execution_count": null,
      "outputs": []
    },
    {
      "cell_type": "code",
      "source": [
        "idade1 + 10"
      ],
      "metadata": {
        "id": "QqCbNvUqSz5O"
      },
      "execution_count": null,
      "outputs": []
    },
    {
      "cell_type": "code",
      "source": [
        "idade1 - 15\n"
      ],
      "metadata": {
        "id": "98VhhDLMTRfu"
      },
      "execution_count": null,
      "outputs": []
    },
    {
      "cell_type": "code",
      "source": [
        "2 * (idade1 + idade2)"
      ],
      "metadata": {
        "id": "_LeynxbLTPtG"
      },
      "execution_count": null,
      "outputs": []
    },
    {
      "cell_type": "code",
      "source": [
        "2*idade1+3*idade2/4"
      ],
      "metadata": {
        "id": "e0i2Zr5OTXR3"
      },
      "execution_count": null,
      "outputs": []
    },
    {
      "cell_type": "code",
      "source": [
        "(2*idade1 + 3 * idade2)/4"
      ],
      "metadata": {
        "id": "kRWvlatnTgjX"
      },
      "execution_count": null,
      "outputs": []
    },
    {
      "cell_type": "code",
      "source": [
        "idade1 ** 2"
      ],
      "metadata": {
        "id": "N-EWUQMhTlgm"
      },
      "execution_count": null,
      "outputs": []
    },
    {
      "cell_type": "code",
      "source": [
        "15 ** 2"
      ],
      "metadata": {
        "id": "rIOeliAzT3rF"
      },
      "execution_count": null,
      "outputs": []
    },
    {
      "cell_type": "code",
      "source": [
        "idade2 // idade1"
      ],
      "metadata": {
        "id": "o5PysERGUHLe"
      },
      "execution_count": null,
      "outputs": []
    },
    {
      "cell_type": "code",
      "source": [
        "idade2 / idade1"
      ],
      "metadata": {
        "id": "so-1C6zYUZk2"
      },
      "execution_count": null,
      "outputs": []
    },
    {
      "cell_type": "code",
      "source": [
        "idade2 % idade1"
      ],
      "metadata": {
        "id": "0bg2R3_PUcKE"
      },
      "execution_count": null,
      "outputs": []
    },
    {
      "cell_type": "code",
      "source": [
        "nome = 'Camila'\n",
        "sobrenome = 'Dantas'"
      ],
      "metadata": {
        "id": "eLbFyptOUr_E"
      },
      "execution_count": null,
      "outputs": []
    },
    {
      "cell_type": "code",
      "source": [
        "print(nome + sobrenome)"
      ],
      "metadata": {
        "id": "pOSrR9q-Uxql"
      },
      "execution_count": null,
      "outputs": []
    },
    {
      "cell_type": "code",
      "source": [
        "print(nome + ' ' + sobrenome)"
      ],
      "metadata": {
        "id": "UD-tlgYwVEyl"
      },
      "execution_count": null,
      "outputs": []
    },
    {
      "cell_type": "code",
      "source": [
        "print('Olá, ', nome, 'você tem ', idade1 + 15, 'anos.')"
      ],
      "metadata": {
        "id": "OgRr1kDWVJP9"
      },
      "execution_count": null,
      "outputs": []
    },
    {
      "cell_type": "code",
      "source": [
        "print('Olá,',nome,'','\\nvocê tem', idade1 + 15, 'anos.')"
      ],
      "metadata": {
        "id": "IbHUMZ1FVaqF"
      },
      "execution_count": null,
      "outputs": []
    },
    {
      "cell_type": "code",
      "source": [
        "input('Digite o seu nome: ')"
      ],
      "metadata": {
        "id": "AFbUPh_tXG0e"
      },
      "execution_count": null,
      "outputs": []
    },
    {
      "cell_type": "code",
      "source": [
        "nome = input('Digite o seu nome: ')"
      ],
      "metadata": {
        "id": "mR2qspQEXitV"
      },
      "execution_count": null,
      "outputs": []
    },
    {
      "cell_type": "code",
      "source": [
        "idade = int(input('Digite sua idade: '))"
      ],
      "metadata": {
        "id": "ae-JQZ-VX379"
      },
      "execution_count": null,
      "outputs": []
    },
    {
      "cell_type": "code",
      "source": [
        "idade + idade1"
      ],
      "metadata": {
        "id": "BnVdbn49YNuU"
      },
      "execution_count": null,
      "outputs": []
    },
    {
      "cell_type": "code",
      "source": [
        "valor1 = input('Digite um número inteiro: ')\n",
        "valor2 = input('Digite outro número inteiro: ')"
      ],
      "metadata": {
        "id": "LJ4EtTBdYQ_U"
      },
      "execution_count": null,
      "outputs": []
    },
    {
      "cell_type": "code",
      "source": [
        "print(valor1 == valor2)\n",
        "print(valor1 > valor2)\n",
        "print(valor1 < valor2)\n",
        "print(valor1 >= valor2)\n",
        "print(valor1 <= valor2)"
      ],
      "metadata": {
        "id": "gwivpGWraMYt"
      },
      "execution_count": null,
      "outputs": []
    },
    {
      "cell_type": "code",
      "source": [
        "numero = 10\n",
        "print(numero > 0 and numero < 10)"
      ],
      "metadata": {
        "id": "dgQgHI_hbBCM"
      },
      "execution_count": null,
      "outputs": []
    },
    {
      "cell_type": "code",
      "source": [
        "numero = 10\n",
        "print(numero > 0 or numero < 10)"
      ],
      "metadata": {
        "id": "Dz6zv3wmchNM"
      },
      "execution_count": null,
      "outputs": []
    },
    {
      "cell_type": "code",
      "source": [
        "#estrutura básica\n",
        "if( ):\n",
        "  print()\n",
        "else:\n",
        "  print()"
      ],
      "metadata": {
        "id": "4NZfqYhxcy76"
      },
      "execution_count": null,
      "outputs": []
    },
    {
      "cell_type": "code",
      "source": [
        "#desafio\n",
        "\n",
        "num = int(input('Digite um número inteiro: '))\n",
        "if(num % 2 == 0):\n",
        "  print('O número inserido é par')\n",
        "else: \n",
        "  print('O número inserido é ímpar.')"
      ],
      "metadata": {
        "id": "tAO-6-zKdte4"
      },
      "execution_count": null,
      "outputs": []
    },
    {
      "cell_type": "code",
      "source": [
        "cupom = input('Digite o cupom: ')"
      ],
      "metadata": {
        "id": "N2bkPWF6f3rE"
      },
      "execution_count": null,
      "outputs": []
    },
    {
      "cell_type": "code",
      "source": [
        "if (cupom == 'aula1' or cupom == 'aula2'):\n",
        "  print('você ganhou 10% de desconto.')\n",
        "else:\n",
        "  print('cupom não reconhecido.')"
      ],
      "metadata": {
        "id": "cmp4fWUphO-s"
      },
      "execution_count": null,
      "outputs": []
    },
    {
      "cell_type": "code",
      "source": [
        "#desafio 2\n",
        "cupom = input('Digite o cupom: ')\n",
        "if (cupom == 'aula1' or cupom == 'aula2'):\n",
        "  print('você ganhou 15% de desconto.')\n",
        "else:\n",
        "  print('você ganhou 5% de desconto.')"
      ],
      "metadata": {
        "id": "ZcJ_NmFGiDpT"
      },
      "execution_count": null,
      "outputs": []
    },
    {
      "cell_type": "code",
      "source": [
        "#desafio 3\n",
        "cupom = input('Digite o cupom: ')\n",
        "if (cupom == 'aula1'):\n",
        "  print('você ganhou 15% de desconto.')\n",
        "elif (cupom == 'aula2'):\n",
        "  print('você ganhou 10% de desconto')\n",
        "else:\n",
        "  print('você ganhou 5% de desconto.')\n"
      ],
      "metadata": {
        "id": "Iyl_MuaukaiI"
      },
      "execution_count": null,
      "outputs": []
    },
    {
      "cell_type": "code",
      "source": [
        "if (1==1):\n",
        "  print('mensagem no segundo nível')\n",
        "  if((1==2)== False):\n",
        "    print('mensagem do terceiro nível')"
      ],
      "metadata": {
        "id": "DYZT0pF_n_Wq"
      },
      "execution_count": null,
      "outputs": []
    },
    {
      "cell_type": "code",
      "source": [
        "#desafio 4\n",
        "sol = input('Está fazendo sol? [s/n] ')\n",
        "din = input('você tem dinheiro? [s/n] ')\n",
        "if(sol == 's' and din == 's'):\n",
        "  print('praiou!!')\n",
        "else:\n",
        "  print('hoje é dia de netflix...')"
      ],
      "metadata": {
        "id": "YDdqjYHOoxEx"
      },
      "execution_count": null,
      "outputs": []
    },
    {
      "cell_type": "code",
      "source": [
        "#desafio 5\n",
        "sol = input('Está fazendo sol? [s/n] ')\n",
        "din = input('você tem dinheiro? [s/n] ')\n",
        "if(sol == 's' or din == 's'):\n",
        "  print('praiou!!')\n",
        "else:\n",
        "  print('hoje é dia de netflix...')"
      ],
      "metadata": {
        "id": "l2yqSKWMtkvg"
      },
      "execution_count": null,
      "outputs": []
    },
    {
      "cell_type": "code",
      "source": [
        "#desafio 6\n",
        "sol = input('Está fazendo sol? [s/n] ')\n",
        "din = input('você tem dinheiro? [s/n] ')\n",
        "if(sol == 's'):\n",
        "  if (din == 's'):\n",
        "    print('praiou!!')\n",
        "  else:\n",
        "    print('hoje é dia de netflix...')\n",
        "else:\n",
        "  print('hoje é dia de netflix...')"
      ],
      "metadata": {
        "id": "8Qmn0OqIzt_H"
      },
      "execution_count": null,
      "outputs": []
    },
    {
      "cell_type": "code",
      "source": [
        "x = 2\n",
        "if (0 < x < 5):\n",
        "  print(x)"
      ],
      "metadata": {
        "id": "eoln1uk13aH1"
      },
      "execution_count": null,
      "outputs": []
    },
    {
      "cell_type": "code",
      "source": [
        "#Prática 1\n",
        "valor = float(input('digite o preço do carro: '))\n",
        "ano = float(input('ano em que o carro foi fabricado: '))\n",
        "if (ano < 1990):\n",
        "  print('O imposto será igual a', (1.0/100 * valor),'reais')\n",
        "else:\n",
        "  print('O imposto será igual a', (1.5/100 * valor),'reais')"
      ],
      "metadata": {
        "colab": {
          "base_uri": "https://localhost:8080/"
        },
        "id": "1Ta7ibhf3ggm",
        "outputId": "cc738ba5-db75-4734-a063-4e209042d0ac"
      },
      "execution_count": null,
      "outputs": [
        {
          "output_type": "stream",
          "name": "stdout",
          "text": [
            "digite o preço do carro: 50000\n",
            "ano em que o carro foi fabricado: 1999\n",
            "O imposto será igual a 750.0 reais\n"
          ]
        }
      ]
    },
    {
      "cell_type": "code",
      "source": [
        "#Prática 2\n",
        "\n",
        "print('Digite o número equivalente ao cargo\\nGerente - 101\\nEngenheiro - 102\\nTécnico - 103\\n')\n",
        "codigo = int(input('Digite o valor correspondente: '))\n",
        "if (codigo == 101):\n",
        "  valor = int(input('Digite o valor do salario: '))\n",
        "  print('O funcionário receberá um aumento de 10% e seu novo salário será', (10/100 * valor) + valor,'reais', )\n",
        "elif (codigo == 102):\n",
        "  valor = int(input('Digite o valor do salario: '))\n",
        "  print('O funcionário receberá um aumento de 20% e seu novo salário será', (20/100 * valor) + valor,'reais', )\n",
        "elif (codigo == 103):\n",
        "  valor = int(input('Digite o valor do salario: '))\n",
        "  nValor\n",
        "  print('O funcionário receberá um aumento de 30% e seu novo salário será', (30/100 * valor) + valor,'reais', )"
      ],
      "metadata": {
        "colab": {
          "base_uri": "https://localhost:8080/"
        },
        "id": "-3e9c635_Hah",
        "outputId": "31d6fa17-42a2-4015-8ff5-97cc130aaf6c"
      },
      "execution_count": null,
      "outputs": [
        {
          "output_type": "stream",
          "name": "stdout",
          "text": [
            "Digite o número equivalente ao cargo\n",
            "Gerente - 101\n",
            "Engenheiro - 102\n",
            "Técnico - 103\n",
            "\n",
            "Digite o valor correspondente: 103\n",
            "Digite o valor do salario: 10000\n",
            "O funcionário receberá um aumento de 30% e seu novo salário será 13000.0 reais\n"
          ]
        }
      ]
    }
  ]
}